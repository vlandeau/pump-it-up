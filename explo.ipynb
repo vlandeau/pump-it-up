{
 "cells": [
  {
   "cell_type": "code",
   "execution_count": 20,
   "metadata": {
    "collapsed": false
   },
   "outputs": [
    {
     "name": "stdout",
     "output_type": "stream",
     "text": [
      "Populating the interactive namespace from numpy and matplotlib\n"
     ]
    },
    {
     "name": "stderr",
     "output_type": "stream",
     "text": [
      "/home/vlandeau/anaconda/lib/python2.7/site-packages/IPython/core/magics/pylab.py:161: UserWarning: pylab import has clobbered these variables: ['random', 'fmin']\n",
      "`%matplotlib` prevents importing * from pylab and numpy\n",
      "  \"\\n`%matplotlib` prevents importing * from pylab and numpy\"\n"
     ]
    }
   ],
   "source": [
    "import pandas as pd\n",
    "import seaborn as sns\n",
    "import numpy as np\n",
    "import matplotlib.pyplot as plt\n",
    "from sklearn.manifold import TSNE\n",
    "from sklearn.feature_selection import VarianceThreshold\n",
    "from sklearn.feature_extraction import DictVectorizer\n",
    "from sklearn.preprocessing import StandardScaler, Imputer\n",
    "from sklearn.svm import SVC\n",
    "from sklearn.ensemble import RandomForestClassifier, GradientBoostingClassifier, VotingClassifier\n",
    "from sklearn.neighbors import KNeighborsClassifier\n",
    "from sklearn.linear_model import LogisticRegression, RidgeClassifier\n",
    "from stacked_generalization.lib.stacking import StackedClassifier\n",
    "from sklearn.decomposition import PCA\n",
    "from sklearn.model_selection import train_test_split\n",
    "from sklearn.metrics import confusion_matrix\n",
    "from scipy.stats import randint as sp_randint\n",
    "from sklearn.model_selection import RandomizedSearchCV, GridSearchCV\n",
    "from sklearn.pipeline import Pipeline\n",
    "from sklearn.externals import joblib\n",
    "from hyperopt import fmin, tpe, hp, space_eval\n",
    "from sklearn.model_selection import cross_val_score\n",
    "%reload_ext autoreload\n",
    "%autoreload 2\n",
    "from modeling import transformers\n",
    "from modeling import parameter_tuning\n",
    "data_dir = \"data/\"\n",
    "output_data_dir = \"output_data/\"\n",
    "models_dir = \"models/\"\n",
    "%pylab inline\n",
    "pd.set_option('display.max_columns', 999)\n",
    "import random\n",
    "import time\n",
    "from sklearn.preprocessing import LabelEncoder"
   ]
  },
  {
   "cell_type": "markdown",
   "metadata": {},
   "source": [
    "# Loading data"
   ]
  },
  {
   "cell_type": "markdown",
   "metadata": {},
   "source": [
    "###  Independent variables"
   ]
  },
  {
   "cell_type": "code",
   "execution_count": 2,
   "metadata": {
    "collapsed": false
   },
   "outputs": [],
   "source": [
    "indep_df = pd.read_csv(data_dir + \"independent_variables.csv\")"
   ]
  },
  {
   "cell_type": "code",
   "execution_count": 3,
   "metadata": {
    "collapsed": false
   },
   "outputs": [
    {
     "data": {
      "text/html": [
       "<div>\n",
       "<table border=\"1\" class=\"dataframe\">\n",
       "  <thead>\n",
       "    <tr style=\"text-align: right;\">\n",
       "      <th></th>\n",
       "      <th>id</th>\n",
       "      <th>amount_tsh</th>\n",
       "      <th>date_recorded</th>\n",
       "      <th>funder</th>\n",
       "      <th>gps_height</th>\n",
       "      <th>installer</th>\n",
       "      <th>longitude</th>\n",
       "      <th>latitude</th>\n",
       "      <th>wpt_name</th>\n",
       "      <th>num_private</th>\n",
       "      <th>basin</th>\n",
       "      <th>subvillage</th>\n",
       "      <th>region</th>\n",
       "      <th>region_code</th>\n",
       "      <th>district_code</th>\n",
       "      <th>lga</th>\n",
       "      <th>ward</th>\n",
       "      <th>population</th>\n",
       "      <th>public_meeting</th>\n",
       "      <th>recorded_by</th>\n",
       "      <th>scheme_management</th>\n",
       "      <th>scheme_name</th>\n",
       "      <th>permit</th>\n",
       "      <th>construction_year</th>\n",
       "      <th>extraction_type</th>\n",
       "      <th>extraction_type_group</th>\n",
       "      <th>extraction_type_class</th>\n",
       "      <th>management</th>\n",
       "      <th>management_group</th>\n",
       "      <th>payment</th>\n",
       "      <th>payment_type</th>\n",
       "      <th>water_quality</th>\n",
       "      <th>quality_group</th>\n",
       "      <th>quantity</th>\n",
       "      <th>quantity_group</th>\n",
       "      <th>source</th>\n",
       "      <th>source_type</th>\n",
       "      <th>source_class</th>\n",
       "      <th>waterpoint_type</th>\n",
       "      <th>waterpoint_type_group</th>\n",
       "    </tr>\n",
       "  </thead>\n",
       "  <tbody>\n",
       "    <tr>\n",
       "      <th>0</th>\n",
       "      <td>69572</td>\n",
       "      <td>6000.0</td>\n",
       "      <td>2011-03-14</td>\n",
       "      <td>Roman</td>\n",
       "      <td>1390</td>\n",
       "      <td>Roman</td>\n",
       "      <td>34.938093</td>\n",
       "      <td>-9.856322</td>\n",
       "      <td>none</td>\n",
       "      <td>0</td>\n",
       "      <td>Lake Nyasa</td>\n",
       "      <td>Mnyusi B</td>\n",
       "      <td>Iringa</td>\n",
       "      <td>11</td>\n",
       "      <td>5</td>\n",
       "      <td>Ludewa</td>\n",
       "      <td>Mundindi</td>\n",
       "      <td>109</td>\n",
       "      <td>True</td>\n",
       "      <td>GeoData Consultants Ltd</td>\n",
       "      <td>VWC</td>\n",
       "      <td>Roman</td>\n",
       "      <td>False</td>\n",
       "      <td>1999</td>\n",
       "      <td>gravity</td>\n",
       "      <td>gravity</td>\n",
       "      <td>gravity</td>\n",
       "      <td>vwc</td>\n",
       "      <td>user-group</td>\n",
       "      <td>pay annually</td>\n",
       "      <td>annually</td>\n",
       "      <td>soft</td>\n",
       "      <td>good</td>\n",
       "      <td>enough</td>\n",
       "      <td>enough</td>\n",
       "      <td>spring</td>\n",
       "      <td>spring</td>\n",
       "      <td>groundwater</td>\n",
       "      <td>communal standpipe</td>\n",
       "      <td>communal standpipe</td>\n",
       "    </tr>\n",
       "    <tr>\n",
       "      <th>1</th>\n",
       "      <td>8776</td>\n",
       "      <td>0.0</td>\n",
       "      <td>2013-03-06</td>\n",
       "      <td>Grumeti</td>\n",
       "      <td>1399</td>\n",
       "      <td>GRUMETI</td>\n",
       "      <td>34.698766</td>\n",
       "      <td>-2.147466</td>\n",
       "      <td>Zahanati</td>\n",
       "      <td>0</td>\n",
       "      <td>Lake Victoria</td>\n",
       "      <td>Nyamara</td>\n",
       "      <td>Mara</td>\n",
       "      <td>20</td>\n",
       "      <td>2</td>\n",
       "      <td>Serengeti</td>\n",
       "      <td>Natta</td>\n",
       "      <td>280</td>\n",
       "      <td>NaN</td>\n",
       "      <td>GeoData Consultants Ltd</td>\n",
       "      <td>Other</td>\n",
       "      <td>NaN</td>\n",
       "      <td>True</td>\n",
       "      <td>2010</td>\n",
       "      <td>gravity</td>\n",
       "      <td>gravity</td>\n",
       "      <td>gravity</td>\n",
       "      <td>wug</td>\n",
       "      <td>user-group</td>\n",
       "      <td>never pay</td>\n",
       "      <td>never pay</td>\n",
       "      <td>soft</td>\n",
       "      <td>good</td>\n",
       "      <td>insufficient</td>\n",
       "      <td>insufficient</td>\n",
       "      <td>rainwater harvesting</td>\n",
       "      <td>rainwater harvesting</td>\n",
       "      <td>surface</td>\n",
       "      <td>communal standpipe</td>\n",
       "      <td>communal standpipe</td>\n",
       "    </tr>\n",
       "    <tr>\n",
       "      <th>2</th>\n",
       "      <td>34310</td>\n",
       "      <td>25.0</td>\n",
       "      <td>2013-02-25</td>\n",
       "      <td>Lottery Club</td>\n",
       "      <td>686</td>\n",
       "      <td>World vision</td>\n",
       "      <td>37.460664</td>\n",
       "      <td>-3.821329</td>\n",
       "      <td>Kwa Mahundi</td>\n",
       "      <td>0</td>\n",
       "      <td>Pangani</td>\n",
       "      <td>Majengo</td>\n",
       "      <td>Manyara</td>\n",
       "      <td>21</td>\n",
       "      <td>4</td>\n",
       "      <td>Simanjiro</td>\n",
       "      <td>Ngorika</td>\n",
       "      <td>250</td>\n",
       "      <td>True</td>\n",
       "      <td>GeoData Consultants Ltd</td>\n",
       "      <td>VWC</td>\n",
       "      <td>Nyumba ya mungu pipe scheme</td>\n",
       "      <td>True</td>\n",
       "      <td>2009</td>\n",
       "      <td>gravity</td>\n",
       "      <td>gravity</td>\n",
       "      <td>gravity</td>\n",
       "      <td>vwc</td>\n",
       "      <td>user-group</td>\n",
       "      <td>pay per bucket</td>\n",
       "      <td>per bucket</td>\n",
       "      <td>soft</td>\n",
       "      <td>good</td>\n",
       "      <td>enough</td>\n",
       "      <td>enough</td>\n",
       "      <td>dam</td>\n",
       "      <td>dam</td>\n",
       "      <td>surface</td>\n",
       "      <td>communal standpipe multiple</td>\n",
       "      <td>communal standpipe</td>\n",
       "    </tr>\n",
       "    <tr>\n",
       "      <th>3</th>\n",
       "      <td>67743</td>\n",
       "      <td>0.0</td>\n",
       "      <td>2013-01-28</td>\n",
       "      <td>Unicef</td>\n",
       "      <td>263</td>\n",
       "      <td>UNICEF</td>\n",
       "      <td>38.486161</td>\n",
       "      <td>-11.155298</td>\n",
       "      <td>Zahanati Ya Nanyumbu</td>\n",
       "      <td>0</td>\n",
       "      <td>Ruvuma / Southern Coast</td>\n",
       "      <td>Mahakamani</td>\n",
       "      <td>Mtwara</td>\n",
       "      <td>90</td>\n",
       "      <td>63</td>\n",
       "      <td>Nanyumbu</td>\n",
       "      <td>Nanyumbu</td>\n",
       "      <td>58</td>\n",
       "      <td>True</td>\n",
       "      <td>GeoData Consultants Ltd</td>\n",
       "      <td>VWC</td>\n",
       "      <td>NaN</td>\n",
       "      <td>True</td>\n",
       "      <td>1986</td>\n",
       "      <td>submersible</td>\n",
       "      <td>submersible</td>\n",
       "      <td>submersible</td>\n",
       "      <td>vwc</td>\n",
       "      <td>user-group</td>\n",
       "      <td>never pay</td>\n",
       "      <td>never pay</td>\n",
       "      <td>soft</td>\n",
       "      <td>good</td>\n",
       "      <td>dry</td>\n",
       "      <td>dry</td>\n",
       "      <td>machine dbh</td>\n",
       "      <td>borehole</td>\n",
       "      <td>groundwater</td>\n",
       "      <td>communal standpipe multiple</td>\n",
       "      <td>communal standpipe</td>\n",
       "    </tr>\n",
       "    <tr>\n",
       "      <th>4</th>\n",
       "      <td>19728</td>\n",
       "      <td>0.0</td>\n",
       "      <td>2011-07-13</td>\n",
       "      <td>Action In A</td>\n",
       "      <td>0</td>\n",
       "      <td>Artisan</td>\n",
       "      <td>31.130847</td>\n",
       "      <td>-1.825359</td>\n",
       "      <td>Shuleni</td>\n",
       "      <td>0</td>\n",
       "      <td>Lake Victoria</td>\n",
       "      <td>Kyanyamisa</td>\n",
       "      <td>Kagera</td>\n",
       "      <td>18</td>\n",
       "      <td>1</td>\n",
       "      <td>Karagwe</td>\n",
       "      <td>Nyakasimbi</td>\n",
       "      <td>0</td>\n",
       "      <td>True</td>\n",
       "      <td>GeoData Consultants Ltd</td>\n",
       "      <td>NaN</td>\n",
       "      <td>NaN</td>\n",
       "      <td>True</td>\n",
       "      <td>0</td>\n",
       "      <td>gravity</td>\n",
       "      <td>gravity</td>\n",
       "      <td>gravity</td>\n",
       "      <td>other</td>\n",
       "      <td>other</td>\n",
       "      <td>never pay</td>\n",
       "      <td>never pay</td>\n",
       "      <td>soft</td>\n",
       "      <td>good</td>\n",
       "      <td>seasonal</td>\n",
       "      <td>seasonal</td>\n",
       "      <td>rainwater harvesting</td>\n",
       "      <td>rainwater harvesting</td>\n",
       "      <td>surface</td>\n",
       "      <td>communal standpipe</td>\n",
       "      <td>communal standpipe</td>\n",
       "    </tr>\n",
       "  </tbody>\n",
       "</table>\n",
       "</div>"
      ],
      "text/plain": [
       "      id  amount_tsh date_recorded        funder  gps_height     installer  \\\n",
       "0  69572      6000.0    2011-03-14         Roman        1390         Roman   \n",
       "1   8776         0.0    2013-03-06       Grumeti        1399       GRUMETI   \n",
       "2  34310        25.0    2013-02-25  Lottery Club         686  World vision   \n",
       "3  67743         0.0    2013-01-28        Unicef         263        UNICEF   \n",
       "4  19728         0.0    2011-07-13   Action In A           0       Artisan   \n",
       "\n",
       "   longitude   latitude              wpt_name  num_private  \\\n",
       "0  34.938093  -9.856322                  none            0   \n",
       "1  34.698766  -2.147466              Zahanati            0   \n",
       "2  37.460664  -3.821329           Kwa Mahundi            0   \n",
       "3  38.486161 -11.155298  Zahanati Ya Nanyumbu            0   \n",
       "4  31.130847  -1.825359               Shuleni            0   \n",
       "\n",
       "                     basin  subvillage   region  region_code  district_code  \\\n",
       "0               Lake Nyasa    Mnyusi B   Iringa           11              5   \n",
       "1            Lake Victoria     Nyamara     Mara           20              2   \n",
       "2                  Pangani     Majengo  Manyara           21              4   \n",
       "3  Ruvuma / Southern Coast  Mahakamani   Mtwara           90             63   \n",
       "4            Lake Victoria  Kyanyamisa   Kagera           18              1   \n",
       "\n",
       "         lga        ward  population public_meeting              recorded_by  \\\n",
       "0     Ludewa    Mundindi         109           True  GeoData Consultants Ltd   \n",
       "1  Serengeti       Natta         280            NaN  GeoData Consultants Ltd   \n",
       "2  Simanjiro     Ngorika         250           True  GeoData Consultants Ltd   \n",
       "3   Nanyumbu    Nanyumbu          58           True  GeoData Consultants Ltd   \n",
       "4    Karagwe  Nyakasimbi           0           True  GeoData Consultants Ltd   \n",
       "\n",
       "  scheme_management                  scheme_name permit  construction_year  \\\n",
       "0               VWC                        Roman  False               1999   \n",
       "1             Other                          NaN   True               2010   \n",
       "2               VWC  Nyumba ya mungu pipe scheme   True               2009   \n",
       "3               VWC                          NaN   True               1986   \n",
       "4               NaN                          NaN   True                  0   \n",
       "\n",
       "  extraction_type extraction_type_group extraction_type_class management  \\\n",
       "0         gravity               gravity               gravity        vwc   \n",
       "1         gravity               gravity               gravity        wug   \n",
       "2         gravity               gravity               gravity        vwc   \n",
       "3     submersible           submersible           submersible        vwc   \n",
       "4         gravity               gravity               gravity      other   \n",
       "\n",
       "  management_group         payment payment_type water_quality quality_group  \\\n",
       "0       user-group    pay annually     annually          soft          good   \n",
       "1       user-group       never pay    never pay          soft          good   \n",
       "2       user-group  pay per bucket   per bucket          soft          good   \n",
       "3       user-group       never pay    never pay          soft          good   \n",
       "4            other       never pay    never pay          soft          good   \n",
       "\n",
       "       quantity quantity_group                source           source_type  \\\n",
       "0        enough         enough                spring                spring   \n",
       "1  insufficient   insufficient  rainwater harvesting  rainwater harvesting   \n",
       "2        enough         enough                   dam                   dam   \n",
       "3           dry            dry           machine dbh              borehole   \n",
       "4      seasonal       seasonal  rainwater harvesting  rainwater harvesting   \n",
       "\n",
       "  source_class              waterpoint_type waterpoint_type_group  \n",
       "0  groundwater           communal standpipe    communal standpipe  \n",
       "1      surface           communal standpipe    communal standpipe  \n",
       "2      surface  communal standpipe multiple    communal standpipe  \n",
       "3  groundwater  communal standpipe multiple    communal standpipe  \n",
       "4      surface           communal standpipe    communal standpipe  "
      ]
     },
     "execution_count": 3,
     "metadata": {},
     "output_type": "execute_result"
    }
   ],
   "source": [
    "indep_df.head()"
   ]
  },
  {
   "cell_type": "code",
   "execution_count": 4,
   "metadata": {
    "collapsed": false
   },
   "outputs": [
    {
     "data": {
      "text/plain": [
       "1"
      ]
     },
     "execution_count": 4,
     "metadata": {},
     "output_type": "execute_result"
    }
   ],
   "source": [
    "len(indep_df.id.drop_duplicates())/len(indep_df)"
   ]
  },
  {
   "cell_type": "code",
   "execution_count": 5,
   "metadata": {
    "collapsed": true
   },
   "outputs": [],
   "source": [
    "indep_df.set_index(\"id\", inplace=True)"
   ]
  },
  {
   "cell_type": "markdown",
   "metadata": {},
   "source": [
    "### Dependent variable"
   ]
  },
  {
   "cell_type": "code",
   "execution_count": 6,
   "metadata": {
    "collapsed": true
   },
   "outputs": [],
   "source": [
    "dep_df = pd.read_csv(data_dir + \"dependent_variables.csv\")"
   ]
  },
  {
   "cell_type": "code",
   "execution_count": 7,
   "metadata": {
    "collapsed": false
   },
   "outputs": [
    {
     "data": {
      "text/html": [
       "<div>\n",
       "<table border=\"1\" class=\"dataframe\">\n",
       "  <thead>\n",
       "    <tr style=\"text-align: right;\">\n",
       "      <th></th>\n",
       "      <th>id</th>\n",
       "      <th>status_group</th>\n",
       "    </tr>\n",
       "  </thead>\n",
       "  <tbody>\n",
       "    <tr>\n",
       "      <th>0</th>\n",
       "      <td>69572</td>\n",
       "      <td>functional</td>\n",
       "    </tr>\n",
       "    <tr>\n",
       "      <th>1</th>\n",
       "      <td>8776</td>\n",
       "      <td>functional</td>\n",
       "    </tr>\n",
       "    <tr>\n",
       "      <th>2</th>\n",
       "      <td>34310</td>\n",
       "      <td>functional</td>\n",
       "    </tr>\n",
       "    <tr>\n",
       "      <th>3</th>\n",
       "      <td>67743</td>\n",
       "      <td>non functional</td>\n",
       "    </tr>\n",
       "    <tr>\n",
       "      <th>4</th>\n",
       "      <td>19728</td>\n",
       "      <td>functional</td>\n",
       "    </tr>\n",
       "  </tbody>\n",
       "</table>\n",
       "</div>"
      ],
      "text/plain": [
       "      id    status_group\n",
       "0  69572      functional\n",
       "1   8776      functional\n",
       "2  34310      functional\n",
       "3  67743  non functional\n",
       "4  19728      functional"
      ]
     },
     "execution_count": 7,
     "metadata": {},
     "output_type": "execute_result"
    }
   ],
   "source": [
    "dep_df.head()"
   ]
  },
  {
   "cell_type": "code",
   "execution_count": 8,
   "metadata": {
    "collapsed": true
   },
   "outputs": [],
   "source": [
    "dep_df.set_index(\"id\", inplace=True)"
   ]
  },
  {
   "cell_type": "code",
   "execution_count": 9,
   "metadata": {
    "collapsed": false
   },
   "outputs": [
    {
     "data": {
      "text/plain": [
       "1.0"
      ]
     },
     "execution_count": 9,
     "metadata": {},
     "output_type": "execute_result"
    }
   ],
   "source": [
    "len(indep_df)/float(len(dep_df))"
   ]
  },
  {
   "cell_type": "markdown",
   "metadata": {},
   "source": [
    "# Preprocessing"
   ]
  },
  {
   "cell_type": "markdown",
   "metadata": {},
   "source": [
    "###TODO\n",
    "\n",
    "Missing values in construction year, populatoin\n",
    "\n",
    "Clustering for latitude/longitude?\n",
    "\n",
    "For categorical with many modes, add feature -> projection of mode in target space"
   ]
  },
  {
   "cell_type": "code",
   "execution_count": 10,
   "metadata": {
    "collapsed": false
   },
   "outputs": [
    {
     "data": {
      "text/plain": [
       "0       58643\n",
       "6          81\n",
       "1          73\n",
       "5          46\n",
       "8          46\n",
       "32         40\n",
       "45         36\n",
       "15         35\n",
       "39         30\n",
       "93         28\n",
       "3          27\n",
       "7          26\n",
       "2          23\n",
       "65         22\n",
       "47         21\n",
       "102        20\n",
       "4          20\n",
       "17         17\n",
       "80         15\n",
       "20         14\n",
       "25         12\n",
       "11         11\n",
       "41         10\n",
       "34         10\n",
       "16          8\n",
       "120         7\n",
       "150         6\n",
       "22          6\n",
       "12          5\n",
       "24          5\n",
       "        ...  \n",
       "14          3\n",
       "61          3\n",
       "27          2\n",
       "26          2\n",
       "160         1\n",
       "30          1\n",
       "698         1\n",
       "60          1\n",
       "1402        1\n",
       "450         1\n",
       "668         1\n",
       "131         1\n",
       "35          1\n",
       "672         1\n",
       "42          1\n",
       "136         1\n",
       "87          1\n",
       "300         1\n",
       "280         1\n",
       "141         1\n",
       "62          1\n",
       "111         1\n",
       "240         1\n",
       "1776        1\n",
       "755         1\n",
       "180         1\n",
       "213         1\n",
       "23          1\n",
       "55          1\n",
       "94          1\n",
       "Name: num_private, dtype: int64"
      ]
     },
     "execution_count": 10,
     "metadata": {},
     "output_type": "execute_result"
    }
   ],
   "source": [
    "indep_df.num_private.value_counts()"
   ]
  },
  {
   "cell_type": "code",
   "execution_count": 11,
   "metadata": {
    "collapsed": false
   },
   "outputs": [
    {
     "data": {
      "text/plain": [
       "amount_tsh               float64\n",
       "date_recorded             object\n",
       "funder                    object\n",
       "gps_height                 int64\n",
       "installer                 object\n",
       "longitude                float64\n",
       "latitude                 float64\n",
       "wpt_name                  object\n",
       "num_private                int64\n",
       "basin                     object\n",
       "subvillage                object\n",
       "region                    object\n",
       "region_code                int64\n",
       "district_code              int64\n",
       "lga                       object\n",
       "ward                      object\n",
       "population                 int64\n",
       "public_meeting            object\n",
       "recorded_by               object\n",
       "scheme_management         object\n",
       "scheme_name               object\n",
       "permit                    object\n",
       "construction_year          int64\n",
       "extraction_type           object\n",
       "extraction_type_group     object\n",
       "extraction_type_class     object\n",
       "management                object\n",
       "management_group          object\n",
       "payment                   object\n",
       "payment_type              object\n",
       "water_quality             object\n",
       "quality_group             object\n",
       "quantity                  object\n",
       "quantity_group            object\n",
       "source                    object\n",
       "source_type               object\n",
       "source_class              object\n",
       "waterpoint_type           object\n",
       "waterpoint_type_group     object\n",
       "dtype: object"
      ]
     },
     "execution_count": 11,
     "metadata": {},
     "output_type": "execute_result"
    }
   ],
   "source": [
    "indep_df.dtypes"
   ]
  },
  {
   "cell_type": "code",
   "execution_count": 12,
   "metadata": {
    "collapsed": false
   },
   "outputs": [
    {
     "data": {
      "text/html": [
       "<div>\n",
       "<table border=\"1\" class=\"dataframe\">\n",
       "  <thead>\n",
       "    <tr style=\"text-align: right;\">\n",
       "      <th></th>\n",
       "      <th>amount_tsh</th>\n",
       "      <th>gps_height</th>\n",
       "      <th>longitude</th>\n",
       "      <th>latitude</th>\n",
       "      <th>num_private</th>\n",
       "      <th>region_code</th>\n",
       "      <th>district_code</th>\n",
       "      <th>population</th>\n",
       "      <th>construction_year</th>\n",
       "    </tr>\n",
       "  </thead>\n",
       "  <tbody>\n",
       "    <tr>\n",
       "      <th>count</th>\n",
       "      <td>59400.000000</td>\n",
       "      <td>59400.000000</td>\n",
       "      <td>59400.000000</td>\n",
       "      <td>5.940000e+04</td>\n",
       "      <td>59400.000000</td>\n",
       "      <td>59400.000000</td>\n",
       "      <td>59400.000000</td>\n",
       "      <td>59400.000000</td>\n",
       "      <td>59400.000000</td>\n",
       "    </tr>\n",
       "    <tr>\n",
       "      <th>mean</th>\n",
       "      <td>317.650385</td>\n",
       "      <td>668.297239</td>\n",
       "      <td>34.077427</td>\n",
       "      <td>-5.706033e+00</td>\n",
       "      <td>0.474141</td>\n",
       "      <td>15.297003</td>\n",
       "      <td>5.629747</td>\n",
       "      <td>179.909983</td>\n",
       "      <td>1300.652475</td>\n",
       "    </tr>\n",
       "    <tr>\n",
       "      <th>std</th>\n",
       "      <td>2997.574558</td>\n",
       "      <td>693.116350</td>\n",
       "      <td>6.567432</td>\n",
       "      <td>2.946019e+00</td>\n",
       "      <td>12.236230</td>\n",
       "      <td>17.587406</td>\n",
       "      <td>9.633649</td>\n",
       "      <td>471.482176</td>\n",
       "      <td>951.620547</td>\n",
       "    </tr>\n",
       "    <tr>\n",
       "      <th>min</th>\n",
       "      <td>0.000000</td>\n",
       "      <td>-90.000000</td>\n",
       "      <td>0.000000</td>\n",
       "      <td>-1.164944e+01</td>\n",
       "      <td>0.000000</td>\n",
       "      <td>1.000000</td>\n",
       "      <td>0.000000</td>\n",
       "      <td>0.000000</td>\n",
       "      <td>0.000000</td>\n",
       "    </tr>\n",
       "    <tr>\n",
       "      <th>25%</th>\n",
       "      <td>0.000000</td>\n",
       "      <td>0.000000</td>\n",
       "      <td>33.090347</td>\n",
       "      <td>-8.540621e+00</td>\n",
       "      <td>0.000000</td>\n",
       "      <td>5.000000</td>\n",
       "      <td>2.000000</td>\n",
       "      <td>0.000000</td>\n",
       "      <td>0.000000</td>\n",
       "    </tr>\n",
       "    <tr>\n",
       "      <th>50%</th>\n",
       "      <td>0.000000</td>\n",
       "      <td>369.000000</td>\n",
       "      <td>34.908743</td>\n",
       "      <td>-5.021597e+00</td>\n",
       "      <td>0.000000</td>\n",
       "      <td>12.000000</td>\n",
       "      <td>3.000000</td>\n",
       "      <td>25.000000</td>\n",
       "      <td>1986.000000</td>\n",
       "    </tr>\n",
       "    <tr>\n",
       "      <th>75%</th>\n",
       "      <td>20.000000</td>\n",
       "      <td>1319.250000</td>\n",
       "      <td>37.178387</td>\n",
       "      <td>-3.326156e+00</td>\n",
       "      <td>0.000000</td>\n",
       "      <td>17.000000</td>\n",
       "      <td>5.000000</td>\n",
       "      <td>215.000000</td>\n",
       "      <td>2004.000000</td>\n",
       "    </tr>\n",
       "    <tr>\n",
       "      <th>max</th>\n",
       "      <td>350000.000000</td>\n",
       "      <td>2770.000000</td>\n",
       "      <td>40.345193</td>\n",
       "      <td>-2.000000e-08</td>\n",
       "      <td>1776.000000</td>\n",
       "      <td>99.000000</td>\n",
       "      <td>80.000000</td>\n",
       "      <td>30500.000000</td>\n",
       "      <td>2013.000000</td>\n",
       "    </tr>\n",
       "  </tbody>\n",
       "</table>\n",
       "</div>"
      ],
      "text/plain": [
       "          amount_tsh    gps_height     longitude      latitude   num_private  \\\n",
       "count   59400.000000  59400.000000  59400.000000  5.940000e+04  59400.000000   \n",
       "mean      317.650385    668.297239     34.077427 -5.706033e+00      0.474141   \n",
       "std      2997.574558    693.116350      6.567432  2.946019e+00     12.236230   \n",
       "min         0.000000    -90.000000      0.000000 -1.164944e+01      0.000000   \n",
       "25%         0.000000      0.000000     33.090347 -8.540621e+00      0.000000   \n",
       "50%         0.000000    369.000000     34.908743 -5.021597e+00      0.000000   \n",
       "75%        20.000000   1319.250000     37.178387 -3.326156e+00      0.000000   \n",
       "max    350000.000000   2770.000000     40.345193 -2.000000e-08   1776.000000   \n",
       "\n",
       "        region_code  district_code    population  construction_year  \n",
       "count  59400.000000   59400.000000  59400.000000       59400.000000  \n",
       "mean      15.297003       5.629747    179.909983        1300.652475  \n",
       "std       17.587406       9.633649    471.482176         951.620547  \n",
       "min        1.000000       0.000000      0.000000           0.000000  \n",
       "25%        5.000000       2.000000      0.000000           0.000000  \n",
       "50%       12.000000       3.000000     25.000000        1986.000000  \n",
       "75%       17.000000       5.000000    215.000000        2004.000000  \n",
       "max       99.000000      80.000000  30500.000000        2013.000000  "
      ]
     },
     "execution_count": 12,
     "metadata": {},
     "output_type": "execute_result"
    }
   ],
   "source": [
    "indep_df.describe()"
   ]
  },
  {
   "cell_type": "code",
   "execution_count": 13,
   "metadata": {
    "collapsed": false
   },
   "outputs": [
    {
     "data": {
      "text/plain": [
       "(59400, 39)"
      ]
     },
     "execution_count": 13,
     "metadata": {},
     "output_type": "execute_result"
    }
   ],
   "source": [
    "indep_df.shape"
   ]
  },
  {
   "cell_type": "code",
   "execution_count": 14,
   "metadata": {
    "collapsed": false,
    "scrolled": true
   },
   "outputs": [
    {
     "name": "stdout",
     "output_type": "stream",
     "text": [
      "(47520, 39)\n",
      "(47520, 1)\n",
      "(11880, 39)\n",
      "(11880, 1)\n"
     ]
    },
    {
     "name": "stderr",
     "output_type": "stream",
     "text": [
      "/home/vlandeau/.local/lib/python2.7/site-packages/sklearn/externals/joblib/hashing.py:197: DeprecationWarning: Changing the shape of non-C contiguous array by\n",
      "descriptor assignment is deprecated. To maintain\n",
      "the Fortran contiguity of a multidimensional Fortran\n",
      "array, use 'a.T.view(...).T' instead\n",
      "  obj_bytes_view = obj.view(self.np.uint8)\n",
      "/home/vlandeau/.local/lib/python2.7/site-packages/sklearn/externals/joblib/hashing.py:197: DeprecationWarning: Changing the shape of non-C contiguous array by\n",
      "descriptor assignment is deprecated. To maintain\n",
      "the Fortran contiguity of a multidimensional Fortran\n",
      "array, use 'a.T.view(...).T' instead\n",
      "  obj_bytes_view = obj.view(self.np.uint8)\n",
      "/home/vlandeau/.local/lib/python2.7/site-packages/sklearn/externals/joblib/hashing.py:197: DeprecationWarning: Changing the shape of non-C contiguous array by\n",
      "descriptor assignment is deprecated. To maintain\n",
      "the Fortran contiguity of a multidimensional Fortran\n",
      "array, use 'a.T.view(...).T' instead\n",
      "  obj_bytes_view = obj.view(self.np.uint8)\n",
      "/home/vlandeau/.local/lib/python2.7/site-packages/sklearn/externals/joblib/hashing.py:197: DeprecationWarning: Changing the shape of non-C contiguous array by\n",
      "descriptor assignment is deprecated. To maintain\n",
      "the Fortran contiguity of a multidimensional Fortran\n",
      "array, use 'a.T.view(...).T' instead\n",
      "  obj_bytes_view = obj.view(self.np.uint8)\n"
     ]
    }
   ],
   "source": [
    "preprocessing_pipeline = Pipeline([\n",
    "        (\"TimeStampConverter\", transformers.TimeStampConverter(cols_to_convert=['date_recorded'], \n",
    "                                                               date_format=\"%Y-%m-%d\")),\n",
    "        (\"TypeConverter\", transformers.TypeConverter(cols_to_convert=['region_code', \n",
    "                                                                      'district_code'], final_type=object)),\n",
    "        \n",
    "        (\"ReplaceNegativeByNan\", transformers.ReplaceNegativeByNan(columns_to_transform=[\"population\", \"construction_year\"])),\n",
    "        (\"NanIndicatorAdder\", transformers.NanIndicatorAdder()),\n",
    "        (\"CategoricalFeatureImputer\", transformers.CategoricalFeatureImputer()),\n",
    "        (\"DateInfoGetter\", transformers.DateInfoGetter()),\n",
    "        \n",
    "        (\"ClassifierProjectionFeature\", transformers.ClassifierProjectionFeature(projection_threshold=0.1)),\n",
    "        (\"ImputationByMedian\", transformers.NumericalFeatureImputation(strategy=\"mean\")),\n",
    "        (\"RareValuesRemover\", transformers.RareValuesRemover(threshold=0.1)),\n",
    "        (\"Dummifier\", transformers.Dummifier()),\n",
    "        \n",
    "        (\"OutlierRemoval\", transformers.OutlierRemoval(anomaly_threshold=0.8)),\n",
    "        (\"ConvertToNp\", transformers.PandasDfToNpArrayConverter()),\n",
    "        (\"VarianceThreshold\", VarianceThreshold(threshold=0.3)),\n",
    "        (\"StandardScaler\", StandardScaler())\n",
    "    ])\n",
    "df_train, df_test, y_train, y_test = train_test_split(indep_df, dep_df, test_size=0.2)\n",
    "print df_train.shape\n",
    "print y_train.shape\n",
    "print df_test.shape\n",
    "print y_test.shape\n",
    "x_train = preprocessing_pipeline.fit_transform(df_train, y_train.status_group)"
   ]
  },
  {
   "cell_type": "code",
   "execution_count": 15,
   "metadata": {
    "collapsed": false
   },
   "outputs": [
    {
     "name": "stdout",
     "output_type": "stream",
     "text": [
      "47520\n"
     ]
    }
   ],
   "source": [
    "outlier_mask = preprocessing_pipeline.named_steps[\"OutlierRemoval\"].outlier_mask\n",
    "print outlier_mask.sum()\n",
    "y_train = y_train.loc[outlier_mask, :]\n",
    "features = preprocessing_pipeline.named_steps[\"ConvertToNp\"].features[\n",
    "    preprocessing_pipeline.named_steps[\"VarianceThreshold\"].get_support()]"
   ]
  },
  {
   "cell_type": "code",
   "execution_count": 17,
   "metadata": {
    "collapsed": false
   },
   "outputs": [
    {
     "name": "stdout",
     "output_type": "stream",
     "text": [
      "[]\n",
      "['basin_count', 'date_recorded_month_count', 'date_recorded_year_count', 'extraction_type_class_count', 'extraction_type_count', 'extraction_type_group_count', 'funder_count', 'installer_count', 'lga_count', 'management_count', 'management_group_count', 'payment_count', 'payment_type_count', 'permit_count', 'public_meeting_count', 'quality_group_count', 'quantity_count', 'quantity_group_count', 'region_count', 'scheme_management_count', 'scheme_name_count', 'source_class_count', 'source_count', 'source_type_count', 'subvillage_count', 'ward_count', 'water_quality_count', 'waterpoint_type_count', 'waterpoint_type_group_count', 'wpt_name_count']\n"
     ]
    }
   ],
   "source": [
    "print [x for x in features if \"target\" in x]\n",
    "print [x for x in features if \"count\" in x]"
   ]
  },
  {
   "cell_type": "code",
   "execution_count": 18,
   "metadata": {
    "collapsed": false
   },
   "outputs": [
    {
     "name": "stdout",
     "output_type": "stream",
     "text": [
      "11880\n"
     ]
    }
   ],
   "source": [
    "x_test = preprocessing_pipeline.transform(df_test)\n",
    "outlier_mask = preprocessing_pipeline.named_steps[\"OutlierRemoval\"].outlier_mask\n",
    "print outlier_mask.sum()\n",
    "y_test = y_test.loc[outlier_mask, :]"
   ]
  },
  {
   "cell_type": "code",
   "execution_count": 21,
   "metadata": {
    "collapsed": false
   },
   "outputs": [
    {
     "name": "stderr",
     "output_type": "stream",
     "text": [
      "/home/vlandeau/.local/lib/python2.7/site-packages/sklearn/preprocessing/label.py:125: DataConversionWarning: A column-vector y was passed when a 1d array was expected. Please change the shape of y to (n_samples, ), for example using ravel().\n",
      "  y = column_or_1d(y, warn=True)\n",
      "/home/vlandeau/.local/lib/python2.7/site-packages/sklearn/preprocessing/label.py:143: DataConversionWarning: A column-vector y was passed when a 1d array was expected. Please change the shape of y to (n_samples, ), for example using ravel().\n",
      "  y = column_or_1d(y, warn=True)\n"
     ]
    }
   ],
   "source": [
    "lbl_enc = LabelEncoder()\n",
    "y_train_num = lbl_enc.fit_transform(y_train)\n",
    "y_test_num = lbl_enc.transform(y_test)"
   ]
  },
  {
   "cell_type": "code",
   "execution_count": 23,
   "metadata": {
    "collapsed": false
   },
   "outputs": [],
   "source": [
    "x_train.dump(output_data_dir + \"train_data_with_variance_threshold.dump\")\n",
    "x_test.dump(output_data_dir + \"test_data_without_variance_threshold.dump\")\n",
    "y_train_num.dump(output_data_dir + \"train_target.dump\")\n",
    "y_test_num.dump(output_data_dir + \"test_target.dump\")\n"
   ]
  },
  {
   "cell_type": "code",
   "execution_count": 3,
   "metadata": {
    "collapsed": false
   },
   "outputs": [],
   "source": [
    "x_train1 = np.load(\"train_data_with_variance_threshold.dump\")\n",
    "x_train2 = np.load(\"train_data_without_variance_threshold.dump\")\n",
    "x_test1 = np.load(\"test_data_with_variance_threshold.dump\")\n",
    "x_test2 = np.load(\"test_data_without_variance_threshold.dump\")\n",
    "y_train = pd.read_csv(\"target_train_data.csv\")\n",
    "y_test = pd.read_csv(\"target_test_data.csv\")\n",
    "dep_df = pd.read_csv(\"target.csv\")"
   ]
  },
  {
   "cell_type": "markdown",
   "metadata": {},
   "source": [
    "# Test set"
   ]
  },
  {
   "cell_type": "code",
   "execution_count": 37,
   "metadata": {
    "collapsed": true
   },
   "outputs": [],
   "source": [
    "df_test_set = pd.read_csv(\"data/test_set.csv\")"
   ]
  },
  {
   "cell_type": "code",
   "execution_count": 38,
   "metadata": {
    "collapsed": false
   },
   "outputs": [],
   "source": [
    "df_test_set.set_index(\"id\", inplace=True)"
   ]
  },
  {
   "cell_type": "code",
   "execution_count": 39,
   "metadata": {
    "collapsed": false
   },
   "outputs": [
    {
     "data": {
      "text/plain": [
       "(14850, 39)"
      ]
     },
     "execution_count": 39,
     "metadata": {},
     "output_type": "execute_result"
    }
   ],
   "source": [
    "df_test_set.shape"
   ]
  },
  {
   "cell_type": "code",
   "execution_count": 40,
   "metadata": {
    "collapsed": false
   },
   "outputs": [
    {
     "name": "stdout",
     "output_type": "stream",
     "text": [
      "Starting method transform of class TimeStampConverter\n",
      "Method transform of class TimeStampConverter took 0.00819110870361 seconds to perform\n",
      "Starting method transform of class TypeConverter\n",
      "Method transform of class TypeConverter took 0.00392198562622 seconds to perform\n",
      "Starting method transform of class ReplaceNegativeByNan\n",
      "Method transform of class ReplaceNegativeByNan took 0.0194580554962 seconds to perform\n",
      "Starting method transform of class NanIndicatorAdder\n",
      "Method transform of class NanIndicatorAdder took 0.0231671333313 seconds to perform\n",
      "Starting method transform of class CategoricalFeatureImputer\n",
      "Method transform of class CategoricalFeatureImputer took 0.0415408611298 seconds to perform\n",
      "Starting method transform of class DateInfoGetter\n",
      "Method transform of class DateInfoGetter took 0.357536077499 seconds to perform\n",
      "Starting method transform of class ClassifierProjectionFeature\n",
      "Method transform of class ClassifierProjectionFeature took 0.446022033691 seconds to perform\n",
      "Starting method transform of class NumericalFeatureImputation\n",
      "Method transform of class NumericalFeatureImputation took 0.0452818870544 seconds to perform\n",
      "Starting method transform of class RareValuesRemover\n",
      "Method transform of class RareValuesRemover took 0.107093095779 seconds to perform\n",
      "Starting method transform of class Dummifier\n",
      "Method transform of class Dummifier took 0.0627319812775 seconds to perform\n",
      "Starting method transform of class OutlierRemoval\n",
      "Method transform of class OutlierRemoval took 2.18002700806 seconds to perform\n",
      "Starting method transform of class PandasDfToNpArrayConverter\n",
      "Method transform of class PandasDfToNpArrayConverter took 0.00685906410217 seconds to perform\n"
     ]
    }
   ],
   "source": [
    "test_set = preprocessing_pipeline.transform(df_test_set)\n"
   ]
  },
  {
   "cell_type": "code",
   "execution_count": 72,
   "metadata": {
    "collapsed": true
   },
   "outputs": [],
   "source": [
    "y_test_set_pred = sl.predict(test_set)"
   ]
  },
  {
   "cell_type": "code",
   "execution_count": 73,
   "metadata": {
    "collapsed": false
   },
   "outputs": [
    {
     "data": {
      "text/plain": [
       "array([2, 0, 0, 2, 0, 0, 2, 2, 2, 0])"
      ]
     },
     "execution_count": 73,
     "metadata": {},
     "output_type": "execute_result"
    }
   ],
   "source": [
    "y_test_set_pred."
   ]
  },
  {
   "cell_type": "code",
   "execution_count": 76,
   "metadata": {
    "collapsed": false
   },
   "outputs": [
    {
     "data": {
      "text/plain": [
       "functional                 32259\n",
       "non functional             22824\n",
       "functional needs repair     4317\n",
       "Name: status_group, dtype: int64"
      ]
     },
     "execution_count": 76,
     "metadata": {},
     "output_type": "execute_result"
    }
   ],
   "source": [
    "dep_df.status_group.value_counts()"
   ]
  },
  {
   "cell_type": "code",
   "execution_count": 77,
   "metadata": {
    "collapsed": false
   },
   "outputs": [
    {
     "data": {
      "text/plain": [
       "0    8724\n",
       "2    5744\n",
       "1     382\n",
       "Name: status_group, dtype: int64"
      ]
     },
     "execution_count": 77,
     "metadata": {},
     "output_type": "execute_result"
    }
   ],
   "source": [
    "y_res.status_group.value_counts()"
   ]
  },
  {
   "cell_type": "code",
   "execution_count": 74,
   "metadata": {
    "collapsed": true
   },
   "outputs": [],
   "source": [
    "y_res = pd.DataFrame({\"id\": df_test_set.index, \"status_group\": y_test_set_pred})"
   ]
  },
  {
   "cell_type": "code",
   "execution_count": 79,
   "metadata": {
    "collapsed": false
   },
   "outputs": [],
   "source": [
    "y_res[\"status_group\"].replace({0: \"functional\", 2: \"non functional\", 1: \"functional needs repair\"}, inplace=True)"
   ]
  },
  {
   "cell_type": "code",
   "execution_count": 80,
   "metadata": {
    "collapsed": false,
    "scrolled": true
   },
   "outputs": [
    {
     "data": {
      "text/html": [
       "<div>\n",
       "<table border=\"1\" class=\"dataframe\">\n",
       "  <thead>\n",
       "    <tr style=\"text-align: right;\">\n",
       "      <th></th>\n",
       "      <th>id</th>\n",
       "      <th>status_group</th>\n",
       "    </tr>\n",
       "  </thead>\n",
       "  <tbody>\n",
       "    <tr>\n",
       "      <th>0</th>\n",
       "      <td>50785</td>\n",
       "      <td>non functional</td>\n",
       "    </tr>\n",
       "    <tr>\n",
       "      <th>1</th>\n",
       "      <td>51630</td>\n",
       "      <td>functional</td>\n",
       "    </tr>\n",
       "    <tr>\n",
       "      <th>2</th>\n",
       "      <td>17168</td>\n",
       "      <td>functional</td>\n",
       "    </tr>\n",
       "    <tr>\n",
       "      <th>3</th>\n",
       "      <td>45559</td>\n",
       "      <td>non functional</td>\n",
       "    </tr>\n",
       "    <tr>\n",
       "      <th>4</th>\n",
       "      <td>49871</td>\n",
       "      <td>functional</td>\n",
       "    </tr>\n",
       "  </tbody>\n",
       "</table>\n",
       "</div>"
      ],
      "text/plain": [
       "      id    status_group\n",
       "0  50785  non functional\n",
       "1  51630      functional\n",
       "2  17168      functional\n",
       "3  45559  non functional\n",
       "4  49871      functional"
      ]
     },
     "execution_count": 80,
     "metadata": {},
     "output_type": "execute_result"
    }
   ],
   "source": [
    "y_res.head()"
   ]
  },
  {
   "cell_type": "code",
   "execution_count": 81,
   "metadata": {
    "collapsed": true
   },
   "outputs": [],
   "source": [
    "y_res.to_csv(\"data/submission.csv\", index=False)"
   ]
  },
  {
   "cell_type": "markdown",
   "metadata": {},
   "source": [
    "# Clustering géographique"
   ]
  },
  {
   "cell_type": "code",
   "execution_count": 27,
   "metadata": {
    "collapsed": false
   },
   "outputs": [
    {
     "data": {
      "text/plain": [
       "DBSCAN(algorithm='auto', eps=0.5, leaf_size=30, metric='euclidean',\n",
       "    min_samples=5, n_jobs=1, p=None)"
      ]
     },
     "execution_count": 27,
     "metadata": {},
     "output_type": "execute_result"
    }
   ],
   "source": [
    "from sklearn.cluster import DBSCAN\n",
    "dbs = DBSCAN()\n",
    "dbs.fit(indep_df[[\"latitude\", 'longitude']])"
   ]
  },
  {
   "cell_type": "code",
   "execution_count": 37,
   "metadata": {
    "collapsed": false
   },
   "outputs": [
    {
     "data": {
      "text/html": [
       "<div>\n",
       "<table border=\"1\" class=\"dataframe\">\n",
       "  <thead>\n",
       "    <tr style=\"text-align: right;\">\n",
       "      <th></th>\n",
       "      <th>amount_tsh</th>\n",
       "      <th>date_recorded</th>\n",
       "      <th>funder</th>\n",
       "      <th>gps_height</th>\n",
       "      <th>installer</th>\n",
       "      <th>longitude</th>\n",
       "      <th>latitude</th>\n",
       "      <th>wpt_name</th>\n",
       "      <th>num_private</th>\n",
       "      <th>basin</th>\n",
       "      <th>subvillage</th>\n",
       "      <th>region</th>\n",
       "      <th>region_code</th>\n",
       "      <th>district_code</th>\n",
       "      <th>lga</th>\n",
       "      <th>ward</th>\n",
       "      <th>population</th>\n",
       "      <th>public_meeting</th>\n",
       "      <th>recorded_by</th>\n",
       "      <th>scheme_management</th>\n",
       "      <th>scheme_name</th>\n",
       "      <th>permit</th>\n",
       "      <th>construction_year</th>\n",
       "      <th>extraction_type</th>\n",
       "      <th>extraction_type_group</th>\n",
       "      <th>extraction_type_class</th>\n",
       "      <th>management</th>\n",
       "      <th>management_group</th>\n",
       "      <th>payment</th>\n",
       "      <th>payment_type</th>\n",
       "      <th>water_quality</th>\n",
       "      <th>quality_group</th>\n",
       "      <th>quantity</th>\n",
       "      <th>quantity_group</th>\n",
       "      <th>source</th>\n",
       "      <th>source_type</th>\n",
       "      <th>source_class</th>\n",
       "      <th>waterpoint_type</th>\n",
       "      <th>waterpoint_type_group</th>\n",
       "    </tr>\n",
       "    <tr>\n",
       "      <th>id</th>\n",
       "      <th></th>\n",
       "      <th></th>\n",
       "      <th></th>\n",
       "      <th></th>\n",
       "      <th></th>\n",
       "      <th></th>\n",
       "      <th></th>\n",
       "      <th></th>\n",
       "      <th></th>\n",
       "      <th></th>\n",
       "      <th></th>\n",
       "      <th></th>\n",
       "      <th></th>\n",
       "      <th></th>\n",
       "      <th></th>\n",
       "      <th></th>\n",
       "      <th></th>\n",
       "      <th></th>\n",
       "      <th></th>\n",
       "      <th></th>\n",
       "      <th></th>\n",
       "      <th></th>\n",
       "      <th></th>\n",
       "      <th></th>\n",
       "      <th></th>\n",
       "      <th></th>\n",
       "      <th></th>\n",
       "      <th></th>\n",
       "      <th></th>\n",
       "      <th></th>\n",
       "      <th></th>\n",
       "      <th></th>\n",
       "      <th></th>\n",
       "      <th></th>\n",
       "      <th></th>\n",
       "      <th></th>\n",
       "      <th></th>\n",
       "      <th></th>\n",
       "      <th></th>\n",
       "    </tr>\n",
       "  </thead>\n",
       "  <tbody>\n",
       "    <tr>\n",
       "      <th>69572</th>\n",
       "      <td>6000.0</td>\n",
       "      <td>2011-03-14</td>\n",
       "      <td>Roman</td>\n",
       "      <td>1390</td>\n",
       "      <td>Roman</td>\n",
       "      <td>34.938093</td>\n",
       "      <td>-9.856322</td>\n",
       "      <td>none</td>\n",
       "      <td>0</td>\n",
       "      <td>Lake Nyasa</td>\n",
       "      <td>Mnyusi B</td>\n",
       "      <td>Iringa</td>\n",
       "      <td>11</td>\n",
       "      <td>5</td>\n",
       "      <td>Ludewa</td>\n",
       "      <td>Mundindi</td>\n",
       "      <td>109</td>\n",
       "      <td>True</td>\n",
       "      <td>GeoData Consultants Ltd</td>\n",
       "      <td>VWC</td>\n",
       "      <td>Roman</td>\n",
       "      <td>False</td>\n",
       "      <td>1999</td>\n",
       "      <td>gravity</td>\n",
       "      <td>gravity</td>\n",
       "      <td>gravity</td>\n",
       "      <td>vwc</td>\n",
       "      <td>user-group</td>\n",
       "      <td>pay annually</td>\n",
       "      <td>annually</td>\n",
       "      <td>soft</td>\n",
       "      <td>good</td>\n",
       "      <td>enough</td>\n",
       "      <td>enough</td>\n",
       "      <td>spring</td>\n",
       "      <td>spring</td>\n",
       "      <td>groundwater</td>\n",
       "      <td>communal standpipe</td>\n",
       "      <td>communal standpipe</td>\n",
       "    </tr>\n",
       "    <tr>\n",
       "      <th>8776</th>\n",
       "      <td>0.0</td>\n",
       "      <td>2013-03-06</td>\n",
       "      <td>Grumeti</td>\n",
       "      <td>1399</td>\n",
       "      <td>GRUMETI</td>\n",
       "      <td>34.698766</td>\n",
       "      <td>-2.147466</td>\n",
       "      <td>Zahanati</td>\n",
       "      <td>0</td>\n",
       "      <td>Lake Victoria</td>\n",
       "      <td>Nyamara</td>\n",
       "      <td>Mara</td>\n",
       "      <td>20</td>\n",
       "      <td>2</td>\n",
       "      <td>Serengeti</td>\n",
       "      <td>Natta</td>\n",
       "      <td>280</td>\n",
       "      <td>NaN</td>\n",
       "      <td>GeoData Consultants Ltd</td>\n",
       "      <td>Other</td>\n",
       "      <td>NaN</td>\n",
       "      <td>True</td>\n",
       "      <td>2010</td>\n",
       "      <td>gravity</td>\n",
       "      <td>gravity</td>\n",
       "      <td>gravity</td>\n",
       "      <td>wug</td>\n",
       "      <td>user-group</td>\n",
       "      <td>never pay</td>\n",
       "      <td>never pay</td>\n",
       "      <td>soft</td>\n",
       "      <td>good</td>\n",
       "      <td>insufficient</td>\n",
       "      <td>insufficient</td>\n",
       "      <td>rainwater harvesting</td>\n",
       "      <td>rainwater harvesting</td>\n",
       "      <td>surface</td>\n",
       "      <td>communal standpipe</td>\n",
       "      <td>communal standpipe</td>\n",
       "    </tr>\n",
       "    <tr>\n",
       "      <th>34310</th>\n",
       "      <td>25.0</td>\n",
       "      <td>2013-02-25</td>\n",
       "      <td>Lottery Club</td>\n",
       "      <td>686</td>\n",
       "      <td>World vision</td>\n",
       "      <td>37.460664</td>\n",
       "      <td>-3.821329</td>\n",
       "      <td>Kwa Mahundi</td>\n",
       "      <td>0</td>\n",
       "      <td>Pangani</td>\n",
       "      <td>Majengo</td>\n",
       "      <td>Manyara</td>\n",
       "      <td>21</td>\n",
       "      <td>4</td>\n",
       "      <td>Simanjiro</td>\n",
       "      <td>Ngorika</td>\n",
       "      <td>250</td>\n",
       "      <td>True</td>\n",
       "      <td>GeoData Consultants Ltd</td>\n",
       "      <td>VWC</td>\n",
       "      <td>Nyumba ya mungu pipe scheme</td>\n",
       "      <td>True</td>\n",
       "      <td>2009</td>\n",
       "      <td>gravity</td>\n",
       "      <td>gravity</td>\n",
       "      <td>gravity</td>\n",
       "      <td>vwc</td>\n",
       "      <td>user-group</td>\n",
       "      <td>pay per bucket</td>\n",
       "      <td>per bucket</td>\n",
       "      <td>soft</td>\n",
       "      <td>good</td>\n",
       "      <td>enough</td>\n",
       "      <td>enough</td>\n",
       "      <td>dam</td>\n",
       "      <td>dam</td>\n",
       "      <td>surface</td>\n",
       "      <td>communal standpipe multiple</td>\n",
       "      <td>communal standpipe</td>\n",
       "    </tr>\n",
       "  </tbody>\n",
       "</table>\n",
       "</div>"
      ],
      "text/plain": [
       "       amount_tsh date_recorded        funder  gps_height     installer  \\\n",
       "id                                                                        \n",
       "69572      6000.0    2011-03-14         Roman        1390         Roman   \n",
       "8776          0.0    2013-03-06       Grumeti        1399       GRUMETI   \n",
       "34310        25.0    2013-02-25  Lottery Club         686  World vision   \n",
       "\n",
       "       longitude  latitude     wpt_name  num_private          basin  \\\n",
       "id                                                                    \n",
       "69572  34.938093 -9.856322         none            0     Lake Nyasa   \n",
       "8776   34.698766 -2.147466     Zahanati            0  Lake Victoria   \n",
       "34310  37.460664 -3.821329  Kwa Mahundi            0        Pangani   \n",
       "\n",
       "      subvillage   region  region_code  district_code        lga      ward  \\\n",
       "id                                                                           \n",
       "69572   Mnyusi B   Iringa           11              5     Ludewa  Mundindi   \n",
       "8776     Nyamara     Mara           20              2  Serengeti     Natta   \n",
       "34310    Majengo  Manyara           21              4  Simanjiro   Ngorika   \n",
       "\n",
       "       population public_meeting              recorded_by scheme_management  \\\n",
       "id                                                                            \n",
       "69572         109           True  GeoData Consultants Ltd               VWC   \n",
       "8776          280            NaN  GeoData Consultants Ltd             Other   \n",
       "34310         250           True  GeoData Consultants Ltd               VWC   \n",
       "\n",
       "                       scheme_name permit  construction_year extraction_type  \\\n",
       "id                                                                             \n",
       "69572                        Roman  False               1999         gravity   \n",
       "8776                           NaN   True               2010         gravity   \n",
       "34310  Nyumba ya mungu pipe scheme   True               2009         gravity   \n",
       "\n",
       "      extraction_type_group extraction_type_class management management_group  \\\n",
       "id                                                                              \n",
       "69572               gravity               gravity        vwc       user-group   \n",
       "8776                gravity               gravity        wug       user-group   \n",
       "34310               gravity               gravity        vwc       user-group   \n",
       "\n",
       "              payment payment_type water_quality quality_group      quantity  \\\n",
       "id                                                                             \n",
       "69572    pay annually     annually          soft          good        enough   \n",
       "8776        never pay    never pay          soft          good  insufficient   \n",
       "34310  pay per bucket   per bucket          soft          good        enough   \n",
       "\n",
       "      quantity_group                source           source_type source_class  \\\n",
       "id                                                                              \n",
       "69572         enough                spring                spring  groundwater   \n",
       "8776    insufficient  rainwater harvesting  rainwater harvesting      surface   \n",
       "34310         enough                   dam                   dam      surface   \n",
       "\n",
       "                   waterpoint_type waterpoint_type_group  \n",
       "id                                                        \n",
       "69572           communal standpipe    communal standpipe  \n",
       "8776            communal standpipe    communal standpipe  \n",
       "34310  communal standpipe multiple    communal standpipe  "
      ]
     },
     "execution_count": 37,
     "metadata": {},
     "output_type": "execute_result"
    }
   ],
   "source": [
    "xy = indep_df[class_member_mask & core_samples_mask]\n",
    "xy[:3]"
   ]
  },
  {
   "cell_type": "code",
   "execution_count": 41,
   "metadata": {
    "collapsed": false
   },
   "outputs": [
    {
     "data": {
      "text/plain": [
       "array([    0,     1,     2, ..., 59397, 59398, 59399])"
      ]
     },
     "execution_count": 41,
     "metadata": {},
     "output_type": "execute_result"
    }
   ],
   "source": [
    "dbs.core_sample_indices_"
   ]
  },
  {
   "cell_type": "code",
   "execution_count": 38,
   "metadata": {
    "collapsed": false
   },
   "outputs": [
    {
     "ename": "KeyError",
     "evalue": "1000",
     "output_type": "error",
     "traceback": [
      "\u001b[0;31m---------------------------------------------------------------------------\u001b[0m",
      "\u001b[0;31mKeyError\u001b[0m                                  Traceback (most recent call last)",
      "\u001b[0;32m<ipython-input-38-cfb7973cf63d>\u001b[0m in \u001b[0;36m<module>\u001b[0;34m()\u001b[0m\n\u001b[1;32m     14\u001b[0m \u001b[0;34m\u001b[0m\u001b[0m\n\u001b[1;32m     15\u001b[0m     \u001b[0mxy\u001b[0m \u001b[0;34m=\u001b[0m \u001b[0mindep_df\u001b[0m\u001b[0;34m[\u001b[0m\u001b[0;34m[\u001b[0m\u001b[0;34m'latitude'\u001b[0m\u001b[0;34m,\u001b[0m \u001b[0;34m'longitude'\u001b[0m\u001b[0;34m]\u001b[0m\u001b[0;34m]\u001b[0m\u001b[0;34m[\u001b[0m\u001b[0mclass_member_mask\u001b[0m \u001b[0;34m&\u001b[0m \u001b[0mcore_samples_mask\u001b[0m\u001b[0;34m]\u001b[0m\u001b[0;34m\u001b[0m\u001b[0m\n\u001b[0;32m---> 16\u001b[0;31m     plt.plot(xy.loc[:1000, 'latitude'], xy.loc[:, 'longitude'], 'o', markerfacecolor=col,\n\u001b[0m\u001b[1;32m     17\u001b[0m              markeredgecolor='k', markersize=14)\n\u001b[1;32m     18\u001b[0m \u001b[0;34m\u001b[0m\u001b[0m\n",
      "\u001b[0;32m/home/vlandeau/anaconda/lib/python2.7/site-packages/pandas/core/indexing.pyc\u001b[0m in \u001b[0;36m__getitem__\u001b[0;34m(self, key)\u001b[0m\n\u001b[1;32m   1307\u001b[0m \u001b[0;34m\u001b[0m\u001b[0m\n\u001b[1;32m   1308\u001b[0m         \u001b[0;32mif\u001b[0m \u001b[0mtype\u001b[0m\u001b[0;34m(\u001b[0m\u001b[0mkey\u001b[0m\u001b[0;34m)\u001b[0m \u001b[0;32mis\u001b[0m \u001b[0mtuple\u001b[0m\u001b[0;34m:\u001b[0m\u001b[0;34m\u001b[0m\u001b[0m\n\u001b[0;32m-> 1309\u001b[0;31m             \u001b[0;32mreturn\u001b[0m \u001b[0mself\u001b[0m\u001b[0;34m.\u001b[0m\u001b[0m_getitem_tuple\u001b[0m\u001b[0;34m(\u001b[0m\u001b[0mkey\u001b[0m\u001b[0;34m)\u001b[0m\u001b[0;34m\u001b[0m\u001b[0m\n\u001b[0m\u001b[1;32m   1310\u001b[0m         \u001b[0;32melse\u001b[0m\u001b[0;34m:\u001b[0m\u001b[0;34m\u001b[0m\u001b[0m\n\u001b[1;32m   1311\u001b[0m             \u001b[0;32mreturn\u001b[0m \u001b[0mself\u001b[0m\u001b[0;34m.\u001b[0m\u001b[0m_getitem_axis\u001b[0m\u001b[0;34m(\u001b[0m\u001b[0mkey\u001b[0m\u001b[0;34m,\u001b[0m \u001b[0maxis\u001b[0m\u001b[0;34m=\u001b[0m\u001b[0;36m0\u001b[0m\u001b[0;34m)\u001b[0m\u001b[0;34m\u001b[0m\u001b[0m\n",
      "\u001b[0;32m/home/vlandeau/anaconda/lib/python2.7/site-packages/pandas/core/indexing.pyc\u001b[0m in \u001b[0;36m_getitem_tuple\u001b[0;34m(self, tup)\u001b[0m\n\u001b[1;32m    793\u001b[0m     \u001b[0;32mdef\u001b[0m \u001b[0m_getitem_tuple\u001b[0m\u001b[0;34m(\u001b[0m\u001b[0mself\u001b[0m\u001b[0;34m,\u001b[0m \u001b[0mtup\u001b[0m\u001b[0;34m)\u001b[0m\u001b[0;34m:\u001b[0m\u001b[0;34m\u001b[0m\u001b[0m\n\u001b[1;32m    794\u001b[0m         \u001b[0;32mtry\u001b[0m\u001b[0;34m:\u001b[0m\u001b[0;34m\u001b[0m\u001b[0m\n\u001b[0;32m--> 795\u001b[0;31m             \u001b[0;32mreturn\u001b[0m \u001b[0mself\u001b[0m\u001b[0;34m.\u001b[0m\u001b[0m_getitem_lowerdim\u001b[0m\u001b[0;34m(\u001b[0m\u001b[0mtup\u001b[0m\u001b[0;34m)\u001b[0m\u001b[0;34m\u001b[0m\u001b[0m\n\u001b[0m\u001b[1;32m    796\u001b[0m         \u001b[0;32mexcept\u001b[0m \u001b[0mIndexingError\u001b[0m\u001b[0;34m:\u001b[0m\u001b[0;34m\u001b[0m\u001b[0m\n\u001b[1;32m    797\u001b[0m             \u001b[0;32mpass\u001b[0m\u001b[0;34m\u001b[0m\u001b[0m\n",
      "\u001b[0;32m/home/vlandeau/anaconda/lib/python2.7/site-packages/pandas/core/indexing.pyc\u001b[0m in \u001b[0;36m_getitem_lowerdim\u001b[0;34m(self, tup)\u001b[0m\n\u001b[1;32m    944\u001b[0m \u001b[0;34m\u001b[0m\u001b[0m\n\u001b[1;32m    945\u001b[0m                 \u001b[0;31m# This is an elided recursive call to iloc/loc/etc'\u001b[0m\u001b[0;34m\u001b[0m\u001b[0;34m\u001b[0m\u001b[0m\n\u001b[0;32m--> 946\u001b[0;31m                 \u001b[0;32mreturn\u001b[0m \u001b[0mgetattr\u001b[0m\u001b[0;34m(\u001b[0m\u001b[0msection\u001b[0m\u001b[0;34m,\u001b[0m \u001b[0mself\u001b[0m\u001b[0;34m.\u001b[0m\u001b[0mname\u001b[0m\u001b[0;34m)\u001b[0m\u001b[0;34m[\u001b[0m\u001b[0mnew_key\u001b[0m\u001b[0;34m]\u001b[0m\u001b[0;34m\u001b[0m\u001b[0m\n\u001b[0m\u001b[1;32m    947\u001b[0m \u001b[0;34m\u001b[0m\u001b[0m\n\u001b[1;32m    948\u001b[0m         \u001b[0;32mraise\u001b[0m \u001b[0mIndexingError\u001b[0m\u001b[0;34m(\u001b[0m\u001b[0;34m'not applicable'\u001b[0m\u001b[0;34m)\u001b[0m\u001b[0;34m\u001b[0m\u001b[0m\n",
      "\u001b[0;32m/home/vlandeau/anaconda/lib/python2.7/site-packages/pandas/core/indexing.pyc\u001b[0m in \u001b[0;36m__getitem__\u001b[0;34m(self, key)\u001b[0m\n\u001b[1;32m   1309\u001b[0m             \u001b[0;32mreturn\u001b[0m \u001b[0mself\u001b[0m\u001b[0;34m.\u001b[0m\u001b[0m_getitem_tuple\u001b[0m\u001b[0;34m(\u001b[0m\u001b[0mkey\u001b[0m\u001b[0;34m)\u001b[0m\u001b[0;34m\u001b[0m\u001b[0m\n\u001b[1;32m   1310\u001b[0m         \u001b[0;32melse\u001b[0m\u001b[0;34m:\u001b[0m\u001b[0;34m\u001b[0m\u001b[0m\n\u001b[0;32m-> 1311\u001b[0;31m             \u001b[0;32mreturn\u001b[0m \u001b[0mself\u001b[0m\u001b[0;34m.\u001b[0m\u001b[0m_getitem_axis\u001b[0m\u001b[0;34m(\u001b[0m\u001b[0mkey\u001b[0m\u001b[0;34m,\u001b[0m \u001b[0maxis\u001b[0m\u001b[0;34m=\u001b[0m\u001b[0;36m0\u001b[0m\u001b[0;34m)\u001b[0m\u001b[0;34m\u001b[0m\u001b[0m\n\u001b[0m\u001b[1;32m   1312\u001b[0m \u001b[0;34m\u001b[0m\u001b[0m\n\u001b[1;32m   1313\u001b[0m     \u001b[0;32mdef\u001b[0m \u001b[0m_getitem_axis\u001b[0m\u001b[0;34m(\u001b[0m\u001b[0mself\u001b[0m\u001b[0;34m,\u001b[0m \u001b[0mkey\u001b[0m\u001b[0;34m,\u001b[0m \u001b[0maxis\u001b[0m\u001b[0;34m=\u001b[0m\u001b[0;36m0\u001b[0m\u001b[0;34m)\u001b[0m\u001b[0;34m:\u001b[0m\u001b[0;34m\u001b[0m\u001b[0m\n",
      "\u001b[0;32m/home/vlandeau/anaconda/lib/python2.7/site-packages/pandas/core/indexing.pyc\u001b[0m in \u001b[0;36m_getitem_axis\u001b[0;34m(self, key, axis)\u001b[0m\n\u001b[1;32m   1450\u001b[0m         \u001b[0;32mif\u001b[0m \u001b[0misinstance\u001b[0m\u001b[0;34m(\u001b[0m\u001b[0mkey\u001b[0m\u001b[0;34m,\u001b[0m \u001b[0mslice\u001b[0m\u001b[0;34m)\u001b[0m\u001b[0;34m:\u001b[0m\u001b[0;34m\u001b[0m\u001b[0m\n\u001b[1;32m   1451\u001b[0m             \u001b[0mself\u001b[0m\u001b[0;34m.\u001b[0m\u001b[0m_has_valid_type\u001b[0m\u001b[0;34m(\u001b[0m\u001b[0mkey\u001b[0m\u001b[0;34m,\u001b[0m \u001b[0maxis\u001b[0m\u001b[0;34m)\u001b[0m\u001b[0;34m\u001b[0m\u001b[0m\n\u001b[0;32m-> 1452\u001b[0;31m             \u001b[0;32mreturn\u001b[0m \u001b[0mself\u001b[0m\u001b[0;34m.\u001b[0m\u001b[0m_get_slice_axis\u001b[0m\u001b[0;34m(\u001b[0m\u001b[0mkey\u001b[0m\u001b[0;34m,\u001b[0m \u001b[0maxis\u001b[0m\u001b[0;34m=\u001b[0m\u001b[0maxis\u001b[0m\u001b[0;34m)\u001b[0m\u001b[0;34m\u001b[0m\u001b[0m\n\u001b[0m\u001b[1;32m   1453\u001b[0m         \u001b[0;32melif\u001b[0m \u001b[0mis_bool_indexer\u001b[0m\u001b[0;34m(\u001b[0m\u001b[0mkey\u001b[0m\u001b[0;34m)\u001b[0m\u001b[0;34m:\u001b[0m\u001b[0;34m\u001b[0m\u001b[0m\n\u001b[1;32m   1454\u001b[0m             \u001b[0;32mreturn\u001b[0m \u001b[0mself\u001b[0m\u001b[0;34m.\u001b[0m\u001b[0m_getbool_axis\u001b[0m\u001b[0;34m(\u001b[0m\u001b[0mkey\u001b[0m\u001b[0;34m,\u001b[0m \u001b[0maxis\u001b[0m\u001b[0;34m=\u001b[0m\u001b[0maxis\u001b[0m\u001b[0;34m)\u001b[0m\u001b[0;34m\u001b[0m\u001b[0m\n",
      "\u001b[0;32m/home/vlandeau/anaconda/lib/python2.7/site-packages/pandas/core/indexing.pyc\u001b[0m in \u001b[0;36m_get_slice_axis\u001b[0;34m(self, slice_obj, axis)\u001b[0m\n\u001b[1;32m   1331\u001b[0m         \u001b[0mlabels\u001b[0m \u001b[0;34m=\u001b[0m \u001b[0mobj\u001b[0m\u001b[0;34m.\u001b[0m\u001b[0m_get_axis\u001b[0m\u001b[0;34m(\u001b[0m\u001b[0maxis\u001b[0m\u001b[0;34m)\u001b[0m\u001b[0;34m\u001b[0m\u001b[0m\n\u001b[1;32m   1332\u001b[0m         indexer = labels.slice_indexer(slice_obj.start, slice_obj.stop,\n\u001b[0;32m-> 1333\u001b[0;31m                                        slice_obj.step, kind=self.name)\n\u001b[0m\u001b[1;32m   1334\u001b[0m \u001b[0;34m\u001b[0m\u001b[0m\n\u001b[1;32m   1335\u001b[0m         \u001b[0;32mif\u001b[0m \u001b[0misinstance\u001b[0m\u001b[0;34m(\u001b[0m\u001b[0mindexer\u001b[0m\u001b[0;34m,\u001b[0m \u001b[0mslice\u001b[0m\u001b[0;34m)\u001b[0m\u001b[0;34m:\u001b[0m\u001b[0;34m\u001b[0m\u001b[0m\n",
      "\u001b[0;32m/home/vlandeau/anaconda/lib/python2.7/site-packages/pandas/indexes/base.pyc\u001b[0m in \u001b[0;36mslice_indexer\u001b[0;34m(self, start, end, step, kind)\u001b[0m\n\u001b[1;32m   2960\u001b[0m         \"\"\"\n\u001b[1;32m   2961\u001b[0m         start_slice, end_slice = self.slice_locs(start, end, step=step,\n\u001b[0;32m-> 2962\u001b[0;31m                                                  kind=kind)\n\u001b[0m\u001b[1;32m   2963\u001b[0m \u001b[0;34m\u001b[0m\u001b[0m\n\u001b[1;32m   2964\u001b[0m         \u001b[0;31m# return a slice\u001b[0m\u001b[0;34m\u001b[0m\u001b[0;34m\u001b[0m\u001b[0m\n",
      "\u001b[0;32m/home/vlandeau/anaconda/lib/python2.7/site-packages/pandas/indexes/base.pyc\u001b[0m in \u001b[0;36mslice_locs\u001b[0;34m(self, start, end, step, kind)\u001b[0m\n\u001b[1;32m   3145\u001b[0m         \u001b[0mend_slice\u001b[0m \u001b[0;34m=\u001b[0m \u001b[0mNone\u001b[0m\u001b[0;34m\u001b[0m\u001b[0m\n\u001b[1;32m   3146\u001b[0m         \u001b[0;32mif\u001b[0m \u001b[0mend\u001b[0m \u001b[0;32mis\u001b[0m \u001b[0;32mnot\u001b[0m \u001b[0mNone\u001b[0m\u001b[0;34m:\u001b[0m\u001b[0;34m\u001b[0m\u001b[0m\n\u001b[0;32m-> 3147\u001b[0;31m             \u001b[0mend_slice\u001b[0m \u001b[0;34m=\u001b[0m \u001b[0mself\u001b[0m\u001b[0;34m.\u001b[0m\u001b[0mget_slice_bound\u001b[0m\u001b[0;34m(\u001b[0m\u001b[0mend\u001b[0m\u001b[0;34m,\u001b[0m \u001b[0;34m'right'\u001b[0m\u001b[0;34m,\u001b[0m \u001b[0mkind\u001b[0m\u001b[0;34m)\u001b[0m\u001b[0;34m\u001b[0m\u001b[0m\n\u001b[0m\u001b[1;32m   3148\u001b[0m         \u001b[0;32mif\u001b[0m \u001b[0mend_slice\u001b[0m \u001b[0;32mis\u001b[0m \u001b[0mNone\u001b[0m\u001b[0;34m:\u001b[0m\u001b[0;34m\u001b[0m\u001b[0m\n\u001b[1;32m   3149\u001b[0m             \u001b[0mend_slice\u001b[0m \u001b[0;34m=\u001b[0m \u001b[0mlen\u001b[0m\u001b[0;34m(\u001b[0m\u001b[0mself\u001b[0m\u001b[0;34m)\u001b[0m\u001b[0;34m\u001b[0m\u001b[0m\n",
      "\u001b[0;32m/home/vlandeau/anaconda/lib/python2.7/site-packages/pandas/indexes/base.pyc\u001b[0m in \u001b[0;36mget_slice_bound\u001b[0;34m(self, label, side, kind)\u001b[0m\n\u001b[1;32m   3088\u001b[0m             \u001b[0;32mexcept\u001b[0m \u001b[0mValueError\u001b[0m\u001b[0;34m:\u001b[0m\u001b[0;34m\u001b[0m\u001b[0m\n\u001b[1;32m   3089\u001b[0m                 \u001b[0;31m# raise the original KeyError\u001b[0m\u001b[0;34m\u001b[0m\u001b[0;34m\u001b[0m\u001b[0m\n\u001b[0;32m-> 3090\u001b[0;31m                 \u001b[0;32mraise\u001b[0m \u001b[0merr\u001b[0m\u001b[0;34m\u001b[0m\u001b[0m\n\u001b[0m\u001b[1;32m   3091\u001b[0m \u001b[0;34m\u001b[0m\u001b[0m\n\u001b[1;32m   3092\u001b[0m         \u001b[0;32mif\u001b[0m \u001b[0misinstance\u001b[0m\u001b[0;34m(\u001b[0m\u001b[0mslc\u001b[0m\u001b[0;34m,\u001b[0m \u001b[0mnp\u001b[0m\u001b[0;34m.\u001b[0m\u001b[0mndarray\u001b[0m\u001b[0;34m)\u001b[0m\u001b[0;34m:\u001b[0m\u001b[0;34m\u001b[0m\u001b[0m\n",
      "\u001b[0;31mKeyError\u001b[0m: 1000"
     ]
    }
   ],
   "source": [
    "core_samples_mask = np.zeros_like(dbs.labels_, dtype=bool)\n",
    "core_samples_mask[dbs.core_sample_indices_] = True\n",
    "labels = dbs.labels_\n",
    "n_clusters_ = len(set(labels)) - (1 if -1 in labels else 0)\n",
    "\n",
    "unique_labels = set(labels)\n",
    "colors = plt.cm.Spectral(np.linspace(0, 1, len(unique_labels)))\n",
    "for k, col in zip(unique_labels, colors):\n",
    "    if k == -1:\n",
    "        # Black used for noise.\n",
    "        col = 'k'\n",
    "\n",
    "    class_member_mask = (labels == k)\n",
    "\n",
    "    xy = indep_df[['latitude', 'longitude']][class_member_mask & core_samples_mask]\n",
    "    plt.plot(xy.loc[:1000, 'latitude'], xy.loc[:, 'longitude'], 'o', markerfacecolor=col,\n",
    "             markeredgecolor='k', markersize=14)\n",
    "\n",
    "    xy = indep_df[class_member_mask & ~core_samples_mask]\n",
    "    plt.plot(xy[:1000, 'latitude'], xy[:1000, 'longitude'], 'o', markerfacecolor=col,\n",
    "             markeredgecolor='k', markersize=6)\n",
    "\n",
    "plt.title('Estimated number of clusters: %d' % n_clusters_)\n",
    "plt.show()"
   ]
  },
  {
   "cell_type": "code",
   "execution_count": 25,
   "metadata": {
    "collapsed": false
   },
   "outputs": [
    {
     "data": {
      "image/png": "[encoded data removed]",
      "text/plain": [
       "<matplotlib.figure.Figure at 0x7f187399b410>"
      ]
     },
     "metadata": {},
     "output_type": "display_data"
    }
   ],
   "source": [
    "import matplotlib.pyplot as plt\n",
    "indep_df_sample = indep_df.sample(5000)\n",
    "plt.scatter(indep_df_sample.longitude, indep_df_sample.latitude, alpha=0.5)\n",
    "plt.show()"
   ]
  },
  {
   "cell_type": "markdown",
   "metadata": {},
   "source": [
    "# Visualization"
   ]
  },
  {
   "cell_type": "code",
   "execution_count": 71,
   "metadata": {
    "collapsed": false
   },
   "outputs": [
    {
     "name": "stderr",
     "output_type": "stream",
     "text": [
      "/home/vlandeau/anaconda/lib/python2.7/site-packages/matplotlib/collections.py:590: FutureWarning: elementwise comparison failed; returning scalar instead, but in the future will perform elementwise comparison\n",
      "  if self._edgecolors == str('face'):\n"
     ]
    },
    {
     "data": {
      "image/png": "[encoded data removed]",
      "text/plain": [
       "<matplotlib.figure.Figure at 0x7f615c871ed0>"
      ]
     },
     "metadata": {},
     "output_type": "display_data"
    }
   ],
   "source": [
    "n_points = 2000\n",
    "perplexity = 25\n",
    "\n",
    "sample_index = random.sample(range(len(y_train)),n_points)\n",
    "X_tsne = TSNE(perplexity=perplexity).fit_transform(x_train[sample_index])\n",
    "y_tsne = y_train.status_group.as_matrix()[sample_index]\n",
    "\n",
    "plt.figure()\n",
    "colors = ['g', 'b', 'r']\n",
    "for value in dep_df.status_group.unique():\n",
    "    plt.scatter(X_tsne[np.where(y_tsne == value), 0],\n",
    "                       X_tsne[np.where(y_tsne == value), 1],\n",
    "                       marker='x', color=colors.pop(randint(len(colors))),\n",
    "                       linewidth='1', alpha=0.8, label=value)\n",
    "\n",
    "plt.xlabel('Dim 1')\n",
    "plt.ylabel('Dim 2')\n",
    "plt.title('T-SNE on %d training points' % n_points)\n",
    "plt.legend(loc='best')\n",
    "plt.show()"
   ]
  },
  {
   "cell_type": "markdown",
   "metadata": {},
   "source": [
    "# Preprocessing parameters tuning"
   ]
  },
  {
   "cell_type": "code",
   "execution_count": 51,
   "metadata": {
    "collapsed": false,
    "scrolled": true
   },
   "outputs": [],
   "source": [
    "preprocessing_pipeline = Pipeline([\n",
    "        (\"TimeStampConverter\", transformers.TimeStampConverter(cols_to_convert=['date_recorded'], date_format=\"%Y-%m-%d\")),\n",
    "        (\"TypeConverter\", transformers.TypeConverter(cols_to_convert=['region_code', 'district_code'], final_type=object)),\n",
    "        \n",
    "        (\"ReplaceNegativeByNan\", transformers.ReplaceNegativeByNan(columns_to_transform=[\"population\", \"construction_year\"])),\n",
    "        (\"NanIndicatorAdder\", transformers.NanIndicatorAdder()),\n",
    "        (\"CategoricalFeatureImputer\", transformers.CategoricalFeatureImputer()),\n",
    "        (\"DateInfoGetter\", transformers.DateInfoGetter())\n",
    "  ])\n",
    "df_train_raw, df_test_raw, y_train, y_test = train_test_split(indep_df, dep_df, test_size=0.2)\n",
    "df_train = preprocessing_pipeline.fit_transform(df_train_raw)\n",
    "df_test = preprocessing_pipeline.transform(df_test_raw)"
   ]
  },
  {
   "cell_type": "code",
   "execution_count": 56,
   "metadata": {
    "collapsed": false
   },
   "outputs": [
    {
     "data": {
      "text/plain": [
       "<module 'transformers' from 'transformers.pyc'>"
      ]
     },
     "execution_count": 56,
     "metadata": {},
     "output_type": "execute_result"
    }
   ],
   "source": [
    "reload(transformers)"
   ]
  },
  {
   "cell_type": "code",
   "execution_count": 57,
   "metadata": {
    "collapsed": true
   },
   "outputs": [],
   "source": [
    "model_pipeline = Pipeline([\n",
    "        (\"ClassifierProjectionFeature\", transformers.ClassifierProjectionFeature(projection_threshold=0.1)),\n",
    "        (\"ImputationByMedian\", transformers.NumericalFeatureImputation(strategy=\"median\")),\n",
    "        (\"RareValuesRemover\", transformers.RareValuesRemover(threshold=0.01)),\n",
    "        (\"Dummifier\", transformers.Dummifier()),\n",
    "        (\"ConvertToNp\", transformers.PandasDfToNpArrayConverter()),\n",
    "        (\"VarianceThreshold\", VarianceThreshold(threshold=0.05)),\n",
    "        (\"StandardScaler\", StandardScaler())])\n"
   ]
  },
  {
   "cell_type": "code",
   "execution_count": 58,
   "metadata": {
    "collapsed": false
   },
   "outputs": [],
   "source": [
    "lbl_enc = LabelEncoder()\n",
    "y_train_num = lbl_enc.fit_transform(y_train.status_group)\n",
    "y_test_num = lbl_enc.transform(y_test.status_group)"
   ]
  },
  {
   "cell_type": "code",
   "execution_count": 69,
   "metadata": {
    "collapsed": false,
    "scrolled": false
   },
   "outputs": [
    {
     "name": "stdout",
     "output_type": "stream",
     "text": [
      "Iteration 0: score 0.724410810829 with std 0.00141287037186 for params {'VarianceThreshold__threshold': 0.145, 'rf__max_depth': 9, 'rf__n_estimators': 138, 'rf__bootstrap': True, 'rf__criterion': 'gini', 'RareValuesRemover__threshold': 0.296, 'ClassifierProjectionFeature__projection_threshold': 0.048, 'ImputationByMedian__strategy': 'mean', 'rf__max_features': 'sqrt', 'rf__n_jobs': 4}\n",
      "Iteration 1: score 0.646885495968 with std 0.00696577284168 for params {'VarianceThreshold__threshold': 0.099, 'rf__max_depth': None, 'rf__n_estimators': 758, 'rf__bootstrap': False, 'rf__criterion': 'entropy', 'RareValuesRemover__threshold': 0.025, 'ClassifierProjectionFeature__projection_threshold': 0.10400000000000001, 'ImputationByMedian__strategy': 'median', 'rf__max_features': None, 'rf__n_jobs': 4}\n",
      "Iteration 2: score 0.686721549577 with std 0.00388970754037 for params {'VarianceThreshold__threshold': 0.299, 'rf__max_depth': 2, 'rf__n_estimators': 671, 'rf__bootstrap': False, 'rf__criterion': 'entropy', 'RareValuesRemover__threshold': 0.23, 'ClassifierProjectionFeature__projection_threshold': 0.093, 'ImputationByMedian__strategy': 'median', 'rf__max_features': 'log2', 'rf__n_jobs': 4}\n",
      "Iteration 3: score 0.721591003071 with std 0.00172270620561 for params {'VarianceThreshold__threshold': 0.28500000000000003, 'rf__max_depth': 5, 'rf__n_estimators': 188, 'rf__bootstrap': False, 'rf__criterion': 'entropy', 'RareValuesRemover__threshold': 0.146, 'ClassifierProjectionFeature__projection_threshold': 0.055, 'ImputationByMedian__strategy': 'mean', 'rf__max_features': 'sqrt', 'rf__n_jobs': 4}\n",
      "Iteration 4: score 0.704734506152 with std 0.00895947097858 for params {'VarianceThreshold__threshold': 0.06, 'rf__max_depth': 5, 'rf__n_estimators': 276, 'rf__bootstrap': True, 'rf__criterion': 'gini', 'RareValuesRemover__threshold': 0.293, 'ClassifierProjectionFeature__projection_threshold': 0.145, 'ImputationByMedian__strategy': 'median', 'rf__max_features': 'sqrt', 'rf__n_jobs': 4}\n",
      "Iteration 5: score 0.690277756469 with std 0.00267886936825 for params {'VarianceThreshold__threshold': 0.037, 'rf__max_depth': 7, 'rf__n_estimators': 362, 'rf__bootstrap': False, 'rf__criterion': 'gini', 'RareValuesRemover__threshold': 0.012, 'ClassifierProjectionFeature__projection_threshold': 0.097, 'ImputationByMedian__strategy': 'median', 'rf__max_features': None, 'rf__n_jobs': 4}\n",
      "Iteration 6: score 0.74848492709 with std 0.00192954135033 for params {'VarianceThreshold__threshold': 0.262, 'rf__max_depth': 8, 'rf__n_estimators': 999, 'rf__bootstrap': True, 'rf__criterion': 'entropy', 'RareValuesRemover__threshold': 0.065, 'ClassifierProjectionFeature__projection_threshold': 0.077, 'ImputationByMedian__strategy': 'median', 'rf__max_features': 'sqrt', 'rf__n_jobs': 4}\n",
      "Iteration 7: score 0.588804738543 with std 0.00386322504008 for params {'VarianceThreshold__threshold': 0.08, 'rf__max_depth': 3, 'rf__n_estimators': 733, 'rf__bootstrap': True, 'rf__criterion': 'gini', 'RareValuesRemover__threshold': 0.193, 'ClassifierProjectionFeature__projection_threshold': 0.14300000000000002, 'ImputationByMedian__strategy': 'median', 'rf__max_features': None, 'rf__n_jobs': 4}\n",
      "Iteration 8: score 0.738489087086 with std 0.00168487586659 for params {'VarianceThreshold__threshold': 0.22, 'rf__max_depth': 7, 'rf__n_estimators': 101, 'rf__bootstrap': False, 'rf__criterion': 'gini', 'RareValuesRemover__threshold': 0.032, 'ClassifierProjectionFeature__projection_threshold': 0.147, 'ImputationByMedian__strategy': 'mean', 'rf__max_features': 'log2', 'rf__n_jobs': 4}\n",
      "Iteration 9: score 0.671717223393 with std 0.003664343041 for params {'VarianceThreshold__threshold': 0.07200000000000001, 'rf__max_depth': 7, 'rf__n_estimators': 938, 'rf__bootstrap': False, 'rf__criterion': 'gini', 'RareValuesRemover__threshold': 0.289, 'ClassifierProjectionFeature__projection_threshold': 0.126, 'ImputationByMedian__strategy': 'mean', 'rf__max_features': None, 'rf__n_jobs': 4}\n",
      "Iteration 10: score 0.685521943911 with std 0.00263760603125 for params {'VarianceThreshold__threshold': 0.047, 'rf__max_depth': 2, 'rf__n_estimators': 308, 'rf__bootstrap': True, 'rf__criterion': 'entropy', 'RareValuesRemover__threshold': 0.259, 'ClassifierProjectionFeature__projection_threshold': 0.024, 'ImputationByMedian__strategy': 'median', 'rf__max_features': 'sqrt', 'rf__n_jobs': 4}\n",
      "Iteration 11: score 0.702420125353 with std 0.00297906549764 for params {'VarianceThreshold__threshold': 0.157, 'rf__max_depth': 4, 'rf__n_estimators': 795, 'rf__bootstrap': False, 'rf__criterion': 'gini', 'RareValuesRemover__threshold': 0.078, 'ClassifierProjectionFeature__projection_threshold': 0.17200000000000001, 'ImputationByMedian__strategy': 'mean', 'rf__max_features': 'log2', 'rf__n_jobs': 4}\n",
      "Iteration 12: score 0.749179232046 with std 0.00229570109196 for params {'VarianceThreshold__threshold': 0.184, 'rf__max_depth': 8, 'rf__n_estimators': 884, 'rf__bootstrap': False, 'rf__criterion': 'gini', 'RareValuesRemover__threshold': 0.044, 'ClassifierProjectionFeature__projection_threshold': 0.10400000000000001, 'ImputationByMedian__strategy': 'median', 'rf__max_features': 'log2', 'rf__n_jobs': 4}\n",
      "Iteration 13: score 0.745265150382 with std 0.00243423413198 for params {'VarianceThreshold__threshold': 0.025, 'rf__max_depth': 6, 'rf__n_estimators': 81, 'rf__bootstrap': False, 'rf__criterion': 'gini', 'RareValuesRemover__threshold': 0.262, 'ClassifierProjectionFeature__projection_threshold': 0.064, 'ImputationByMedian__strategy': 'mean', 'rf__max_features': 'log2', 'rf__n_jobs': 4}\n",
      "Iteration 14: score 0.704756096875 with std 0.00352813872049 for params {'VarianceThreshold__threshold': 0.229, 'rf__max_depth': 4, 'rf__n_estimators': 412, 'rf__bootstrap': False, 'rf__criterion': 'gini', 'RareValuesRemover__threshold': 0.267, 'ClassifierProjectionFeature__projection_threshold': 0.057, 'ImputationByMedian__strategy': 'median', 'rf__max_features': 'sqrt', 'rf__n_jobs': 4}\n",
      "Iteration 15: score 0.704166678641 with std 0.00357924229528 for params {'VarianceThreshold__threshold': 0.126, 'rf__max_depth': 8, 'rf__n_estimators': 253, 'rf__bootstrap': False, 'rf__criterion': 'gini', 'RareValuesRemover__threshold': 0.258, 'ClassifierProjectionFeature__projection_threshold': 0.179, 'ImputationByMedian__strategy': 'median', 'rf__max_features': 'sqrt', 'rf__n_jobs': 4}\n",
      "Iteration 16: score 0.548295452538 with std 0.00206530102068 for params {'VarianceThreshold__threshold': 0.039, 'rf__max_depth': 2, 'rf__n_estimators': 476, 'rf__bootstrap': False, 'rf__criterion': 'entropy', 'RareValuesRemover__threshold': 0.26, 'ClassifierProjectionFeature__projection_threshold': 0.158, 'ImputationByMedian__strategy': 'mean', 'rf__max_features': None, 'rf__n_jobs': 4}\n",
      "Iteration 17: score 0.631210078381 with std 0.0425557887192 for params {'VarianceThreshold__threshold': 0.047, 'rf__max_depth': 3, 'rf__n_estimators': 983, 'rf__bootstrap': False, 'rf__criterion': 'gini', 'RareValuesRemover__threshold': 0.092, 'ClassifierProjectionFeature__projection_threshold': 0.064, 'ImputationByMedian__strategy': 'mean', 'rf__max_features': None, 'rf__n_jobs': 4}\n",
      "Iteration 18: score 0.697138025869 with std 0.00202875234206 for params {'VarianceThreshold__threshold': 0.152, 'rf__max_depth': 4, 'rf__n_estimators': 648, 'rf__bootstrap': True, 'rf__criterion': 'entropy', 'RareValuesRemover__threshold': 0.168, 'ClassifierProjectionFeature__projection_threshold': 0.054, 'ImputationByMedian__strategy': 'median', 'rf__max_features': 'log2', 'rf__n_jobs': 4}\n",
      "Iteration 19: score 0.724053115438 with std 0.00148200088083 for params {'VarianceThreshold__threshold': 0.273, 'rf__max_depth': 5, 'rf__n_estimators': 188, 'rf__bootstrap': True, 'rf__criterion': 'gini', 'RareValuesRemover__threshold': 0.189, 'ClassifierProjectionFeature__projection_threshold': 0.098, 'ImputationByMedian__strategy': 'median', 'rf__max_features': 'sqrt', 'rf__n_jobs': 4}\n",
      "Iteration 20: score 0.727146359373 with std 0.00339532070513 for params {'VarianceThreshold__threshold': 0.201, 'rf__max_depth': 8, 'rf__n_estimators': 942, 'rf__bootstrap': True, 'rf__criterion': 'entropy', 'RareValuesRemover__threshold': 0.068, 'ClassifierProjectionFeature__projection_threshold': 0.011, 'ImputationByMedian__strategy': 'median', 'rf__max_features': 'log2', 'rf__n_jobs': 4}\n",
      "Iteration 21: score 0.747222265395 with std 0.00181962281247 for params {'VarianceThreshold__threshold': 0.256, 'rf__max_depth': 8, 'rf__n_estimators': 422, 'rf__bootstrap': True, 'rf__criterion': 'entropy', 'RareValuesRemover__threshold': 0.11800000000000001, 'ClassifierProjectionFeature__projection_threshold': 0.078, 'ImputationByMedian__strategy': 'median', 'rf__max_features': 'log2', 'rf__n_jobs': 4}\n",
      "Iteration 22: score 0.747369545223 with std 0.00174431306458 for params {'VarianceThreshold__threshold': 0.189, 'rf__max_depth': 8, 'rf__n_estimators': 332, 'rf__bootstrap': True, 'rf__criterion': 'entropy', 'RareValuesRemover__threshold': 0.04, 'ClassifierProjectionFeature__projection_threshold': 0.115, 'ImputationByMedian__strategy': 'median', 'rf__max_features': 'log2', 'rf__n_jobs': 4}\n",
      "Iteration 23: score 0.750021069243 with std 0.00158947467066 for params {'VarianceThreshold__threshold': 0.246, 'rf__max_depth': 8, 'rf__n_estimators': 227, 'rf__bootstrap': True, 'rf__criterion': 'entropy', 'RareValuesRemover__threshold': 0.001, 'ClassifierProjectionFeature__projection_threshold': 0.023, 'ImputationByMedian__strategy': 'median', 'rf__max_features': 'sqrt', 'rf__n_jobs': 4}\n",
      "Iteration 24: score 0.748442797481 with std 0.00216174358658 for params {'VarianceThreshold__threshold': 0.183, 'rf__max_depth': 8, 'rf__n_estimators': 694, 'rf__bootstrap': True, 'rf__criterion': 'entropy', 'RareValuesRemover__threshold': 0.009000000000000001, 'ClassifierProjectionFeature__projection_threshold': 0.036000000000000004, 'ImputationByMedian__strategy': 'median', 'rf__max_features': 'sqrt', 'rf__n_jobs': 4}\n",
      "Iteration 25: score 0.740130463583 with std 0.00447211294647 for params {'VarianceThreshold__threshold': 0.23700000000000002, 'rf__max_depth': 9, 'rf__n_estimators': 891, 'rf__bootstrap': True, 'rf__criterion': 'entropy', 'RareValuesRemover__threshold': 0.108, 'ClassifierProjectionFeature__projection_threshold': 0.001, 'ImputationByMedian__strategy': 'median', 'rf__max_features': 'log2', 'rf__n_jobs': 4}\n",
      "Iteration 26: score 0.715446182039 with std 0.00138241087303 for params {'VarianceThreshold__threshold': 0.167, 'rf__max_depth': 6, 'rf__n_estimators': 227, 'rf__bootstrap': True, 'rf__criterion': 'gini', 'RareValuesRemover__threshold': 0.053, 'ClassifierProjectionFeature__projection_threshold': 0.124, 'ImputationByMedian__strategy': 'median', 'rf__max_features': 'log2', 'rf__n_jobs': 4}\n",
      "Iteration 27: score 0.731776115232 with std 0.00595311808745 for params {'VarianceThreshold__threshold': 0.11900000000000001, 'rf__max_depth': None, 'rf__n_estimators': 179, 'rf__bootstrap': False, 'rf__criterion': 'entropy', 'RareValuesRemover__threshold': 0.01, 'ClassifierProjectionFeature__projection_threshold': 0.034, 'ImputationByMedian__strategy': 'median', 'rf__max_features': 'sqrt', 'rf__n_jobs': 4}\n",
      "Iteration 28: score 0.76109017257 with std 0.00274402659246 for params {'VarianceThreshold__threshold': 0.211, 'rf__max_depth': 9, 'rf__n_estimators': 450, 'rf__bootstrap': True, 'rf__criterion': 'gini', 'RareValuesRemover__threshold': 0.121, 'ClassifierProjectionFeature__projection_threshold': 0.083, 'ImputationByMedian__strategy': 'median', 'rf__max_features': 'sqrt', 'rf__n_jobs': 4}\n",
      "Iteration 29: score 0.744381336349 with std 0.00266502574947 for params {'VarianceThreshold__threshold': 0.212, 'rf__max_depth': 9, 'rf__n_estimators': 696, 'rf__bootstrap': True, 'rf__criterion': 'entropy', 'RareValuesRemover__threshold': 0.129, 'ClassifierProjectionFeature__projection_threshold': 0.003, 'ImputationByMedian__strategy': 'median', 'rf__max_features': 'sqrt', 'rf__n_jobs': 4}\n",
      "Iteration 30: score 0.756439477005 with std 0.00199448038843 for params {'VarianceThreshold__threshold': 0.249, 'rf__max_depth': 9, 'rf__n_estimators': 450, 'rf__bootstrap': True, 'rf__criterion': 'gini', 'RareValuesRemover__threshold': 0.21, 'ClassifierProjectionFeature__projection_threshold': 0.017, 'ImputationByMedian__strategy': 'median', 'rf__max_features': 'sqrt', 'rf__n_jobs': 4}\n",
      "Iteration 31: score 0.758354493395 with std 0.0023376969977 for params {'VarianceThreshold__threshold': 0.298, 'rf__max_depth': 9, 'rf__n_estimators': 723, 'rf__bootstrap': True, 'rf__criterion': 'gini', 'RareValuesRemover__threshold': 0.221, 'ClassifierProjectionFeature__projection_threshold': 0.037, 'ImputationByMedian__strategy': 'median', 'rf__max_features': 'sqrt', 'rf__n_jobs': 4}\n",
      "Iteration 32: score 0.757870471157 with std 0.00238958294242 for params {'VarianceThreshold__threshold': 0.296, 'rf__max_depth': 9, 'rf__n_estimators': 471, 'rf__bootstrap': True, 'rf__criterion': 'gini', 'RareValuesRemover__threshold': 0.16, 'ClassifierProjectionFeature__projection_threshold': 0.079, 'ImputationByMedian__strategy': 'median', 'rf__max_features': 'sqrt', 'rf__n_jobs': 4}\n",
      "Iteration 33: score 0.758459690105 with std 0.00186608959341 for params {'VarianceThreshold__threshold': 0.281, 'rf__max_depth': 9, 'rf__n_estimators': 229, 'rf__bootstrap': True, 'rf__criterion': 'gini', 'RareValuesRemover__threshold': 0.226, 'ClassifierProjectionFeature__projection_threshold': 0.043000000000000003, 'ImputationByMedian__strategy': 'median', 'rf__max_features': 'sqrt', 'rf__n_jobs': 4}\n",
      "Iteration 34: score 0.744844410016 with std 0.00452617831073 for params {'VarianceThreshold__threshold': 0.005, 'rf__max_depth': 9, 'rf__n_estimators': 109, 'rf__bootstrap': True, 'rf__criterion': 'gini', 'RareValuesRemover__threshold': 0.14400000000000002, 'ClassifierProjectionFeature__projection_threshold': 0.08700000000000001, 'ImputationByMedian__strategy': 'mean', 'rf__max_features': 'sqrt', 'rf__n_jobs': 4}\n",
      "Iteration 35: score 0.804482404292 with std 0.00307138828977 for params {'VarianceThreshold__threshold': 0.275, 'rf__max_depth': None, 'rf__n_estimators': 627, 'rf__bootstrap': True, 'rf__criterion': 'gini', 'RareValuesRemover__threshold': 0.23700000000000002, 'ClassifierProjectionFeature__projection_threshold': 0.046, 'ImputationByMedian__strategy': 'median', 'rf__max_features': 'sqrt', 'rf__n_jobs': 4}\n",
      "Iteration 36: score 0.763783777481 with std 0.00451408512135 for params {'VarianceThreshold__threshold': 0.133, 'rf__max_depth': None, 'rf__n_estimators': 421, 'rf__bootstrap': True, 'rf__criterion': 'gini', 'RareValuesRemover__threshold': 0.18, 'ClassifierProjectionFeature__projection_threshold': 0.114, 'ImputationByMedian__strategy': 'median', 'rf__max_features': 'sqrt', 'rf__n_jobs': 4}\n",
      "Iteration 37: score 0.703324659875 with std 0.00575190178346 for params {'VarianceThreshold__threshold': 0.098, 'rf__max_depth': None, 'rf__n_estimators': 356, 'rf__bootstrap': True, 'rf__criterion': 'gini', 'RareValuesRemover__threshold': 0.241, 'ClassifierProjectionFeature__projection_threshold': 0.113, 'ImputationByMedian__strategy': 'median', 'rf__max_features': None, 'rf__n_jobs': 4}\n",
      "Iteration 38: score 0.763994230693 with std 0.00584350928629 for params {'VarianceThreshold__threshold': 0.136, 'rf__max_depth': None, 'rf__n_estimators': 473, 'rf__bootstrap': True, 'rf__criterion': 'gini', 'RareValuesRemover__threshold': 0.199, 'ClassifierProjectionFeature__projection_threshold': 0.162, 'ImputationByMedian__strategy': 'mean', 'rf__max_features': 'sqrt', 'rf__n_jobs': 4}\n",
      "Iteration 39: score 0.733438555434 with std 0.00438253202708 for params {'VarianceThreshold__threshold': 0.10400000000000001, 'rf__max_depth': None, 'rf__n_estimators': 633, 'rf__bootstrap': True, 'rf__criterion': 'gini', 'RareValuesRemover__threshold': 0.20800000000000002, 'ClassifierProjectionFeature__projection_threshold': 0.199, 'ImputationByMedian__strategy': 'mean', 'rf__max_features': 'sqrt', 'rf__n_jobs': 4}\n",
      "Iteration 40: score 0.702293552732 with std 0.00579141988599 for params {'VarianceThreshold__threshold': 0.088, 'rf__max_depth': None, 'rf__n_estimators': 473, 'rf__bootstrap': True, 'rf__criterion': 'gini', 'RareValuesRemover__threshold': 0.28800000000000003, 'ClassifierProjectionFeature__projection_threshold': 0.194, 'ImputationByMedian__strategy': 'mean', 'rf__max_features': None, 'rf__n_jobs': 4}\n",
      "Iteration 41: score 0.764141554804 with std 0.00625375482635 for params {'VarianceThreshold__threshold': 0.14100000000000001, 'rf__max_depth': None, 'rf__n_estimators': 957, 'rf__bootstrap': True, 'rf__criterion': 'gini', 'RareValuesRemover__threshold': 0.23900000000000002, 'ClassifierProjectionFeature__projection_threshold': 0.136, 'ImputationByMedian__strategy': 'mean', 'rf__max_features': 'sqrt', 'rf__n_jobs': 4}\n",
      "Iteration 42: score 0.763257711989 with std 0.00531261038443 for params {'VarianceThreshold__threshold': 0.171, 'rf__max_depth': None, 'rf__n_estimators': 702, 'rf__bootstrap': True, 'rf__criterion': 'gini', 'RareValuesRemover__threshold': 0.297, 'ClassifierProjectionFeature__projection_threshold': 0.133, 'ImputationByMedian__strategy': 'mean', 'rf__max_features': 'sqrt', 'rf__n_jobs': 4}\n",
      "Iteration 43: score 0.69261376344 with std 0.00323090161886 for params {'VarianceThreshold__threshold': 0.109, 'rf__max_depth': 3, 'rf__n_estimators': 149, 'rf__bootstrap': True, 'rf__criterion': 'gini', 'RareValuesRemover__threshold': 0.243, 'ClassifierProjectionFeature__projection_threshold': 0.14100000000000001, 'ImputationByMedian__strategy': 'mean', 'rf__max_features': 'sqrt', 'rf__n_jobs': 4}\n",
      "Iteration 44: score 0.692697765796 with std 0.00235831796707 for params {'VarianceThreshold__threshold': 0.012, 'rf__max_depth': 7, 'rf__n_estimators': 303, 'rf__bootstrap': True, 'rf__criterion': 'gini', 'RareValuesRemover__threshold': 0.278, 'ClassifierProjectionFeature__projection_threshold': 0.186, 'ImputationByMedian__strategy': 'mean', 'rf__max_features': None, 'rf__n_jobs': 4}\n",
      "Iteration 45: score 0.70917508509 with std 0.00230982735862 for params {'VarianceThreshold__threshold': 0.074, 'rf__max_depth': 5, 'rf__n_estimators': 753, 'rf__bootstrap': True, 'rf__criterion': 'gini', 'RareValuesRemover__threshold': 0.241, 'ClassifierProjectionFeature__projection_threshold': 0.156, 'ImputationByMedian__strategy': 'mean', 'rf__max_features': 'sqrt', 'rf__n_jobs': 4}\n",
      "Iteration 46: score 0.677314975011 with std 0.00447177514323 for params {'VarianceThreshold__threshold': 0.14100000000000001, 'rf__max_depth': 2, 'rf__n_estimators': 792, 'rf__bootstrap': False, 'rf__criterion': 'gini', 'RareValuesRemover__threshold': 0.277, 'ClassifierProjectionFeature__projection_threshold': 0.07, 'ImputationByMedian__strategy': 'mean', 'rf__max_features': 'sqrt', 'rf__n_jobs': 4}\n",
      "Iteration 47: score 0.693876228047 with std 0.00302720441686 for params {'VarianceThreshold__threshold': 0.159, 'rf__max_depth': 6, 'rf__n_estimators': 497, 'rf__bootstrap': True, 'rf__criterion': 'gini', 'RareValuesRemover__threshold': 0.171, 'ClassifierProjectionFeature__projection_threshold': 0.09, 'ImputationByMedian__strategy': 'mean', 'rf__max_features': None, 'rf__n_jobs': 4}\n",
      "Iteration 48: score 0.804755962242 with std 0.00235778630596 for params {'VarianceThreshold__threshold': 0.227, 'rf__max_depth': None, 'rf__n_estimators': 515, 'rf__bootstrap': True, 'rf__criterion': 'gini', 'RareValuesRemover__threshold': 0.14200000000000002, 'ClassifierProjectionFeature__projection_threshold': 0.134, 'ImputationByMedian__strategy': 'mean', 'rf__max_features': 'sqrt', 'rf__n_jobs': 4}\n",
      "Iteration 49: score 0.798737406053 with std 0.00263373750222 for params {'VarianceThreshold__threshold': 0.276, 'rf__max_depth': None, 'rf__n_estimators': 225, 'rf__bootstrap': False, 'rf__criterion': 'gini', 'RareValuesRemover__threshold': 0.093, 'ClassifierProjectionFeature__projection_threshold': 0.15, 'ImputationByMedian__strategy': 'mean', 'rf__max_features': 'sqrt', 'rf__n_jobs': 4}\n",
      "Iteration 50: score 0.71073236401 with std 0.00449465265138 for params {'VarianceThreshold__threshold': 0.265, 'rf__max_depth': 4, 'rf__n_estimators': 515, 'rf__bootstrap': True, 'rf__criterion': 'gini', 'RareValuesRemover__threshold': 0.145, 'ClassifierProjectionFeature__projection_threshold': 0.10300000000000001, 'ImputationByMedian__strategy': 'mean', 'rf__max_features': None, 'rf__n_jobs': 4}\n",
      "Iteration 51: score 0.741856041759 with std 0.00228079458546 for params {'VarianceThreshold__threshold': 0.228, 'rf__max_depth': 7, 'rf__n_estimators': 896, 'rf__bootstrap': False, 'rf__criterion': 'gini', 'RareValuesRemover__threshold': 0.154, 'ClassifierProjectionFeature__projection_threshold': 0.169, 'ImputationByMedian__strategy': 'mean', 'rf__max_features': 'sqrt', 'rf__n_jobs': 4}\n",
      "Iteration 52: score 0.700294633608 with std 0.00125680061924 for params {'VarianceThreshold__threshold': 0.29, 'rf__max_depth': 3, 'rf__n_estimators': 74, 'rf__bootstrap': True, 'rf__criterion': 'gini', 'RareValuesRemover__threshold': 0.095, 'ClassifierProjectionFeature__projection_threshold': 0.123, 'ImputationByMedian__strategy': 'mean', 'rf__max_features': 'sqrt', 'rf__n_jobs': 4}\n",
      "Iteration 53: score 0.716771893133 with std 0.00166280536663 for params {'VarianceThreshold__threshold': 0.198, 'rf__max_depth': 5, 'rf__n_estimators': 349, 'rf__bootstrap': True, 'rf__criterion': 'gini', 'RareValuesRemover__threshold': 0.134, 'ClassifierProjectionFeature__projection_threshold': 0.07, 'ImputationByMedian__strategy': 'mean', 'rf__max_features': 'log2', 'rf__n_jobs': 4}\n",
      "Iteration 54: score 0.67908248794 with std 0.00418100539009 for params {'VarianceThreshold__threshold': 0.267, 'rf__max_depth': 2, 'rf__n_estimators': 517, 'rf__bootstrap': False, 'rf__criterion': 'gini', 'RareValuesRemover__threshold': 0.186, 'ClassifierProjectionFeature__projection_threshold': 0.028, 'ImputationByMedian__strategy': 'mean', 'rf__max_features': None, 'rf__n_jobs': 4}\n",
      "Iteration 55: score 0.803409198532 with std 0.00314177495293 for params {'VarianceThreshold__threshold': 0.23700000000000002, 'rf__max_depth': None, 'rf__n_estimators': 302, 'rf__bootstrap': True, 'rf__criterion': 'entropy', 'RareValuesRemover__threshold': 0.108, 'ClassifierProjectionFeature__projection_threshold': 0.095, 'ImputationByMedian__strategy': 'median', 'rf__max_features': 'sqrt', 'rf__n_jobs': 4}\n",
      "Iteration 56: score 0.731228919616 with std 0.00115441223036 for params {'VarianceThreshold__threshold': 0.219, 'rf__max_depth': 6, 'rf__n_estimators': 196, 'rf__bootstrap': True, 'rf__criterion': 'gini', 'RareValuesRemover__threshold': 0.076, 'ClassifierProjectionFeature__projection_threshold': 0.048, 'ImputationByMedian__strategy': 'mean', 'rf__max_features': 'sqrt', 'rf__n_jobs': 4}\n",
      "Iteration 57: score 0.713699692964 with std 0.00318621424884 for params {'VarianceThreshold__threshold': 0.252, 'rf__max_depth': 4, 'rf__n_estimators': 756, 'rf__bootstrap': False, 'rf__criterion': 'gini', 'RareValuesRemover__threshold': 0.026000000000000002, 'ClassifierProjectionFeature__projection_threshold': 0.061, 'ImputationByMedian__strategy': 'median', 'rf__max_features': 'log2', 'rf__n_jobs': 4}\n",
      "Iteration 58: score 0.804461380452 with std 0.00234116553764 for params {'VarianceThreshold__threshold': 0.197, 'rf__max_depth': None, 'rf__n_estimators': 292, 'rf__bootstrap': True, 'rf__criterion': 'entropy', 'RareValuesRemover__threshold': 0.17400000000000002, 'ClassifierProjectionFeature__projection_threshold': 0.107, 'ImputationByMedian__strategy': 'median', 'rf__max_features': 'sqrt', 'rf__n_jobs': 4}\n",
      "Iteration 59: score 0.736405713889 with std 0.00201241549039 for params {'VarianceThreshold__threshold': 0.17500000000000002, 'rf__max_depth': 7, 'rf__n_estimators': 838, 'rf__bootstrap': True, 'rf__criterion': 'gini', 'RareValuesRemover__threshold': 0.199, 'ClassifierProjectionFeature__projection_threshold': 0.183, 'ImputationByMedian__strategy': 'mean', 'rf__max_features': 'log2', 'rf__n_jobs': 4}\n",
      "Iteration 60: score 0.678913316292 with std 0.0171860759267 for params {'VarianceThreshold__threshold': 0.234, 'rf__max_depth': 3, 'rf__n_estimators': 151, 'rf__bootstrap': False, 'rf__criterion': 'entropy', 'RareValuesRemover__threshold': 0.213, 'ClassifierProjectionFeature__projection_threshold': 0.013000000000000001, 'ImputationByMedian__strategy': 'median', 'rf__max_features': 'sqrt', 'rf__n_jobs': 4}\n",
      "Iteration 61: score 0.719318224859 with std 0.00204791620492 for params {'VarianceThreshold__threshold': 0.28800000000000003, 'rf__max_depth': 5, 'rf__n_estimators': 121, 'rf__bootstrap': True, 'rf__criterion': 'gini', 'RareValuesRemover__threshold': 0.053, 'ClassifierProjectionFeature__projection_threshold': 0.171, 'ImputationByMedian__strategy': 'median', 'rf__max_features': None, 'rf__n_jobs': 4}\n",
      "Iteration 62: score 0.684869578153 with std 0.00297296965731 for params {'VarianceThreshold__threshold': 0.244, 'rf__max_depth': 2, 'rf__n_estimators': 386, 'rf__bootstrap': True, 'rf__criterion': 'gini', 'RareValuesRemover__threshold': 0.251, 'ClassifierProjectionFeature__projection_threshold': 0.11900000000000001, 'ImputationByMedian__strategy': 'mean', 'rf__max_features': 'sqrt', 'rf__n_jobs': 4}\n",
      "Iteration 63: score 0.805576709174 with std 0.00298841762049 for params {'VarianceThreshold__threshold': 0.26, 'rf__max_depth': None, 'rf__n_estimators': 695, 'rf__bootstrap': True, 'rf__criterion': 'entropy', 'RareValuesRemover__threshold': 0.165, 'ClassifierProjectionFeature__projection_threshold': 0.055, 'ImputationByMedian__strategy': 'median', 'rf__max_features': 'sqrt', 'rf__n_jobs': 4}\n",
      "Iteration 64: score 0.725315642076 with std 0.00273106229268 for params {'VarianceThreshold__threshold': 0.20800000000000002, 'rf__max_depth': 6, 'rf__n_estimators': 557, 'rf__bootstrap': False, 'rf__criterion': 'entropy', 'RareValuesRemover__threshold': 0.138, 'ClassifierProjectionFeature__projection_threshold': 0.055, 'ImputationByMedian__strategy': 'median', 'rf__max_features': 'log2', 'rf__n_jobs': 4}\n",
      "Iteration 65: score 0.80534525205 with std 0.00286163030264 for params {'VarianceThreshold__threshold': 0.258, 'rf__max_depth': None, 'rf__n_estimators': 207, 'rf__bootstrap': True, 'rf__criterion': 'entropy', 'RareValuesRemover__threshold': 0.161, 'ClassifierProjectionFeature__projection_threshold': 0.046, 'ImputationByMedian__strategy': 'median', 'rf__max_features': 'sqrt', 'rf__n_jobs': 4}\n",
      "Iteration 66: score 0.806186940897 with std 0.00247981459591 for params {'VarianceThreshold__threshold': 0.261, 'rf__max_depth': None, 'rf__n_estimators': 565, 'rf__bootstrap': True, 'rf__criterion': 'entropy', 'RareValuesRemover__threshold': 0.158, 'ClassifierProjectionFeature__projection_threshold': 0.069, 'ImputationByMedian__strategy': 'median', 'rf__max_features': 'sqrt', 'rf__n_jobs': 4}\n",
      "Iteration 67: score 0.805555632188 with std 0.00267692784738 for params {'VarianceThreshold__threshold': 0.257, 'rf__max_depth': None, 'rf__n_estimators': 565, 'rf__bootstrap': True, 'rf__criterion': 'entropy', 'RareValuesRemover__threshold': 0.12, 'ClassifierProjectionFeature__projection_threshold': 0.07200000000000001, 'ImputationByMedian__strategy': 'median', 'rf__max_features': 'sqrt', 'rf__n_jobs': 4}\n",
      "Iteration 68: score 0.80418778928 with std 0.00208637781048 for params {'VarianceThreshold__threshold': 0.219, 'rf__max_depth': None, 'rf__n_estimators': 98, 'rf__bootstrap': True, 'rf__criterion': 'entropy', 'RareValuesRemover__threshold': 0.12, 'ClassifierProjectionFeature__projection_threshold': 0.069, 'ImputationByMedian__strategy': 'median', 'rf__max_features': 'sqrt', 'rf__n_jobs': 4}\n",
      "Iteration 69: score 0.805892361309 with std 0.00219098736882 for params {'VarianceThreshold__threshold': 0.297, 'rf__max_depth': None, 'rf__n_estimators': 621, 'rf__bootstrap': True, 'rf__criterion': 'entropy', 'RareValuesRemover__threshold': 0.101, 'ClassifierProjectionFeature__projection_threshold': 0.075, 'ImputationByMedian__strategy': 'median', 'rf__max_features': 'sqrt', 'rf__n_jobs': 4}\n",
      "Iteration 70: score 0.805787144667 with std 0.00381803930698 for params {'VarianceThreshold__threshold': 0.3, 'rf__max_depth': None, 'rf__n_estimators': 460, 'rf__bootstrap': True, 'rf__criterion': 'entropy', 'RareValuesRemover__threshold': 0.107, 'ClassifierProjectionFeature__projection_threshold': 0.084, 'ImputationByMedian__strategy': 'median', 'rf__max_features': 'sqrt', 'rf__n_jobs': 4}\n",
      "Iteration 71: score 0.71048004248 with std 0.00410803925661 for params {'VarianceThreshold__threshold': 0.297, 'rf__max_depth': 4, 'rf__n_estimators': 315, 'rf__bootstrap': True, 'rf__criterion': 'entropy', 'RareValuesRemover__threshold': 0.083, 'ClassifierProjectionFeature__projection_threshold': 0.085, 'ImputationByMedian__strategy': 'median', 'rf__max_features': 'sqrt', 'rf__n_jobs': 4}\n",
      "Iteration 72: score 0.805787195596 with std 0.00324533626536 for params {'VarianceThreshold__threshold': 0.28200000000000003, 'rf__max_depth': None, 'rf__n_estimators': 621, 'rf__bootstrap': True, 'rf__criterion': 'entropy', 'RareValuesRemover__threshold': 0.105, 'ClassifierProjectionFeature__projection_threshold': 0.078, 'ImputationByMedian__strategy': 'median', 'rf__max_features': 'sqrt', 'rf__n_jobs': 4}\n",
      "Iteration 73: score 0.748884752098 with std 0.00204078964772 for params {'VarianceThreshold__threshold': 0.28800000000000003, 'rf__max_depth': 8, 'rf__n_estimators': 994, 'rf__bootstrap': True, 'rf__criterion': 'entropy', 'RareValuesRemover__threshold': 0.057, 'ClassifierProjectionFeature__projection_threshold': 0.076, 'ImputationByMedian__strategy': 'median', 'rf__max_features': 'sqrt', 'rf__n_jobs': 4}\n",
      "Iteration 74: score 0.805429453699 with std 0.00302405768173 for params {'VarianceThreshold__threshold': 0.27, 'rf__max_depth': None, 'rf__n_estimators': 291, 'rf__bootstrap': True, 'rf__criterion': 'entropy', 'RareValuesRemover__threshold': 0.068, 'ClassifierProjectionFeature__projection_threshold': 0.062, 'ImputationByMedian__strategy': 'median', 'rf__max_features': 'sqrt', 'rf__n_jobs': 4}\n",
      "Iteration 75: score 0.740361960571 with std 0.000896848630726 for params {'VarianceThreshold__threshold': 0.281, 'rf__max_depth': 7, 'rf__n_estimators': 125, 'rf__bootstrap': True, 'rf__criterion': 'entropy', 'RareValuesRemover__threshold': 0.128, 'ClassifierProjectionFeature__projection_threshold': 0.04, 'ImputationByMedian__strategy': 'median', 'rf__max_features': 'sqrt', 'rf__n_jobs': 4}\n",
      "Iteration 76: score 0.696738393499 with std 0.00390250369695 for params {'VarianceThreshold__threshold': 0.059000000000000004, 'rf__max_depth': 3, 'rf__n_estimators': 244, 'rf__bootstrap': True, 'rf__criterion': 'entropy', 'RareValuesRemover__threshold': 0.152, 'ClassifierProjectionFeature__projection_threshold': 0.028, 'ImputationByMedian__strategy': 'median', 'rf__max_features': 'sqrt', 'rf__n_jobs': 4}\n",
      "Iteration 77: score 0.799642421071 with std 0.00377174344597 for params {'VarianceThreshold__threshold': 0.293, 'rf__max_depth': None, 'rf__n_estimators': 621, 'rf__bootstrap': True, 'rf__criterion': 'entropy', 'RareValuesRemover__threshold': 0.10200000000000001, 'ClassifierProjectionFeature__projection_threshold': 0.097, 'ImputationByMedian__strategy': 'median', 'rf__max_features': None, 'rf__n_jobs': 4}\n",
      "Iteration 78: score 0.716266966619 with std 0.00235448356156 for params {'VarianceThreshold__threshold': 0.244, 'rf__max_depth': 5, 'rf__n_estimators': 621, 'rf__bootstrap': True, 'rf__criterion': 'entropy', 'RareValuesRemover__threshold': 0.039, 'ClassifierProjectionFeature__projection_threshold': 0.092, 'ImputationByMedian__strategy': 'median', 'rf__max_features': 'log2', 'rf__n_jobs': 4}\n",
      "Iteration 79: score 0.682028691191 with std 0.00302886960041 for params {'VarianceThreshold__threshold': 0.186, 'rf__max_depth': 2, 'rf__n_estimators': 324, 'rf__bootstrap': True, 'rf__criterion': 'entropy', 'RareValuesRemover__threshold': 0.085, 'ClassifierProjectionFeature__projection_threshold': 0.107, 'ImputationByMedian__strategy': 'median', 'rf__max_features': 'sqrt', 'rf__n_jobs': 4}\n",
      "Iteration 80: score 0.806418466659 with std 0.00270563511123 for params {'VarianceThreshold__threshold': 0.276, 'rf__max_depth': None, 'rf__n_estimators': 329, 'rf__bootstrap': True, 'rf__criterion': 'entropy', 'RareValuesRemover__threshold': 0.018000000000000002, 'ClassifierProjectionFeature__projection_threshold': 0.078, 'ImputationByMedian__strategy': 'median', 'rf__max_features': 'sqrt', 'rf__n_jobs': 4}\n",
      "Iteration 81: score 0.729229801214 with std 0.00212337277936 for params {'VarianceThreshold__threshold': 0.20500000000000002, 'rf__max_depth': 6, 'rf__n_estimators': 158, 'rf__bootstrap': True, 'rf__criterion': 'entropy', 'RareValuesRemover__threshold': 0.023, 'ClassifierProjectionFeature__projection_threshold': 0.05, 'ImputationByMedian__strategy': 'median', 'rf__max_features': 'sqrt', 'rf__n_jobs': 4}\n",
      "Iteration 82: score 0.749516056375 with std 0.00158246259109 for params {'VarianceThreshold__threshold': 0.274, 'rf__max_depth': 8, 'rf__n_estimators': 366, 'rf__bootstrap': False, 'rf__criterion': 'entropy', 'RareValuesRemover__threshold': 0.024, 'ClassifierProjectionFeature__projection_threshold': 0.066, 'ImputationByMedian__strategy': 'median', 'rf__max_features': 'sqrt', 'rf__n_jobs': 4}\n",
      "Iteration 83: score 0.706523485802 with std 0.00234171304257 for params {'VarianceThreshold__threshold': 0.252, 'rf__max_depth': 4, 'rf__n_estimators': 923, 'rf__bootstrap': True, 'rf__criterion': 'entropy', 'RareValuesRemover__threshold': 0.016, 'ClassifierProjectionFeature__projection_threshold': 0.129, 'ImputationByMedian__strategy': 'median', 'rf__max_features': None, 'rf__n_jobs': 4}\n",
      "Iteration 84: score 0.737100242467 with std 0.0044718417408 for params {'VarianceThreshold__threshold': 0.12, 'rf__max_depth': None, 'rf__n_estimators': 528, 'rf__bootstrap': True, 'rf__criterion': 'entropy', 'RareValuesRemover__threshold': 0.047, 'ClassifierProjectionFeature__projection_threshold': 0.101, 'ImputationByMedian__strategy': 'median', 'rf__max_features': 'sqrt', 'rf__n_jobs': 4}\n",
      "Iteration 85: score 0.803093451188 with std 0.00163827097566 for params {'VarianceThreshold__threshold': 0.192, 'rf__max_depth': None, 'rf__n_estimators': 157, 'rf__bootstrap': True, 'rf__criterion': 'entropy', 'RareValuesRemover__threshold': 0.061, 'ClassifierProjectionFeature__projection_threshold': 0.03, 'ImputationByMedian__strategy': 'median', 'rf__max_features': 'log2', 'rf__n_jobs': 4}\n",
      "Iteration 86: score 0.713404849885 with std 0.00111850025369 for params {'VarianceThreshold__threshold': 0.149, 'rf__max_depth': 7, 'rf__n_estimators': 457, 'rf__bootstrap': True, 'rf__criterion': 'entropy', 'RareValuesRemover__threshold': 0.073, 'ClassifierProjectionFeature__projection_threshold': 0.02, 'ImputationByMedian__strategy': 'median', 'rf__max_features': 'sqrt', 'rf__n_jobs': 4}\n",
      "Iteration 87: score 0.687521148662 with std 0.00277455326729 for params {'VarianceThreshold__threshold': 0.16, 'rf__max_depth': 3, 'rf__n_estimators': 211, 'rf__bootstrap': False, 'rf__criterion': 'entropy', 'RareValuesRemover__threshold': 0.035, 'ClassifierProjectionFeature__projection_threshold': 0.088, 'ImputationByMedian__strategy': 'median', 'rf__max_features': 'sqrt', 'rf__n_jobs': 4}\n",
      "Iteration 88: score 0.800315817323 with std 0.00353387239454 for params {'VarianceThreshold__threshold': 0.223, 'rf__max_depth': None, 'rf__n_estimators': 509, 'rf__bootstrap': True, 'rf__criterion': 'entropy', 'RareValuesRemover__threshold': 0.181, 'ClassifierProjectionFeature__projection_threshold': 0.11, 'ImputationByMedian__strategy': 'median', 'rf__max_features': None, 'rf__n_jobs': 4}\n",
      "Iteration 89: score 0.717298033909 with std 0.00178872219756 for params {'VarianceThreshold__threshold': 0.216, 'rf__max_depth': 5, 'rf__n_estimators': 423, 'rf__bootstrap': True, 'rf__criterion': 'entropy', 'RareValuesRemover__threshold': 0.129, 'ClassifierProjectionFeature__projection_threshold': 0.074, 'ImputationByMedian__strategy': 'median', 'rf__max_features': 'sqrt', 'rf__n_jobs': 4}\n",
      "Iteration 90: score 0.745265185814 with std 0.00223895155688 for params {'VarianceThreshold__threshold': 0.23900000000000002, 'rf__max_depth': 9, 'rf__n_estimators': 598, 'rf__bootstrap': True, 'rf__criterion': 'entropy', 'RareValuesRemover__threshold': 0.194, 'ClassifierProjectionFeature__projection_threshold': 0.005, 'ImputationByMedian__strategy': 'median', 'rf__max_features': 'sqrt', 'rf__n_jobs': 4}\n",
      "Iteration 91: score 0.684238112233 with std 0.00198157411134 for params {'VarianceThreshold__threshold': 0.28, 'rf__max_depth': 2, 'rf__n_estimators': 289, 'rf__bootstrap': False, 'rf__criterion': 'entropy', 'RareValuesRemover__threshold': 0.005, 'ClassifierProjectionFeature__projection_threshold': 0.061, 'ImputationByMedian__strategy': 'median', 'rf__max_features': 'log2', 'rf__n_jobs': 4}\n",
      "Iteration 92: score 0.801557333392 with std 0.00239618669821 for params {'VarianceThreshold__threshold': 0.178, 'rf__max_depth': None, 'rf__n_estimators': 143, 'rf__bootstrap': True, 'rf__criterion': 'entropy', 'RareValuesRemover__threshold': 0.085, 'ClassifierProjectionFeature__projection_threshold': 0.051000000000000004, 'ImputationByMedian__strategy': 'median', 'rf__max_features': 'sqrt', 'rf__n_jobs': 4}\n",
      "Iteration 93: score 0.742466288967 with std 0.00204171300313 for params {'VarianceThreshold__threshold': 0.025, 'rf__max_depth': 8, 'rf__n_estimators': 452, 'rf__bootstrap': True, 'rf__criterion': 'entropy', 'RareValuesRemover__threshold': 0.1, 'ClassifierProjectionFeature__projection_threshold': 0.042, 'ImputationByMedian__strategy': 'median', 'rf__max_features': 'sqrt', 'rf__n_jobs': 4}\n",
      "Iteration 94: score 0.726809774176 with std 0.00214328395978 for params {'VarianceThreshold__threshold': 0.266, 'rf__max_depth': 6, 'rf__n_estimators': 164, 'rf__bootstrap': True, 'rf__criterion': 'entropy', 'RareValuesRemover__threshold': 0.223, 'ClassifierProjectionFeature__projection_threshold': 0.035, 'ImputationByMedian__strategy': 'median', 'rf__max_features': None, 'rf__n_jobs': 4}\n",
      "Iteration 95: score 0.710858797146 with std 0.00336667902621 for params {'VarianceThreshold__threshold': 0.299, 'rf__max_depth': 4, 'rf__n_estimators': 722, 'rf__bootstrap': True, 'rf__criterion': 'entropy', 'RareValuesRemover__threshold': 0.112, 'ClassifierProjectionFeature__projection_threshold': 0.116, 'ImputationByMedian__strategy': 'median', 'rf__max_features': 'sqrt', 'rf__n_jobs': 4}\n",
      "Iteration 96: score 0.797685239643 with std 0.00215260797612 for params {'VarianceThreshold__threshold': 0.23, 'rf__max_depth': None, 'rf__n_estimators': 812, 'rf__bootstrap': False, 'rf__criterion': 'entropy', 'RareValuesRemover__threshold': 0.114, 'ClassifierProjectionFeature__projection_threshold': 0.059000000000000004, 'ImputationByMedian__strategy': 'median', 'rf__max_features': 'log2', 'rf__n_jobs': 4}\n",
      "Iteration 97: score 0.803030426153 with std 0.00265018581753 for params {'VarianceThreshold__threshold': 0.248, 'rf__max_depth': None, 'rf__n_estimators': 50, 'rf__bootstrap': True, 'rf__criterion': 'entropy', 'RareValuesRemover__threshold': 0.215, 'ClassifierProjectionFeature__projection_threshold': 0.082, 'ImputationByMedian__strategy': 'median', 'rf__max_features': 'sqrt', 'rf__n_jobs': 4}\n",
      "Iteration 98: score 0.756607805037 with std 0.00205730306361 for params {'VarianceThreshold__threshold': 0.263, 'rf__max_depth': 9, 'rf__n_estimators': 384, 'rf__bootstrap': True, 'rf__criterion': 'entropy', 'RareValuesRemover__threshold': 0.203, 'ClassifierProjectionFeature__projection_threshold': 0.067, 'ImputationByMedian__strategy': 'median', 'rf__max_features': 'sqrt', 'rf__n_jobs': 4}\n",
      "Iteration 99: score 0.739772763767 with std 0.00145655881811 for params {'VarianceThreshold__threshold': 0.293, 'rf__max_depth': 7, 'rf__n_estimators': 172, 'rf__bootstrap': True, 'rf__criterion': 'entropy', 'RareValuesRemover__threshold': 0.232, 'ClassifierProjectionFeature__projection_threshold': 0.12, 'ImputationByMedian__strategy': 'median', 'rf__max_features': 'sqrt', 'rf__n_jobs': 4}\n"
     ]
    }
   ],
   "source": [
    "space_pipeline = {\n",
    "    \"ClassifierProjectionFeature__projection_threshold\": hp.quniform(\n",
    "        'ClassifierProjectionFeature__projection_threshold', 0, 0.2, 0.001),\n",
    "    \"ImputationByMedian__strategy\": hp.choice(\n",
    "        'ImputationByMedian__strategy', [\"mean\", \"median\"]),\n",
    "    \"RareValuesRemover__threshold\": hp.quniform(\n",
    "        'RareValuesRemover__threshold', 0.001, 0.3, 0.001),\n",
    "    \"VarianceThreshold__threshold\": hp.quniform(\n",
    "        'VarianceThreshold__threshold', 0.001, 0.3, 0.001)}\n",
    "\n",
    "tuner = parameter_tuning.ParameterTuner(df_train, y_train_num)\n",
    "best, trials = tuner.tune_pipeline_parameters(model_pipeline, space_pipeline, max_evals=100)"
   ]
  },
  {
   "cell_type": "code",
   "execution_count": 79,
   "metadata": {
    "collapsed": false
   },
   "outputs": [
    {
     "data": {
      "text/plain": [
       "<matplotlib.axes._subplots.AxesSubplot at 0x7f080b83ced0>"
      ]
     },
     "execution_count": 79,
     "metadata": {},
     "output_type": "execute_result"
    },
    {
     "data": {
      "image/png": "[encoded data removed]",
      "text/plain": [
       "<matplotlib.figure.Figure at 0x7f080ae7d790>"
      ]
     },
     "metadata": {},
     "output_type": "display_data"
    }
   ],
   "source": [
    "pd.Series(map(lambda x: x[\"eval_time\"], trials.results)).plot()"
   ]
  },
  {
   "cell_type": "code",
   "execution_count": 74,
   "metadata": {
    "collapsed": false
   },
   "outputs": [
    {
     "data": {
      "text/plain": [
       "<matplotlib.axes._subplots.AxesSubplot at 0x7f080b1837d0>"
      ]
     },
     "execution_count": 74,
     "metadata": {},
     "output_type": "execute_result"
    },
    {
     "data": {
      "image/png": "[encoded data removed]",
      "text/plain": [
       "<matplotlib.figure.Figure at 0x7f080b183710>"
      ]
     },
     "metadata": {},
     "output_type": "display_data"
    }
   ],
   "source": [
    "pd.Series(trials.losses()).plot()"
   ]
  },
  {
   "cell_type": "code",
   "execution_count": 70,
   "metadata": {
    "collapsed": false
   },
   "outputs": [
    {
     "data": {
      "text/plain": [
       "{'ClassifierProjectionFeature__projection_threshold': 0.078,\n",
       " 'ImputationByMedian__strategy': 'median',\n",
       " 'RareValuesRemover__threshold': 0.018000000000000002,\n",
       " 'VarianceThreshold__threshold': 0.276,\n",
       " 'rf__bootstrap': True,\n",
       " 'rf__criterion': 'entropy',\n",
       " 'rf__max_depth': None,\n",
       " 'rf__max_features': 'sqrt',\n",
       " 'rf__n_estimators': 329,\n",
       " 'rf__n_jobs': 4}"
      ]
     },
     "execution_count": 70,
     "metadata": {},
     "output_type": "execute_result"
    }
   ],
   "source": [
    "best"
   ]
  },
  {
   "cell_type": "code",
   "execution_count": 26,
   "metadata": {
    "collapsed": false,
    "scrolled": false
   },
   "outputs": [
    {
     "data": {
      "text/plain": [
       "{'ClassifierProjectionFeature__projection_threshold': 0.019,\n",
       " 'ImputationByMedian__strategy': 'mean',\n",
       " 'RareValuesRemover__threshold': 0.20500000000000002,\n",
       " 'VarianceThreshold__threshold': 0.245,\n",
       " 'rf__bootstrap': True,\n",
       " 'rf__criterion': 'gini',\n",
       " 'rf__max_depth': None,\n",
       " 'rf__max_features': 'log2',\n",
       " 'rf__n_estimators': 957,\n",
       " 'rf__n_jobs': 4}"
      ]
     },
     "execution_count": 26,
     "metadata": {},
     "output_type": "execute_result"
    }
   ],
   "source": [
    "best"
   ]
  },
  {
   "cell_type": "code",
   "execution_count": 24,
   "metadata": {
    "collapsed": false,
    "scrolled": false
   },
   "outputs": [
    {
     "data": {
      "text/plain": [
       "{'ClassifierProjectionFeature__projection_threshold': 0.10300000000000001,\n",
       " 'ImputationByMedian__strategy': 'mean',\n",
       " 'RareValuesRemover__threshold': 0.048,\n",
       " 'VarianceThreshold__threshold': 0.29,\n",
       " 'rf__bootstrap': True,\n",
       " 'rf__criterion': 'entropy',\n",
       " 'rf__max_depth': None,\n",
       " 'rf__max_features': 'log2',\n",
       " 'rf__n_estimators': 877,\n",
       " 'rf__n_jobs': 4}"
      ]
     },
     "execution_count": 24,
     "metadata": {},
     "output_type": "execute_result"
    }
   ],
   "source": [
    "best"
   ]
  },
  {
   "cell_type": "code",
   "execution_count": 24,
   "metadata": {
    "collapsed": false,
    "scrolled": false
   },
   "outputs": [
    {
     "data": {
      "text/plain": [
       "{'ClassifierProjectionFeature__projection_threshold': 0.10300000000000001,\n",
       " 'ImputationByMedian__strategy': 'mean',\n",
       " 'RareValuesRemover__threshold': 0.048,\n",
       " 'VarianceThreshold__threshold': 0.29,\n",
       " 'rf__bootstrap': True,\n",
       " 'rf__criterion': 'entropy',\n",
       " 'rf__max_depth': None,\n",
       " 'rf__max_features': 'log2',\n",
       " 'rf__n_estimators': 877,\n",
       " 'rf__n_jobs': 4}"
      ]
     },
     "execution_count": 24,
     "metadata": {},
     "output_type": "execute_result"
    }
   ],
   "source": [
    "best"
   ]
  },
  {
   "cell_type": "code",
   "execution_count": 57,
   "metadata": {
    "collapsed": false,
    "scrolled": true
   },
   "outputs": [
    {
     "data": {
      "text/plain": [
       "{'ClassifierProjectionFeature__projection_threshold': 0.122,\n",
       " 'ImputationByMedian__strategy': 'median',\n",
       " 'RareValuesRemover__threshold': 0.013000000000000001,\n",
       " 'VarianceThreshold__threshold': 0.275,\n",
       " 'rf__bootstrap': True,\n",
       " 'rf__criterion': 'gini',\n",
       " 'rf__max_depth': None,\n",
       " 'rf__max_features': 'sqrt',\n",
       " 'rf__n_estimators': 269,\n",
       " 'rf__n_jobs': 4}"
      ]
     },
     "execution_count": 57,
     "metadata": {},
     "output_type": "execute_result"
    }
   ],
   "source": [
    "best"
   ]
  },
  {
   "cell_type": "code",
   "execution_count": 92,
   "metadata": {
    "collapsed": false
   },
   "outputs": [],
   "source": [
    "model_pipeline.set_params(**{'ClassifierProjectionFeature__projection_threshold': 0.078,\n",
    " 'ImputationByMedian__strategy': 'median',\n",
    " 'RareValuesRemover__threshold': 0.018,\n",
    " 'VarianceThreshold__threshold': 0.276,})\n",
    "x_train = model_pipeline.fit_transform(df_train, y_train.status_group)\n",
    "x_test = model_pipeline.fit_transform(df_test, y_test.status_group)"
   ]
  },
  {
   "cell_type": "code",
   "execution_count": null,
   "metadata": {
    "collapsed": true
   },
   "outputs": [],
   "source": [
    "tuner.x_train = x_train\n",
    "tuner.y_train = y_train_num"
   ]
  },
  {
   "cell_type": "code",
   "execution_count": null,
   "metadata": {
    "collapsed": false
   },
   "outputs": [],
   "source": [
    "space_gbm = {\n",
    "      \"max_depth\": hp.choice(\"max_depth\", range(2, 8, 1) + [None]),\n",
    "      #\"loss\": [\"ls\", \"lad\", \"huber\", \"quantile\"],\n",
    "      \"max_features\": hp.choice(\"max_features\", [\"auto\", \"sqrt\", \"log2\", None]),\n",
    "      \"min_samples_split\": hp.choice(\"min_samples_split\", range(1, 11)),\n",
    "      \"min_samples_leaf\": hp.choice(\"min_samples_leaf\", range(1, 11)),\n",
    "      \"n_estimators\": hp.choice(\"n_estimators\", range(50, 500, 5))}\n",
    "\n",
    "tuner.tune_model_parameters(GradientBoostingClassifier(), space=space_gbm, \n",
    "                            cv=5, max_evals=50)"
   ]
  },
  {
   "cell_type": "code",
   "execution_count": 48,
   "metadata": {
    "collapsed": false
   },
   "outputs": [],
   "source": [
    "from sklearn.preprocessing import LabelEncoder\n",
    "y_train_num = LabelEncoder().fit_transform(y_train.status_group)"
   ]
  },
  {
   "cell_type": "code",
   "execution_count": 87,
   "metadata": {
    "collapsed": false
   },
   "outputs": [
    {
     "ename": "AttributeError",
     "evalue": "'function' object has no attribute 'current_iteration'",
     "output_type": "error",
     "traceback": [
      "\u001b[0;31m---------------------------------------------------------------------------\u001b[0m",
      "\u001b[0;31mAttributeError\u001b[0m                            Traceback (most recent call last)",
      "\u001b[0;32m<ipython-input-87-9d23e35d005b>\u001b[0m in \u001b[0;36m<module>\u001b[0;34m()\u001b[0m\n\u001b[1;32m      5\u001b[0m \u001b[0ms\u001b[0m \u001b[0;34m=\u001b[0m \u001b[0mestimator\u001b[0m\u001b[0;34m.\u001b[0m\u001b[0mscore\u001b[0m\u001b[0;34m(\u001b[0m\u001b[0mx_train\u001b[0m\u001b[0;34m,\u001b[0m \u001b[0my_train_num\u001b[0m\u001b[0;34m)\u001b[0m\u001b[0;34m\u001b[0m\u001b[0m\n\u001b[1;32m      6\u001b[0m \u001b[0mscores\u001b[0m \u001b[0;34m=\u001b[0m \u001b[0mcross_val_score\u001b[0m\u001b[0;34m(\u001b[0m\u001b[0mestimator\u001b[0m\u001b[0;34m,\u001b[0m \u001b[0mx_train\u001b[0m\u001b[0;34m,\u001b[0m \u001b[0my_train_num\u001b[0m\u001b[0;34m,\u001b[0m \u001b[0mcv\u001b[0m\u001b[0;34m=\u001b[0m\u001b[0;36m3\u001b[0m\u001b[0;34m)\u001b[0m\u001b[0;34m\u001b[0m\u001b[0m\n\u001b[0;32m----> 7\u001b[0;31m print \"Iteration %s: score %s with std %s for params %s\" % (objective.current_iteration,\n\u001b[0m\u001b[1;32m      8\u001b[0m                                                             \u001b[0mscores\u001b[0m\u001b[0;34m.\u001b[0m\u001b[0mmean\u001b[0m\u001b[0;34m(\u001b[0m\u001b[0;34m)\u001b[0m\u001b[0;34m,\u001b[0m\u001b[0;34m\u001b[0m\u001b[0m\n\u001b[1;32m      9\u001b[0m                                                             \u001b[0mscores\u001b[0m\u001b[0;34m.\u001b[0m\u001b[0mstd\u001b[0m\u001b[0;34m(\u001b[0m\u001b[0;34m)\u001b[0m\u001b[0;34m,\u001b[0m\u001b[0;34m\u001b[0m\u001b[0m\n",
      "\u001b[0;31mAttributeError\u001b[0m: 'function' object has no attribute 'current_iteration'"
     ]
    }
   ],
   "source": [
    "space = {\"C\": 3}\n",
    "svc = SVC()\n",
    "estimator = svc.set_params(**space)\n",
    "estimator.fit(x_train, y_train_num)\n",
    "s = estimator.score(x_train, y_train_num)\n",
    "scores = cross_val_score(estimator, x_train, y_train_num, cv=3)\n",
    "print \"Iteration %s: score %s with std %s for params %s\" % (objective.current_iteration,\n",
    "                                                            scores.mean(), \n",
    "                                                            scores.std(), \n",
    "                                                           str(space))"
   ]
  },
  {
   "cell_type": "code",
   "execution_count": 49,
   "metadata": {
    "collapsed": false
   },
   "outputs": [
    {
     "ename": "ValueError",
     "evalue": "could not convert string to float: communal standpipe",
     "output_type": "error",
     "traceback": [
      "\u001b[0;31m---------------------------------------------------------------------------\u001b[0m",
      "\u001b[0;31mValueError\u001b[0m                                Traceback (most recent call last)",
      "\u001b[0;32m<ipython-input-49-6e326131497b>\u001b[0m in \u001b[0;36m<module>\u001b[0;34m()\u001b[0m\n\u001b[1;32m     16\u001b[0m \u001b[0;34m\u001b[0m\u001b[0m\n\u001b[1;32m     17\u001b[0m best_svc = fmin(fn=objective_svc, space=space_svc, \n\u001b[0;32m---> 18\u001b[0;31m             algo=tpe.suggest, max_evals=2)\n\u001b[0m\u001b[1;32m     19\u001b[0m \u001b[0;34m\u001b[0m\u001b[0m\n\u001b[1;32m     20\u001b[0m \u001b[0;31m#tuner.tune_model_parameters(SVC(), space=space_svc, cv=5, max_evals=15)\u001b[0m\u001b[0;34m\u001b[0m\u001b[0;34m\u001b[0m\u001b[0m\n",
      "\u001b[0;32m/home/vlandeau/anaconda/lib/python2.7/site-packages/hyperopt-0.1-py2.7.egg/hyperopt/fmin.pyc\u001b[0m in \u001b[0;36mfmin\u001b[0;34m(fn, space, algo, max_evals, trials, rstate, allow_trials_fmin, pass_expr_memo_ctrl, catch_eval_exceptions, verbose, return_argmin)\u001b[0m\n\u001b[1;32m    318\u001b[0m                     verbose=verbose)\n\u001b[1;32m    319\u001b[0m     \u001b[0mrval\u001b[0m\u001b[0;34m.\u001b[0m\u001b[0mcatch_eval_exceptions\u001b[0m \u001b[0;34m=\u001b[0m \u001b[0mcatch_eval_exceptions\u001b[0m\u001b[0;34m\u001b[0m\u001b[0m\n\u001b[0;32m--> 320\u001b[0;31m     \u001b[0mrval\u001b[0m\u001b[0;34m.\u001b[0m\u001b[0mexhaust\u001b[0m\u001b[0;34m(\u001b[0m\u001b[0;34m)\u001b[0m\u001b[0;34m\u001b[0m\u001b[0m\n\u001b[0m\u001b[1;32m    321\u001b[0m     \u001b[0;32mif\u001b[0m \u001b[0mreturn_argmin\u001b[0m\u001b[0;34m:\u001b[0m\u001b[0;34m\u001b[0m\u001b[0m\n\u001b[1;32m    322\u001b[0m         \u001b[0;32mreturn\u001b[0m \u001b[0mtrials\u001b[0m\u001b[0;34m.\u001b[0m\u001b[0margmin\u001b[0m\u001b[0;34m\u001b[0m\u001b[0m\n",
      "\u001b[0;32m/home/vlandeau/anaconda/lib/python2.7/site-packages/hyperopt-0.1-py2.7.egg/hyperopt/fmin.pyc\u001b[0m in \u001b[0;36mexhaust\u001b[0;34m(self)\u001b[0m\n\u001b[1;32m    197\u001b[0m     \u001b[0;32mdef\u001b[0m \u001b[0mexhaust\u001b[0m\u001b[0;34m(\u001b[0m\u001b[0mself\u001b[0m\u001b[0;34m)\u001b[0m\u001b[0;34m:\u001b[0m\u001b[0;34m\u001b[0m\u001b[0m\n\u001b[1;32m    198\u001b[0m         \u001b[0mn_done\u001b[0m \u001b[0;34m=\u001b[0m \u001b[0mlen\u001b[0m\u001b[0;34m(\u001b[0m\u001b[0mself\u001b[0m\u001b[0;34m.\u001b[0m\u001b[0mtrials\u001b[0m\u001b[0;34m)\u001b[0m\u001b[0;34m\u001b[0m\u001b[0m\n\u001b[0;32m--> 199\u001b[0;31m         \u001b[0mself\u001b[0m\u001b[0;34m.\u001b[0m\u001b[0mrun\u001b[0m\u001b[0;34m(\u001b[0m\u001b[0mself\u001b[0m\u001b[0;34m.\u001b[0m\u001b[0mmax_evals\u001b[0m \u001b[0;34m-\u001b[0m \u001b[0mn_done\u001b[0m\u001b[0;34m,\u001b[0m \u001b[0mblock_until_done\u001b[0m\u001b[0;34m=\u001b[0m\u001b[0mself\u001b[0m\u001b[0;34m.\u001b[0m\u001b[0masync\u001b[0m\u001b[0;34m)\u001b[0m\u001b[0;34m\u001b[0m\u001b[0m\n\u001b[0m\u001b[1;32m    200\u001b[0m         \u001b[0mself\u001b[0m\u001b[0;34m.\u001b[0m\u001b[0mtrials\u001b[0m\u001b[0;34m.\u001b[0m\u001b[0mrefresh\u001b[0m\u001b[0;34m(\u001b[0m\u001b[0;34m)\u001b[0m\u001b[0;34m\u001b[0m\u001b[0m\n\u001b[1;32m    201\u001b[0m         \u001b[0;32mreturn\u001b[0m \u001b[0mself\u001b[0m\u001b[0;34m\u001b[0m\u001b[0m\n",
      "\u001b[0;32m/home/vlandeau/anaconda/lib/python2.7/site-packages/hyperopt-0.1-py2.7.egg/hyperopt/fmin.pyc\u001b[0m in \u001b[0;36mrun\u001b[0;34m(self, N, block_until_done)\u001b[0m\n\u001b[1;32m    171\u001b[0m             \u001b[0;32melse\u001b[0m\u001b[0;34m:\u001b[0m\u001b[0;34m\u001b[0m\u001b[0m\n\u001b[1;32m    172\u001b[0m                 \u001b[0;31m# -- loop over trials and do the jobs directly\u001b[0m\u001b[0;34m\u001b[0m\u001b[0;34m\u001b[0m\u001b[0m\n\u001b[0;32m--> 173\u001b[0;31m                 \u001b[0mself\u001b[0m\u001b[0;34m.\u001b[0m\u001b[0mserial_evaluate\u001b[0m\u001b[0;34m(\u001b[0m\u001b[0;34m)\u001b[0m\u001b[0;34m\u001b[0m\u001b[0m\n\u001b[0m\u001b[1;32m    174\u001b[0m \u001b[0;34m\u001b[0m\u001b[0m\n\u001b[1;32m    175\u001b[0m             \u001b[0;32mif\u001b[0m \u001b[0mstopped\u001b[0m\u001b[0;34m:\u001b[0m\u001b[0;34m\u001b[0m\u001b[0m\n",
      "\u001b[0;32m/home/vlandeau/anaconda/lib/python2.7/site-packages/hyperopt-0.1-py2.7.egg/hyperopt/fmin.pyc\u001b[0m in \u001b[0;36mserial_evaluate\u001b[0;34m(self, N)\u001b[0m\n\u001b[1;32m     90\u001b[0m                 \u001b[0mctrl\u001b[0m \u001b[0;34m=\u001b[0m \u001b[0mbase\u001b[0m\u001b[0;34m.\u001b[0m\u001b[0mCtrl\u001b[0m\u001b[0;34m(\u001b[0m\u001b[0mself\u001b[0m\u001b[0;34m.\u001b[0m\u001b[0mtrials\u001b[0m\u001b[0;34m,\u001b[0m \u001b[0mcurrent_trial\u001b[0m\u001b[0;34m=\u001b[0m\u001b[0mtrial\u001b[0m\u001b[0;34m)\u001b[0m\u001b[0;34m\u001b[0m\u001b[0m\n\u001b[1;32m     91\u001b[0m                 \u001b[0;32mtry\u001b[0m\u001b[0;34m:\u001b[0m\u001b[0;34m\u001b[0m\u001b[0m\n\u001b[0;32m---> 92\u001b[0;31m                     \u001b[0mresult\u001b[0m \u001b[0;34m=\u001b[0m \u001b[0mself\u001b[0m\u001b[0;34m.\u001b[0m\u001b[0mdomain\u001b[0m\u001b[0;34m.\u001b[0m\u001b[0mevaluate\u001b[0m\u001b[0;34m(\u001b[0m\u001b[0mspec\u001b[0m\u001b[0;34m,\u001b[0m \u001b[0mctrl\u001b[0m\u001b[0;34m)\u001b[0m\u001b[0;34m\u001b[0m\u001b[0m\n\u001b[0m\u001b[1;32m     93\u001b[0m                 \u001b[0;32mexcept\u001b[0m \u001b[0mException\u001b[0m \u001b[0;32mas\u001b[0m \u001b[0me\u001b[0m\u001b[0;34m:\u001b[0m\u001b[0;34m\u001b[0m\u001b[0m\n\u001b[1;32m     94\u001b[0m                     \u001b[0mlogger\u001b[0m\u001b[0;34m.\u001b[0m\u001b[0minfo\u001b[0m\u001b[0;34m(\u001b[0m\u001b[0;34m'job exception: %s'\u001b[0m \u001b[0;34m%\u001b[0m \u001b[0mstr\u001b[0m\u001b[0;34m(\u001b[0m\u001b[0me\u001b[0m\u001b[0;34m)\u001b[0m\u001b[0;34m)\u001b[0m\u001b[0;34m\u001b[0m\u001b[0m\n",
      "\u001b[0;32m/home/vlandeau/anaconda/lib/python2.7/site-packages/hyperopt-0.1-py2.7.egg/hyperopt/base.pyc\u001b[0m in \u001b[0;36mevaluate\u001b[0;34m(self, config, ctrl, attach_attachments)\u001b[0m\n\u001b[1;32m    838\u001b[0m                 \u001b[0mmemo\u001b[0m\u001b[0;34m=\u001b[0m\u001b[0mmemo\u001b[0m\u001b[0;34m,\u001b[0m\u001b[0;34m\u001b[0m\u001b[0m\n\u001b[1;32m    839\u001b[0m                 print_node_on_error=self.rec_eval_print_node_on_error)\n\u001b[0;32m--> 840\u001b[0;31m             \u001b[0mrval\u001b[0m \u001b[0;34m=\u001b[0m \u001b[0mself\u001b[0m\u001b[0;34m.\u001b[0m\u001b[0mfn\u001b[0m\u001b[0;34m(\u001b[0m\u001b[0mpyll_rval\u001b[0m\u001b[0;34m)\u001b[0m\u001b[0;34m\u001b[0m\u001b[0m\n\u001b[0m\u001b[1;32m    841\u001b[0m \u001b[0;34m\u001b[0m\u001b[0m\n\u001b[1;32m    842\u001b[0m         \u001b[0;32mif\u001b[0m \u001b[0misinstance\u001b[0m\u001b[0;34m(\u001b[0m\u001b[0mrval\u001b[0m\u001b[0;34m,\u001b[0m \u001b[0;34m(\u001b[0m\u001b[0mfloat\u001b[0m\u001b[0;34m,\u001b[0m \u001b[0mint\u001b[0m\u001b[0;34m,\u001b[0m \u001b[0mnp\u001b[0m\u001b[0;34m.\u001b[0m\u001b[0mnumber\u001b[0m\u001b[0;34m)\u001b[0m\u001b[0;34m)\u001b[0m\u001b[0;34m:\u001b[0m\u001b[0;34m\u001b[0m\u001b[0m\n",
      "\u001b[0;32m<ipython-input-49-6e326131497b>\u001b[0m in \u001b[0;36mobjective_svc\u001b[0;34m(space)\u001b[0m\n\u001b[1;32m      6\u001b[0m \u001b[0;32mdef\u001b[0m \u001b[0mobjective_svc\u001b[0m\u001b[0;34m(\u001b[0m\u001b[0mspace\u001b[0m\u001b[0;34m)\u001b[0m\u001b[0;34m:\u001b[0m\u001b[0;34m\u001b[0m\u001b[0m\n\u001b[1;32m      7\u001b[0m     \u001b[0mestimator\u001b[0m \u001b[0;34m=\u001b[0m \u001b[0msvc\u001b[0m\u001b[0;34m.\u001b[0m\u001b[0mset_params\u001b[0m\u001b[0;34m(\u001b[0m\u001b[0;34m**\u001b[0m\u001b[0mspace\u001b[0m\u001b[0;34m)\u001b[0m\u001b[0;34m\u001b[0m\u001b[0m\n\u001b[0;32m----> 8\u001b[0;31m     \u001b[0mscores\u001b[0m \u001b[0;34m=\u001b[0m \u001b[0mcross_val_score\u001b[0m\u001b[0;34m(\u001b[0m\u001b[0mestimator\u001b[0m\u001b[0;34m,\u001b[0m \u001b[0mx_train\u001b[0m\u001b[0;34m,\u001b[0m \u001b[0my_train_num\u001b[0m\u001b[0;34m,\u001b[0m \u001b[0mcv\u001b[0m\u001b[0;34m=\u001b[0m\u001b[0;36m3\u001b[0m\u001b[0;34m)\u001b[0m\u001b[0;34m\u001b[0m\u001b[0m\n\u001b[0m\u001b[1;32m      9\u001b[0m     print \"Iteration %s: score %s with std %s for params %s\" % (objective.current_iteration,\n\u001b[1;32m     10\u001b[0m                                                                 \u001b[0mscores\u001b[0m\u001b[0;34m.\u001b[0m\u001b[0mmean\u001b[0m\u001b[0;34m(\u001b[0m\u001b[0;34m)\u001b[0m\u001b[0;34m,\u001b[0m\u001b[0;34m\u001b[0m\u001b[0m\n",
      "\u001b[0;32m/home/vlandeau/.local/lib/python2.7/site-packages/sklearn/model_selection/_validation.pyc\u001b[0m in \u001b[0;36mcross_val_score\u001b[0;34m(estimator, X, y, labels, scoring, cv, n_jobs, verbose, fit_params, pre_dispatch)\u001b[0m\n\u001b[1;32m    148\u001b[0m                                               \u001b[0mtrain\u001b[0m\u001b[0;34m,\u001b[0m \u001b[0mtest\u001b[0m\u001b[0;34m,\u001b[0m \u001b[0mverbose\u001b[0m\u001b[0;34m,\u001b[0m \u001b[0mNone\u001b[0m\u001b[0;34m,\u001b[0m\u001b[0;34m\u001b[0m\u001b[0m\n\u001b[1;32m    149\u001b[0m                                               fit_params)\n\u001b[0;32m--> 150\u001b[0;31m                       for train, test in cv.split(X, y, labels))\n\u001b[0m\u001b[1;32m    151\u001b[0m     \u001b[0;32mreturn\u001b[0m \u001b[0mnp\u001b[0m\u001b[0;34m.\u001b[0m\u001b[0marray\u001b[0m\u001b[0;34m(\u001b[0m\u001b[0mscores\u001b[0m\u001b[0;34m)\u001b[0m\u001b[0;34m[\u001b[0m\u001b[0;34m:\u001b[0m\u001b[0;34m,\u001b[0m \u001b[0;36m0\u001b[0m\u001b[0;34m]\u001b[0m\u001b[0;34m\u001b[0m\u001b[0m\n\u001b[1;32m    152\u001b[0m \u001b[0;34m\u001b[0m\u001b[0m\n",
      "\u001b[0;32m/home/vlandeau/.local/lib/python2.7/site-packages/sklearn/externals/joblib/parallel.pyc\u001b[0m in \u001b[0;36m__call__\u001b[0;34m(self, iterable)\u001b[0m\n\u001b[1;32m    798\u001b[0m             \u001b[0;31m# was dispatched. In particular this covers the edge\u001b[0m\u001b[0;34m\u001b[0m\u001b[0;34m\u001b[0m\u001b[0m\n\u001b[1;32m    799\u001b[0m             \u001b[0;31m# case of Parallel used with an exhausted iterator.\u001b[0m\u001b[0;34m\u001b[0m\u001b[0;34m\u001b[0m\u001b[0m\n\u001b[0;32m--> 800\u001b[0;31m             \u001b[0;32mwhile\u001b[0m \u001b[0mself\u001b[0m\u001b[0;34m.\u001b[0m\u001b[0mdispatch_one_batch\u001b[0m\u001b[0;34m(\u001b[0m\u001b[0miterator\u001b[0m\u001b[0;34m)\u001b[0m\u001b[0;34m:\u001b[0m\u001b[0;34m\u001b[0m\u001b[0m\n\u001b[0m\u001b[1;32m    801\u001b[0m                 \u001b[0mself\u001b[0m\u001b[0;34m.\u001b[0m\u001b[0m_iterating\u001b[0m \u001b[0;34m=\u001b[0m \u001b[0mTrue\u001b[0m\u001b[0;34m\u001b[0m\u001b[0m\n\u001b[1;32m    802\u001b[0m             \u001b[0;32melse\u001b[0m\u001b[0;34m:\u001b[0m\u001b[0;34m\u001b[0m\u001b[0m\n",
      "\u001b[0;32m/home/vlandeau/.local/lib/python2.7/site-packages/sklearn/externals/joblib/parallel.pyc\u001b[0m in \u001b[0;36mdispatch_one_batch\u001b[0;34m(self, iterator)\u001b[0m\n\u001b[1;32m    656\u001b[0m                 \u001b[0;32mreturn\u001b[0m \u001b[0mFalse\u001b[0m\u001b[0;34m\u001b[0m\u001b[0m\n\u001b[1;32m    657\u001b[0m             \u001b[0;32melse\u001b[0m\u001b[0;34m:\u001b[0m\u001b[0;34m\u001b[0m\u001b[0m\n\u001b[0;32m--> 658\u001b[0;31m                 \u001b[0mself\u001b[0m\u001b[0;34m.\u001b[0m\u001b[0m_dispatch\u001b[0m\u001b[0;34m(\u001b[0m\u001b[0mtasks\u001b[0m\u001b[0;34m)\u001b[0m\u001b[0;34m\u001b[0m\u001b[0m\n\u001b[0m\u001b[1;32m    659\u001b[0m                 \u001b[0;32mreturn\u001b[0m \u001b[0mTrue\u001b[0m\u001b[0;34m\u001b[0m\u001b[0m\n\u001b[1;32m    660\u001b[0m \u001b[0;34m\u001b[0m\u001b[0m\n",
      "\u001b[0;32m/home/vlandeau/.local/lib/python2.7/site-packages/sklearn/externals/joblib/parallel.pyc\u001b[0m in \u001b[0;36m_dispatch\u001b[0;34m(self, batch)\u001b[0m\n\u001b[1;32m    564\u001b[0m \u001b[0;34m\u001b[0m\u001b[0m\n\u001b[1;32m    565\u001b[0m         \u001b[0;32mif\u001b[0m \u001b[0mself\u001b[0m\u001b[0;34m.\u001b[0m\u001b[0m_pool\u001b[0m \u001b[0;32mis\u001b[0m \u001b[0mNone\u001b[0m\u001b[0;34m:\u001b[0m\u001b[0;34m\u001b[0m\u001b[0m\n\u001b[0;32m--> 566\u001b[0;31m             \u001b[0mjob\u001b[0m \u001b[0;34m=\u001b[0m \u001b[0mImmediateComputeBatch\u001b[0m\u001b[0;34m(\u001b[0m\u001b[0mbatch\u001b[0m\u001b[0;34m)\u001b[0m\u001b[0;34m\u001b[0m\u001b[0m\n\u001b[0m\u001b[1;32m    567\u001b[0m             \u001b[0mself\u001b[0m\u001b[0;34m.\u001b[0m\u001b[0m_jobs\u001b[0m\u001b[0;34m.\u001b[0m\u001b[0mappend\u001b[0m\u001b[0;34m(\u001b[0m\u001b[0mjob\u001b[0m\u001b[0;34m)\u001b[0m\u001b[0;34m\u001b[0m\u001b[0m\n\u001b[1;32m    568\u001b[0m             \u001b[0mself\u001b[0m\u001b[0;34m.\u001b[0m\u001b[0mn_dispatched_batches\u001b[0m \u001b[0;34m+=\u001b[0m \u001b[0;36m1\u001b[0m\u001b[0;34m\u001b[0m\u001b[0m\n",
      "\u001b[0;32m/home/vlandeau/.local/lib/python2.7/site-packages/sklearn/externals/joblib/parallel.pyc\u001b[0m in \u001b[0;36m__init__\u001b[0;34m(self, batch)\u001b[0m\n\u001b[1;32m    178\u001b[0m         \u001b[0;31m# Don't delay the application, to avoid keeping the input\u001b[0m\u001b[0;34m\u001b[0m\u001b[0;34m\u001b[0m\u001b[0m\n\u001b[1;32m    179\u001b[0m         \u001b[0;31m# arguments in memory\u001b[0m\u001b[0;34m\u001b[0m\u001b[0;34m\u001b[0m\u001b[0m\n\u001b[0;32m--> 180\u001b[0;31m         \u001b[0mself\u001b[0m\u001b[0;34m.\u001b[0m\u001b[0mresults\u001b[0m \u001b[0;34m=\u001b[0m \u001b[0mbatch\u001b[0m\u001b[0;34m(\u001b[0m\u001b[0;34m)\u001b[0m\u001b[0;34m\u001b[0m\u001b[0m\n\u001b[0m\u001b[1;32m    181\u001b[0m \u001b[0;34m\u001b[0m\u001b[0m\n\u001b[1;32m    182\u001b[0m     \u001b[0;32mdef\u001b[0m \u001b[0mget\u001b[0m\u001b[0;34m(\u001b[0m\u001b[0mself\u001b[0m\u001b[0;34m)\u001b[0m\u001b[0;34m:\u001b[0m\u001b[0;34m\u001b[0m\u001b[0m\n",
      "\u001b[0;32m/home/vlandeau/.local/lib/python2.7/site-packages/sklearn/externals/joblib/parallel.pyc\u001b[0m in \u001b[0;36m__call__\u001b[0;34m(self)\u001b[0m\n\u001b[1;32m     70\u001b[0m \u001b[0;34m\u001b[0m\u001b[0m\n\u001b[1;32m     71\u001b[0m     \u001b[0;32mdef\u001b[0m \u001b[0m__call__\u001b[0m\u001b[0;34m(\u001b[0m\u001b[0mself\u001b[0m\u001b[0;34m)\u001b[0m\u001b[0;34m:\u001b[0m\u001b[0;34m\u001b[0m\u001b[0m\n\u001b[0;32m---> 72\u001b[0;31m         \u001b[0;32mreturn\u001b[0m \u001b[0;34m[\u001b[0m\u001b[0mfunc\u001b[0m\u001b[0;34m(\u001b[0m\u001b[0;34m*\u001b[0m\u001b[0margs\u001b[0m\u001b[0;34m,\u001b[0m \u001b[0;34m**\u001b[0m\u001b[0mkwargs\u001b[0m\u001b[0;34m)\u001b[0m \u001b[0;32mfor\u001b[0m \u001b[0mfunc\u001b[0m\u001b[0;34m,\u001b[0m \u001b[0margs\u001b[0m\u001b[0;34m,\u001b[0m \u001b[0mkwargs\u001b[0m \u001b[0;32min\u001b[0m \u001b[0mself\u001b[0m\u001b[0;34m.\u001b[0m\u001b[0mitems\u001b[0m\u001b[0;34m]\u001b[0m\u001b[0;34m\u001b[0m\u001b[0m\n\u001b[0m\u001b[1;32m     73\u001b[0m \u001b[0;34m\u001b[0m\u001b[0m\n\u001b[1;32m     74\u001b[0m     \u001b[0;32mdef\u001b[0m \u001b[0m__len__\u001b[0m\u001b[0;34m(\u001b[0m\u001b[0mself\u001b[0m\u001b[0;34m)\u001b[0m\u001b[0;34m:\u001b[0m\u001b[0;34m\u001b[0m\u001b[0m\n",
      "\u001b[0;32m/home/vlandeau/.local/lib/python2.7/site-packages/sklearn/model_selection/_validation.pyc\u001b[0m in \u001b[0;36m_fit_and_score\u001b[0;34m(estimator, X, y, scorer, train, test, verbose, parameters, fit_params, return_train_score, return_parameters, error_score)\u001b[0m\n\u001b[1;32m    242\u001b[0m             \u001b[0mestimator\u001b[0m\u001b[0;34m.\u001b[0m\u001b[0mfit\u001b[0m\u001b[0;34m(\u001b[0m\u001b[0mX_train\u001b[0m\u001b[0;34m,\u001b[0m \u001b[0;34m**\u001b[0m\u001b[0mfit_params\u001b[0m\u001b[0;34m)\u001b[0m\u001b[0;34m\u001b[0m\u001b[0m\n\u001b[1;32m    243\u001b[0m         \u001b[0;32melse\u001b[0m\u001b[0;34m:\u001b[0m\u001b[0;34m\u001b[0m\u001b[0m\n\u001b[0;32m--> 244\u001b[0;31m             \u001b[0mestimator\u001b[0m\u001b[0;34m.\u001b[0m\u001b[0mfit\u001b[0m\u001b[0;34m(\u001b[0m\u001b[0mX_train\u001b[0m\u001b[0;34m,\u001b[0m \u001b[0my_train\u001b[0m\u001b[0;34m,\u001b[0m \u001b[0;34m**\u001b[0m\u001b[0mfit_params\u001b[0m\u001b[0;34m)\u001b[0m\u001b[0;34m\u001b[0m\u001b[0m\n\u001b[0m\u001b[1;32m    245\u001b[0m \u001b[0;34m\u001b[0m\u001b[0m\n\u001b[1;32m    246\u001b[0m     \u001b[0;32mexcept\u001b[0m \u001b[0mException\u001b[0m \u001b[0;32mas\u001b[0m \u001b[0me\u001b[0m\u001b[0;34m:\u001b[0m\u001b[0;34m\u001b[0m\u001b[0m\n",
      "\u001b[0;32m/home/vlandeau/.local/lib/python2.7/site-packages/sklearn/svm/base.pyc\u001b[0m in \u001b[0;36mfit\u001b[0;34m(self, X, y, sample_weight)\u001b[0m\n\u001b[1;32m    149\u001b[0m         \u001b[0mself\u001b[0m\u001b[0;34m.\u001b[0m\u001b[0m_sparse\u001b[0m \u001b[0;34m=\u001b[0m \u001b[0msparse\u001b[0m \u001b[0;32mand\u001b[0m \u001b[0;32mnot\u001b[0m \u001b[0mcallable\u001b[0m\u001b[0;34m(\u001b[0m\u001b[0mself\u001b[0m\u001b[0;34m.\u001b[0m\u001b[0mkernel\u001b[0m\u001b[0;34m)\u001b[0m\u001b[0;34m\u001b[0m\u001b[0m\n\u001b[1;32m    150\u001b[0m \u001b[0;34m\u001b[0m\u001b[0m\n\u001b[0;32m--> 151\u001b[0;31m         \u001b[0mX\u001b[0m\u001b[0;34m,\u001b[0m \u001b[0my\u001b[0m \u001b[0;34m=\u001b[0m \u001b[0mcheck_X_y\u001b[0m\u001b[0;34m(\u001b[0m\u001b[0mX\u001b[0m\u001b[0;34m,\u001b[0m \u001b[0my\u001b[0m\u001b[0;34m,\u001b[0m \u001b[0mdtype\u001b[0m\u001b[0;34m=\u001b[0m\u001b[0mnp\u001b[0m\u001b[0;34m.\u001b[0m\u001b[0mfloat64\u001b[0m\u001b[0;34m,\u001b[0m \u001b[0morder\u001b[0m\u001b[0;34m=\u001b[0m\u001b[0;34m'C'\u001b[0m\u001b[0;34m,\u001b[0m \u001b[0maccept_sparse\u001b[0m\u001b[0;34m=\u001b[0m\u001b[0;34m'csr'\u001b[0m\u001b[0;34m)\u001b[0m\u001b[0;34m\u001b[0m\u001b[0m\n\u001b[0m\u001b[1;32m    152\u001b[0m         \u001b[0my\u001b[0m \u001b[0;34m=\u001b[0m \u001b[0mself\u001b[0m\u001b[0;34m.\u001b[0m\u001b[0m_validate_targets\u001b[0m\u001b[0;34m(\u001b[0m\u001b[0my\u001b[0m\u001b[0;34m)\u001b[0m\u001b[0;34m\u001b[0m\u001b[0m\n\u001b[1;32m    153\u001b[0m \u001b[0;34m\u001b[0m\u001b[0m\n",
      "\u001b[0;32m/home/vlandeau/.local/lib/python2.7/site-packages/sklearn/utils/validation.pyc\u001b[0m in \u001b[0;36mcheck_X_y\u001b[0;34m(X, y, accept_sparse, dtype, order, copy, force_all_finite, ensure_2d, allow_nd, multi_output, ensure_min_samples, ensure_min_features, y_numeric, warn_on_dtype, estimator)\u001b[0m\n\u001b[1;32m    514\u001b[0m     X = check_array(X, accept_sparse, dtype, order, copy, force_all_finite,\n\u001b[1;32m    515\u001b[0m                     \u001b[0mensure_2d\u001b[0m\u001b[0;34m,\u001b[0m \u001b[0mallow_nd\u001b[0m\u001b[0;34m,\u001b[0m \u001b[0mensure_min_samples\u001b[0m\u001b[0;34m,\u001b[0m\u001b[0;34m\u001b[0m\u001b[0m\n\u001b[0;32m--> 516\u001b[0;31m                     ensure_min_features, warn_on_dtype, estimator)\n\u001b[0m\u001b[1;32m    517\u001b[0m     \u001b[0;32mif\u001b[0m \u001b[0mmulti_output\u001b[0m\u001b[0;34m:\u001b[0m\u001b[0;34m\u001b[0m\u001b[0m\n\u001b[1;32m    518\u001b[0m         y = check_array(y, 'csr', force_all_finite=True, ensure_2d=False,\n",
      "\u001b[0;32m/home/vlandeau/.local/lib/python2.7/site-packages/sklearn/utils/validation.pyc\u001b[0m in \u001b[0;36mcheck_array\u001b[0;34m(array, accept_sparse, dtype, order, copy, force_all_finite, ensure_2d, allow_nd, ensure_min_samples, ensure_min_features, warn_on_dtype, estimator)\u001b[0m\n\u001b[1;32m    375\u001b[0m                                       force_all_finite)\n\u001b[1;32m    376\u001b[0m     \u001b[0;32melse\u001b[0m\u001b[0;34m:\u001b[0m\u001b[0;34m\u001b[0m\u001b[0m\n\u001b[0;32m--> 377\u001b[0;31m         \u001b[0marray\u001b[0m \u001b[0;34m=\u001b[0m \u001b[0mnp\u001b[0m\u001b[0;34m.\u001b[0m\u001b[0marray\u001b[0m\u001b[0;34m(\u001b[0m\u001b[0marray\u001b[0m\u001b[0;34m,\u001b[0m \u001b[0mdtype\u001b[0m\u001b[0;34m=\u001b[0m\u001b[0mdtype\u001b[0m\u001b[0;34m,\u001b[0m \u001b[0morder\u001b[0m\u001b[0;34m=\u001b[0m\u001b[0morder\u001b[0m\u001b[0;34m,\u001b[0m \u001b[0mcopy\u001b[0m\u001b[0;34m=\u001b[0m\u001b[0mcopy\u001b[0m\u001b[0;34m)\u001b[0m\u001b[0;34m\u001b[0m\u001b[0m\n\u001b[0m\u001b[1;32m    378\u001b[0m \u001b[0;34m\u001b[0m\u001b[0m\n\u001b[1;32m    379\u001b[0m         \u001b[0;32mif\u001b[0m \u001b[0mensure_2d\u001b[0m\u001b[0;34m:\u001b[0m\u001b[0;34m\u001b[0m\u001b[0m\n",
      "\u001b[0;31mValueError\u001b[0m: could not convert string to float: communal standpipe"
     ]
    }
   ],
   "source": [
    "from hyperopt import fmin\n",
    "space_svc = {\n",
    "    \"C\": hp.quniform(\"C\", 0.1, 1, 0.1)\n",
    "}\n",
    "svc = SVC()\n",
    "def objective_svc(space):\n",
    "    estimator = svc.set_params(**space)\n",
    "    scores = cross_val_score(estimator, x_train, y_train_num, cv=3)\n",
    "    print \"Iteration %s: score %s with std %s for params %s\" % (objective.current_iteration,\n",
    "                                                                scores.mean(), \n",
    "                                                                scores.std(), \n",
    "                                                               str(space))\n",
    "    return - scores.mean()\n",
    "    \n",
    "objective_svc.current_iteration = 0\n",
    "\n",
    "best_svc = fmin(fn=objective_svc, space=space_svc, \n",
    "            algo=tpe.suggest, max_evals=2)\n",
    "\n",
    "#tuner.tune_model_parameters(SVC(), space=space_svc, cv=5, max_evals=15)"
   ]
  },
  {
   "cell_type": "markdown",
   "metadata": {
    "collapsed": true
   },
   "source": [
    "# Stacking"
   ]
  },
  {
   "cell_type": "code",
   "execution_count": 51,
   "metadata": {
    "collapsed": true
   },
   "outputs": [],
   "source": [
    "y_train_array = y_train.status_group.as_matrix()\n",
    "y_test_array = y_test.status_group.as_matrix()"
   ]
  },
  {
   "cell_type": "code",
   "execution_count": 52,
   "metadata": {
    "collapsed": false
   },
   "outputs": [
    {
     "name": "stdout",
     "output_type": "stream",
     "text": [
      "Training classifier [0]\n",
      "Fold [0]\n",
      "Fold [1]\n",
      "Fold [2]\n",
      "Training classifier [1]\n",
      "Fold [0]\n",
      "Fold [1]\n",
      "Fold [2]\n",
      "Training classifier [2]\n",
      "Fold [0]\n",
      "Fold [1]\n",
      "Fold [2]\n",
      "Training classifier [3]\n",
      "Fold [0]\n",
      "Fold [1]\n",
      "Fold [2]\n"
     ]
    },
    {
     "data": {
      "text/plain": [
       "StackedClassifier(Kfold=None,\n",
       "         bclf=LogisticRegression(C=1.0, class_weight=None, dual=False, fit_intercept=True,\n",
       "          intercept_scaling=1, max_iter=100, multi_class='ovr', n_jobs=1,\n",
       "          penalty='l2', random_state=1, solver='liblinear', tol=0.0001,\n",
       "          verbose=0, warm_start=False),\n",
       "         clfs=[SVC(C=1, cache_size=200, class_weight=None, coef0=0.0,\n",
       "  decision_function_shape=None, degree=3, gamma=0.125, kernel='rbf',\n",
       "  max_iter=-1, probability=False, random_state=None, shrinking=True,\n",
       "  tol=0.001, verbose=False), GradientBoostingClassifier(init=None, learning_rate=0.1, loss='deviance'... n_jobs=4,\n",
       "            oob_score=False, random_state=None, verbose=0,\n",
       "            warm_start=False)],\n",
       "         n_folds=3,\n",
       "         oob_metrics=<function accuracy_score at 0x7f355947f848>,\n",
       "         oob_score_flag=False, save_dir='', save_stage0=False,\n",
       "         stack_by_proba=True, verbose=1)"
      ]
     },
     "execution_count": 52,
     "metadata": {},
     "output_type": "execute_result"
    }
   ],
   "source": [
    "from stacked_generalization.lib.stacking import StackedClassifier\n",
    "clfs = [\n",
    "    SVC(C=1, gamma=0.125),\n",
    "    GradientBoostingClassifier(init=None, learning_rate=0.1, loss='deviance',\n",
    "              max_depth=7, max_features='auto', max_leaf_nodes=None,\n",
    "              min_samples_leaf=9, min_samples_split=8,\n",
    "              min_weight_fraction_leaf=0.0, n_estimators=195),\n",
    "    KNeighborsClassifier(algorithm='auto', leaf_size=30, metric='minkowski',\n",
    "           metric_params=None, n_jobs=4, n_neighbors=19, p=1, weights='distance'),\n",
    "    RandomForestClassifier(bootstrap=False, class_weight=None,\n",
    "            criterion='entropy', max_depth=None, max_features='log2',\n",
    "            max_leaf_nodes=None, min_samples_leaf=1, min_samples_split=10,\n",
    "            min_weight_fraction_leaf=0.0, n_estimators=350, n_jobs=4)\n",
    "]\n",
    "bclf = LogisticRegression(random_state=1)\n",
    "sl = StackedClassifier(bclf, clfs, verbose=1)\n",
    "\n",
    "sl.fit(x_train, y_train_array)\n"
   ]
  },
  {
   "cell_type": "code",
   "execution_count": 53,
   "metadata": {
    "collapsed": true
   },
   "outputs": [],
   "source": [
    "y_test_pred = sl.predict(x_test)"
   ]
  },
  {
   "cell_type": "code",
   "execution_count": 54,
   "metadata": {
    "collapsed": false
   },
   "outputs": [
    {
     "data": {
      "text/plain": [
       "array([2, 2, 2, ..., 2, 0, 2])"
      ]
     },
     "execution_count": 54,
     "metadata": {},
     "output_type": "execute_result"
    }
   ],
   "source": [
    "y_test_pred"
   ]
  },
  {
   "cell_type": "code",
   "execution_count": 55,
   "metadata": {
    "collapsed": false
   },
   "outputs": [
    {
     "ename": "TypeError",
     "evalue": "Cannot change data-type for object array.",
     "output_type": "error",
     "traceback": [
      "\u001b[0;31m---------------------------------------------------------------------------\u001b[0m",
      "\u001b[0;31mTypeError\u001b[0m                                 Traceback (most recent call last)",
      "\u001b[0;32m<ipython-input-55-a4ab5013adad>\u001b[0m in \u001b[0;36m<module>\u001b[0;34m()\u001b[0m\n\u001b[1;32m      3\u001b[0m \u001b[0my_test_array_num\u001b[0m\u001b[0;34m[\u001b[0m\u001b[0my_test_array_num\u001b[0m \u001b[0;34m==\u001b[0m \u001b[0;34m'functional'\u001b[0m\u001b[0;34m]\u001b[0m \u001b[0;34m=\u001b[0m \u001b[0;36m0\u001b[0m\u001b[0;34m\u001b[0m\u001b[0m\n\u001b[1;32m      4\u001b[0m \u001b[0my_test_array_num\u001b[0m\u001b[0;34m[\u001b[0m\u001b[0my_test_array_num\u001b[0m \u001b[0;34m==\u001b[0m \u001b[0;34m'non functional'\u001b[0m\u001b[0;34m]\u001b[0m \u001b[0;34m=\u001b[0m \u001b[0;36m2\u001b[0m\u001b[0;34m\u001b[0m\u001b[0m\n\u001b[0;32m----> 5\u001b[0;31m \u001b[0my_test_array_num\u001b[0m\u001b[0;34m.\u001b[0m\u001b[0mdtype\u001b[0m \u001b[0;34m=\u001b[0m \u001b[0mint\u001b[0m\u001b[0;34m\u001b[0m\u001b[0m\n\u001b[0m",
      "\u001b[0;32m/home/vlandeau/anaconda/lib/python2.7/site-packages/numpy/core/_internal.pyc\u001b[0m in \u001b[0;36m_view_is_safe\u001b[0;34m(oldtype, newtype)\u001b[0m\n\u001b[1;32m    365\u001b[0m \u001b[0;34m\u001b[0m\u001b[0m\n\u001b[1;32m    366\u001b[0m     \u001b[0;32mif\u001b[0m \u001b[0mnewtype\u001b[0m\u001b[0;34m.\u001b[0m\u001b[0mhasobject\u001b[0m \u001b[0;32mor\u001b[0m \u001b[0moldtype\u001b[0m\u001b[0;34m.\u001b[0m\u001b[0mhasobject\u001b[0m\u001b[0;34m:\u001b[0m\u001b[0;34m\u001b[0m\u001b[0m\n\u001b[0;32m--> 367\u001b[0;31m         \u001b[0;32mraise\u001b[0m \u001b[0mTypeError\u001b[0m\u001b[0;34m(\u001b[0m\u001b[0;34m\"Cannot change data-type for object array.\"\u001b[0m\u001b[0;34m)\u001b[0m\u001b[0;34m\u001b[0m\u001b[0m\n\u001b[0m\u001b[1;32m    368\u001b[0m     \u001b[0;32mreturn\u001b[0m\u001b[0;34m\u001b[0m\u001b[0m\n\u001b[1;32m    369\u001b[0m \u001b[0;34m\u001b[0m\u001b[0m\n",
      "\u001b[0;31mTypeError\u001b[0m: Cannot change data-type for object array."
     ]
    }
   ],
   "source": [
    "y_test_array_num = y_test_array\n",
    "y_test_array_num[y_test_array_num == 'functional needs repair'] = 1\n",
    "y_test_array_num[y_test_array_num == 'functional'] = 0\n",
    "y_test_array_num[y_test_array_num == 'non functional'] = 2\n",
    "y_test_array_num.dtype = int"
   ]
  },
  {
   "cell_type": "code",
   "execution_count": 56,
   "metadata": {
    "collapsed": false
   },
   "outputs": [
    {
     "data": {
      "text/plain": [
       "0.05446127946127946"
      ]
     },
     "execution_count": 56,
     "metadata": {},
     "output_type": "execute_result"
    }
   ],
   "source": [
    "(y_test_array_num - y_test_pred).sum()/float(len(y_test_array_num))"
   ]
  },
  {
   "cell_type": "code",
   "execution_count": 56,
   "metadata": {
    "collapsed": false
   },
   "outputs": [
    {
     "data": {
      "text/plain": [
       "array([1, 0, 0, ..., 2, 2, 2])"
      ]
     },
     "execution_count": 56,
     "metadata": {},
     "output_type": "execute_result"
    }
   ],
   "source": [
    "y_test_array_num.astype(int)"
   ]
  },
  {
   "cell_type": "code",
   "execution_count": 57,
   "metadata": {
    "collapsed": false
   },
   "outputs": [
    {
     "name": "stdout",
     "output_type": "stream",
     "text": [
      "[[5621   60  725]\n",
      " [ 503  202  174]\n",
      " [ 899   30 3666]]\n"
     ]
    }
   ],
   "source": [
    "print confusion_matrix(y_true=y_test_array_num.astype(int), y_pred=y_test_pred)\n"
   ]
  },
  {
   "cell_type": "code",
   "execution_count": 58,
   "metadata": {
    "collapsed": false
   },
   "outputs": [
    {
     "name": "stdout",
     "output_type": "stream",
     "text": [
      "0.798737373737\n",
      "elapsed time: 99121.4748001\n"
     ]
    }
   ],
   "source": [
    "#print confusion_matrix(y_true=pd.Series(y_test_array_num), y_pred=pd.Series(y_test_pred))\n",
    "print sl.score(x_test, y_test_array_num.astype(int))\n",
    "\n",
    "print \"elapsed time: \" + str(time.time() - start_time)"
   ]
  },
  {
   "cell_type": "code",
   "execution_count": 47,
   "metadata": {
    "collapsed": false
   },
   "outputs": [
    {
     "data": {
      "text/plain": [
       "array([[  1.21838949,   1.12615126,   1.05890916,  -0.93002628,\n",
       "         -0.83562258,   2.05482284,   2.71790006, -10.44732172,\n",
       "        -11.42188503],\n",
       "       [ -1.22053363,  -1.15375846,  -0.73616353,   1.70492116,\n",
       "          1.85970783,  -1.54352323,  -1.14687455,   9.13982316,\n",
       "         -0.88611353],\n",
       "       [ -1.19534916,  -0.90828319,  -1.14712865,   0.2585211 ,\n",
       "          0.60797439,  -0.60305805,  -1.49654993,   1.04057034,   9.5691332 ]])"
      ]
     },
     "execution_count": 47,
     "metadata": {},
     "output_type": "execute_result"
    }
   ],
   "source": [
    "sl.bclf.coef_"
   ]
  },
  {
   "cell_type": "code",
   "execution_count": 45,
   "metadata": {
    "collapsed": false
   },
   "outputs": [
    {
     "data": {
      "text/plain": [
       "array([[  1.21838949,   1.12615126,   1.05890916,  -0.93002628,\n",
       "         -0.83562258,   2.05482284,   2.71790006, -10.44732172,\n",
       "        -11.42188503],\n",
       "       [ -1.22053363,  -1.15375846,  -0.73616353,   1.70492116,\n",
       "          1.85970783,  -1.54352323,  -1.14687455,   9.13982316,\n",
       "         -0.88611353],\n",
       "       [ -1.19534916,  -0.90828319,  -1.14712865,   0.2585211 ,\n",
       "          0.60797439,  -0.60305805,  -1.49654993,   1.04057034,   9.5691332 ]])"
      ]
     },
     "execution_count": 45,
     "metadata": {},
     "output_type": "execute_result"
    }
   ],
   "source": [
    "bclf.coef_\n"
   ]
  },
  {
   "cell_type": "markdown",
   "metadata": {
    "collapsed": true
   },
   "source": [
    "# Model fitting"
   ]
  },
  {
   "cell_type": "code",
   "execution_count": 72,
   "metadata": {
    "collapsed": false
   },
   "outputs": [
    {
     "ename": "NameError",
     "evalue": "name 'x_train1' is not defined",
     "output_type": "error",
     "traceback": [
      "\u001b[0;31m---------------------------------------------------------------------------\u001b[0m",
      "\u001b[0;31mNameError\u001b[0m                                 Traceback (most recent call last)",
      "\u001b[0;32m<ipython-input-72-cb2a67793dda>\u001b[0m in \u001b[0;36m<module>\u001b[0;34m()\u001b[0m\n\u001b[1;32m      7\u001b[0m               min_weight_fraction_leaf=0.0, n_estimators=350)\n\u001b[1;32m      8\u001b[0m \u001b[0;34m\u001b[0m\u001b[0m\n\u001b[0;32m----> 9\u001b[0;31m \u001b[0mgbm\u001b[0m\u001b[0;34m.\u001b[0m\u001b[0mfit\u001b[0m\u001b[0;34m(\u001b[0m\u001b[0mx_train1\u001b[0m\u001b[0;34m,\u001b[0m \u001b[0my_train\u001b[0m\u001b[0;34m.\u001b[0m\u001b[0mstatus_group\u001b[0m\u001b[0;34m)\u001b[0m\u001b[0;34m\u001b[0m\u001b[0m\n\u001b[0m\u001b[1;32m     10\u001b[0m \u001b[0;34m\u001b[0m\u001b[0m\n\u001b[1;32m     11\u001b[0m \u001b[0my_test_pred\u001b[0m \u001b[0;34m=\u001b[0m \u001b[0mgbm\u001b[0m\u001b[0;34m.\u001b[0m\u001b[0mpredict\u001b[0m\u001b[0;34m(\u001b[0m\u001b[0mx_test\u001b[0m\u001b[0;34m)\u001b[0m\u001b[0;34m\u001b[0m\u001b[0m\n",
      "\u001b[0;31mNameError\u001b[0m: name 'x_train1' is not defined"
     ]
    }
   ],
   "source": [
    "\n",
    "start_time = time.time()\n",
    "\n",
    "gbm = GradientBoostingClassifier(learning_rate=0.1, loss='deviance',\n",
    "              max_depth=None, max_features=None, max_leaf_nodes=None,\n",
    "              min_samples_leaf=7, min_samples_split=4,\n",
    "              min_weight_fraction_leaf=0.0, n_estimators=350)\n",
    "\n",
    "gbm.fit(x_train, y_train.status_group)\n",
    "\n",
    "y_test_pred = gbm.predict(x_test)\n",
    "print confusion_matrix(y_true=y_test, y_pred=y_test_pred1)\n",
    "\n",
    "print \"elapsed time: \" + str(time.time() - start_time)"
   ]
  },
  {
   "cell_type": "code",
   "execution_count": null,
   "metadata": {
    "collapsed": true
   },
   "outputs": [],
   "source": [
    "gbm.score(x_test1, y_test)"
   ]
  },
  {
   "cell_type": "code",
   "execution_count": null,
   "metadata": {
    "collapsed": true
   },
   "outputs": [],
   "source": [
    "importances = pd.DataFrame({\"features\": features, \"importance\": rf1.feature_importances_})\n",
    "importances.sort_values(by='importance', inplace=True, ascending=False)\n",
    "importances[:20]"
   ]
  },
  {
   "cell_type": "code",
   "execution_count": 20,
   "metadata": {
    "collapsed": false
   },
   "outputs": [
    {
     "name": "stdout",
     "output_type": "stream",
     "text": [
      "[[5487  112  880]\n",
      " [ 499  171  142]\n",
      " [1437   46 3106]]\n",
      "elapsed time: 22.810213089\n"
     ]
    }
   ],
   "source": [
    "start_time = time.time()\n",
    "\n",
    "rf = RandomForestClassifier(bootstrap=True, criterion='gini',\n",
    "                            max_depth=None, max_features='sqrt', max_leaf_nodes=None,\n",
    "                            min_samples_leaf=2, min_samples_split=5,\n",
    "                            min_weight_fraction_leaf=0.0, n_estimators=450,\n",
    "                            n_jobs=4)\n",
    "\n",
    "rf.fit(x_train, y_train.status_group)\n",
    "\n",
    "y_test_pred = rf.predict(x_test)\n",
    "print confusion_matrix(y_true=y_test, y_pred=y_test_pred)\n",
    "\n",
    "print \"elapsed time: \" + str(time.time() - start_time)"
   ]
  },
  {
   "cell_type": "code",
   "execution_count": 30,
   "metadata": {
    "collapsed": false
   },
   "outputs": [
    {
     "name": "stdout",
     "output_type": "stream",
     "text": [
      "[[5481  140  899]\n",
      " [ 514  187  159]\n",
      " [1400   31 3069]]\n",
      "elapsed time: 22.5567569733\n"
     ]
    }
   ],
   "source": [
    "start_time = time.time()\n",
    "\n",
    "rf = RandomForestClassifier(bootstrap=True, criterion='gini',\n",
    "                            max_depth=None, max_features='sqrt', max_leaf_nodes=None,\n",
    "                            min_samples_leaf=2, min_samples_split=5,\n",
    "                            min_weight_fraction_leaf=0.0, n_estimators=450,\n",
    "                            n_jobs=4)\n",
    "\n",
    "rf.fit(x_train, y_train.status_group)\n",
    "\n",
    "y_test_pred = rf.predict(x_test)\n",
    "print confusion_matrix(y_true=y_test, y_pred=y_test_pred)\n",
    "\n",
    "print \"elapsed time: \" + str(time.time() - start_time)"
   ]
  },
  {
   "cell_type": "code",
   "execution_count": 31,
   "metadata": {
    "collapsed": false
   },
   "outputs": [
    {
     "data": {
      "text/plain": [
       "0.73543771043771045"
      ]
     },
     "execution_count": 31,
     "metadata": {},
     "output_type": "execute_result"
    }
   ],
   "source": [
    "rf.score(x_test, y_test)"
   ]
  },
  {
   "cell_type": "code",
   "execution_count": 21,
   "metadata": {
    "collapsed": false
   },
   "outputs": [
    {
     "data": {
      "text/plain": [
       "0.73771043771043776"
      ]
     },
     "execution_count": 21,
     "metadata": {},
     "output_type": "execute_result"
    }
   ],
   "source": [
    "rf.score(x_test, y_test)"
   ]
  },
  {
   "cell_type": "code",
   "execution_count": 65,
   "metadata": {
    "collapsed": false
   },
   "outputs": [
    {
     "data": {
      "text/plain": [
       "0.77171717171717169"
      ]
     },
     "execution_count": 65,
     "metadata": {},
     "output_type": "execute_result"
    }
   ],
   "source": [
    "rf1.score(x_test1, y_test)"
   ]
  },
  {
   "cell_type": "code",
   "execution_count": 66,
   "metadata": {
    "collapsed": false
   },
   "outputs": [
    {
     "data": {
      "text/html": [
       "<div>\n",
       "<table border=\"1\" class=\"dataframe\">\n",
       "  <thead>\n",
       "    <tr style=\"text-align: right;\">\n",
       "      <th></th>\n",
       "      <th>features</th>\n",
       "      <th>importance</th>\n",
       "    </tr>\n",
       "  </thead>\n",
       "  <tbody>\n",
       "    <tr>\n",
       "      <th>2</th>\n",
       "      <td>longitude</td>\n",
       "      <td>0.070970</td>\n",
       "    </tr>\n",
       "    <tr>\n",
       "      <th>3</th>\n",
       "      <td>latitude</td>\n",
       "      <td>0.069277</td>\n",
       "    </tr>\n",
       "    <tr>\n",
       "      <th>89</th>\n",
       "      <td>quantity_group_dry</td>\n",
       "      <td>0.061086</td>\n",
       "    </tr>\n",
       "    <tr>\n",
       "      <th>85</th>\n",
       "      <td>quantity_dry</td>\n",
       "      <td>0.058218</td>\n",
       "    </tr>\n",
       "    <tr>\n",
       "      <th>8</th>\n",
       "      <td>construction_year</td>\n",
       "      <td>0.044986</td>\n",
       "    </tr>\n",
       "    <tr>\n",
       "      <th>113</th>\n",
       "      <td>date_recorded_since_beginning</td>\n",
       "      <td>0.044266</td>\n",
       "    </tr>\n",
       "    <tr>\n",
       "      <th>1</th>\n",
       "      <td>gps_height</td>\n",
       "      <td>0.039465</td>\n",
       "    </tr>\n",
       "    <tr>\n",
       "      <th>7</th>\n",
       "      <td>population</td>\n",
       "      <td>0.029384</td>\n",
       "    </tr>\n",
       "    <tr>\n",
       "      <th>110</th>\n",
       "      <td>date_recorded_weekday</td>\n",
       "      <td>0.024789</td>\n",
       "    </tr>\n",
       "    <tr>\n",
       "      <th>109</th>\n",
       "      <td>waterpoint_type_group_other</td>\n",
       "      <td>0.021701</td>\n",
       "    </tr>\n",
       "    <tr>\n",
       "      <th>106</th>\n",
       "      <td>waterpoint_type_other</td>\n",
       "      <td>0.021636</td>\n",
       "    </tr>\n",
       "    <tr>\n",
       "      <th>6</th>\n",
       "      <td>district_code</td>\n",
       "      <td>0.019531</td>\n",
       "    </tr>\n",
       "    <tr>\n",
       "      <th>63</th>\n",
       "      <td>extraction_type_class_other</td>\n",
       "      <td>0.018383</td>\n",
       "    </tr>\n",
       "    <tr>\n",
       "      <th>0</th>\n",
       "      <td>amount_tsh</td>\n",
       "      <td>0.018136</td>\n",
       "    </tr>\n",
       "    <tr>\n",
       "      <th>86</th>\n",
       "      <td>quantity_enough</td>\n",
       "      <td>0.017359</td>\n",
       "    </tr>\n",
       "    <tr>\n",
       "      <th>5</th>\n",
       "      <td>region_code</td>\n",
       "      <td>0.017189</td>\n",
       "    </tr>\n",
       "    <tr>\n",
       "      <th>90</th>\n",
       "      <td>quantity_group_enough</td>\n",
       "      <td>0.016633</td>\n",
       "    </tr>\n",
       "    <tr>\n",
       "      <th>111</th>\n",
       "      <td>date_recorded_month</td>\n",
       "      <td>0.016417</td>\n",
       "    </tr>\n",
       "    <tr>\n",
       "      <th>58</th>\n",
       "      <td>extraction_type_group_other</td>\n",
       "      <td>0.016321</td>\n",
       "    </tr>\n",
       "    <tr>\n",
       "      <th>53</th>\n",
       "      <td>extraction_type_other</td>\n",
       "      <td>0.015290</td>\n",
       "    </tr>\n",
       "  </tbody>\n",
       "</table>\n",
       "</div>"
      ],
      "text/plain": [
       "                          features  importance\n",
       "2                        longitude    0.070970\n",
       "3                         latitude    0.069277\n",
       "89              quantity_group_dry    0.061086\n",
       "85                    quantity_dry    0.058218\n",
       "8                construction_year    0.044986\n",
       "113  date_recorded_since_beginning    0.044266\n",
       "1                       gps_height    0.039465\n",
       "7                       population    0.029384\n",
       "110          date_recorded_weekday    0.024789\n",
       "109    waterpoint_type_group_other    0.021701\n",
       "106          waterpoint_type_other    0.021636\n",
       "6                    district_code    0.019531\n",
       "63     extraction_type_class_other    0.018383\n",
       "0                       amount_tsh    0.018136\n",
       "86                 quantity_enough    0.017359\n",
       "5                      region_code    0.017189\n",
       "90           quantity_group_enough    0.016633\n",
       "111            date_recorded_month    0.016417\n",
       "58     extraction_type_group_other    0.016321\n",
       "53           extraction_type_other    0.015290"
      ]
     },
     "execution_count": 66,
     "metadata": {},
     "output_type": "execute_result"
    }
   ],
   "source": [
    "importances = pd.DataFrame({\"features\": features, \"importance\": rf1.feature_importances_})\n",
    "importances.sort_values(by='importance', inplace=True, ascending=False)\n",
    "importances[:20]"
   ]
  },
  {
   "cell_type": "code",
   "execution_count": 25,
   "metadata": {
    "collapsed": false
   },
   "outputs": [
    {
     "name": "stdout",
     "output_type": "stream",
     "text": [
      "[[5400  126  910]\n",
      " [ 534  195  169]\n",
      " [1407   33 3106]]\n",
      "elapsed time: 17.1001861095\n"
     ]
    }
   ],
   "source": [
    "start_time = time.time()\n",
    "\n",
    "rf2 = RandomForestClassifier(bootstrap=True, criterion='gini',\n",
    "                            max_depth=None, max_features='sqrt', max_leaf_nodes=None,\n",
    "                            min_samples_leaf=2, min_samples_split=5,\n",
    "                            min_weight_fraction_leaf=0.0, n_estimators=300,\n",
    "                            n_jobs=4)\n",
    "\n",
    "rf2.fit(x_train, y_train.status_group)\n",
    "\n",
    "y_test_pred = rf2.predict(x_test)\n",
    "print confusion_matrix(y_true=y_test, y_pred=y_test_pred)\n",
    "\n",
    "print \"elapsed time: \" + str(time.time() - start_time)"
   ]
  },
  {
   "cell_type": "code",
   "execution_count": 26,
   "metadata": {
    "collapsed": false
   },
   "outputs": [
    {
     "data": {
      "text/plain": [
       "0.7324074074074074"
      ]
     },
     "execution_count": 26,
     "metadata": {},
     "output_type": "execute_result"
    }
   ],
   "source": [
    "rf2.score(x_test, y_test)"
   ]
  },
  {
   "cell_type": "code",
   "execution_count": 16,
   "metadata": {
    "collapsed": false
   },
   "outputs": [
    {
     "data": {
      "text/plain": [
       "array(['functional', 'non functional', 'functional needs repair'], dtype=object)"
      ]
     },
     "execution_count": 16,
     "metadata": {},
     "output_type": "execute_result"
    }
   ],
   "source": [
    "y_train.status_group.unique()"
   ]
  },
  {
   "cell_type": "code",
   "execution_count": 24,
   "metadata": {
    "collapsed": false
   },
   "outputs": [],
   "source": [
    "dict_replace = {\n",
    "    'functional': 1,\n",
    "    'non functional': 0,\n",
    "    'functional needs repair': -1\n",
    "}\n",
    "y_array = y_train.status_group.replace(dict_replace).as_matrix()\n",
    "y_array_test = y_test.status_group.replace(dict_replace).as_matrix()"
   ]
  },
  {
   "cell_type": "code",
   "execution_count": 30,
   "metadata": {
    "collapsed": false
   },
   "outputs": [
    {
     "name": "stdout",
     "output_type": "stream",
     "text": [
      "[[5682   54  700]\n",
      " [ 604  118  176]\n",
      " [1622   38 2886]]\n",
      "elapsed time: 85.210547924\n"
     ]
    }
   ],
   "source": [
    "from sklearn.neighbors import KNeighborsClassifier\n",
    "\n",
    "start_time = time.time()\n",
    "\n",
    "knn = KNeighborsClassifier(n_neighbors=60, n_jobs=4)\n",
    "\n",
    "knn.fit(x_train, y_train.status_group)\n",
    "\n",
    "y_test_pred = knn.predict(x_test)\n",
    "print confusion_matrix(y_true=y_test.status_group, y_pred=y_test_pred)\n",
    "\n",
    "print \"elapsed time: \" + str(time.time() - start_time)"
   ]
  },
  {
   "cell_type": "code",
   "execution_count": 31,
   "metadata": {
    "collapsed": false
   },
   "outputs": [
    {
     "name": "stdout",
     "output_type": "stream",
     "text": [
      "0.731144781145\n"
     ]
    }
   ],
   "source": [
    "print knn.score(x_test, y_test.status_group)"
   ]
  },
  {
   "cell_type": "code",
   "execution_count": 35,
   "metadata": {
    "collapsed": false
   },
   "outputs": [
    {
     "name": "stdout",
     "output_type": "stream",
     "text": [
      "0.717845117845\n"
     ]
    }
   ],
   "source": [
    "print knn.score(x_test, y_test.status_group)"
   ]
  },
  {
   "cell_type": "code",
   "execution_count": null,
   "metadata": {
    "collapsed": true
   },
   "outputs": [],
   "source": [
    "start_time = time.time()\n",
    "\n",
    "rf2 = RandomForestClassifier(bootstrap=True, criterion='gini',\n",
    "                            max_depth=None, max_features='sqrt', max_leaf_nodes=None,\n",
    "                            min_samples_leaf=2, min_samples_split=5,\n",
    "                            min_weight_fraction_leaf=0.0, n_estimators=150,\n",
    "                            n_jobs=4)\n",
    "\n",
    "rf2.fit(x_train2, y_train.status_group)\n",
    "\n",
    "y_test_pred2 = rf2.predict(x_test2)\n",
    "print confusion_matrix(y_true=y_test, y_pred=y_test_pred2)\n",
    "\n",
    "print \"elapsed time: \" + str(time.time() - start_time)"
   ]
  },
  {
   "cell_type": "markdown",
   "metadata": {},
   "source": [
    "#### TODO\n",
    "\n",
    "Try KNN\n",
    "\n",
    "Try stacking"
   ]
  },
  {
   "cell_type": "code",
   "execution_count": 77,
   "metadata": {
    "collapsed": false
   },
   "outputs": [
    {
     "name": "stdout",
     "output_type": "stream",
     "text": [
      "Iteration 0: score 0.721233271848 with std 0.00337522457862 for params {'n_neighbors': 74, 'weights': 'uniform', 'p': 1}\n",
      "Iteration 1: score 0.748358764537 with std 0.00380215973563 for params {'n_neighbors': 57, 'weights': 'distance', 'p': 2}\n",
      "Iteration 2: score 0.745686179036 with std 0.00355290836726 for params {'n_neighbors': 77, 'weights': 'distance', 'p': 2}\n",
      "Iteration 3: score 0.755450390517 with std 0.00205557802266 for params {'n_neighbors': 24, 'weights': 'distance', 'p': 2}\n",
      "Iteration 4: score 0.768644877511 with std 0.00190056559125 for params {'n_neighbors': 39, 'weights': 'distance', 'p': 1}\n",
      "Iteration 5: score 0.763152532963 with std 0.00373155624605 for params {'n_neighbors': 75, 'weights': 'distance', 'p': 1}\n",
      "Iteration 6: score 0.708585961434 with std 0.00226466802929 for params {'n_neighbors': 57, 'weights': 'uniform', 'p': 2}\n",
      "Iteration 7: score 0.690530300881 with std 0.000938377258209 for params {'n_neighbors': 125, 'weights': 'uniform', 'p': 2}\n",
      "Iteration 8: score 0.741351155549 with std 0.00305102858864 for params {'n_neighbors': 112, 'weights': 'distance', 'p': 2}\n",
      "Iteration 9: score 0.751809974882 with std 0.00450095983894 for params {'n_neighbors': 38, 'weights': 'distance', 'p': 2}\n",
      "Iteration 10: score 0.695601924112 with std 0.00145038401025 for params {'n_neighbors': 108, 'weights': 'uniform', 'p': 2}\n",
      "Iteration 11: score 0.727483245299 with std 0.0015835839024 for params {'n_neighbors': 54, 'weights': 'uniform', 'p': 1}\n",
      "Iteration 12: score 0.741561577319 with std 0.00259631847507 for params {'n_neighbors': 114, 'weights': 'distance', 'p': 2}\n",
      "Iteration 13: score 0.761805740912 with std 0.00397589457184 for params {'n_neighbors': 86, 'weights': 'distance', 'p': 1}\n",
      "Iteration 14: score 0.7700758659 with std 0.00293813353017 for params {'n_neighbors': 19, 'weights': 'distance', 'p': 1}\n",
      "Iteration 15: score 0.755197840022 with std 0.00147693632361 for params {'n_neighbors': 11, 'weights': 'distance', 'p': 2}\n",
      "Iteration 16: score 0.704440280074 with std 0.000943953361753 for params {'n_neighbors': 80, 'weights': 'uniform', 'p': 2}\n",
      "Iteration 17: score 0.761889905369 with std 0.00362321728761 for params {'n_neighbors': 88, 'weights': 'distance', 'p': 1}\n",
      "Iteration 18: score 0.734659160614 with std 0.00155064267984 for params {'n_neighbors': 40, 'weights': 'uniform', 'p': 1}\n",
      "Iteration 19: score 0.74995809114 with std 0.00406735391963 for params {'n_neighbors': 53, 'weights': 'distance', 'p': 2}\n",
      "Iteration 20: score 0.7700758659 with std 0.00293813353017 for params {'n_neighbors': 19, 'weights': 'distance', 'p': 1}\n",
      "Iteration 21: score 0.766498424814 with std 0.00250787523012 for params {'n_neighbors': 52, 'weights': 'distance', 'p': 1}\n",
      "Iteration 22: score 0.756607882954 with std 0.00279053193989 for params {'n_neighbors': 149, 'weights': 'distance', 'p': 1}\n",
      "Iteration 23: score 0.761974088424 with std 0.00391659065408 for params {'n_neighbors': 85, 'weights': 'distance', 'p': 1}\n",
      "Iteration 24: score 0.757681136537 with std 0.00312824334358 for params {'n_neighbors': 137, 'weights': 'distance', 'p': 1}\n"
     ]
    }
   ],
   "source": [
    "start_time = time.time()\n",
    "\n",
    "knn = KNeighborsClassifier(n_jobs=4)\n",
    "space = {\n",
    "    \"n_neighbors\": hp.choice(\n",
    "        'n_neighbors', range(5, 150, 1)),\n",
    "    'weights': hp.choice(\"weights\", ['uniform', 'distance']),\n",
    "    'p': hp.choice('p', [1, 2])\n",
    "}\n",
    "def objective(space):\n",
    "    estimator = knn.set_params(**space)\n",
    "    scores = cross_val_score(estimator, x_train, y_train.status_group, cv=3)\n",
    "    print \"Iteration %s: score %s with std %s for params %s\" % (objective.current_iteration,\n",
    "                                                                scores.mean(), \n",
    "                                                                scores.std(), \n",
    "                                                               str(space))\n",
    "    objective.current_iteration += 1\n",
    "    return - scores.mean()\n",
    "    \n",
    "objective.current_iteration = 0\n",
    "\n",
    "best = fmin(fn=objective, space=space, \n",
    "            algo=tpe.suggest, max_evals=25)"
   ]
  },
  {
   "cell_type": "code",
   "execution_count": 48,
   "metadata": {
    "collapsed": false
   },
   "outputs": [
    {
     "data": {
      "text/plain": [
       "{'n_neighbors': 19, 'p': 1, 'weights': 'distance'}"
      ]
     },
     "execution_count": 48,
     "metadata": {},
     "output_type": "execute_result"
    }
   ],
   "source": [
    "space_eval({\n",
    "    \"n_neighbors\": hp.choice(\n",
    "        'n_neighbors', range(5, 150, 1)),\n",
    "    'weights': hp.choice(\"weights\", ['uniform', 'distance']),\n",
    "    'p': hp.choice('p', [1, 2])\n",
    "}, {'n_neighbors': 14, 'p': 0, 'weights': 1})"
   ]
  },
  {
   "cell_type": "code",
   "execution_count": 78,
   "metadata": {
    "collapsed": false
   },
   "outputs": [
    {
     "data": {
      "text/plain": [
       "{'n_neighbors': 14, 'p': 0, 'weights': 1}"
      ]
     },
     "execution_count": 78,
     "metadata": {},
     "output_type": "execute_result"
    }
   ],
   "source": [
    "best"
   ]
  },
  {
   "cell_type": "code",
   "execution_count": 79,
   "metadata": {
    "collapsed": false,
    "scrolled": true
   },
   "outputs": [
    {
     "name": "stdout",
     "output_type": "stream",
     "text": [
      "Iteration 0: score 0.746422388199 with std 0.00338198916354 for params {'max_features': 'sqrt', 'min_samples_split': 7, 'n_estimators': 80, 'max_depth': 3, 'min_samples_leaf': 1}\n",
      "Iteration 1: score 0.797748183113 with std 0.00328497731558 for params {'max_features': 'sqrt', 'min_samples_split': 4, 'n_estimators': 255, 'max_depth': 6, 'min_samples_leaf': 7}\n",
      "Iteration 2: score 0.792697628889 with std 0.00355814385708 for params {'max_features': 'sqrt', 'min_samples_split': 3, 'n_estimators': 95, 'max_depth': 7, 'min_samples_leaf': 7}\n",
      "Iteration 3: score 0.782091649297 with std 0.00231719151974 for params {'max_features': 'log2', 'min_samples_split': 3, 'n_estimators': 155, 'max_depth': 5, 'min_samples_leaf': 6}\n",
      "Iteration 4: score 0.771443503777 with std 0.00205813271683 for params {'max_features': None, 'min_samples_split': 9, 'n_estimators': 275, 'max_depth': 3, 'min_samples_leaf': 6}\n",
      "Iteration 5: score 0.79602263108 with std 0.00240539005654 for params {'max_features': 'auto', 'min_samples_split': 4, 'n_estimators': 360, 'max_depth': 5, 'min_samples_leaf': 4}\n",
      "Iteration 6: score 0.749620988265 with std 0.00436566306559 for params {'max_features': 'sqrt', 'min_samples_split': 9, 'n_estimators': 315, 'max_depth': 2, 'min_samples_leaf': 2}\n",
      "Iteration 7: score 0.740235585919 with std 0.00226263589345 for params {'max_features': 'sqrt', 'min_samples_split': 9, 'n_estimators': 60, 'max_depth': 3, 'min_samples_leaf': 6}\n",
      "Iteration 8: score 0.787268363848 with std 0.00334925766227 for params {'max_features': 'log2', 'min_samples_split': 4, 'n_estimators': 220, 'max_depth': 5, 'min_samples_leaf': 9}\n",
      "Iteration 9: score 0.798063807794 with std 0.00361345055721 for params {'max_features': 'auto', 'min_samples_split': 3, 'n_estimators': 255, 'max_depth': 6, 'min_samples_leaf': 3}\n",
      "Iteration 10: score 0.798274265433 with std 0.00323805414356 for params {'max_features': 'auto', 'min_samples_split': 4, 'n_estimators': 155, 'max_depth': 7, 'min_samples_leaf': 9}\n",
      "Iteration 11: score 0.759890357862 with std 0.00425339795915 for params {'max_features': 'sqrt', 'min_samples_split': 10, 'n_estimators': 185, 'max_depth': 3, 'min_samples_leaf': 3}\n",
      "Iteration 12: score 0.771864291517 with std 0.00374311911677 for params {'max_features': 'log2', 'min_samples_split': 9, 'n_estimators': 390, 'max_depth': 3, 'min_samples_leaf': 8}\n",
      "Iteration 13: score 0.75976416432 with std 0.00328457462543 for params {'max_features': 'auto', 'min_samples_split': 9, 'n_estimators': 465, 'max_depth': 2, 'min_samples_leaf': 9}\n",
      "Iteration 14: score 0.79962112258 with std 0.00216638983367 for params {'max_features': 'log2', 'min_samples_split': 3, 'n_estimators': 380, 'max_depth': 6, 'min_samples_leaf': 9}\n",
      "Iteration 15: score 0.787373606616 with std 0.00291120646841 for params {'max_features': 'sqrt', 'min_samples_split': 3, 'n_estimators': 395, 'max_depth': 4, 'min_samples_leaf': 8}\n",
      "Iteration 16: score 0.780366048113 with std 0.00343293464517 for params {'max_features': None, 'min_samples_split': 4, 'n_estimators': 480, 'max_depth': 3, 'min_samples_leaf': 7}\n",
      "Iteration 17: score 0.761089939167 with std 0.00248672296493 for params {'max_features': 'log2', 'min_samples_split': 6, 'n_estimators': 220, 'max_depth': 3, 'min_samples_leaf': 2}\n",
      "Iteration 18: score 0.780618573364 with std 0.00260068745237 for params {'max_features': None, 'min_samples_split': 1, 'n_estimators': 460, 'max_depth': 3, 'min_samples_leaf': 1}\n",
      "Iteration 19: score 0.791729692474 with std 0.00212746065896 for params {'max_features': 'auto', 'min_samples_split': 5, 'n_estimators': 270, 'max_depth': 5, 'min_samples_leaf': 10}\n",
      "Iteration 20: score 0.800568027184 with std 0.0036353390238 for params {'max_features': 'auto', 'min_samples_split': 8, 'n_estimators': 195, 'max_depth': 7, 'min_samples_leaf': 9}\n",
      "Iteration 21: score 0.795728058134 with std 0.00235262175418 for params {'max_features': 'log2', 'min_samples_split': 8, 'n_estimators': 380, 'max_depth': None, 'min_samples_leaf': 5}\n",
      "Iteration 22: score 0.782449322991 with std 0.00342124745847 for params {'max_features': 'auto', 'min_samples_split': 8, 'n_estimators': 55, 'max_depth': 6, 'min_samples_leaf': 9}\n",
      "Iteration 23: score 0.799852592102 with std 0.00203307613003 for params {'max_features': 'log2', 'min_samples_split': 2, 'n_estimators': 195, 'max_depth': 7, 'min_samples_leaf': 9}\n",
      "Iteration 24: score 0.798842459206 with std 0.00259605088403 for params {'max_features': 'log2', 'min_samples_split': 2, 'n_estimators': 195, 'max_depth': 7, 'min_samples_leaf': 9}\n"
     ]
    }
   ],
   "source": [
    "start_time = time.time()\n",
    "\n",
    "gbm = GradientBoostingClassifier()\n",
    "space_gbm = {\n",
    "      \"max_depth\": hp.choice(\"max_depth\", range(2, 8, 1) + [None]),\n",
    "      #\"loss\": [\"ls\", \"lad\", \"huber\", \"quantile\"],\n",
    "      \"max_features\": hp.choice(\"max_features\", [\"auto\", \"sqrt\", \"log2\", None]),\n",
    "      \"min_samples_split\": hp.choice(\"min_samples_split\", range(1, 11)),\n",
    "      \"min_samples_leaf\": hp.choice(\"min_samples_leaf\", range(1, 11)),\n",
    "      \"n_estimators\": hp.choice(\"n_estimators\", range(50, 500, 5))}\n",
    "def objective_gbm(space):\n",
    "    estimator = gbm.set_params(**space)\n",
    "    scores = cross_val_score(estimator, x_train, y_train.status_group, cv=3)\n",
    "    print \"Iteration %s: score %s with std %s for params %s\" % (objective.current_iteration,\n",
    "                                                                scores.mean(), \n",
    "                                                                scores.std(), \n",
    "                                                               str(space))\n",
    "    objective.current_iteration += 1\n",
    "    return - scores.mean()\n",
    "    \n",
    "objective.current_iteration = 0\n",
    "\n",
    "best_gbm = fmin(fn=objective_gbm, space=space_gbm, \n",
    "            algo=tpe.suggest, max_evals=25)"
   ]
  },
  {
   "cell_type": "code",
   "execution_count": 82,
   "metadata": {
    "collapsed": false
   },
   "outputs": [
    {
     "data": {
      "text/plain": [
       "195"
      ]
     },
     "execution_count": 82,
     "metadata": {},
     "output_type": "execute_result"
    }
   ],
   "source": [
    "range(50, 500, 5)[29]"
   ]
  },
  {
   "cell_type": "code",
   "execution_count": 46,
   "metadata": {
    "collapsed": false
   },
   "outputs": [
    {
     "data": {
      "text/plain": [
       "{'max_depth': 7,\n",
       " 'max_features': 'auto',\n",
       " 'min_samples_leaf': 9,\n",
       " 'min_samples_split': 8,\n",
       " 'n_estimators': 195}"
      ]
     },
     "execution_count": 46,
     "metadata": {},
     "output_type": "execute_result"
    }
   ],
   "source": [
    "space_eval(space_gbm, {'max_depth': 5,\n",
    " 'max_features': 0,\n",
    " 'min_samples_leaf': 8,\n",
    " 'min_samples_split': 7,\n",
    " 'n_estimators': 29})"
   ]
  },
  {
   "cell_type": "code",
   "execution_count": 80,
   "metadata": {
    "collapsed": false
   },
   "outputs": [
    {
     "data": {
      "text/plain": [
       "{'max_depth': 5,\n",
       " 'max_features': 0,\n",
       " 'min_samples_leaf': 8,\n",
       " 'min_samples_split': 7,\n",
       " 'n_estimators': 29}"
      ]
     },
     "execution_count": 80,
     "metadata": {},
     "output_type": "execute_result"
    }
   ],
   "source": [
    "best_gbm"
   ]
  },
  {
   "cell_type": "code",
   "execution_count": 41,
   "metadata": {
    "collapsed": false
   },
   "outputs": [
    {
     "name": "stdout",
     "output_type": "stream",
     "text": [
      "Iteration 0: score 0.559469709085 with std 0.000427535798603 for params {'C': 0.03125, 'gamma': 0.25}\n",
      "Iteration 1: score 0.732512584371 with std 0.00176112149152 for params {'C': 8, 'gamma': 0.5}\n",
      "Iteration 2: score 0.632302125138 with std 0.00230500989109 for params {'C': 128, 'gamma': 64}\n",
      "Iteration 3: score 0.626641385254 with std 0.00182893959391 for params {'C': 16, 'gamma': 128}\n",
      "Iteration 4: score 0.666813841987 with std 0.00324980730855 for params {'C': 0.25, 'gamma': 0.5}\n",
      "Iteration 5: score 0.735669043757 with std 0.00441253784903 for params {'C': 1, 'gamma': 0.5}\n",
      "Iteration 6: score 0.650862739222 with std 0.00371512630556 for params {'C': 128, 'gamma': 16}\n",
      "Iteration 7: score 0.727293726481 with std 0.00168245327642 for params {'C': 32, 'gamma': 0.5}\n",
      "Iteration 8: score 0.768792217124 with std 0.00262170140703 for params {'C': 1, 'gamma': 0.125}\n",
      "Iteration 9: score 0.763931168442 with std 0.00405107116476 for params {'C': 2, 'gamma': 0.03125}\n",
      "Iteration 10: score 0.626536162412 with std 0.00153725027652 for params {'C': 8, 'gamma': 128}\n",
      "Iteration 11: score 0.622664095244 with std 0.00132918381964 for params {'C': 1, 'gamma': 128}\n",
      "elapsed time: 38982.155616\n"
     ]
    }
   ],
   "source": [
    "start_time = time.time()\n",
    "\n",
    "svc = SVC()\n",
    "\n",
    "space_svc = {\n",
    "    \"C\": hp.choice(\"C\", [2**x for x in range(-5, 8, 1)]),\n",
    "    \"gamma\": hp.choice(\"gamma\", [2**x for x in range(-5, 8, 1)])\n",
    "}\n",
    "\n",
    "def objective_svc(space):\n",
    "    estimator = svc.set_params(**space)\n",
    "    scores = cross_val_score(estimator, x_train, y_train.status_group, cv=3)\n",
    "    print \"Iteration %s: score %s with std %s for params %s\" % (objective.current_iteration,\n",
    "                                                                scores.mean(), \n",
    "                                                                scores.std(), \n",
    "                                                               str(space))\n",
    "    objective.current_iteration += 1\n",
    "    return - scores.mean()\n",
    "    \n",
    "objective_svc.current_iteration = 0\n",
    "\n",
    "best_svc = fmin(fn=objective_svc, space=space_svc, \n",
    "            algo=tpe.suggest, max_evals=12)\n",
    "\n",
    "print \"elapsed time: \" + str(time.time() - start_time)"
   ]
  },
  {
   "cell_type": "code",
   "execution_count": 44,
   "metadata": {
    "collapsed": false
   },
   "outputs": [
    {
     "data": {
      "text/plain": [
       "{'C': 1, 'gamma': 0.125}"
      ]
     },
     "execution_count": 44,
     "metadata": {},
     "output_type": "execute_result"
    }
   ],
   "source": [
    "space_eval(space_svc, best_svc)"
   ]
  },
  {
   "cell_type": "code",
   "execution_count": 38,
   "metadata": {
    "collapsed": false
   },
   "outputs": [
    {
     "name": "stderr",
     "output_type": "stream",
     "text": [
      "/home/vlandeau/.local/lib/python2.7/site-packages/sklearn/externals/joblib/hashing.py:197: DeprecationWarning: Changing the shape of non-C contiguous array by\n",
      "descriptor assignment is deprecated. To maintain\n",
      "the Fortran contiguity of a multidimensional Fortran\n",
      "array, use 'a.T.view(...).T' instead\n",
      "  obj_bytes_view = obj.view(self.np.uint8)\n",
      "/home/vlandeau/.local/lib/python2.7/site-packages/sklearn/externals/joblib/hashing.py:197: DeprecationWarning: Changing the shape of non-C contiguous array by\n",
      "descriptor assignment is deprecated. To maintain\n",
      "the Fortran contiguity of a multidimensional Fortran\n",
      "array, use 'a.T.view(...).T' instead\n",
      "  obj_bytes_view = obj.view(self.np.uint8)\n",
      "/home/vlandeau/.local/lib/python2.7/site-packages/sklearn/externals/joblib/hashing.py:197: DeprecationWarning: Changing the shape of non-C contiguous array by\n",
      "descriptor assignment is deprecated. To maintain\n",
      "the Fortran contiguity of a multidimensional Fortran\n",
      "array, use 'a.T.view(...).T' instead\n",
      "  obj_bytes_view = obj.view(self.np.uint8)\n",
      "/home/vlandeau/.local/lib/python2.7/site-packages/sklearn/externals/joblib/hashing.py:197: DeprecationWarning: Changing the shape of non-C contiguous array by\n",
      "descriptor assignment is deprecated. To maintain\n",
      "the Fortran contiguity of a multidimensional Fortran\n",
      "array, use 'a.T.view(...).T' instead\n",
      "  obj_bytes_view = obj.view(self.np.uint8)\n",
      "/home/vlandeau/.local/lib/python2.7/site-packages/sklearn/externals/joblib/hashing.py:197: DeprecationWarning: Changing the shape of non-C contiguous array by\n",
      "descriptor assignment is deprecated. To maintain\n",
      "the Fortran contiguity of a multidimensional Fortran\n",
      "array, use 'a.T.view(...).T' instead\n",
      "  obj_bytes_view = obj.view(self.np.uint8)\n",
      "/home/vlandeau/.local/lib/python2.7/site-packages/sklearn/externals/joblib/hashing.py:197: DeprecationWarning: Changing the shape of non-C contiguous array by\n",
      "descriptor assignment is deprecated. To maintain\n",
      "the Fortran contiguity of a multidimensional Fortran\n",
      "array, use 'a.T.view(...).T' instead\n",
      "  obj_bytes_view = obj.view(self.np.uint8)\n",
      "/home/vlandeau/.local/lib/python2.7/site-packages/sklearn/externals/joblib/hashing.py:197: DeprecationWarning: Changing the shape of non-C contiguous array by\n",
      "descriptor assignment is deprecated. To maintain\n",
      "the Fortran contiguity of a multidimensional Fortran\n",
      "array, use 'a.T.view(...).T' instead\n",
      "  obj_bytes_view = obj.view(self.np.uint8)\n",
      "/home/vlandeau/.local/lib/python2.7/site-packages/sklearn/externals/joblib/hashing.py:197: DeprecationWarning: Changing the shape of non-C contiguous array by\n",
      "descriptor assignment is deprecated. To maintain\n",
      "the Fortran contiguity of a multidimensional Fortran\n",
      "array, use 'a.T.view(...).T' instead\n",
      "  obj_bytes_view = obj.view(self.np.uint8)\n",
      "/home/vlandeau/.local/lib/python2.7/site-packages/sklearn/externals/joblib/hashing.py:197: DeprecationWarning: Changing the shape of non-C contiguous array by\n",
      "descriptor assignment is deprecated. To maintain\n",
      "the Fortran contiguity of a multidimensional Fortran\n",
      "array, use 'a.T.view(...).T' instead\n",
      "  obj_bytes_view = obj.view(self.np.uint8)\n",
      "/home/vlandeau/.local/lib/python2.7/site-packages/sklearn/externals/joblib/hashing.py:197: DeprecationWarning: Changing the shape of non-C contiguous array by\n",
      "descriptor assignment is deprecated. To maintain\n",
      "the Fortran contiguity of a multidimensional Fortran\n",
      "array, use 'a.T.view(...).T' instead\n",
      "  obj_bytes_view = obj.view(self.np.uint8)\n",
      "/home/vlandeau/.local/lib/python2.7/site-packages/sklearn/externals/joblib/hashing.py:197: DeprecationWarning: Changing the shape of non-C contiguous array by\n",
      "descriptor assignment is deprecated. To maintain\n",
      "the Fortran contiguity of a multidimensional Fortran\n",
      "array, use 'a.T.view(...).T' instead\n",
      "  obj_bytes_view = obj.view(self.np.uint8)\n",
      "/home/vlandeau/.local/lib/python2.7/site-packages/sklearn/externals/joblib/hashing.py:197: DeprecationWarning: Changing the shape of non-C contiguous array by\n",
      "descriptor assignment is deprecated. To maintain\n",
      "the Fortran contiguity of a multidimensional Fortran\n",
      "array, use 'a.T.view(...).T' instead\n",
      "  obj_bytes_view = obj.view(self.np.uint8)\n",
      "/home/vlandeau/.local/lib/python2.7/site-packages/sklearn/externals/joblib/hashing.py:197: DeprecationWarning: Changing the shape of non-C contiguous array by\n",
      "descriptor assignment is deprecated. To maintain\n",
      "the Fortran contiguity of a multidimensional Fortran\n",
      "array, use 'a.T.view(...).T' instead\n",
      "  obj_bytes_view = obj.view(self.np.uint8)\n",
      "/home/vlandeau/.local/lib/python2.7/site-packages/sklearn/externals/joblib/hashing.py:197: DeprecationWarning: Changing the shape of non-C contiguous array by\n",
      "descriptor assignment is deprecated. To maintain\n",
      "the Fortran contiguity of a multidimensional Fortran\n",
      "array, use 'a.T.view(...).T' instead\n",
      "  obj_bytes_view = obj.view(self.np.uint8)\n",
      "/home/vlandeau/.local/lib/python2.7/site-packages/sklearn/externals/joblib/hashing.py:197: DeprecationWarning: Changing the shape of non-C contiguous array by\n",
      "descriptor assignment is deprecated. To maintain\n",
      "the Fortran contiguity of a multidimensional Fortran\n",
      "array, use 'a.T.view(...).T' instead\n",
      "  obj_bytes_view = obj.view(self.np.uint8)\n",
      "/home/vlandeau/.local/lib/python2.7/site-packages/sklearn/externals/joblib/hashing.py:197: DeprecationWarning: Changing the shape of non-C contiguous array by\n",
      "descriptor assignment is deprecated. To maintain\n",
      "the Fortran contiguity of a multidimensional Fortran\n",
      "array, use 'a.T.view(...).T' instead\n",
      "  obj_bytes_view = obj.view(self.np.uint8)\n",
      "/home/vlandeau/.local/lib/python2.7/site-packages/sklearn/externals/joblib/hashing.py:197: DeprecationWarning: Changing the shape of non-C contiguous array by\n",
      "descriptor assignment is deprecated. To maintain\n",
      "the Fortran contiguity of a multidimensional Fortran\n",
      "array, use 'a.T.view(...).T' instead\n",
      "  obj_bytes_view = obj.view(self.np.uint8)\n",
      "/home/vlandeau/.local/lib/python2.7/site-packages/sklearn/externals/joblib/hashing.py:197: DeprecationWarning: Changing the shape of non-C contiguous array by\n",
      "descriptor assignment is deprecated. To maintain\n",
      "the Fortran contiguity of a multidimensional Fortran\n",
      "array, use 'a.T.view(...).T' instead\n",
      "  obj_bytes_view = obj.view(self.np.uint8)\n",
      "/home/vlandeau/.local/lib/python2.7/site-packages/sklearn/externals/joblib/hashing.py:197: DeprecationWarning: Changing the shape of non-C contiguous array by\n",
      "descriptor assignment is deprecated. To maintain\n",
      "the Fortran contiguity of a multidimensional Fortran\n",
      "array, use 'a.T.view(...).T' instead\n",
      "  obj_bytes_view = obj.view(self.np.uint8)\n",
      "/home/vlandeau/.local/lib/python2.7/site-packages/sklearn/externals/joblib/hashing.py:197: DeprecationWarning: Changing the shape of non-C contiguous array by\n",
      "descriptor assignment is deprecated. To maintain\n",
      "the Fortran contiguity of a multidimensional Fortran\n",
      "array, use 'a.T.view(...).T' instead\n",
      "  obj_bytes_view = obj.view(self.np.uint8)\n",
      "/home/vlandeau/.local/lib/python2.7/site-packages/sklearn/externals/joblib/hashing.py:197: DeprecationWarning: Changing the shape of non-C contiguous array by\n",
      "descriptor assignment is deprecated. To maintain\n",
      "the Fortran contiguity of a multidimensional Fortran\n",
      "array, use 'a.T.view(...).T' instead\n",
      "  obj_bytes_view = obj.view(self.np.uint8)\n",
      "/home/vlandeau/.local/lib/python2.7/site-packages/sklearn/externals/joblib/hashing.py:197: DeprecationWarning: Changing the shape of non-C contiguous array by\n",
      "descriptor assignment is deprecated. To maintain\n",
      "the Fortran contiguity of a multidimensional Fortran\n",
      "array, use 'a.T.view(...).T' instead\n",
      "  obj_bytes_view = obj.view(self.np.uint8)\n",
      "/home/vlandeau/.local/lib/python2.7/site-packages/sklearn/externals/joblib/hashing.py:197: DeprecationWarning: Changing the shape of non-C contiguous array by\n",
      "descriptor assignment is deprecated. To maintain\n",
      "the Fortran contiguity of a multidimensional Fortran\n",
      "array, use 'a.T.view(...).T' instead\n",
      "  obj_bytes_view = obj.view(self.np.uint8)\n",
      "/home/vlandeau/.local/lib/python2.7/site-packages/sklearn/externals/joblib/hashing.py:197: DeprecationWarning: Changing the shape of non-C contiguous array by\n",
      "descriptor assignment is deprecated. To maintain\n",
      "the Fortran contiguity of a multidimensional Fortran\n",
      "array, use 'a.T.view(...).T' instead\n",
      "  obj_bytes_view = obj.view(self.np.uint8)\n",
      "/home/vlandeau/.local/lib/python2.7/site-packages/sklearn/externals/joblib/hashing.py:197: DeprecationWarning: Changing the shape of non-C contiguous array by\n",
      "descriptor assignment is deprecated. To maintain\n",
      "the Fortran contiguity of a multidimensional Fortran\n",
      "array, use 'a.T.view(...).T' instead\n",
      "  obj_bytes_view = obj.view(self.np.uint8)\n",
      "/home/vlandeau/.local/lib/python2.7/site-packages/sklearn/externals/joblib/hashing.py:197: DeprecationWarning: Changing the shape of non-C contiguous array by\n",
      "descriptor assignment is deprecated. To maintain\n",
      "the Fortran contiguity of a multidimensional Fortran\n",
      "array, use 'a.T.view(...).T' instead\n",
      "  obj_bytes_view = obj.view(self.np.uint8)\n",
      "/home/vlandeau/.local/lib/python2.7/site-packages/sklearn/externals/joblib/hashing.py:197: DeprecationWarning: Changing the shape of non-C contiguous array by\n",
      "descriptor assignment is deprecated. To maintain\n",
      "the Fortran contiguity of a multidimensional Fortran\n",
      "array, use 'a.T.view(...).T' instead\n",
      "  obj_bytes_view = obj.view(self.np.uint8)\n",
      "/home/vlandeau/.local/lib/python2.7/site-packages/sklearn/externals/joblib/hashing.py:197: DeprecationWarning: Changing the shape of non-C contiguous array by\n",
      "descriptor assignment is deprecated. To maintain\n",
      "the Fortran contiguity of a multidimensional Fortran\n",
      "array, use 'a.T.view(...).T' instead\n",
      "  obj_bytes_view = obj.view(self.np.uint8)\n",
      "/home/vlandeau/.local/lib/python2.7/site-packages/sklearn/externals/joblib/hashing.py:197: DeprecationWarning: Changing the shape of non-C contiguous array by\n",
      "descriptor assignment is deprecated. To maintain\n",
      "the Fortran contiguity of a multidimensional Fortran\n",
      "array, use 'a.T.view(...).T' instead\n",
      "  obj_bytes_view = obj.view(self.np.uint8)\n",
      "/home/vlandeau/.local/lib/python2.7/site-packages/sklearn/externals/joblib/hashing.py:197: DeprecationWarning: Changing the shape of non-C contiguous array by\n",
      "descriptor assignment is deprecated. To maintain\n",
      "the Fortran contiguity of a multidimensional Fortran\n",
      "array, use 'a.T.view(...).T' instead\n",
      "  obj_bytes_view = obj.view(self.np.uint8)\n",
      "/home/vlandeau/.local/lib/python2.7/site-packages/sklearn/externals/joblib/hashing.py:197: DeprecationWarning: Changing the shape of non-C contiguous array by\n",
      "descriptor assignment is deprecated. To maintain\n",
      "the Fortran contiguity of a multidimensional Fortran\n",
      "array, use 'a.T.view(...).T' instead\n",
      "  obj_bytes_view = obj.view(self.np.uint8)\n",
      "/home/vlandeau/.local/lib/python2.7/site-packages/sklearn/externals/joblib/hashing.py:197: DeprecationWarning: Changing the shape of non-C contiguous array by\n",
      "descriptor assignment is deprecated. To maintain\n",
      "the Fortran contiguity of a multidimensional Fortran\n",
      "array, use 'a.T.view(...).T' instead\n",
      "  obj_bytes_view = obj.view(self.np.uint8)\n",
      "/home/vlandeau/.local/lib/python2.7/site-packages/sklearn/externals/joblib/hashing.py:197: DeprecationWarning: Changing the shape of non-C contiguous array by\n",
      "descriptor assignment is deprecated. To maintain\n",
      "the Fortran contiguity of a multidimensional Fortran\n",
      "array, use 'a.T.view(...).T' instead\n",
      "  obj_bytes_view = obj.view(self.np.uint8)\n",
      "/home/vlandeau/.local/lib/python2.7/site-packages/sklearn/externals/joblib/hashing.py:197: DeprecationWarning: Changing the shape of non-C contiguous array by\n",
      "descriptor assignment is deprecated. To maintain\n",
      "the Fortran contiguity of a multidimensional Fortran\n",
      "array, use 'a.T.view(...).T' instead\n",
      "  obj_bytes_view = obj.view(self.np.uint8)\n",
      "/home/vlandeau/.local/lib/python2.7/site-packages/sklearn/externals/joblib/hashing.py:197: DeprecationWarning: Changing the shape of non-C contiguous array by\n",
      "descriptor assignment is deprecated. To maintain\n",
      "the Fortran contiguity of a multidimensional Fortran\n",
      "array, use 'a.T.view(...).T' instead\n",
      "  obj_bytes_view = obj.view(self.np.uint8)\n",
      "/home/vlandeau/.local/lib/python2.7/site-packages/sklearn/externals/joblib/hashing.py:197: DeprecationWarning: Changing the shape of non-C contiguous array by\n",
      "descriptor assignment is deprecated. To maintain\n",
      "the Fortran contiguity of a multidimensional Fortran\n",
      "array, use 'a.T.view(...).T' instead\n",
      "  obj_bytes_view = obj.view(self.np.uint8)\n",
      "/home/vlandeau/.local/lib/python2.7/site-packages/sklearn/externals/joblib/hashing.py:197: DeprecationWarning: Changing the shape of non-C contiguous array by\n",
      "descriptor assignment is deprecated. To maintain\n",
      "the Fortran contiguity of a multidimensional Fortran\n",
      "array, use 'a.T.view(...).T' instead\n",
      "  obj_bytes_view = obj.view(self.np.uint8)\n",
      "/home/vlandeau/.local/lib/python2.7/site-packages/sklearn/externals/joblib/hashing.py:197: DeprecationWarning: Changing the shape of non-C contiguous array by\n",
      "descriptor assignment is deprecated. To maintain\n",
      "the Fortran contiguity of a multidimensional Fortran\n",
      "array, use 'a.T.view(...).T' instead\n",
      "  obj_bytes_view = obj.view(self.np.uint8)\n",
      "/home/vlandeau/.local/lib/python2.7/site-packages/sklearn/externals/joblib/hashing.py:197: DeprecationWarning: Changing the shape of non-C contiguous array by\n",
      "descriptor assignment is deprecated. To maintain\n",
      "the Fortran contiguity of a multidimensional Fortran\n",
      "array, use 'a.T.view(...).T' instead\n",
      "  obj_bytes_view = obj.view(self.np.uint8)\n",
      "/home/vlandeau/.local/lib/python2.7/site-packages/sklearn/externals/joblib/hashing.py:197: DeprecationWarning: Changing the shape of non-C contiguous array by\n",
      "descriptor assignment is deprecated. To maintain\n",
      "the Fortran contiguity of a multidimensional Fortran\n",
      "array, use 'a.T.view(...).T' instead\n",
      "  obj_bytes_view = obj.view(self.np.uint8)\n",
      "/home/vlandeau/.local/lib/python2.7/site-packages/sklearn/externals/joblib/hashing.py:197: DeprecationWarning: Changing the shape of non-C contiguous array by\n",
      "descriptor assignment is deprecated. To maintain\n",
      "the Fortran contiguity of a multidimensional Fortran\n",
      "array, use 'a.T.view(...).T' instead\n",
      "  obj_bytes_view = obj.view(self.np.uint8)\n",
      "/home/vlandeau/.local/lib/python2.7/site-packages/sklearn/externals/joblib/hashing.py:197: DeprecationWarning: Changing the shape of non-C contiguous array by\n",
      "descriptor assignment is deprecated. To maintain\n",
      "the Fortran contiguity of a multidimensional Fortran\n",
      "array, use 'a.T.view(...).T' instead\n",
      "  obj_bytes_view = obj.view(self.np.uint8)\n",
      "/home/vlandeau/.local/lib/python2.7/site-packages/sklearn/externals/joblib/hashing.py:197: DeprecationWarning: Changing the shape of non-C contiguous array by\n",
      "descriptor assignment is deprecated. To maintain\n",
      "the Fortran contiguity of a multidimensional Fortran\n",
      "array, use 'a.T.view(...).T' instead\n",
      "  obj_bytes_view = obj.view(self.np.uint8)\n",
      "/home/vlandeau/.local/lib/python2.7/site-packages/sklearn/externals/joblib/hashing.py:197: DeprecationWarning: Changing the shape of non-C contiguous array by\n",
      "descriptor assignment is deprecated. To maintain\n",
      "the Fortran contiguity of a multidimensional Fortran\n",
      "array, use 'a.T.view(...).T' instead\n",
      "  obj_bytes_view = obj.view(self.np.uint8)\n",
      "/home/vlandeau/.local/lib/python2.7/site-packages/sklearn/externals/joblib/hashing.py:197: DeprecationWarning: Changing the shape of non-C contiguous array by\n",
      "descriptor assignment is deprecated. To maintain\n",
      "the Fortran contiguity of a multidimensional Fortran\n",
      "array, use 'a.T.view(...).T' instead\n",
      "  obj_bytes_view = obj.view(self.np.uint8)\n",
      "/home/vlandeau/.local/lib/python2.7/site-packages/sklearn/externals/joblib/hashing.py:197: DeprecationWarning: Changing the shape of non-C contiguous array by\n",
      "descriptor assignment is deprecated. To maintain\n",
      "the Fortran contiguity of a multidimensional Fortran\n",
      "array, use 'a.T.view(...).T' instead\n",
      "  obj_bytes_view = obj.view(self.np.uint8)\n",
      "/home/vlandeau/.local/lib/python2.7/site-packages/sklearn/externals/joblib/hashing.py:197: DeprecationWarning: Changing the shape of non-C contiguous array by\n",
      "descriptor assignment is deprecated. To maintain\n",
      "the Fortran contiguity of a multidimensional Fortran\n",
      "array, use 'a.T.view(...).T' instead\n",
      "  obj_bytes_view = obj.view(self.np.uint8)\n",
      "/home/vlandeau/.local/lib/python2.7/site-packages/sklearn/externals/joblib/hashing.py:197: DeprecationWarning: Changing the shape of non-C contiguous array by\n",
      "descriptor assignment is deprecated. To maintain\n",
      "the Fortran contiguity of a multidimensional Fortran\n",
      "array, use 'a.T.view(...).T' instead\n",
      "  obj_bytes_view = obj.view(self.np.uint8)\n",
      "/home/vlandeau/.local/lib/python2.7/site-packages/sklearn/externals/joblib/hashing.py:197: DeprecationWarning: Changing the shape of non-C contiguous array by\n",
      "descriptor assignment is deprecated. To maintain\n",
      "the Fortran contiguity of a multidimensional Fortran\n",
      "array, use 'a.T.view(...).T' instead\n",
      "  obj_bytes_view = obj.view(self.np.uint8)\n",
      "/home/vlandeau/.local/lib/python2.7/site-packages/sklearn/externals/joblib/hashing.py:197: DeprecationWarning: Changing the shape of non-C contiguous array by\n",
      "descriptor assignment is deprecated. To maintain\n",
      "the Fortran contiguity of a multidimensional Fortran\n",
      "array, use 'a.T.view(...).T' instead\n",
      "  obj_bytes_view = obj.view(self.np.uint8)\n",
      "/home/vlandeau/.local/lib/python2.7/site-packages/sklearn/externals/joblib/hashing.py:197: DeprecationWarning: Changing the shape of non-C contiguous array by\n",
      "descriptor assignment is deprecated. To maintain\n",
      "the Fortran contiguity of a multidimensional Fortran\n",
      "array, use 'a.T.view(...).T' instead\n",
      "  obj_bytes_view = obj.view(self.np.uint8)\n",
      "/home/vlandeau/.local/lib/python2.7/site-packages/sklearn/externals/joblib/hashing.py:197: DeprecationWarning: Changing the shape of non-C contiguous array by\n",
      "descriptor assignment is deprecated. To maintain\n",
      "the Fortran contiguity of a multidimensional Fortran\n",
      "array, use 'a.T.view(...).T' instead\n",
      "  obj_bytes_view = obj.view(self.np.uint8)\n",
      "/home/vlandeau/.local/lib/python2.7/site-packages/sklearn/externals/joblib/hashing.py:197: DeprecationWarning: Changing the shape of non-C contiguous array by\n",
      "descriptor assignment is deprecated. To maintain\n",
      "the Fortran contiguity of a multidimensional Fortran\n",
      "array, use 'a.T.view(...).T' instead\n",
      "  obj_bytes_view = obj.view(self.np.uint8)\n",
      "/home/vlandeau/.local/lib/python2.7/site-packages/sklearn/externals/joblib/hashing.py:197: DeprecationWarning: Changing the shape of non-C contiguous array by\n",
      "descriptor assignment is deprecated. To maintain\n",
      "the Fortran contiguity of a multidimensional Fortran\n",
      "array, use 'a.T.view(...).T' instead\n",
      "  obj_bytes_view = obj.view(self.np.uint8)\n",
      "/home/vlandeau/.local/lib/python2.7/site-packages/sklearn/externals/joblib/hashing.py:197: DeprecationWarning: Changing the shape of non-C contiguous array by\n",
      "descriptor assignment is deprecated. To maintain\n",
      "the Fortran contiguity of a multidimensional Fortran\n",
      "array, use 'a.T.view(...).T' instead\n",
      "  obj_bytes_view = obj.view(self.np.uint8)\n",
      "/home/vlandeau/.local/lib/python2.7/site-packages/sklearn/externals/joblib/hashing.py:197: DeprecationWarning: Changing the shape of non-C contiguous array by\n",
      "descriptor assignment is deprecated. To maintain\n",
      "the Fortran contiguity of a multidimensional Fortran\n",
      "array, use 'a.T.view(...).T' instead\n",
      "  obj_bytes_view = obj.view(self.np.uint8)\n",
      "/home/vlandeau/.local/lib/python2.7/site-packages/sklearn/externals/joblib/hashing.py:197: DeprecationWarning: Changing the shape of non-C contiguous array by\n",
      "descriptor assignment is deprecated. To maintain\n",
      "the Fortran contiguity of a multidimensional Fortran\n",
      "array, use 'a.T.view(...).T' instead\n",
      "  obj_bytes_view = obj.view(self.np.uint8)\n",
      "/home/vlandeau/.local/lib/python2.7/site-packages/sklearn/externals/joblib/hashing.py:197: DeprecationWarning: Changing the shape of non-C contiguous array by\n",
      "descriptor assignment is deprecated. To maintain\n",
      "the Fortran contiguity of a multidimensional Fortran\n",
      "array, use 'a.T.view(...).T' instead\n",
      "  obj_bytes_view = obj.view(self.np.uint8)\n",
      "/home/vlandeau/.local/lib/python2.7/site-packages/sklearn/externals/joblib/hashing.py:197: DeprecationWarning: Changing the shape of non-C contiguous array by\n",
      "descriptor assignment is deprecated. To maintain\n",
      "the Fortran contiguity of a multidimensional Fortran\n",
      "array, use 'a.T.view(...).T' instead\n",
      "  obj_bytes_view = obj.view(self.np.uint8)\n",
      "/home/vlandeau/.local/lib/python2.7/site-packages/sklearn/externals/joblib/hashing.py:197: DeprecationWarning: Changing the shape of non-C contiguous array by\n",
      "descriptor assignment is deprecated. To maintain\n",
      "the Fortran contiguity of a multidimensional Fortran\n",
      "array, use 'a.T.view(...).T' instead\n",
      "  obj_bytes_view = obj.view(self.np.uint8)\n"
     ]
    },
    {
     "ename": "ValueError",
     "evalue": "Can't handle mix of unknown and multiclass",
     "output_type": "error",
     "traceback": [
      "\u001b[0;31m---------------------------------------------------------------------------\u001b[0m",
      "\u001b[0;31mValueError\u001b[0m                                Traceback (most recent call last)",
      "\u001b[0;32m<ipython-input-38-4ea8a7206c01>\u001b[0m in \u001b[0;36m<module>\u001b[0;34m()\u001b[0m\n\u001b[1;32m     20\u001b[0m \u001b[0;34m\u001b[0m\u001b[0m\n\u001b[1;32m     21\u001b[0m \u001b[0my_test_pred\u001b[0m \u001b[0;34m=\u001b[0m \u001b[0mrandom_search\u001b[0m\u001b[0;34m.\u001b[0m\u001b[0mpredict\u001b[0m\u001b[0;34m(\u001b[0m\u001b[0mx_test1\u001b[0m\u001b[0;34m)\u001b[0m\u001b[0;34m\u001b[0m\u001b[0m\n\u001b[0;32m---> 22\u001b[0;31m \u001b[0;32mprint\u001b[0m \u001b[0mconfusion_matrix\u001b[0m\u001b[0;34m(\u001b[0m\u001b[0my_true\u001b[0m\u001b[0;34m=\u001b[0m\u001b[0my_test\u001b[0m\u001b[0;34m,\u001b[0m \u001b[0my_pred\u001b[0m\u001b[0;34m=\u001b[0m\u001b[0my_test_pred\u001b[0m\u001b[0;34m)\u001b[0m\u001b[0;34m\u001b[0m\u001b[0m\n\u001b[0m\u001b[1;32m     23\u001b[0m \u001b[0;34m\u001b[0m\u001b[0m\n\u001b[1;32m     24\u001b[0m \u001b[0;32mprint\u001b[0m \u001b[0;34m\"elapsed time: \"\u001b[0m \u001b[0;34m+\u001b[0m \u001b[0mstr\u001b[0m\u001b[0;34m(\u001b[0m\u001b[0mtime\u001b[0m\u001b[0;34m.\u001b[0m\u001b[0mtime\u001b[0m\u001b[0;34m(\u001b[0m\u001b[0;34m)\u001b[0m \u001b[0;34m-\u001b[0m \u001b[0mstart_time\u001b[0m\u001b[0;34m)\u001b[0m\u001b[0;34m\u001b[0m\u001b[0m\n",
      "\u001b[0;32m/home/vlandeau/.local/lib/python2.7/site-packages/sklearn/metrics/classification.pyc\u001b[0m in \u001b[0;36mconfusion_matrix\u001b[0;34m(y_true, y_pred, labels, sample_weight)\u001b[0m\n\u001b[1;32m    233\u001b[0m \u001b[0;34m\u001b[0m\u001b[0m\n\u001b[1;32m    234\u001b[0m     \"\"\"\n\u001b[0;32m--> 235\u001b[0;31m     \u001b[0my_type\u001b[0m\u001b[0;34m,\u001b[0m \u001b[0my_true\u001b[0m\u001b[0;34m,\u001b[0m \u001b[0my_pred\u001b[0m \u001b[0;34m=\u001b[0m \u001b[0m_check_targets\u001b[0m\u001b[0;34m(\u001b[0m\u001b[0my_true\u001b[0m\u001b[0;34m,\u001b[0m \u001b[0my_pred\u001b[0m\u001b[0;34m)\u001b[0m\u001b[0;34m\u001b[0m\u001b[0m\n\u001b[0m\u001b[1;32m    236\u001b[0m     \u001b[0;32mif\u001b[0m \u001b[0my_type\u001b[0m \u001b[0;32mnot\u001b[0m \u001b[0;32min\u001b[0m \u001b[0;34m(\u001b[0m\u001b[0;34m\"binary\"\u001b[0m\u001b[0;34m,\u001b[0m \u001b[0;34m\"multiclass\"\u001b[0m\u001b[0;34m)\u001b[0m\u001b[0;34m:\u001b[0m\u001b[0;34m\u001b[0m\u001b[0m\n\u001b[1;32m    237\u001b[0m         \u001b[0;32mraise\u001b[0m \u001b[0mValueError\u001b[0m\u001b[0;34m(\u001b[0m\u001b[0;34m\"%s is not supported\"\u001b[0m \u001b[0;34m%\u001b[0m \u001b[0my_type\u001b[0m\u001b[0;34m)\u001b[0m\u001b[0;34m\u001b[0m\u001b[0m\n",
      "\u001b[0;32m/home/vlandeau/.local/lib/python2.7/site-packages/sklearn/metrics/classification.pyc\u001b[0m in \u001b[0;36m_check_targets\u001b[0;34m(y_true, y_pred)\u001b[0m\n\u001b[1;32m     79\u001b[0m     \u001b[0;32mif\u001b[0m \u001b[0mlen\u001b[0m\u001b[0;34m(\u001b[0m\u001b[0my_type\u001b[0m\u001b[0;34m)\u001b[0m \u001b[0;34m>\u001b[0m \u001b[0;36m1\u001b[0m\u001b[0;34m:\u001b[0m\u001b[0;34m\u001b[0m\u001b[0m\n\u001b[1;32m     80\u001b[0m         raise ValueError(\"Can't handle mix of {0} and {1}\"\n\u001b[0;32m---> 81\u001b[0;31m                          \"\".format(type_true, type_pred))\n\u001b[0m\u001b[1;32m     82\u001b[0m \u001b[0;34m\u001b[0m\u001b[0m\n\u001b[1;32m     83\u001b[0m     \u001b[0;31m# We can't have more than one value on y_type => The set is no more needed\u001b[0m\u001b[0;34m\u001b[0m\u001b[0;34m\u001b[0m\u001b[0m\n",
      "\u001b[0;31mValueError\u001b[0m: Can't handle mix of unknown and multiclass"
     ]
    }
   ],
   "source": [
    "start_time = time.time()\n",
    "\n",
    "rf = RandomForestClassifier()\n",
    "\n",
    "param_dist = {\"max_depth\": [2, 3, 4, None],\n",
    "              \"max_features\": [\"auto\", \"sqrt\", \"log2\", None],\n",
    "              \"min_samples_split\": sp_randint(1, 11),\n",
    "              \"min_samples_leaf\": sp_randint(1, 11),\n",
    "              \"n_estimators\": sp_randint(50, 500),\n",
    "              \"bootstrap\": [True, False],\n",
    "              \"criterion\": [\"gini\", \"entropy\"]}\n",
    "\n",
    "# run randomized search\n",
    "n_iter_search = 20\n",
    "random_search = RandomizedSearchCV(rf, param_distributions=param_dist,\n",
    "                                   n_iter=n_iter_search,\n",
    "                                  n_jobs=4)\n",
    "\n",
    "random_search.fit(x_train1, y_train.status_group)\n",
    "\n",
    "y_test_pred = random_search.predict(x_test1)\n",
    "print confusion_matrix(y_true=y_test, y_pred=y_test_pred)\n",
    "\n",
    "print \"elapsed time: \" + str(time.time() - start_time)"
   ]
  },
  {
   "cell_type": "code",
   "execution_count": 40,
   "metadata": {
    "collapsed": false
   },
   "outputs": [
    {
     "data": {
      "text/plain": [
       "RandomForestClassifier(bootstrap=False, class_weight=None,\n",
       "            criterion='entropy', max_depth=None, max_features='log2',\n",
       "            max_leaf_nodes=None, min_samples_leaf=1, min_samples_split=10,\n",
       "            min_weight_fraction_leaf=0.0, n_estimators=355, n_jobs=1,\n",
       "            oob_score=False, random_state=None, verbose=0,\n",
       "            warm_start=False)"
      ]
     },
     "execution_count": 40,
     "metadata": {},
     "output_type": "execute_result"
    }
   ],
   "source": [
    "random_search.best_estimator_"
   ]
  },
  {
   "cell_type": "code",
   "execution_count": 9,
   "metadata": {
    "collapsed": false
   },
   "outputs": [
    {
     "ename": "NameError",
     "evalue": "name 'features' is not defined",
     "output_type": "error",
     "traceback": [
      "\u001b[0;31m---------------------------------------------------------------------------\u001b[0m",
      "\u001b[0;31mNameError\u001b[0m                                 Traceback (most recent call last)",
      "\u001b[0;32m<ipython-input-9-c496759ecdcc>\u001b[0m in \u001b[0;36m<module>\u001b[0;34m()\u001b[0m\n\u001b[0;32m----> 1\u001b[0;31m \u001b[0mimportances\u001b[0m \u001b[0;34m=\u001b[0m \u001b[0mpd\u001b[0m\u001b[0;34m.\u001b[0m\u001b[0mDataFrame\u001b[0m\u001b[0;34m(\u001b[0m\u001b[0;34m{\u001b[0m\u001b[0;34m\"features\"\u001b[0m\u001b[0;34m:\u001b[0m \u001b[0mfeatures\u001b[0m\u001b[0;34m,\u001b[0m \u001b[0;34m\"importance\"\u001b[0m\u001b[0;34m:\u001b[0m \u001b[0mrandom_search\u001b[0m\u001b[0;34m.\u001b[0m\u001b[0mbest_estimator_\u001b[0m\u001b[0;34m.\u001b[0m\u001b[0mfeature_importances_\u001b[0m\u001b[0;34m}\u001b[0m\u001b[0;34m)\u001b[0m\u001b[0;34m\u001b[0m\u001b[0m\n\u001b[0m\u001b[1;32m      2\u001b[0m \u001b[0mimportances\u001b[0m\u001b[0;34m.\u001b[0m\u001b[0msort_values\u001b[0m\u001b[0;34m(\u001b[0m\u001b[0mby\u001b[0m\u001b[0;34m=\u001b[0m\u001b[0;34m'importance'\u001b[0m\u001b[0;34m,\u001b[0m \u001b[0minplace\u001b[0m\u001b[0;34m=\u001b[0m\u001b[0mTrue\u001b[0m\u001b[0;34m,\u001b[0m \u001b[0mascending\u001b[0m\u001b[0;34m=\u001b[0m\u001b[0mFalse\u001b[0m\u001b[0;34m)\u001b[0m\u001b[0;34m\u001b[0m\u001b[0m\n\u001b[1;32m      3\u001b[0m \u001b[0mimportances\u001b[0m\u001b[0;34m[\u001b[0m\u001b[0;34m:\u001b[0m\u001b[0;36m20\u001b[0m\u001b[0;34m]\u001b[0m\u001b[0;34m\u001b[0m\u001b[0m\n",
      "\u001b[0;31mNameError\u001b[0m: name 'features' is not defined"
     ]
    }
   ],
   "source": [
    "importances = pd.DataFrame({\"features\": features, \"importance\": random_search.best_estimator_.feature_importances_})\n",
    "importances.sort_values(by='importance', inplace=True, ascending=False)\n",
    "importances[:20]"
   ]
  },
  {
   "cell_type": "code",
   "execution_count": 42,
   "metadata": {
    "collapsed": false
   },
   "outputs": [
    {
     "ename": "NameError",
     "evalue": "name 'x_test' is not defined",
     "output_type": "error",
     "traceback": [
      "\u001b[0;31m---------------------------------------------------------------------------\u001b[0m",
      "\u001b[0;31mNameError\u001b[0m                                 Traceback (most recent call last)",
      "\u001b[0;32m<ipython-input-42-e5ef19b2092a>\u001b[0m in \u001b[0;36m<module>\u001b[0;34m()\u001b[0m\n\u001b[1;32m     17\u001b[0m \u001b[0mrandom_search_gbm\u001b[0m\u001b[0;34m.\u001b[0m\u001b[0mfit\u001b[0m\u001b[0;34m(\u001b[0m\u001b[0mx_train1\u001b[0m\u001b[0;34m,\u001b[0m \u001b[0my_train\u001b[0m\u001b[0;34m.\u001b[0m\u001b[0mstatus_group\u001b[0m\u001b[0;34m)\u001b[0m\u001b[0;34m\u001b[0m\u001b[0m\n\u001b[1;32m     18\u001b[0m \u001b[0;34m\u001b[0m\u001b[0m\n\u001b[0;32m---> 19\u001b[0;31m \u001b[0my_test_pred\u001b[0m \u001b[0;34m=\u001b[0m \u001b[0mrandom_search_gbm\u001b[0m\u001b[0;34m.\u001b[0m\u001b[0mpredict\u001b[0m\u001b[0;34m(\u001b[0m\u001b[0mx_test\u001b[0m\u001b[0;34m)\u001b[0m\u001b[0;34m\u001b[0m\u001b[0m\n\u001b[0m\u001b[1;32m     20\u001b[0m \u001b[0;32mprint\u001b[0m \u001b[0mconfusion_matrix\u001b[0m\u001b[0;34m(\u001b[0m\u001b[0my_true\u001b[0m\u001b[0;34m=\u001b[0m\u001b[0my_test\u001b[0m\u001b[0;34m,\u001b[0m \u001b[0my_pred\u001b[0m\u001b[0;34m=\u001b[0m\u001b[0my_test_pred\u001b[0m\u001b[0;34m)\u001b[0m\u001b[0;34m\u001b[0m\u001b[0m\n\u001b[1;32m     21\u001b[0m \u001b[0;34m\u001b[0m\u001b[0m\n",
      "\u001b[0;31mNameError\u001b[0m: name 'x_test' is not defined"
     ]
    }
   ],
   "source": [
    "start_time = time.time()\n",
    "\n",
    "gbm = GradientBoostingClassifier()\n",
    "\n",
    "param_dist = {\"max_depth\": [2, 3, 4, None],\n",
    "              #\"loss\": [\"ls\", \"lad\", \"huber\", \"quantile\"],\n",
    "              \"max_features\": [\"auto\", \"sqrt\", \"log2\", None],\n",
    "              \"min_samples_split\": sp_randint(1, 11),\n",
    "              \"min_samples_leaf\": sp_randint(1, 11),\n",
    "              \"n_estimators\": sp_randint(50, 500)}\n",
    "\n",
    "# run randomized search\n",
    "n_iter_search = 20\n",
    "random_search_gbm = RandomizedSearchCV(gbm, param_distributions=param_dist,\n",
    "                                   n_iter=n_iter_search)\n",
    "\n",
    "random_search_gbm.fit(x_train1, y_train.status_group)"
   ]
  },
  {
   "cell_type": "code",
   "execution_count": 44,
   "metadata": {
    "collapsed": false
   },
   "outputs": [
    {
     "ename": "ValueError",
     "evalue": "Mix of label input types (string and number)",
     "output_type": "error",
     "traceback": [
      "\u001b[0;31m---------------------------------------------------------------------------\u001b[0m",
      "\u001b[0;31mValueError\u001b[0m                                Traceback (most recent call last)",
      "\u001b[0;32m<ipython-input-44-77326ed5a8c0>\u001b[0m in \u001b[0;36m<module>\u001b[0;34m()\u001b[0m\n\u001b[1;32m      1\u001b[0m \u001b[0my_test_pred\u001b[0m \u001b[0;34m=\u001b[0m \u001b[0mrandom_search_gbm\u001b[0m\u001b[0;34m.\u001b[0m\u001b[0mpredict\u001b[0m\u001b[0;34m(\u001b[0m\u001b[0mx_test1\u001b[0m\u001b[0;34m)\u001b[0m\u001b[0;34m\u001b[0m\u001b[0m\n\u001b[0;32m----> 2\u001b[0;31m \u001b[0;32mprint\u001b[0m \u001b[0mconfusion_matrix\u001b[0m\u001b[0;34m(\u001b[0m\u001b[0my_true\u001b[0m\u001b[0;34m=\u001b[0m\u001b[0my_array_test\u001b[0m\u001b[0;34m,\u001b[0m \u001b[0my_pred\u001b[0m\u001b[0;34m=\u001b[0m\u001b[0my_test_pred\u001b[0m\u001b[0;34m)\u001b[0m\u001b[0;34m\u001b[0m\u001b[0m\n\u001b[0m\u001b[1;32m      3\u001b[0m \u001b[0;34m\u001b[0m\u001b[0m\n\u001b[1;32m      4\u001b[0m \u001b[0;32mprint\u001b[0m \u001b[0;34m\"elapsed time: \"\u001b[0m \u001b[0;34m+\u001b[0m \u001b[0mstr\u001b[0m\u001b[0;34m(\u001b[0m\u001b[0mtime\u001b[0m\u001b[0;34m.\u001b[0m\u001b[0mtime\u001b[0m\u001b[0;34m(\u001b[0m\u001b[0;34m)\u001b[0m \u001b[0;34m-\u001b[0m \u001b[0mstart_time\u001b[0m\u001b[0;34m)\u001b[0m\u001b[0;34m\u001b[0m\u001b[0m\n",
      "\u001b[0;32m/home/vlandeau/.local/lib/python2.7/site-packages/sklearn/metrics/classification.pyc\u001b[0m in \u001b[0;36mconfusion_matrix\u001b[0;34m(y_true, y_pred, labels, sample_weight)\u001b[0m\n\u001b[1;32m    238\u001b[0m \u001b[0;34m\u001b[0m\u001b[0m\n\u001b[1;32m    239\u001b[0m     \u001b[0;32mif\u001b[0m \u001b[0mlabels\u001b[0m \u001b[0;32mis\u001b[0m \u001b[0mNone\u001b[0m\u001b[0;34m:\u001b[0m\u001b[0;34m\u001b[0m\u001b[0m\n\u001b[0;32m--> 240\u001b[0;31m         \u001b[0mlabels\u001b[0m \u001b[0;34m=\u001b[0m \u001b[0munique_labels\u001b[0m\u001b[0;34m(\u001b[0m\u001b[0my_true\u001b[0m\u001b[0;34m,\u001b[0m \u001b[0my_pred\u001b[0m\u001b[0;34m)\u001b[0m\u001b[0;34m\u001b[0m\u001b[0m\n\u001b[0m\u001b[1;32m    241\u001b[0m     \u001b[0;32melse\u001b[0m\u001b[0;34m:\u001b[0m\u001b[0;34m\u001b[0m\u001b[0m\n\u001b[1;32m    242\u001b[0m         \u001b[0mlabels\u001b[0m \u001b[0;34m=\u001b[0m \u001b[0mnp\u001b[0m\u001b[0;34m.\u001b[0m\u001b[0masarray\u001b[0m\u001b[0;34m(\u001b[0m\u001b[0mlabels\u001b[0m\u001b[0;34m)\u001b[0m\u001b[0;34m\u001b[0m\u001b[0m\n",
      "\u001b[0;32m/home/vlandeau/.local/lib/python2.7/site-packages/sklearn/utils/multiclass.pyc\u001b[0m in \u001b[0;36munique_labels\u001b[0;34m(*ys)\u001b[0m\n\u001b[1;32m    103\u001b[0m     \u001b[0;31m# Check that we don't mix string type with number type\u001b[0m\u001b[0;34m\u001b[0m\u001b[0;34m\u001b[0m\u001b[0m\n\u001b[1;32m    104\u001b[0m     \u001b[0;32mif\u001b[0m \u001b[0;34m(\u001b[0m\u001b[0mlen\u001b[0m\u001b[0;34m(\u001b[0m\u001b[0mset\u001b[0m\u001b[0;34m(\u001b[0m\u001b[0misinstance\u001b[0m\u001b[0;34m(\u001b[0m\u001b[0mlabel\u001b[0m\u001b[0;34m,\u001b[0m \u001b[0mstring_types\u001b[0m\u001b[0;34m)\u001b[0m \u001b[0;32mfor\u001b[0m \u001b[0mlabel\u001b[0m \u001b[0;32min\u001b[0m \u001b[0mys_labels\u001b[0m\u001b[0;34m)\u001b[0m\u001b[0;34m)\u001b[0m \u001b[0;34m>\u001b[0m \u001b[0;36m1\u001b[0m\u001b[0;34m)\u001b[0m\u001b[0;34m:\u001b[0m\u001b[0;34m\u001b[0m\u001b[0m\n\u001b[0;32m--> 105\u001b[0;31m         \u001b[0;32mraise\u001b[0m \u001b[0mValueError\u001b[0m\u001b[0;34m(\u001b[0m\u001b[0;34m\"Mix of label input types (string and number)\"\u001b[0m\u001b[0;34m)\u001b[0m\u001b[0;34m\u001b[0m\u001b[0m\n\u001b[0m\u001b[1;32m    106\u001b[0m \u001b[0;34m\u001b[0m\u001b[0m\n\u001b[1;32m    107\u001b[0m     \u001b[0;32mreturn\u001b[0m \u001b[0mnp\u001b[0m\u001b[0;34m.\u001b[0m\u001b[0marray\u001b[0m\u001b[0;34m(\u001b[0m\u001b[0msorted\u001b[0m\u001b[0;34m(\u001b[0m\u001b[0mys_labels\u001b[0m\u001b[0;34m)\u001b[0m\u001b[0;34m)\u001b[0m\u001b[0;34m\u001b[0m\u001b[0m\n",
      "\u001b[0;31mValueError\u001b[0m: Mix of label input types (string and number)"
     ]
    }
   ],
   "source": [
    "y_test_pred = random_search_gbm.predict(x_test1)\n",
    "print confusion_matrix(y_true=y_array_test, y_pred=y_test_pred)\n",
    "\n",
    "print \"elapsed time: \" + str(time.time() - start_time)"
   ]
  },
  {
   "cell_type": "code",
   "execution_count": 26,
   "metadata": {
    "collapsed": false
   },
   "outputs": [
    {
     "data": {
      "text/plain": [
       "0.80572390572390573"
      ]
     },
     "execution_count": 26,
     "metadata": {},
     "output_type": "execute_result"
    }
   ],
   "source": [
    "random_search_gbm.score(x_test1, y_test)"
   ]
  },
  {
   "cell_type": "code",
   "execution_count": 45,
   "metadata": {
    "collapsed": false
   },
   "outputs": [
    {
     "data": {
      "text/plain": [
       "GradientBoostingClassifier(init=None, learning_rate=0.1, loss='deviance',\n",
       "              max_depth=None, max_features='auto', max_leaf_nodes=None,\n",
       "              min_samples_leaf=6, min_samples_split=8,\n",
       "              min_weight_fraction_leaf=0.0, n_estimators=347,\n",
       "              presort='auto', random_state=None, subsample=1.0, verbose=0,\n",
       "              warm_start=False)"
      ]
     },
     "execution_count": 45,
     "metadata": {},
     "output_type": "execute_result"
    }
   ],
   "source": [
    "random_search_gbm.best_estimator_"
   ]
  },
  {
   "cell_type": "code",
   "execution_count": 28,
   "metadata": {
    "collapsed": false
   },
   "outputs": [
    {
     "data": {
      "text/html": [
       "<div>\n",
       "<table border=\"1\" class=\"dataframe\">\n",
       "  <thead>\n",
       "    <tr style=\"text-align: right;\">\n",
       "      <th></th>\n",
       "      <th>features</th>\n",
       "      <th>importance</th>\n",
       "    </tr>\n",
       "  </thead>\n",
       "  <tbody>\n",
       "    <tr>\n",
       "      <th>2</th>\n",
       "      <td>longitude</td>\n",
       "      <td>0.277025</td>\n",
       "    </tr>\n",
       "    <tr>\n",
       "      <th>3</th>\n",
       "      <td>latitude</td>\n",
       "      <td>0.221642</td>\n",
       "    </tr>\n",
       "    <tr>\n",
       "      <th>112</th>\n",
       "      <td>date_recorded_since_beginning</td>\n",
       "      <td>0.113343</td>\n",
       "    </tr>\n",
       "    <tr>\n",
       "      <th>1</th>\n",
       "      <td>gps_height</td>\n",
       "      <td>0.075606</td>\n",
       "    </tr>\n",
       "    <tr>\n",
       "      <th>8</th>\n",
       "      <td>funder_OTHER</td>\n",
       "      <td>0.036063</td>\n",
       "    </tr>\n",
       "    <tr>\n",
       "      <th>109</th>\n",
       "      <td>date_recorded_weekday</td>\n",
       "      <td>0.033973</td>\n",
       "    </tr>\n",
       "    <tr>\n",
       "      <th>5</th>\n",
       "      <td>population</td>\n",
       "      <td>0.033667</td>\n",
       "    </tr>\n",
       "    <tr>\n",
       "      <th>83</th>\n",
       "      <td>quality_group_salty</td>\n",
       "      <td>0.018050</td>\n",
       "    </tr>\n",
       "    <tr>\n",
       "      <th>6</th>\n",
       "      <td>construction_year</td>\n",
       "      <td>0.012990</td>\n",
       "    </tr>\n",
       "    <tr>\n",
       "      <th>10</th>\n",
       "      <td>installer_OTHER</td>\n",
       "      <td>0.012351</td>\n",
       "    </tr>\n",
       "    <tr>\n",
       "      <th>51</th>\n",
       "      <td>extraction_type_nira/tanira</td>\n",
       "      <td>0.012266</td>\n",
       "    </tr>\n",
       "    <tr>\n",
       "      <th>9</th>\n",
       "      <td>installer_DWE</td>\n",
       "      <td>0.010509</td>\n",
       "    </tr>\n",
       "    <tr>\n",
       "      <th>56</th>\n",
       "      <td>extraction_type_group_nira/tanira</td>\n",
       "      <td>0.009306</td>\n",
       "    </tr>\n",
       "    <tr>\n",
       "      <th>0</th>\n",
       "      <td>amount_tsh</td>\n",
       "      <td>0.008940</td>\n",
       "    </tr>\n",
       "    <tr>\n",
       "      <th>76</th>\n",
       "      <td>payment_type_never pay</td>\n",
       "      <td>0.008784</td>\n",
       "    </tr>\n",
       "    <tr>\n",
       "      <th>68</th>\n",
       "      <td>payment_never pay</td>\n",
       "      <td>0.007539</td>\n",
       "    </tr>\n",
       "    <tr>\n",
       "      <th>89</th>\n",
       "      <td>quantity_group_enough</td>\n",
       "      <td>0.005721</td>\n",
       "    </tr>\n",
       "    <tr>\n",
       "      <th>82</th>\n",
       "      <td>quality_group_good</td>\n",
       "      <td>0.005650</td>\n",
       "    </tr>\n",
       "    <tr>\n",
       "      <th>81</th>\n",
       "      <td>water_quality_soft</td>\n",
       "      <td>0.004855</td>\n",
       "    </tr>\n",
       "    <tr>\n",
       "      <th>85</th>\n",
       "      <td>quantity_enough</td>\n",
       "      <td>0.004796</td>\n",
       "    </tr>\n",
       "  </tbody>\n",
       "</table>\n",
       "</div>"
      ],
      "text/plain": [
       "                              features  importance\n",
       "2                            longitude    0.277025\n",
       "3                             latitude    0.221642\n",
       "112      date_recorded_since_beginning    0.113343\n",
       "1                           gps_height    0.075606\n",
       "8                         funder_OTHER    0.036063\n",
       "109              date_recorded_weekday    0.033973\n",
       "5                           population    0.033667\n",
       "83                 quality_group_salty    0.018050\n",
       "6                    construction_year    0.012990\n",
       "10                     installer_OTHER    0.012351\n",
       "51         extraction_type_nira/tanira    0.012266\n",
       "9                        installer_DWE    0.010509\n",
       "56   extraction_type_group_nira/tanira    0.009306\n",
       "0                           amount_tsh    0.008940\n",
       "76              payment_type_never pay    0.008784\n",
       "68                   payment_never pay    0.007539\n",
       "89               quantity_group_enough    0.005721\n",
       "82                  quality_group_good    0.005650\n",
       "81                  water_quality_soft    0.004855\n",
       "85                     quantity_enough    0.004796"
      ]
     },
     "execution_count": 28,
     "metadata": {},
     "output_type": "execute_result"
    }
   ],
   "source": [
    "importances = pd.DataFrame({\"features\": features, \"importance\": random_search_gbm.best_estimator_.feature_importances_})\n",
    "importances.sort_values(by='importance', inplace=True, ascending=False)\n",
    "importances[:20]"
   ]
  },
  {
   "cell_type": "code",
   "execution_count": 46,
   "metadata": {
    "collapsed": false
   },
   "outputs": [
    {
     "name": "stderr",
     "output_type": "stream",
     "text": [
      "/home/vlandeau/.local/lib/python2.7/site-packages/sklearn/externals/joblib/hashing.py:197: DeprecationWarning: Changing the shape of non-C contiguous array by\n",
      "descriptor assignment is deprecated. To maintain\n",
      "the Fortran contiguity of a multidimensional Fortran\n",
      "array, use 'a.T.view(...).T' instead\n",
      "  obj_bytes_view = obj.view(self.np.uint8)\n",
      "/home/vlandeau/.local/lib/python2.7/site-packages/sklearn/externals/joblib/hashing.py:197: DeprecationWarning: Changing the shape of non-C contiguous array by\n",
      "descriptor assignment is deprecated. To maintain\n",
      "the Fortran contiguity of a multidimensional Fortran\n",
      "array, use 'a.T.view(...).T' instead\n",
      "  obj_bytes_view = obj.view(self.np.uint8)\n",
      "/home/vlandeau/.local/lib/python2.7/site-packages/sklearn/externals/joblib/hashing.py:197: DeprecationWarning: Changing the shape of non-C contiguous array by\n",
      "descriptor assignment is deprecated. To maintain\n",
      "the Fortran contiguity of a multidimensional Fortran\n",
      "array, use 'a.T.view(...).T' instead\n",
      "  obj_bytes_view = obj.view(self.np.uint8)\n",
      "/home/vlandeau/.local/lib/python2.7/site-packages/sklearn/externals/joblib/hashing.py:197: DeprecationWarning: Changing the shape of non-C contiguous array by\n",
      "descriptor assignment is deprecated. To maintain\n",
      "the Fortran contiguity of a multidimensional Fortran\n",
      "array, use 'a.T.view(...).T' instead\n",
      "  obj_bytes_view = obj.view(self.np.uint8)\n",
      "/home/vlandeau/.local/lib/python2.7/site-packages/sklearn/externals/joblib/hashing.py:197: DeprecationWarning: Changing the shape of non-C contiguous array by\n",
      "descriptor assignment is deprecated. To maintain\n",
      "the Fortran contiguity of a multidimensional Fortran\n",
      "array, use 'a.T.view(...).T' instead\n",
      "  obj_bytes_view = obj.view(self.np.uint8)\n",
      "/home/vlandeau/.local/lib/python2.7/site-packages/sklearn/externals/joblib/hashing.py:197: DeprecationWarning: Changing the shape of non-C contiguous array by\n",
      "descriptor assignment is deprecated. To maintain\n",
      "the Fortran contiguity of a multidimensional Fortran\n",
      "array, use 'a.T.view(...).T' instead\n",
      "  obj_bytes_view = obj.view(self.np.uint8)\n",
      "/home/vlandeau/.local/lib/python2.7/site-packages/sklearn/externals/joblib/hashing.py:197: DeprecationWarning: Changing the shape of non-C contiguous array by\n",
      "descriptor assignment is deprecated. To maintain\n",
      "the Fortran contiguity of a multidimensional Fortran\n",
      "array, use 'a.T.view(...).T' instead\n",
      "  obj_bytes_view = obj.view(self.np.uint8)\n",
      "/home/vlandeau/.local/lib/python2.7/site-packages/sklearn/externals/joblib/hashing.py:197: DeprecationWarning: Changing the shape of non-C contiguous array by\n",
      "descriptor assignment is deprecated. To maintain\n",
      "the Fortran contiguity of a multidimensional Fortran\n",
      "array, use 'a.T.view(...).T' instead\n",
      "  obj_bytes_view = obj.view(self.np.uint8)\n",
      "/home/vlandeau/.local/lib/python2.7/site-packages/sklearn/externals/joblib/hashing.py:197: DeprecationWarning: Changing the shape of non-C contiguous array by\n",
      "descriptor assignment is deprecated. To maintain\n",
      "the Fortran contiguity of a multidimensional Fortran\n",
      "array, use 'a.T.view(...).T' instead\n",
      "  obj_bytes_view = obj.view(self.np.uint8)\n",
      "/home/vlandeau/.local/lib/python2.7/site-packages/sklearn/externals/joblib/hashing.py:197: DeprecationWarning: Changing the shape of non-C contiguous array by\n",
      "descriptor assignment is deprecated. To maintain\n",
      "the Fortran contiguity of a multidimensional Fortran\n",
      "array, use 'a.T.view(...).T' instead\n",
      "  obj_bytes_view = obj.view(self.np.uint8)\n",
      "/home/vlandeau/.local/lib/python2.7/site-packages/sklearn/externals/joblib/hashing.py:197: DeprecationWarning: Changing the shape of non-C contiguous array by\n",
      "descriptor assignment is deprecated. To maintain\n",
      "the Fortran contiguity of a multidimensional Fortran\n",
      "array, use 'a.T.view(...).T' instead\n",
      "  obj_bytes_view = obj.view(self.np.uint8)\n",
      "/home/vlandeau/.local/lib/python2.7/site-packages/sklearn/externals/joblib/hashing.py:197: DeprecationWarning: Changing the shape of non-C contiguous array by\n",
      "descriptor assignment is deprecated. To maintain\n",
      "the Fortran contiguity of a multidimensional Fortran\n",
      "array, use 'a.T.view(...).T' instead\n",
      "  obj_bytes_view = obj.view(self.np.uint8)\n",
      "/home/vlandeau/.local/lib/python2.7/site-packages/sklearn/externals/joblib/hashing.py:197: DeprecationWarning: Changing the shape of non-C contiguous array by\n",
      "descriptor assignment is deprecated. To maintain\n",
      "the Fortran contiguity of a multidimensional Fortran\n",
      "array, use 'a.T.view(...).T' instead\n",
      "  obj_bytes_view = obj.view(self.np.uint8)\n",
      "/home/vlandeau/.local/lib/python2.7/site-packages/sklearn/externals/joblib/hashing.py:197: DeprecationWarning: Changing the shape of non-C contiguous array by\n",
      "descriptor assignment is deprecated. To maintain\n",
      "the Fortran contiguity of a multidimensional Fortran\n",
      "array, use 'a.T.view(...).T' instead\n",
      "  obj_bytes_view = obj.view(self.np.uint8)\n",
      "/home/vlandeau/.local/lib/python2.7/site-packages/sklearn/externals/joblib/hashing.py:197: DeprecationWarning: Changing the shape of non-C contiguous array by\n",
      "descriptor assignment is deprecated. To maintain\n",
      "the Fortran contiguity of a multidimensional Fortran\n",
      "array, use 'a.T.view(...).T' instead\n",
      "  obj_bytes_view = obj.view(self.np.uint8)\n",
      "/home/vlandeau/.local/lib/python2.7/site-packages/sklearn/externals/joblib/hashing.py:197: DeprecationWarning: Changing the shape of non-C contiguous array by\n",
      "descriptor assignment is deprecated. To maintain\n",
      "the Fortran contiguity of a multidimensional Fortran\n",
      "array, use 'a.T.view(...).T' instead\n",
      "  obj_bytes_view = obj.view(self.np.uint8)\n",
      "/home/vlandeau/.local/lib/python2.7/site-packages/sklearn/externals/joblib/hashing.py:197: DeprecationWarning: Changing the shape of non-C contiguous array by\n",
      "descriptor assignment is deprecated. To maintain\n",
      "the Fortran contiguity of a multidimensional Fortran\n",
      "array, use 'a.T.view(...).T' instead\n",
      "  obj_bytes_view = obj.view(self.np.uint8)\n",
      "/home/vlandeau/.local/lib/python2.7/site-packages/sklearn/externals/joblib/hashing.py:197: DeprecationWarning: Changing the shape of non-C contiguous array by\n",
      "descriptor assignment is deprecated. To maintain\n",
      "the Fortran contiguity of a multidimensional Fortran\n",
      "array, use 'a.T.view(...).T' instead\n",
      "  obj_bytes_view = obj.view(self.np.uint8)\n",
      "/home/vlandeau/.local/lib/python2.7/site-packages/sklearn/externals/joblib/hashing.py:197: DeprecationWarning: Changing the shape of non-C contiguous array by\n",
      "descriptor assignment is deprecated. To maintain\n",
      "the Fortran contiguity of a multidimensional Fortran\n",
      "array, use 'a.T.view(...).T' instead\n",
      "  obj_bytes_view = obj.view(self.np.uint8)\n",
      "/home/vlandeau/.local/lib/python2.7/site-packages/sklearn/externals/joblib/hashing.py:197: DeprecationWarning: Changing the shape of non-C contiguous array by\n",
      "descriptor assignment is deprecated. To maintain\n",
      "the Fortran contiguity of a multidimensional Fortran\n",
      "array, use 'a.T.view(...).T' instead\n",
      "  obj_bytes_view = obj.view(self.np.uint8)\n",
      "/home/vlandeau/.local/lib/python2.7/site-packages/sklearn/externals/joblib/hashing.py:197: DeprecationWarning: Changing the shape of non-C contiguous array by\n",
      "descriptor assignment is deprecated. To maintain\n",
      "the Fortran contiguity of a multidimensional Fortran\n",
      "array, use 'a.T.view(...).T' instead\n",
      "  obj_bytes_view = obj.view(self.np.uint8)\n",
      "/home/vlandeau/.local/lib/python2.7/site-packages/sklearn/externals/joblib/hashing.py:197: DeprecationWarning: Changing the shape of non-C contiguous array by\n",
      "descriptor assignment is deprecated. To maintain\n",
      "the Fortran contiguity of a multidimensional Fortran\n",
      "array, use 'a.T.view(...).T' instead\n",
      "  obj_bytes_view = obj.view(self.np.uint8)\n",
      "/home/vlandeau/.local/lib/python2.7/site-packages/sklearn/externals/joblib/hashing.py:197: DeprecationWarning: Changing the shape of non-C contiguous array by\n",
      "descriptor assignment is deprecated. To maintain\n",
      "the Fortran contiguity of a multidimensional Fortran\n",
      "array, use 'a.T.view(...).T' instead\n",
      "  obj_bytes_view = obj.view(self.np.uint8)\n",
      "/home/vlandeau/.local/lib/python2.7/site-packages/sklearn/externals/joblib/hashing.py:197: DeprecationWarning: Changing the shape of non-C contiguous array by\n",
      "descriptor assignment is deprecated. To maintain\n",
      "the Fortran contiguity of a multidimensional Fortran\n",
      "array, use 'a.T.view(...).T' instead\n",
      "  obj_bytes_view = obj.view(self.np.uint8)\n",
      "/home/vlandeau/.local/lib/python2.7/site-packages/sklearn/externals/joblib/hashing.py:197: DeprecationWarning: Changing the shape of non-C contiguous array by\n",
      "descriptor assignment is deprecated. To maintain\n",
      "the Fortran contiguity of a multidimensional Fortran\n",
      "array, use 'a.T.view(...).T' instead\n",
      "  obj_bytes_view = obj.view(self.np.uint8)\n",
      "/home/vlandeau/.local/lib/python2.7/site-packages/sklearn/externals/joblib/hashing.py:197: DeprecationWarning: Changing the shape of non-C contiguous array by\n",
      "descriptor assignment is deprecated. To maintain\n",
      "the Fortran contiguity of a multidimensional Fortran\n",
      "array, use 'a.T.view(...).T' instead\n",
      "  obj_bytes_view = obj.view(self.np.uint8)\n",
      "/home/vlandeau/.local/lib/python2.7/site-packages/sklearn/externals/joblib/hashing.py:197: DeprecationWarning: Changing the shape of non-C contiguous array by\n",
      "descriptor assignment is deprecated. To maintain\n",
      "the Fortran contiguity of a multidimensional Fortran\n",
      "array, use 'a.T.view(...).T' instead\n",
      "  obj_bytes_view = obj.view(self.np.uint8)\n",
      "/home/vlandeau/.local/lib/python2.7/site-packages/sklearn/externals/joblib/hashing.py:197: DeprecationWarning: Changing the shape of non-C contiguous array by\n",
      "descriptor assignment is deprecated. To maintain\n",
      "the Fortran contiguity of a multidimensional Fortran\n",
      "array, use 'a.T.view(...).T' instead\n",
      "  obj_bytes_view = obj.view(self.np.uint8)\n",
      "/home/vlandeau/.local/lib/python2.7/site-packages/sklearn/externals/joblib/hashing.py:197: DeprecationWarning: Changing the shape of non-C contiguous array by\n",
      "descriptor assignment is deprecated. To maintain\n",
      "the Fortran contiguity of a multidimensional Fortran\n",
      "array, use 'a.T.view(...).T' instead\n",
      "  obj_bytes_view = obj.view(self.np.uint8)\n",
      "/home/vlandeau/.local/lib/python2.7/site-packages/sklearn/externals/joblib/hashing.py:197: DeprecationWarning: Changing the shape of non-C contiguous array by\n",
      "descriptor assignment is deprecated. To maintain\n",
      "the Fortran contiguity of a multidimensional Fortran\n",
      "array, use 'a.T.view(...).T' instead\n",
      "  obj_bytes_view = obj.view(self.np.uint8)\n",
      "/home/vlandeau/.local/lib/python2.7/site-packages/sklearn/externals/joblib/hashing.py:197: DeprecationWarning: Changing the shape of non-C contiguous array by\n",
      "descriptor assignment is deprecated. To maintain\n",
      "the Fortran contiguity of a multidimensional Fortran\n",
      "array, use 'a.T.view(...).T' instead\n",
      "  obj_bytes_view = obj.view(self.np.uint8)\n",
      "/home/vlandeau/.local/lib/python2.7/site-packages/sklearn/externals/joblib/hashing.py:197: DeprecationWarning: Changing the shape of non-C contiguous array by\n",
      "descriptor assignment is deprecated. To maintain\n",
      "the Fortran contiguity of a multidimensional Fortran\n",
      "array, use 'a.T.view(...).T' instead\n",
      "  obj_bytes_view = obj.view(self.np.uint8)\n",
      "/home/vlandeau/.local/lib/python2.7/site-packages/sklearn/externals/joblib/hashing.py:197: DeprecationWarning: Changing the shape of non-C contiguous array by\n",
      "descriptor assignment is deprecated. To maintain\n",
      "the Fortran contiguity of a multidimensional Fortran\n",
      "array, use 'a.T.view(...).T' instead\n",
      "  obj_bytes_view = obj.view(self.np.uint8)\n",
      "/home/vlandeau/.local/lib/python2.7/site-packages/sklearn/externals/joblib/hashing.py:197: DeprecationWarning: Changing the shape of non-C contiguous array by\n",
      "descriptor assignment is deprecated. To maintain\n",
      "the Fortran contiguity of a multidimensional Fortran\n",
      "array, use 'a.T.view(...).T' instead\n",
      "  obj_bytes_view = obj.view(self.np.uint8)\n",
      "/home/vlandeau/.local/lib/python2.7/site-packages/sklearn/externals/joblib/hashing.py:197: DeprecationWarning: Changing the shape of non-C contiguous array by\n",
      "descriptor assignment is deprecated. To maintain\n",
      "the Fortran contiguity of a multidimensional Fortran\n",
      "array, use 'a.T.view(...).T' instead\n",
      "  obj_bytes_view = obj.view(self.np.uint8)\n",
      "/home/vlandeau/.local/lib/python2.7/site-packages/sklearn/externals/joblib/hashing.py:197: DeprecationWarning: Changing the shape of non-C contiguous array by\n",
      "descriptor assignment is deprecated. To maintain\n",
      "the Fortran contiguity of a multidimensional Fortran\n",
      "array, use 'a.T.view(...).T' instead\n",
      "  obj_bytes_view = obj.view(self.np.uint8)\n",
      "/home/vlandeau/.local/lib/python2.7/site-packages/sklearn/externals/joblib/hashing.py:197: DeprecationWarning: Changing the shape of non-C contiguous array by\n",
      "descriptor assignment is deprecated. To maintain\n",
      "the Fortran contiguity of a multidimensional Fortran\n",
      "array, use 'a.T.view(...).T' instead\n",
      "  obj_bytes_view = obj.view(self.np.uint8)\n",
      "/home/vlandeau/.local/lib/python2.7/site-packages/sklearn/externals/joblib/hashing.py:197: DeprecationWarning: Changing the shape of non-C contiguous array by\n",
      "descriptor assignment is deprecated. To maintain\n",
      "the Fortran contiguity of a multidimensional Fortran\n",
      "array, use 'a.T.view(...).T' instead\n",
      "  obj_bytes_view = obj.view(self.np.uint8)\n",
      "/home/vlandeau/.local/lib/python2.7/site-packages/sklearn/externals/joblib/hashing.py:197: DeprecationWarning: Changing the shape of non-C contiguous array by\n",
      "descriptor assignment is deprecated. To maintain\n",
      "the Fortran contiguity of a multidimensional Fortran\n",
      "array, use 'a.T.view(...).T' instead\n",
      "  obj_bytes_view = obj.view(self.np.uint8)\n",
      "/home/vlandeau/.local/lib/python2.7/site-packages/sklearn/externals/joblib/hashing.py:197: DeprecationWarning: Changing the shape of non-C contiguous array by\n",
      "descriptor assignment is deprecated. To maintain\n",
      "the Fortran contiguity of a multidimensional Fortran\n",
      "array, use 'a.T.view(...).T' instead\n",
      "  obj_bytes_view = obj.view(self.np.uint8)\n",
      "/home/vlandeau/.local/lib/python2.7/site-packages/sklearn/externals/joblib/hashing.py:197: DeprecationWarning: Changing the shape of non-C contiguous array by\n",
      "descriptor assignment is deprecated. To maintain\n",
      "the Fortran contiguity of a multidimensional Fortran\n",
      "array, use 'a.T.view(...).T' instead\n",
      "  obj_bytes_view = obj.view(self.np.uint8)\n",
      "/home/vlandeau/.local/lib/python2.7/site-packages/sklearn/externals/joblib/hashing.py:197: DeprecationWarning: Changing the shape of non-C contiguous array by\n",
      "descriptor assignment is deprecated. To maintain\n",
      "the Fortran contiguity of a multidimensional Fortran\n",
      "array, use 'a.T.view(...).T' instead\n",
      "  obj_bytes_view = obj.view(self.np.uint8)\n",
      "/home/vlandeau/.local/lib/python2.7/site-packages/sklearn/externals/joblib/hashing.py:197: DeprecationWarning: Changing the shape of non-C contiguous array by\n",
      "descriptor assignment is deprecated. To maintain\n",
      "the Fortran contiguity of a multidimensional Fortran\n",
      "array, use 'a.T.view(...).T' instead\n",
      "  obj_bytes_view = obj.view(self.np.uint8)\n",
      "/home/vlandeau/.local/lib/python2.7/site-packages/sklearn/externals/joblib/hashing.py:197: DeprecationWarning: Changing the shape of non-C contiguous array by\n",
      "descriptor assignment is deprecated. To maintain\n",
      "the Fortran contiguity of a multidimensional Fortran\n",
      "array, use 'a.T.view(...).T' instead\n",
      "  obj_bytes_view = obj.view(self.np.uint8)\n",
      "/home/vlandeau/.local/lib/python2.7/site-packages/sklearn/externals/joblib/hashing.py:197: DeprecationWarning: Changing the shape of non-C contiguous array by\n",
      "descriptor assignment is deprecated. To maintain\n",
      "the Fortran contiguity of a multidimensional Fortran\n",
      "array, use 'a.T.view(...).T' instead\n",
      "  obj_bytes_view = obj.view(self.np.uint8)\n",
      "/home/vlandeau/.local/lib/python2.7/site-packages/sklearn/externals/joblib/hashing.py:197: DeprecationWarning: Changing the shape of non-C contiguous array by\n",
      "descriptor assignment is deprecated. To maintain\n",
      "the Fortran contiguity of a multidimensional Fortran\n",
      "array, use 'a.T.view(...).T' instead\n",
      "  obj_bytes_view = obj.view(self.np.uint8)\n",
      "/home/vlandeau/.local/lib/python2.7/site-packages/sklearn/externals/joblib/hashing.py:197: DeprecationWarning: Changing the shape of non-C contiguous array by\n",
      "descriptor assignment is deprecated. To maintain\n",
      "the Fortran contiguity of a multidimensional Fortran\n",
      "array, use 'a.T.view(...).T' instead\n",
      "  obj_bytes_view = obj.view(self.np.uint8)\n",
      "/home/vlandeau/.local/lib/python2.7/site-packages/sklearn/externals/joblib/hashing.py:197: DeprecationWarning: Changing the shape of non-C contiguous array by\n",
      "descriptor assignment is deprecated. To maintain\n",
      "the Fortran contiguity of a multidimensional Fortran\n",
      "array, use 'a.T.view(...).T' instead\n",
      "  obj_bytes_view = obj.view(self.np.uint8)\n",
      "/home/vlandeau/.local/lib/python2.7/site-packages/sklearn/externals/joblib/hashing.py:197: DeprecationWarning: Changing the shape of non-C contiguous array by\n",
      "descriptor assignment is deprecated. To maintain\n",
      "the Fortran contiguity of a multidimensional Fortran\n",
      "array, use 'a.T.view(...).T' instead\n",
      "  obj_bytes_view = obj.view(self.np.uint8)\n",
      "/home/vlandeau/.local/lib/python2.7/site-packages/sklearn/externals/joblib/hashing.py:197: DeprecationWarning: Changing the shape of non-C contiguous array by\n",
      "descriptor assignment is deprecated. To maintain\n",
      "the Fortran contiguity of a multidimensional Fortran\n",
      "array, use 'a.T.view(...).T' instead\n",
      "  obj_bytes_view = obj.view(self.np.uint8)\n",
      "/home/vlandeau/.local/lib/python2.7/site-packages/sklearn/externals/joblib/hashing.py:197: DeprecationWarning: Changing the shape of non-C contiguous array by\n",
      "descriptor assignment is deprecated. To maintain\n",
      "the Fortran contiguity of a multidimensional Fortran\n",
      "array, use 'a.T.view(...).T' instead\n",
      "  obj_bytes_view = obj.view(self.np.uint8)\n",
      "/home/vlandeau/.local/lib/python2.7/site-packages/sklearn/externals/joblib/hashing.py:197: DeprecationWarning: Changing the shape of non-C contiguous array by\n",
      "descriptor assignment is deprecated. To maintain\n",
      "the Fortran contiguity of a multidimensional Fortran\n",
      "array, use 'a.T.view(...).T' instead\n",
      "  obj_bytes_view = obj.view(self.np.uint8)\n",
      "/home/vlandeau/.local/lib/python2.7/site-packages/sklearn/externals/joblib/hashing.py:197: DeprecationWarning: Changing the shape of non-C contiguous array by\n",
      "descriptor assignment is deprecated. To maintain\n",
      "the Fortran contiguity of a multidimensional Fortran\n",
      "array, use 'a.T.view(...).T' instead\n",
      "  obj_bytes_view = obj.view(self.np.uint8)\n",
      "/home/vlandeau/.local/lib/python2.7/site-packages/sklearn/externals/joblib/hashing.py:197: DeprecationWarning: Changing the shape of non-C contiguous array by\n",
      "descriptor assignment is deprecated. To maintain\n",
      "the Fortran contiguity of a multidimensional Fortran\n",
      "array, use 'a.T.view(...).T' instead\n",
      "  obj_bytes_view = obj.view(self.np.uint8)\n",
      "/home/vlandeau/.local/lib/python2.7/site-packages/sklearn/externals/joblib/hashing.py:197: DeprecationWarning: Changing the shape of non-C contiguous array by\n",
      "descriptor assignment is deprecated. To maintain\n",
      "the Fortran contiguity of a multidimensional Fortran\n",
      "array, use 'a.T.view(...).T' instead\n",
      "  obj_bytes_view = obj.view(self.np.uint8)\n",
      "/home/vlandeau/.local/lib/python2.7/site-packages/sklearn/externals/joblib/hashing.py:197: DeprecationWarning: Changing the shape of non-C contiguous array by\n",
      "descriptor assignment is deprecated. To maintain\n",
      "the Fortran contiguity of a multidimensional Fortran\n",
      "array, use 'a.T.view(...).T' instead\n",
      "  obj_bytes_view = obj.view(self.np.uint8)\n",
      "/home/vlandeau/.local/lib/python2.7/site-packages/sklearn/externals/joblib/hashing.py:197: DeprecationWarning: Changing the shape of non-C contiguous array by\n",
      "descriptor assignment is deprecated. To maintain\n",
      "the Fortran contiguity of a multidimensional Fortran\n",
      "array, use 'a.T.view(...).T' instead\n",
      "  obj_bytes_view = obj.view(self.np.uint8)\n",
      "/home/vlandeau/.local/lib/python2.7/site-packages/sklearn/externals/joblib/hashing.py:197: DeprecationWarning: Changing the shape of non-C contiguous array by\n",
      "descriptor assignment is deprecated. To maintain\n",
      "the Fortran contiguity of a multidimensional Fortran\n",
      "array, use 'a.T.view(...).T' instead\n",
      "  obj_bytes_view = obj.view(self.np.uint8)\n",
      "/home/vlandeau/.local/lib/python2.7/site-packages/sklearn/externals/joblib/hashing.py:197: DeprecationWarning: Changing the shape of non-C contiguous array by\n",
      "descriptor assignment is deprecated. To maintain\n",
      "the Fortran contiguity of a multidimensional Fortran\n",
      "array, use 'a.T.view(...).T' instead\n",
      "  obj_bytes_view = obj.view(self.np.uint8)\n",
      "/home/vlandeau/.local/lib/python2.7/site-packages/sklearn/externals/joblib/hashing.py:197: DeprecationWarning: Changing the shape of non-C contiguous array by\n",
      "descriptor assignment is deprecated. To maintain\n",
      "the Fortran contiguity of a multidimensional Fortran\n",
      "array, use 'a.T.view(...).T' instead\n",
      "  obj_bytes_view = obj.view(self.np.uint8)\n"
     ]
    },
    {
     "ename": "NameError",
     "evalue": "name 'x_test' is not defined",
     "output_type": "error",
     "traceback": [
      "\u001b[0;31m---------------------------------------------------------------------------\u001b[0m",
      "\u001b[0;31mNameError\u001b[0m                                 Traceback (most recent call last)",
      "\u001b[0;32m<ipython-input-46-dcb825ab7966>\u001b[0m in \u001b[0;36m<module>\u001b[0;34m()\u001b[0m\n\u001b[1;32m     15\u001b[0m \u001b[0mrandom_search_svm\u001b[0m\u001b[0;34m.\u001b[0m\u001b[0mfit\u001b[0m\u001b[0;34m(\u001b[0m\u001b[0mx_train1\u001b[0m\u001b[0;34m,\u001b[0m \u001b[0my_train\u001b[0m\u001b[0;34m.\u001b[0m\u001b[0mstatus_group\u001b[0m\u001b[0;34m)\u001b[0m\u001b[0;34m\u001b[0m\u001b[0m\n\u001b[1;32m     16\u001b[0m \u001b[0;34m\u001b[0m\u001b[0m\n\u001b[0;32m---> 17\u001b[0;31m \u001b[0my_test_pred\u001b[0m \u001b[0;34m=\u001b[0m \u001b[0mrandom_search_svm\u001b[0m\u001b[0;34m.\u001b[0m\u001b[0mpredict\u001b[0m\u001b[0;34m(\u001b[0m\u001b[0mx_test\u001b[0m\u001b[0;34m)\u001b[0m\u001b[0;34m\u001b[0m\u001b[0m\n\u001b[0m\u001b[1;32m     18\u001b[0m \u001b[0;32mprint\u001b[0m \u001b[0mconfusion_matrix\u001b[0m\u001b[0;34m(\u001b[0m\u001b[0my_true\u001b[0m\u001b[0;34m=\u001b[0m\u001b[0my_test\u001b[0m\u001b[0;34m,\u001b[0m \u001b[0my_pred\u001b[0m\u001b[0;34m=\u001b[0m\u001b[0my_test_pred\u001b[0m\u001b[0;34m)\u001b[0m\u001b[0;34m\u001b[0m\u001b[0m\n\u001b[1;32m     19\u001b[0m \u001b[0;34m\u001b[0m\u001b[0m\n",
      "\u001b[0;31mNameError\u001b[0m: name 'x_test' is not defined"
     ]
    }
   ],
   "source": [
    "start_time = time.time()\n",
    "\n",
    "svm = SVC()\n",
    "\n",
    "param_dist = {\n",
    "    \"C\": [2**x for x in range(-5, 8, 1)],\n",
    "    \"gamma\": [2**x for x in range(-5, 8, 1)]\n",
    "}\n",
    "\n",
    "# run randomized search\n",
    "n_iter_search = 20\n",
    "random_search_svm = RandomizedSearchCV(svm, param_distributions=param_dist,\n",
    "                                   n_iter=n_iter_search, n_jobs=4)\n",
    "\n",
    "random_search_svm.fit(x_train1, y_train.status_group)\n",
    "\n",
    "y_test_pred = random_search_svm.predict(x_test)\n",
    "print confusion_matrix(y_true=y_test, y_pred=y_test_pred)\n",
    "\n",
    "print \"elapsed time: \" + str(time.time() - start_time)"
   ]
  },
  {
   "cell_type": "code",
   "execution_count": 51,
   "metadata": {
    "collapsed": false,
    "scrolled": true
   },
   "outputs": [
    {
     "name": "stdout",
     "output_type": "stream",
     "text": [
      "[[5467   40  870]\n",
      " [ 663    6  206]\n",
      " [1641   19 2968]]\n"
     ]
    }
   ],
   "source": [
    "y_test_pred = random_search_svm.predict(x_test1)\n",
    "print confusion_matrix(y_true=y_test.status_group, y_pred=y_test_pred)"
   ]
  },
  {
   "cell_type": "code",
   "execution_count": 52,
   "metadata": {
    "collapsed": false
   },
   "outputs": [
    {
     "data": {
      "text/plain": [
       "SVC(C=64, cache_size=200, class_weight=None, coef0=0.0,\n",
       "  decision_function_shape=None, degree=3, gamma=0.03125, kernel='rbf',\n",
       "  max_iter=-1, probability=False, random_state=None, shrinking=True,\n",
       "  tol=0.001, verbose=False)"
      ]
     },
     "execution_count": 52,
     "metadata": {},
     "output_type": "execute_result"
    }
   ],
   "source": [
    "random_search_svm.best_estimator_"
   ]
  },
  {
   "cell_type": "code",
   "execution_count": null,
   "metadata": {
    "collapsed": true
   },
   "outputs": [],
   "source": []
  },
  {
   "cell_type": "code",
   "execution_count": null,
   "metadata": {
    "collapsed": true
   },
   "outputs": [],
   "source": []
  },
  {
   "cell_type": "code",
   "execution_count": 54,
   "metadata": {
    "collapsed": false
   },
   "outputs": [
    {
     "name": "stdout",
     "output_type": "stream",
     "text": [
      "[[ 100  129  646]\n",
      " [  24 3198 1406]\n",
      " [  29  460 5888]]\n",
      "elapsed time: 51048.8278091\n"
     ]
    }
   ],
   "source": [
    "start_time = time.time()\n",
    "\n",
    "svm0 = SVC(C=65, gamma=0.03)\n",
    "svm1 = SVC(C=60, gamma=0.03)\n",
    "\n",
    "gbm0 = GradientBoostingClassifier(init=None, learning_rate=0.1, loss='deviance',\n",
    "              max_depth=None, max_features='auto', max_leaf_nodes=None,\n",
    "              min_samples_leaf=6, min_samples_split=7,\n",
    "              min_weight_fraction_leaf=0.0, n_estimators=345,\n",
    "              presort='auto', random_state=None, subsample=1.0)\n",
    "gbm1 = GradientBoostingClassifier(init=None, learning_rate=0.1, loss='deviance',\n",
    "              max_depth=None, max_features='auto', max_leaf_nodes=None,\n",
    "              min_samples_leaf=6, min_samples_split=8,\n",
    "              min_weight_fraction_leaf=0.0, n_estimators=350,\n",
    "              presort='auto', random_state=None, subsample=1.0)\n",
    "knn0 = KNeighborsClassifier(algorithm='auto', leaf_size=30, metric='minkowski',\n",
    "           metric_params=None, n_jobs=4, n_neighbors=35, p=1,\n",
    "           weights='distance')\n",
    "knn1 = KNeighborsClassifier(algorithm='auto', leaf_size=30, metric='minkowski',\n",
    "           metric_params=None, n_jobs=4, n_neighbors=30, p=1,\n",
    "           weights='distance')\n",
    "knn2 = KNeighborsClassifier(algorithm='auto', leaf_size=30, metric='minkowski',\n",
    "           metric_params=None, n_jobs=4, n_neighbors=40, p=1,\n",
    "           weights='distance')\n",
    "rf0 = RandomForestClassifier(bootstrap=False, class_weight=None,\n",
    "            criterion='entropy', max_depth=None, max_features='log2',\n",
    "            max_leaf_nodes=None, min_samples_leaf=1, min_samples_split=10,\n",
    "            min_weight_fraction_leaf=0.0, n_estimators=355, n_jobs=4)\n",
    "rf1 = RandomForestClassifier(bootstrap=False, class_weight=None,\n",
    "            criterion='entropy', max_depth=None, max_features='log2',\n",
    "            max_leaf_nodes=None, min_samples_leaf=1, min_samples_split=10,\n",
    "            min_weight_fraction_leaf=0.0, n_estimators=350, n_jobs=4)\n",
    "rf2 = RandomForestClassifier(bootstrap=False, class_weight=None,\n",
    "            criterion='entropy', max_depth=None, max_features='log2',\n",
    "            max_leaf_nodes=None, min_samples_leaf=1, min_samples_split=10,\n",
    "            min_weight_fraction_leaf=0.0, n_estimators=360, n_jobs=4)\n",
    "\n",
    "vc = VotingClassifier(estimators=[(\"svm0\", svm0),\n",
    "                                  (\"svm1\", svm1),\n",
    "                                  (\"gbm0\", gbm0), \n",
    "                                  (\"gbm1\",gbm1),\n",
    "                                  (\"rf0\", rf0),\n",
    "                                 (\"rf1\", rf1),\n",
    "                                 (\"rf2\", rf2),\n",
    "                                 ('knn0', knn0),\n",
    "                                 ('knn1', knn1),\n",
    "                                 ('knn2', knn2)],\n",
    "                     weights=[3] * 4 + [2] * 6)\n",
    "\n",
    "vc.fit(x_train1, y_array)\n",
    "\n",
    "y_test_pred = vc.predict(x_test1)\n",
    "print confusion_matrix(y_true=y_array_test, y_pred=y_test_pred)\n",
    "\n",
    "print \"elapsed time: \" + str(time.time() - start_time)"
   ]
  },
  {
   "cell_type": "code",
   "execution_count": 56,
   "metadata": {
    "collapsed": false
   },
   "outputs": [
    {
     "data": {
      "text/plain": [
       "0.77323232323232327"
      ]
     },
     "execution_count": 56,
     "metadata": {},
     "output_type": "execute_result"
    }
   ],
   "source": [
    "vc.score(x_test1, y_array_test)"
   ]
  },
  {
   "cell_type": "code",
   "execution_count": 59,
   "metadata": {
    "collapsed": false
   },
   "outputs": [
    {
     "data": {
      "text/plain": [
       "['models/voting_classifier.dump',\n",
       " 'models/voting_classifier.dump_01.npy',\n",
       " 'models/voting_classifier.dump_02.npy',\n",
       " 'models/voting_classifier.dump_03.npy',\n",
       " 'models/voting_classifier.dump_04.npy',\n",
       " 'models/voting_classifier.dump_05.npy',\n",
       " 'models/voting_classifier.dump_06.npy',\n",
       " 'models/voting_classifier.dump_07.npy',\n",
       " 'models/voting_classifier.dump_08.npy',\n",
       " 'models/voting_classifier.dump_09.npy',\n",
       " 'models/voting_classifier.dump_10.npy',\n",
       " 'models/voting_classifier.dump_11.npy',\n",
       " 'models/voting_classifier.dump_12.npy',\n",
       " 'models/voting_classifier.dump_13.npy',\n",
       " 'models/voting_classifier.dump_14.npy',\n",
       " 'models/voting_classifier.dump_15.npy',\n",
       " 'models/voting_classifier.dump_16.npy',\n",
       " 'models/voting_classifier.dump_17.npy',\n",
       " 'models/voting_classifier.dump_18.npy',\n",
       " 'models/voting_classifier.dump_19.npy',\n",
       " 'models/voting_classifier.dump_20.npy',\n",
       " 'models/voting_classifier.dump_21.npy',\n",
       " 'models/voting_classifier.dump_22.npy',\n",
       " 'models/voting_classifier.dump_23.npy',\n",
       " 'models/voting_classifier.dump_24.npy',\n",
       " 'models/voting_classifier.dump_25.npy',\n",
       " 'models/voting_classifier.dump_26.npy',\n",
       " 'models/voting_classifier.dump_27.npy',\n",
       " 'models/voting_classifier.dump_28.npy',\n",
       " 'models/voting_classifier.dump_29.npy',\n",
       " 'models/voting_classifier.dump_30.npy',\n",
       " 'models/voting_classifier.dump_31.npy',\n",
       " 'models/voting_classifier.dump_32.npy',\n",
       " 'models/voting_classifier.dump_33.npy',\n",
       " 'models/voting_classifier.dump_34.npy',\n",
       " 'models/voting_classifier.dump_35.npy',\n",
       " 'models/voting_classifier.dump_36.npy',\n",
       " 'models/voting_classifier.dump_37.npy',\n",
       " 'models/voting_classifier.dump_38.npy',\n",
       " 'models/voting_classifier.dump_39.npy',\n",
       " 'models/voting_classifier.dump_40.npy',\n",
       " 'models/voting_classifier.dump_41.npy',\n",
       " 'models/voting_classifier.dump_42.npy',\n",
       " 'models/voting_classifier.dump_43.npy',\n",
       " 'models/voting_classifier.dump_44.npy',\n",
       " 'models/voting_classifier.dump_45.npy',\n",
       " 'models/voting_classifier.dump_46.npy',\n",
       " 'models/voting_classifier.dump_47.npy',\n",
       " 'models/voting_classifier.dump_48.npy',\n",
       " 'models/voting_classifier.dump_49.npy',\n",
       " 'models/voting_classifier.dump_50.npy',\n",
       " 'models/voting_classifier.dump_51.npy',\n",
       " 'models/voting_classifier.dump_52.npy',\n",
       " 'models/voting_classifier.dump_53.npy',\n",
       " 'models/voting_classifier.dump_54.npy',\n",
       " 'models/voting_classifier.dump_55.npy',\n",
       " 'models/voting_classifier.dump_56.npy',\n",
       " 'models/voting_classifier.dump_57.npy',\n",
       " 'models/voting_classifier.dump_58.npy',\n",
       " 'models/voting_classifier.dump_59.npy',\n",
       " 'models/voting_classifier.dump_60.npy',\n",
       " 'models/voting_classifier.dump_61.npy',\n",
       " 'models/voting_classifier.dump_62.npy',\n",
       " 'models/voting_classifier.dump_63.npy',\n",
       " 'models/voting_classifier.dump_64.npy',\n",
       " 'models/voting_classifier.dump_65.npy',\n",
       " 'models/voting_classifier.dump_66.npy',\n",
       " 'models/voting_classifier.dump_67.npy',\n",
       " 'models/voting_classifier.dump_68.npy',\n",
       " 'models/voting_classifier.dump_69.npy',\n",
       " 'models/voting_classifier.dump_70.npy',\n",
       " 'models/voting_classifier.dump_71.npy',\n",
       " 'models/voting_classifier.dump_72.npy',\n",
       " 'models/voting_classifier.dump_73.npy',\n",
       " 'models/voting_classifier.dump_74.npy',\n",
       " 'models/voting_classifier.dump_75.npy',\n",
       " 'models/voting_classifier.dump_76.npy',\n",
       " 'models/voting_classifier.dump_77.npy',\n",
       " 'models/voting_classifier.dump_78.npy',\n",
       " 'models/voting_classifier.dump_79.npy',\n",
       " 'models/voting_classifier.dump_80.npy',\n",
       " 'models/voting_classifier.dump_81.npy',\n",
       " 'models/voting_classifier.dump_82.npy',\n",
       " 'models/voting_classifier.dump_83.npy',\n",
       " 'models/voting_classifier.dump_84.npy',\n",
       " 'models/voting_classifier.dump_85.npy',\n",
       " 'models/voting_classifier.dump_86.npy',\n",
       " 'models/voting_classifier.dump_87.npy',\n",
       " 'models/voting_classifier.dump_88.npy',\n",
       " 'models/voting_classifier.dump_89.npy',\n",
       " 'models/voting_classifier.dump_90.npy',\n",
       " 'models/voting_classifier.dump_91.npy',\n",
       " 'models/voting_classifier.dump_92.npy',\n",
       " 'models/voting_classifier.dump_93.npy',\n",
       " 'models/voting_classifier.dump_94.npy',\n",
       " 'models/voting_classifier.dump_95.npy',\n",
       " 'models/voting_classifier.dump_96.npy',\n",
       " 'models/voting_classifier.dump_97.npy',\n",
       " 'models/voting_classifier.dump_98.npy',\n",
       " 'models/voting_classifier.dump_99.npy',\n",
       " 'models/voting_classifier.dump_100.npy',\n",
       " 'models/voting_classifier.dump_101.npy',\n",
       " 'models/voting_classifier.dump_102.npy',\n",
       " 'models/voting_classifier.dump_103.npy',\n",
       " 'models/voting_classifier.dump_104.npy',\n",
       " 'models/voting_classifier.dump_105.npy',\n",
       " 'models/voting_classifier.dump_106.npy',\n",
       " 'models/voting_classifier.dump_107.npy',\n",
       " 'models/voting_classifier.dump_108.npy',\n",
       " 'models/voting_classifier.dump_109.npy',\n",
       " 'models/voting_classifier.dump_110.npy',\n",
       " 'models/voting_classifier.dump_111.npy',\n",
       " 'models/voting_classifier.dump_112.npy',\n",
       " 'models/voting_classifier.dump_113.npy',\n",
       " 'models/voting_classifier.dump_114.npy',\n",
       " 'models/voting_classifier.dump_115.npy',\n",
       " 'models/voting_classifier.dump_116.npy',\n",
       " 'models/voting_classifier.dump_117.npy',\n",
       " 'models/voting_classifier.dump_118.npy',\n",
       " 'models/voting_classifier.dump_119.npy',\n",
       " 'models/voting_classifier.dump_120.npy',\n",
       " 'models/voting_classifier.dump_121.npy',\n",
       " 'models/voting_classifier.dump_122.npy',\n",
       " 'models/voting_classifier.dump_123.npy',\n",
       " 'models/voting_classifier.dump_124.npy',\n",
       " 'models/voting_classifier.dump_125.npy',\n",
       " 'models/voting_classifier.dump_126.npy',\n",
       " 'models/voting_classifier.dump_127.npy',\n",
       " 'models/voting_classifier.dump_128.npy',\n",
       " 'models/voting_classifier.dump_129.npy',\n",
       " 'models/voting_classifier.dump_130.npy',\n",
       " 'models/voting_classifier.dump_131.npy',\n",
       " 'models/voting_classifier.dump_132.npy',\n",
       " 'models/voting_classifier.dump_133.npy',\n",
       " 'models/voting_classifier.dump_134.npy',\n",
       " 'models/voting_classifier.dump_135.npy',\n",
       " 'models/voting_classifier.dump_136.npy',\n",
       " 'models/voting_classifier.dump_137.npy',\n",
       " 'models/voting_classifier.dump_138.npy',\n",
       " 'models/voting_classifier.dump_139.npy',\n",
       " 'models/voting_classifier.dump_140.npy',\n",
       " 'models/voting_classifier.dump_141.npy',\n",
       " 'models/voting_classifier.dump_142.npy',\n",
       " 'models/voting_classifier.dump_143.npy',\n",
       " 'models/voting_classifier.dump_144.npy',\n",
       " 'models/voting_classifier.dump_145.npy',\n",
       " 'models/voting_classifier.dump_146.npy',\n",
       " 'models/voting_classifier.dump_147.npy',\n",
       " 'models/voting_classifier.dump_148.npy',\n",
       " 'models/voting_classifier.dump_149.npy',\n",
       " 'models/voting_classifier.dump_150.npy',\n",
       " 'models/voting_classifier.dump_151.npy',\n",
       " 'models/voting_classifier.dump_152.npy',\n",
       " 'models/voting_classifier.dump_153.npy',\n",
       " 'models/voting_classifier.dump_154.npy',\n",
       " 'models/voting_classifier.dump_155.npy',\n",
       " 'models/voting_classifier.dump_156.npy',\n",
       " 'models/voting_classifier.dump_157.npy',\n",
       " 'models/voting_classifier.dump_158.npy',\n",
       " 'models/voting_classifier.dump_159.npy',\n",
       " 'models/voting_classifier.dump_160.npy',\n",
       " 'models/voting_classifier.dump_161.npy',\n",
       " 'models/voting_classifier.dump_162.npy',\n",
       " 'models/voting_classifier.dump_163.npy',\n",
       " 'models/voting_classifier.dump_164.npy',\n",
       " 'models/voting_classifier.dump_165.npy',\n",
       " 'models/voting_classifier.dump_166.npy',\n",
       " 'models/voting_classifier.dump_167.npy',\n",
       " 'models/voting_classifier.dump_168.npy',\n",
       " 'models/voting_classifier.dump_169.npy',\n",
       " 'models/voting_classifier.dump_170.npy',\n",
       " 'models/voting_classifier.dump_171.npy',\n",
       " 'models/voting_classifier.dump_172.npy',\n",
       " 'models/voting_classifier.dump_173.npy',\n",
       " 'models/voting_classifier.dump_174.npy',\n",
       " 'models/voting_classifier.dump_175.npy',\n",
       " 'models/voting_classifier.dump_176.npy',\n",
       " 'models/voting_classifier.dump_177.npy',\n",
       " 'models/voting_classifier.dump_178.npy',\n",
       " 'models/voting_classifier.dump_179.npy',\n",
       " 'models/voting_classifier.dump_180.npy',\n",
       " 'models/voting_classifier.dump_181.npy',\n",
       " 'models/voting_classifier.dump_182.npy',\n",
       " 'models/voting_classifier.dump_183.npy',\n",
       " 'models/voting_classifier.dump_184.npy',\n",
       " 'models/voting_classifier.dump_185.npy',\n",
       " 'models/voting_classifier.dump_186.npy',\n",
       " 'models/voting_classifier.dump_187.npy',\n",
       " 'models/voting_classifier.dump_188.npy',\n",
       " 'models/voting_classifier.dump_189.npy',\n",
       " 'models/voting_classifier.dump_190.npy',\n",
       " 'models/voting_classifier.dump_191.npy',\n",
       " 'models/voting_classifier.dump_192.npy',\n",
       " 'models/voting_classifier.dump_193.npy',\n",
       " 'models/voting_classifier.dump_194.npy',\n",
       " 'models/voting_classifier.dump_195.npy',\n",
       " 'models/voting_classifier.dump_196.npy',\n",
       " 'models/voting_classifier.dump_197.npy',\n",
       " 'models/voting_classifier.dump_198.npy',\n",
       " 'models/voting_classifier.dump_199.npy',\n",
       " 'models/voting_classifier.dump_200.npy',\n",
       " 'models/voting_classifier.dump_201.npy',\n",
       " 'models/voting_classifier.dump_202.npy',\n",
       " 'models/voting_classifier.dump_203.npy',\n",
       " 'models/voting_classifier.dump_204.npy',\n",
       " 'models/voting_classifier.dump_205.npy',\n",
       " 'models/voting_classifier.dump_206.npy',\n",
       " 'models/voting_classifier.dump_207.npy',\n",
       " 'models/voting_classifier.dump_208.npy',\n",
       " 'models/voting_classifier.dump_209.npy',\n",
       " 'models/voting_classifier.dump_210.npy',\n",
       " 'models/voting_classifier.dump_211.npy',\n",
       " 'models/voting_classifier.dump_212.npy',\n",
       " 'models/voting_classifier.dump_213.npy',\n",
       " 'models/voting_classifier.dump_214.npy',\n",
       " 'models/voting_classifier.dump_215.npy',\n",
       " 'models/voting_classifier.dump_216.npy',\n",
       " 'models/voting_classifier.dump_217.npy',\n",
       " 'models/voting_classifier.dump_218.npy',\n",
       " 'models/voting_classifier.dump_219.npy',\n",
       " 'models/voting_classifier.dump_220.npy',\n",
       " 'models/voting_classifier.dump_221.npy',\n",
       " 'models/voting_classifier.dump_222.npy',\n",
       " 'models/voting_classifier.dump_223.npy',\n",
       " 'models/voting_classifier.dump_224.npy',\n",
       " 'models/voting_classifier.dump_225.npy',\n",
       " 'models/voting_classifier.dump_226.npy',\n",
       " 'models/voting_classifier.dump_227.npy',\n",
       " 'models/voting_classifier.dump_228.npy',\n",
       " 'models/voting_classifier.dump_229.npy',\n",
       " 'models/voting_classifier.dump_230.npy',\n",
       " 'models/voting_classifier.dump_231.npy',\n",
       " 'models/voting_classifier.dump_232.npy',\n",
       " 'models/voting_classifier.dump_233.npy',\n",
       " 'models/voting_classifier.dump_234.npy',\n",
       " 'models/voting_classifier.dump_235.npy',\n",
       " 'models/voting_classifier.dump_236.npy',\n",
       " 'models/voting_classifier.dump_237.npy',\n",
       " 'models/voting_classifier.dump_238.npy',\n",
       " 'models/voting_classifier.dump_239.npy',\n",
       " 'models/voting_classifier.dump_240.npy',\n",
       " 'models/voting_classifier.dump_241.npy',\n",
       " 'models/voting_classifier.dump_242.npy',\n",
       " 'models/voting_classifier.dump_243.npy',\n",
       " 'models/voting_classifier.dump_244.npy',\n",
       " 'models/voting_classifier.dump_245.npy',\n",
       " 'models/voting_classifier.dump_246.npy',\n",
       " 'models/voting_classifier.dump_247.npy',\n",
       " 'models/voting_classifier.dump_248.npy',\n",
       " 'models/voting_classifier.dump_249.npy',\n",
       " 'models/voting_classifier.dump_250.npy',\n",
       " 'models/voting_classifier.dump_251.npy',\n",
       " 'models/voting_classifier.dump_252.npy',\n",
       " 'models/voting_classifier.dump_253.npy',\n",
       " 'models/voting_classifier.dump_254.npy',\n",
       " 'models/voting_classifier.dump_255.npy',\n",
       " 'models/voting_classifier.dump_256.npy',\n",
       " 'models/voting_classifier.dump_257.npy',\n",
       " 'models/voting_classifier.dump_258.npy',\n",
       " 'models/voting_classifier.dump_259.npy',\n",
       " 'models/voting_classifier.dump_260.npy',\n",
       " 'models/voting_classifier.dump_261.npy',\n",
       " 'models/voting_classifier.dump_262.npy',\n",
       " 'models/voting_classifier.dump_263.npy',\n",
       " 'models/voting_classifier.dump_264.npy',\n",
       " 'models/voting_classifier.dump_265.npy',\n",
       " 'models/voting_classifier.dump_266.npy',\n",
       " 'models/voting_classifier.dump_267.npy',\n",
       " 'models/voting_classifier.dump_268.npy',\n",
       " 'models/voting_classifier.dump_269.npy',\n",
       " 'models/voting_classifier.dump_270.npy',\n",
       " 'models/voting_classifier.dump_271.npy',\n",
       " 'models/voting_classifier.dump_272.npy',\n",
       " 'models/voting_classifier.dump_273.npy',\n",
       " 'models/voting_classifier.dump_274.npy',\n",
       " 'models/voting_classifier.dump_275.npy',\n",
       " 'models/voting_classifier.dump_276.npy',\n",
       " 'models/voting_classifier.dump_277.npy',\n",
       " 'models/voting_classifier.dump_278.npy',\n",
       " 'models/voting_classifier.dump_279.npy',\n",
       " 'models/voting_classifier.dump_280.npy',\n",
       " 'models/voting_classifier.dump_281.npy',\n",
       " 'models/voting_classifier.dump_282.npy',\n",
       " 'models/voting_classifier.dump_283.npy',\n",
       " 'models/voting_classifier.dump_284.npy',\n",
       " 'models/voting_classifier.dump_285.npy',\n",
       " 'models/voting_classifier.dump_286.npy',\n",
       " 'models/voting_classifier.dump_287.npy',\n",
       " 'models/voting_classifier.dump_288.npy',\n",
       " 'models/voting_classifier.dump_289.npy',\n",
       " 'models/voting_classifier.dump_290.npy',\n",
       " 'models/voting_classifier.dump_291.npy',\n",
       " 'models/voting_classifier.dump_292.npy',\n",
       " 'models/voting_classifier.dump_293.npy',\n",
       " 'models/voting_classifier.dump_294.npy',\n",
       " 'models/voting_classifier.dump_295.npy',\n",
       " 'models/voting_classifier.dump_296.npy',\n",
       " 'models/voting_classifier.dump_297.npy',\n",
       " 'models/voting_classifier.dump_298.npy',\n",
       " 'models/voting_classifier.dump_299.npy',\n",
       " 'models/voting_classifier.dump_300.npy',\n",
       " 'models/voting_classifier.dump_301.npy',\n",
       " 'models/voting_classifier.dump_302.npy',\n",
       " 'models/voting_classifier.dump_303.npy',\n",
       " 'models/voting_classifier.dump_304.npy',\n",
       " 'models/voting_classifier.dump_305.npy',\n",
       " 'models/voting_classifier.dump_306.npy',\n",
       " 'models/voting_classifier.dump_307.npy',\n",
       " 'models/voting_classifier.dump_308.npy',\n",
       " 'models/voting_classifier.dump_309.npy',\n",
       " 'models/voting_classifier.dump_310.npy',\n",
       " 'models/voting_classifier.dump_311.npy',\n",
       " 'models/voting_classifier.dump_312.npy',\n",
       " 'models/voting_classifier.dump_313.npy',\n",
       " 'models/voting_classifier.dump_314.npy',\n",
       " 'models/voting_classifier.dump_315.npy',\n",
       " 'models/voting_classifier.dump_316.npy',\n",
       " 'models/voting_classifier.dump_317.npy',\n",
       " 'models/voting_classifier.dump_318.npy',\n",
       " 'models/voting_classifier.dump_319.npy',\n",
       " 'models/voting_classifier.dump_320.npy',\n",
       " 'models/voting_classifier.dump_321.npy',\n",
       " 'models/voting_classifier.dump_322.npy',\n",
       " 'models/voting_classifier.dump_323.npy',\n",
       " 'models/voting_classifier.dump_324.npy',\n",
       " 'models/voting_classifier.dump_325.npy',\n",
       " 'models/voting_classifier.dump_326.npy',\n",
       " 'models/voting_classifier.dump_327.npy',\n",
       " 'models/voting_classifier.dump_328.npy',\n",
       " 'models/voting_classifier.dump_329.npy',\n",
       " 'models/voting_classifier.dump_330.npy',\n",
       " 'models/voting_classifier.dump_331.npy',\n",
       " 'models/voting_classifier.dump_332.npy',\n",
       " 'models/voting_classifier.dump_333.npy',\n",
       " 'models/voting_classifier.dump_334.npy',\n",
       " 'models/voting_classifier.dump_335.npy',\n",
       " 'models/voting_classifier.dump_336.npy',\n",
       " 'models/voting_classifier.dump_337.npy',\n",
       " 'models/voting_classifier.dump_338.npy',\n",
       " 'models/voting_classifier.dump_339.npy',\n",
       " 'models/voting_classifier.dump_340.npy',\n",
       " 'models/voting_classifier.dump_341.npy',\n",
       " 'models/voting_classifier.dump_342.npy',\n",
       " 'models/voting_classifier.dump_343.npy',\n",
       " 'models/voting_classifier.dump_344.npy',\n",
       " 'models/voting_classifier.dump_345.npy',\n",
       " 'models/voting_classifier.dump_346.npy',\n",
       " 'models/voting_classifier.dump_347.npy',\n",
       " 'models/voting_classifier.dump_348.npy',\n",
       " 'models/voting_classifier.dump_349.npy',\n",
       " 'models/voting_classifier.dump_350.npy',\n",
       " 'models/voting_classifier.dump_351.npy',\n",
       " 'models/voting_classifier.dump_352.npy',\n",
       " 'models/voting_classifier.dump_353.npy',\n",
       " 'models/voting_classifier.dump_354.npy',\n",
       " 'models/voting_classifier.dump_355.npy',\n",
       " 'models/voting_classifier.dump_356.npy',\n",
       " 'models/voting_classifier.dump_357.npy',\n",
       " 'models/voting_classifier.dump_358.npy',\n",
       " 'models/voting_classifier.dump_359.npy',\n",
       " 'models/voting_classifier.dump_360.npy',\n",
       " 'models/voting_classifier.dump_361.npy',\n",
       " 'models/voting_classifier.dump_362.npy',\n",
       " 'models/voting_classifier.dump_363.npy',\n",
       " 'models/voting_classifier.dump_364.npy',\n",
       " 'models/voting_classifier.dump_365.npy',\n",
       " 'models/voting_classifier.dump_366.npy',\n",
       " 'models/voting_classifier.dump_367.npy',\n",
       " 'models/voting_classifier.dump_368.npy',\n",
       " 'models/voting_classifier.dump_369.npy',\n",
       " 'models/voting_classifier.dump_370.npy',\n",
       " 'models/voting_classifier.dump_371.npy',\n",
       " 'models/voting_classifier.dump_372.npy',\n",
       " 'models/voting_classifier.dump_373.npy',\n",
       " 'models/voting_classifier.dump_374.npy',\n",
       " 'models/voting_classifier.dump_375.npy',\n",
       " 'models/voting_classifier.dump_376.npy',\n",
       " 'models/voting_classifier.dump_377.npy',\n",
       " 'models/voting_classifier.dump_378.npy',\n",
       " 'models/voting_classifier.dump_379.npy',\n",
       " 'models/voting_classifier.dump_380.npy',\n",
       " 'models/voting_classifier.dump_381.npy',\n",
       " 'models/voting_classifier.dump_382.npy',\n",
       " 'models/voting_classifier.dump_383.npy',\n",
       " 'models/voting_classifier.dump_384.npy',\n",
       " 'models/voting_classifier.dump_385.npy',\n",
       " 'models/voting_classifier.dump_386.npy',\n",
       " 'models/voting_classifier.dump_387.npy',\n",
       " 'models/voting_classifier.dump_388.npy',\n",
       " 'models/voting_classifier.dump_389.npy',\n",
       " 'models/voting_classifier.dump_390.npy',\n",
       " 'models/voting_classifier.dump_391.npy',\n",
       " 'models/voting_classifier.dump_392.npy',\n",
       " 'models/voting_classifier.dump_393.npy',\n",
       " 'models/voting_classifier.dump_394.npy',\n",
       " 'models/voting_classifier.dump_395.npy',\n",
       " 'models/voting_classifier.dump_396.npy',\n",
       " 'models/voting_classifier.dump_397.npy',\n",
       " 'models/voting_classifier.dump_398.npy',\n",
       " 'models/voting_classifier.dump_399.npy',\n",
       " 'models/voting_classifier.dump_400.npy',\n",
       " 'models/voting_classifier.dump_401.npy',\n",
       " 'models/voting_classifier.dump_402.npy',\n",
       " 'models/voting_classifier.dump_403.npy',\n",
       " 'models/voting_classifier.dump_404.npy',\n",
       " 'models/voting_classifier.dump_405.npy',\n",
       " 'models/voting_classifier.dump_406.npy',\n",
       " 'models/voting_classifier.dump_407.npy',\n",
       " 'models/voting_classifier.dump_408.npy',\n",
       " 'models/voting_classifier.dump_409.npy',\n",
       " 'models/voting_classifier.dump_410.npy',\n",
       " 'models/voting_classifier.dump_411.npy',\n",
       " 'models/voting_classifier.dump_412.npy',\n",
       " 'models/voting_classifier.dump_413.npy',\n",
       " 'models/voting_classifier.dump_414.npy',\n",
       " 'models/voting_classifier.dump_415.npy',\n",
       " 'models/voting_classifier.dump_416.npy',\n",
       " 'models/voting_classifier.dump_417.npy',\n",
       " 'models/voting_classifier.dump_418.npy',\n",
       " 'models/voting_classifier.dump_419.npy',\n",
       " 'models/voting_classifier.dump_420.npy',\n",
       " 'models/voting_classifier.dump_421.npy',\n",
       " 'models/voting_classifier.dump_422.npy',\n",
       " 'models/voting_classifier.dump_423.npy',\n",
       " 'models/voting_classifier.dump_424.npy',\n",
       " 'models/voting_classifier.dump_425.npy',\n",
       " 'models/voting_classifier.dump_426.npy',\n",
       " 'models/voting_classifier.dump_427.npy',\n",
       " 'models/voting_classifier.dump_428.npy',\n",
       " 'models/voting_classifier.dump_429.npy',\n",
       " 'models/voting_classifier.dump_430.npy',\n",
       " 'models/voting_classifier.dump_431.npy',\n",
       " 'models/voting_classifier.dump_432.npy',\n",
       " 'models/voting_classifier.dump_433.npy',\n",
       " 'models/voting_classifier.dump_434.npy',\n",
       " 'models/voting_classifier.dump_435.npy',\n",
       " 'models/voting_classifier.dump_436.npy',\n",
       " 'models/voting_classifier.dump_437.npy',\n",
       " 'models/voting_classifier.dump_438.npy',\n",
       " 'models/voting_classifier.dump_439.npy',\n",
       " 'models/voting_classifier.dump_440.npy',\n",
       " 'models/voting_classifier.dump_441.npy',\n",
       " 'models/voting_classifier.dump_442.npy',\n",
       " 'models/voting_classifier.dump_443.npy',\n",
       " 'models/voting_classifier.dump_444.npy',\n",
       " 'models/voting_classifier.dump_445.npy',\n",
       " 'models/voting_classifier.dump_446.npy',\n",
       " 'models/voting_classifier.dump_447.npy',\n",
       " 'models/voting_classifier.dump_448.npy',\n",
       " 'models/voting_classifier.dump_449.npy',\n",
       " 'models/voting_classifier.dump_450.npy',\n",
       " 'models/voting_classifier.dump_451.npy',\n",
       " 'models/voting_classifier.dump_452.npy',\n",
       " 'models/voting_classifier.dump_453.npy',\n",
       " 'models/voting_classifier.dump_454.npy',\n",
       " 'models/voting_classifier.dump_455.npy',\n",
       " 'models/voting_classifier.dump_456.npy',\n",
       " 'models/voting_classifier.dump_457.npy',\n",
       " 'models/voting_classifier.dump_458.npy',\n",
       " 'models/voting_classifier.dump_459.npy',\n",
       " 'models/voting_classifier.dump_460.npy',\n",
       " 'models/voting_classifier.dump_461.npy',\n",
       " 'models/voting_classifier.dump_462.npy',\n",
       " 'models/voting_classifier.dump_463.npy',\n",
       " 'models/voting_classifier.dump_464.npy',\n",
       " 'models/voting_classifier.dump_465.npy',\n",
       " 'models/voting_classifier.dump_466.npy',\n",
       " 'models/voting_classifier.dump_467.npy',\n",
       " 'models/voting_classifier.dump_468.npy',\n",
       " 'models/voting_classifier.dump_469.npy',\n",
       " 'models/voting_classifier.dump_470.npy',\n",
       " 'models/voting_classifier.dump_471.npy',\n",
       " 'models/voting_classifier.dump_472.npy',\n",
       " 'models/voting_classifier.dump_473.npy',\n",
       " 'models/voting_classifier.dump_474.npy',\n",
       " 'models/voting_classifier.dump_475.npy',\n",
       " 'models/voting_classifier.dump_476.npy',\n",
       " 'models/voting_classifier.dump_477.npy',\n",
       " 'models/voting_classifier.dump_478.npy',\n",
       " 'models/voting_classifier.dump_479.npy',\n",
       " 'models/voting_classifier.dump_480.npy',\n",
       " 'models/voting_classifier.dump_481.npy',\n",
       " 'models/voting_classifier.dump_482.npy',\n",
       " 'models/voting_classifier.dump_483.npy',\n",
       " 'models/voting_classifier.dump_484.npy',\n",
       " 'models/voting_classifier.dump_485.npy',\n",
       " 'models/voting_classifier.dump_486.npy',\n",
       " 'models/voting_classifier.dump_487.npy',\n",
       " 'models/voting_classifier.dump_488.npy',\n",
       " 'models/voting_classifier.dump_489.npy',\n",
       " 'models/voting_classifier.dump_490.npy',\n",
       " 'models/voting_classifier.dump_491.npy',\n",
       " 'models/voting_classifier.dump_492.npy',\n",
       " 'models/voting_classifier.dump_493.npy',\n",
       " 'models/voting_classifier.dump_494.npy',\n",
       " 'models/voting_classifier.dump_495.npy',\n",
       " 'models/voting_classifier.dump_496.npy',\n",
       " 'models/voting_classifier.dump_497.npy',\n",
       " 'models/voting_classifier.dump_498.npy',\n",
       " 'models/voting_classifier.dump_499.npy',\n",
       " 'models/voting_classifier.dump_500.npy',\n",
       " 'models/voting_classifier.dump_501.npy',\n",
       " 'models/voting_classifier.dump_502.npy',\n",
       " 'models/voting_classifier.dump_503.npy',\n",
       " 'models/voting_classifier.dump_504.npy',\n",
       " 'models/voting_classifier.dump_505.npy',\n",
       " 'models/voting_classifier.dump_506.npy',\n",
       " 'models/voting_classifier.dump_507.npy',\n",
       " 'models/voting_classifier.dump_508.npy',\n",
       " 'models/voting_classifier.dump_509.npy',\n",
       " 'models/voting_classifier.dump_510.npy',\n",
       " 'models/voting_classifier.dump_511.npy',\n",
       " 'models/voting_classifier.dump_512.npy',\n",
       " 'models/voting_classifier.dump_513.npy',\n",
       " 'models/voting_classifier.dump_514.npy',\n",
       " 'models/voting_classifier.dump_515.npy',\n",
       " 'models/voting_classifier.dump_516.npy',\n",
       " 'models/voting_classifier.dump_517.npy',\n",
       " 'models/voting_classifier.dump_518.npy',\n",
       " 'models/voting_classifier.dump_519.npy',\n",
       " 'models/voting_classifier.dump_520.npy',\n",
       " 'models/voting_classifier.dump_521.npy',\n",
       " 'models/voting_classifier.dump_522.npy',\n",
       " 'models/voting_classifier.dump_523.npy',\n",
       " 'models/voting_classifier.dump_524.npy',\n",
       " 'models/voting_classifier.dump_525.npy',\n",
       " 'models/voting_classifier.dump_526.npy',\n",
       " 'models/voting_classifier.dump_527.npy',\n",
       " 'models/voting_classifier.dump_528.npy',\n",
       " 'models/voting_classifier.dump_529.npy',\n",
       " 'models/voting_classifier.dump_530.npy',\n",
       " 'models/voting_classifier.dump_531.npy',\n",
       " 'models/voting_classifier.dump_532.npy',\n",
       " 'models/voting_classifier.dump_533.npy',\n",
       " 'models/voting_classifier.dump_534.npy',\n",
       " 'models/voting_classifier.dump_535.npy',\n",
       " 'models/voting_classifier.dump_536.npy',\n",
       " 'models/voting_classifier.dump_537.npy',\n",
       " 'models/voting_classifier.dump_538.npy',\n",
       " 'models/voting_classifier.dump_539.npy',\n",
       " 'models/voting_classifier.dump_540.npy',\n",
       " 'models/voting_classifier.dump_541.npy',\n",
       " 'models/voting_classifier.dump_542.npy',\n",
       " 'models/voting_classifier.dump_543.npy',\n",
       " 'models/voting_classifier.dump_544.npy',\n",
       " 'models/voting_classifier.dump_545.npy',\n",
       " 'models/voting_classifier.dump_546.npy',\n",
       " 'models/voting_classifier.dump_547.npy',\n",
       " 'models/voting_classifier.dump_548.npy',\n",
       " 'models/voting_classifier.dump_549.npy',\n",
       " 'models/voting_classifier.dump_550.npy',\n",
       " 'models/voting_classifier.dump_551.npy',\n",
       " 'models/voting_classifier.dump_552.npy',\n",
       " 'models/voting_classifier.dump_553.npy',\n",
       " 'models/voting_classifier.dump_554.npy',\n",
       " 'models/voting_classifier.dump_555.npy',\n",
       " 'models/voting_classifier.dump_556.npy',\n",
       " 'models/voting_classifier.dump_557.npy',\n",
       " 'models/voting_classifier.dump_558.npy',\n",
       " 'models/voting_classifier.dump_559.npy',\n",
       " 'models/voting_classifier.dump_560.npy',\n",
       " 'models/voting_classifier.dump_561.npy',\n",
       " 'models/voting_classifier.dump_562.npy',\n",
       " 'models/voting_classifier.dump_563.npy',\n",
       " 'models/voting_classifier.dump_564.npy',\n",
       " 'models/voting_classifier.dump_565.npy',\n",
       " 'models/voting_classifier.dump_566.npy',\n",
       " 'models/voting_classifier.dump_567.npy',\n",
       " 'models/voting_classifier.dump_568.npy',\n",
       " 'models/voting_classifier.dump_569.npy',\n",
       " 'models/voting_classifier.dump_570.npy',\n",
       " 'models/voting_classifier.dump_571.npy',\n",
       " 'models/voting_classifier.dump_572.npy',\n",
       " 'models/voting_classifier.dump_573.npy',\n",
       " 'models/voting_classifier.dump_574.npy',\n",
       " 'models/voting_classifier.dump_575.npy',\n",
       " 'models/voting_classifier.dump_576.npy',\n",
       " 'models/voting_classifier.dump_577.npy',\n",
       " 'models/voting_classifier.dump_578.npy',\n",
       " 'models/voting_classifier.dump_579.npy',\n",
       " 'models/voting_classifier.dump_580.npy',\n",
       " 'models/voting_classifier.dump_581.npy',\n",
       " 'models/voting_classifier.dump_582.npy',\n",
       " 'models/voting_classifier.dump_583.npy',\n",
       " 'models/voting_classifier.dump_584.npy',\n",
       " 'models/voting_classifier.dump_585.npy',\n",
       " 'models/voting_classifier.dump_586.npy',\n",
       " 'models/voting_classifier.dump_587.npy',\n",
       " 'models/voting_classifier.dump_588.npy',\n",
       " 'models/voting_classifier.dump_589.npy',\n",
       " 'models/voting_classifier.dump_590.npy',\n",
       " 'models/voting_classifier.dump_591.npy',\n",
       " 'models/voting_classifier.dump_592.npy',\n",
       " 'models/voting_classifier.dump_593.npy',\n",
       " 'models/voting_classifier.dump_594.npy',\n",
       " 'models/voting_classifier.dump_595.npy',\n",
       " 'models/voting_classifier.dump_596.npy',\n",
       " 'models/voting_classifier.dump_597.npy',\n",
       " 'models/voting_classifier.dump_598.npy',\n",
       " 'models/voting_classifier.dump_599.npy',\n",
       " 'models/voting_classifier.dump_600.npy',\n",
       " 'models/voting_classifier.dump_601.npy',\n",
       " 'models/voting_classifier.dump_602.npy',\n",
       " 'models/voting_classifier.dump_603.npy',\n",
       " 'models/voting_classifier.dump_604.npy',\n",
       " 'models/voting_classifier.dump_605.npy',\n",
       " 'models/voting_classifier.dump_606.npy',\n",
       " 'models/voting_classifier.dump_607.npy',\n",
       " 'models/voting_classifier.dump_608.npy',\n",
       " 'models/voting_classifier.dump_609.npy',\n",
       " 'models/voting_classifier.dump_610.npy',\n",
       " 'models/voting_classifier.dump_611.npy',\n",
       " 'models/voting_classifier.dump_612.npy',\n",
       " 'models/voting_classifier.dump_613.npy',\n",
       " 'models/voting_classifier.dump_614.npy',\n",
       " 'models/voting_classifier.dump_615.npy',\n",
       " 'models/voting_classifier.dump_616.npy',\n",
       " 'models/voting_classifier.dump_617.npy',\n",
       " 'models/voting_classifier.dump_618.npy',\n",
       " 'models/voting_classifier.dump_619.npy',\n",
       " 'models/voting_classifier.dump_620.npy',\n",
       " 'models/voting_classifier.dump_621.npy',\n",
       " 'models/voting_classifier.dump_622.npy',\n",
       " 'models/voting_classifier.dump_623.npy',\n",
       " 'models/voting_classifier.dump_624.npy',\n",
       " 'models/voting_classifier.dump_625.npy',\n",
       " 'models/voting_classifier.dump_626.npy',\n",
       " 'models/voting_classifier.dump_627.npy',\n",
       " 'models/voting_classifier.dump_628.npy',\n",
       " 'models/voting_classifier.dump_629.npy',\n",
       " 'models/voting_classifier.dump_630.npy',\n",
       " 'models/voting_classifier.dump_631.npy',\n",
       " 'models/voting_classifier.dump_632.npy',\n",
       " 'models/voting_classifier.dump_633.npy',\n",
       " 'models/voting_classifier.dump_634.npy',\n",
       " 'models/voting_classifier.dump_635.npy',\n",
       " 'models/voting_classifier.dump_636.npy',\n",
       " 'models/voting_classifier.dump_637.npy',\n",
       " 'models/voting_classifier.dump_638.npy',\n",
       " 'models/voting_classifier.dump_639.npy',\n",
       " 'models/voting_classifier.dump_640.npy',\n",
       " 'models/voting_classifier.dump_641.npy',\n",
       " 'models/voting_classifier.dump_642.npy',\n",
       " 'models/voting_classifier.dump_643.npy',\n",
       " 'models/voting_classifier.dump_644.npy',\n",
       " 'models/voting_classifier.dump_645.npy',\n",
       " 'models/voting_classifier.dump_646.npy',\n",
       " 'models/voting_classifier.dump_647.npy',\n",
       " 'models/voting_classifier.dump_648.npy',\n",
       " 'models/voting_classifier.dump_649.npy',\n",
       " 'models/voting_classifier.dump_650.npy',\n",
       " 'models/voting_classifier.dump_651.npy',\n",
       " 'models/voting_classifier.dump_652.npy',\n",
       " 'models/voting_classifier.dump_653.npy',\n",
       " 'models/voting_classifier.dump_654.npy',\n",
       " 'models/voting_classifier.dump_655.npy',\n",
       " 'models/voting_classifier.dump_656.npy',\n",
       " 'models/voting_classifier.dump_657.npy',\n",
       " 'models/voting_classifier.dump_658.npy',\n",
       " 'models/voting_classifier.dump_659.npy',\n",
       " 'models/voting_classifier.dump_660.npy',\n",
       " 'models/voting_classifier.dump_661.npy',\n",
       " 'models/voting_classifier.dump_662.npy',\n",
       " 'models/voting_classifier.dump_663.npy',\n",
       " 'models/voting_classifier.dump_664.npy',\n",
       " 'models/voting_classifier.dump_665.npy',\n",
       " 'models/voting_classifier.dump_666.npy',\n",
       " 'models/voting_classifier.dump_667.npy',\n",
       " 'models/voting_classifier.dump_668.npy',\n",
       " 'models/voting_classifier.dump_669.npy',\n",
       " 'models/voting_classifier.dump_670.npy',\n",
       " 'models/voting_classifier.dump_671.npy',\n",
       " 'models/voting_classifier.dump_672.npy',\n",
       " 'models/voting_classifier.dump_673.npy',\n",
       " 'models/voting_classifier.dump_674.npy',\n",
       " 'models/voting_classifier.dump_675.npy',\n",
       " 'models/voting_classifier.dump_676.npy',\n",
       " 'models/voting_classifier.dump_677.npy',\n",
       " 'models/voting_classifier.dump_678.npy',\n",
       " 'models/voting_classifier.dump_679.npy',\n",
       " 'models/voting_classifier.dump_680.npy',\n",
       " 'models/voting_classifier.dump_681.npy',\n",
       " 'models/voting_classifier.dump_682.npy',\n",
       " 'models/voting_classifier.dump_683.npy',\n",
       " 'models/voting_classifier.dump_684.npy',\n",
       " 'models/voting_classifier.dump_685.npy',\n",
       " 'models/voting_classifier.dump_686.npy',\n",
       " 'models/voting_classifier.dump_687.npy',\n",
       " 'models/voting_classifier.dump_688.npy',\n",
       " 'models/voting_classifier.dump_689.npy',\n",
       " 'models/voting_classifier.dump_690.npy',\n",
       " 'models/voting_classifier.dump_691.npy',\n",
       " 'models/voting_classifier.dump_692.npy',\n",
       " 'models/voting_classifier.dump_693.npy',\n",
       " 'models/voting_classifier.dump_694.npy',\n",
       " 'models/voting_classifier.dump_695.npy',\n",
       " 'models/voting_classifier.dump_696.npy',\n",
       " 'models/voting_classifier.dump_697.npy',\n",
       " 'models/voting_classifier.dump_698.npy',\n",
       " 'models/voting_classifier.dump_699.npy',\n",
       " 'models/voting_classifier.dump_700.npy',\n",
       " 'models/voting_classifier.dump_701.npy',\n",
       " 'models/voting_classifier.dump_702.npy',\n",
       " 'models/voting_classifier.dump_703.npy',\n",
       " 'models/voting_classifier.dump_704.npy',\n",
       " 'models/voting_classifier.dump_705.npy',\n",
       " 'models/voting_classifier.dump_706.npy',\n",
       " 'models/voting_classifier.dump_707.npy',\n",
       " 'models/voting_classifier.dump_708.npy',\n",
       " 'models/voting_classifier.dump_709.npy',\n",
       " 'models/voting_classifier.dump_710.npy',\n",
       " 'models/voting_classifier.dump_711.npy',\n",
       " 'models/voting_classifier.dump_712.npy',\n",
       " 'models/voting_classifier.dump_713.npy',\n",
       " 'models/voting_classifier.dump_714.npy',\n",
       " 'models/voting_classifier.dump_715.npy',\n",
       " 'models/voting_classifier.dump_716.npy',\n",
       " 'models/voting_classifier.dump_717.npy',\n",
       " 'models/voting_classifier.dump_718.npy',\n",
       " 'models/voting_classifier.dump_719.npy',\n",
       " 'models/voting_classifier.dump_720.npy',\n",
       " 'models/voting_classifier.dump_721.npy',\n",
       " 'models/voting_classifier.dump_722.npy',\n",
       " 'models/voting_classifier.dump_723.npy',\n",
       " 'models/voting_classifier.dump_724.npy',\n",
       " 'models/voting_classifier.dump_725.npy',\n",
       " 'models/voting_classifier.dump_726.npy',\n",
       " 'models/voting_classifier.dump_727.npy',\n",
       " 'models/voting_classifier.dump_728.npy',\n",
       " 'models/voting_classifier.dump_729.npy',\n",
       " 'models/voting_classifier.dump_730.npy',\n",
       " 'models/voting_classifier.dump_731.npy',\n",
       " 'models/voting_classifier.dump_732.npy',\n",
       " 'models/voting_classifier.dump_733.npy',\n",
       " 'models/voting_classifier.dump_734.npy',\n",
       " 'models/voting_classifier.dump_735.npy',\n",
       " 'models/voting_classifier.dump_736.npy',\n",
       " 'models/voting_classifier.dump_737.npy',\n",
       " 'models/voting_classifier.dump_738.npy',\n",
       " 'models/voting_classifier.dump_739.npy',\n",
       " 'models/voting_classifier.dump_740.npy',\n",
       " 'models/voting_classifier.dump_741.npy',\n",
       " 'models/voting_classifier.dump_742.npy',\n",
       " 'models/voting_classifier.dump_743.npy',\n",
       " 'models/voting_classifier.dump_744.npy',\n",
       " 'models/voting_classifier.dump_745.npy',\n",
       " 'models/voting_classifier.dump_746.npy',\n",
       " 'models/voting_classifier.dump_747.npy',\n",
       " 'models/voting_classifier.dump_748.npy',\n",
       " 'models/voting_classifier.dump_749.npy',\n",
       " 'models/voting_classifier.dump_750.npy',\n",
       " 'models/voting_classifier.dump_751.npy',\n",
       " 'models/voting_classifier.dump_752.npy',\n",
       " 'models/voting_classifier.dump_753.npy',\n",
       " 'models/voting_classifier.dump_754.npy',\n",
       " 'models/voting_classifier.dump_755.npy',\n",
       " 'models/voting_classifier.dump_756.npy',\n",
       " 'models/voting_classifier.dump_757.npy',\n",
       " 'models/voting_classifier.dump_758.npy',\n",
       " 'models/voting_classifier.dump_759.npy',\n",
       " 'models/voting_classifier.dump_760.npy',\n",
       " 'models/voting_classifier.dump_761.npy',\n",
       " 'models/voting_classifier.dump_762.npy',\n",
       " 'models/voting_classifier.dump_763.npy',\n",
       " 'models/voting_classifier.dump_764.npy',\n",
       " 'models/voting_classifier.dump_765.npy',\n",
       " 'models/voting_classifier.dump_766.npy',\n",
       " 'models/voting_classifier.dump_767.npy',\n",
       " 'models/voting_classifier.dump_768.npy',\n",
       " 'models/voting_classifier.dump_769.npy',\n",
       " 'models/voting_classifier.dump_770.npy',\n",
       " 'models/voting_classifier.dump_771.npy',\n",
       " 'models/voting_classifier.dump_772.npy',\n",
       " 'models/voting_classifier.dump_773.npy',\n",
       " 'models/voting_classifier.dump_774.npy',\n",
       " 'models/voting_classifier.dump_775.npy',\n",
       " 'models/voting_classifier.dump_776.npy',\n",
       " 'models/voting_classifier.dump_777.npy',\n",
       " 'models/voting_classifier.dump_778.npy',\n",
       " 'models/voting_classifier.dump_779.npy',\n",
       " 'models/voting_classifier.dump_780.npy',\n",
       " 'models/voting_classifier.dump_781.npy',\n",
       " 'models/voting_classifier.dump_782.npy',\n",
       " 'models/voting_classifier.dump_783.npy',\n",
       " 'models/voting_classifier.dump_784.npy',\n",
       " 'models/voting_classifier.dump_785.npy',\n",
       " 'models/voting_classifier.dump_786.npy',\n",
       " 'models/voting_classifier.dump_787.npy',\n",
       " 'models/voting_classifier.dump_788.npy',\n",
       " 'models/voting_classifier.dump_789.npy',\n",
       " 'models/voting_classifier.dump_790.npy',\n",
       " 'models/voting_classifier.dump_791.npy',\n",
       " 'models/voting_classifier.dump_792.npy',\n",
       " 'models/voting_classifier.dump_793.npy',\n",
       " 'models/voting_classifier.dump_794.npy',\n",
       " 'models/voting_classifier.dump_795.npy',\n",
       " 'models/voting_classifier.dump_796.npy',\n",
       " 'models/voting_classifier.dump_797.npy',\n",
       " 'models/voting_classifier.dump_798.npy',\n",
       " 'models/voting_classifier.dump_799.npy',\n",
       " 'models/voting_classifier.dump_800.npy',\n",
       " 'models/voting_classifier.dump_801.npy',\n",
       " 'models/voting_classifier.dump_802.npy',\n",
       " 'models/voting_classifier.dump_803.npy',\n",
       " 'models/voting_classifier.dump_804.npy',\n",
       " 'models/voting_classifier.dump_805.npy',\n",
       " 'models/voting_classifier.dump_806.npy',\n",
       " 'models/voting_classifier.dump_807.npy',\n",
       " 'models/voting_classifier.dump_808.npy',\n",
       " 'models/voting_classifier.dump_809.npy',\n",
       " 'models/voting_classifier.dump_810.npy',\n",
       " 'models/voting_classifier.dump_811.npy',\n",
       " 'models/voting_classifier.dump_812.npy',\n",
       " 'models/voting_classifier.dump_813.npy',\n",
       " 'models/voting_classifier.dump_814.npy',\n",
       " 'models/voting_classifier.dump_815.npy',\n",
       " 'models/voting_classifier.dump_816.npy',\n",
       " 'models/voting_classifier.dump_817.npy',\n",
       " 'models/voting_classifier.dump_818.npy',\n",
       " 'models/voting_classifier.dump_819.npy',\n",
       " 'models/voting_classifier.dump_820.npy',\n",
       " 'models/voting_classifier.dump_821.npy',\n",
       " 'models/voting_classifier.dump_822.npy',\n",
       " 'models/voting_classifier.dump_823.npy',\n",
       " 'models/voting_classifier.dump_824.npy',\n",
       " 'models/voting_classifier.dump_825.npy',\n",
       " 'models/voting_classifier.dump_826.npy',\n",
       " 'models/voting_classifier.dump_827.npy',\n",
       " 'models/voting_classifier.dump_828.npy',\n",
       " 'models/voting_classifier.dump_829.npy',\n",
       " 'models/voting_classifier.dump_830.npy',\n",
       " 'models/voting_classifier.dump_831.npy',\n",
       " 'models/voting_classifier.dump_832.npy',\n",
       " 'models/voting_classifier.dump_833.npy',\n",
       " 'models/voting_classifier.dump_834.npy',\n",
       " 'models/voting_classifier.dump_835.npy',\n",
       " 'models/voting_classifier.dump_836.npy',\n",
       " 'models/voting_classifier.dump_837.npy',\n",
       " 'models/voting_classifier.dump_838.npy',\n",
       " 'models/voting_classifier.dump_839.npy',\n",
       " 'models/voting_classifier.dump_840.npy',\n",
       " 'models/voting_classifier.dump_841.npy',\n",
       " 'models/voting_classifier.dump_842.npy',\n",
       " 'models/voting_classifier.dump_843.npy',\n",
       " 'models/voting_classifier.dump_844.npy',\n",
       " 'models/voting_classifier.dump_845.npy',\n",
       " 'models/voting_classifier.dump_846.npy',\n",
       " 'models/voting_classifier.dump_847.npy',\n",
       " 'models/voting_classifier.dump_848.npy',\n",
       " 'models/voting_classifier.dump_849.npy',\n",
       " 'models/voting_classifier.dump_850.npy',\n",
       " 'models/voting_classifier.dump_851.npy',\n",
       " 'models/voting_classifier.dump_852.npy',\n",
       " 'models/voting_classifier.dump_853.npy',\n",
       " 'models/voting_classifier.dump_854.npy',\n",
       " 'models/voting_classifier.dump_855.npy',\n",
       " 'models/voting_classifier.dump_856.npy',\n",
       " 'models/voting_classifier.dump_857.npy',\n",
       " 'models/voting_classifier.dump_858.npy',\n",
       " 'models/voting_classifier.dump_859.npy',\n",
       " 'models/voting_classifier.dump_860.npy',\n",
       " 'models/voting_classifier.dump_861.npy',\n",
       " 'models/voting_classifier.dump_862.npy',\n",
       " 'models/voting_classifier.dump_863.npy',\n",
       " 'models/voting_classifier.dump_864.npy',\n",
       " 'models/voting_classifier.dump_865.npy',\n",
       " 'models/voting_classifier.dump_866.npy',\n",
       " 'models/voting_classifier.dump_867.npy',\n",
       " 'models/voting_classifier.dump_868.npy',\n",
       " 'models/voting_classifier.dump_869.npy',\n",
       " 'models/voting_classifier.dump_870.npy',\n",
       " 'models/voting_classifier.dump_871.npy',\n",
       " 'models/voting_classifier.dump_872.npy',\n",
       " 'models/voting_classifier.dump_873.npy',\n",
       " 'models/voting_classifier.dump_874.npy',\n",
       " 'models/voting_classifier.dump_875.npy',\n",
       " 'models/voting_classifier.dump_876.npy',\n",
       " 'models/voting_classifier.dump_877.npy',\n",
       " 'models/voting_classifier.dump_878.npy',\n",
       " 'models/voting_classifier.dump_879.npy',\n",
       " 'models/voting_classifier.dump_880.npy',\n",
       " 'models/voting_classifier.dump_881.npy',\n",
       " 'models/voting_classifier.dump_882.npy',\n",
       " 'models/voting_classifier.dump_883.npy',\n",
       " 'models/voting_classifier.dump_884.npy',\n",
       " 'models/voting_classifier.dump_885.npy',\n",
       " 'models/voting_classifier.dump_886.npy',\n",
       " 'models/voting_classifier.dump_887.npy',\n",
       " 'models/voting_classifier.dump_888.npy',\n",
       " 'models/voting_classifier.dump_889.npy',\n",
       " 'models/voting_classifier.dump_890.npy',\n",
       " 'models/voting_classifier.dump_891.npy',\n",
       " 'models/voting_classifier.dump_892.npy',\n",
       " 'models/voting_classifier.dump_893.npy',\n",
       " 'models/voting_classifier.dump_894.npy',\n",
       " 'models/voting_classifier.dump_895.npy',\n",
       " 'models/voting_classifier.dump_896.npy',\n",
       " 'models/voting_classifier.dump_897.npy',\n",
       " 'models/voting_classifier.dump_898.npy',\n",
       " 'models/voting_classifier.dump_899.npy',\n",
       " 'models/voting_classifier.dump_900.npy',\n",
       " 'models/voting_classifier.dump_901.npy',\n",
       " 'models/voting_classifier.dump_902.npy',\n",
       " 'models/voting_classifier.dump_903.npy',\n",
       " 'models/voting_classifier.dump_904.npy',\n",
       " 'models/voting_classifier.dump_905.npy',\n",
       " 'models/voting_classifier.dump_906.npy',\n",
       " 'models/voting_classifier.dump_907.npy',\n",
       " 'models/voting_classifier.dump_908.npy',\n",
       " 'models/voting_classifier.dump_909.npy',\n",
       " 'models/voting_classifier.dump_910.npy',\n",
       " 'models/voting_classifier.dump_911.npy',\n",
       " 'models/voting_classifier.dump_912.npy',\n",
       " 'models/voting_classifier.dump_913.npy',\n",
       " 'models/voting_classifier.dump_914.npy',\n",
       " 'models/voting_classifier.dump_915.npy',\n",
       " 'models/voting_classifier.dump_916.npy',\n",
       " 'models/voting_classifier.dump_917.npy',\n",
       " 'models/voting_classifier.dump_918.npy',\n",
       " 'models/voting_classifier.dump_919.npy',\n",
       " 'models/voting_classifier.dump_920.npy',\n",
       " 'models/voting_classifier.dump_921.npy',\n",
       " 'models/voting_classifier.dump_922.npy',\n",
       " 'models/voting_classifier.dump_923.npy',\n",
       " 'models/voting_classifier.dump_924.npy',\n",
       " 'models/voting_classifier.dump_925.npy',\n",
       " 'models/voting_classifier.dump_926.npy',\n",
       " 'models/voting_classifier.dump_927.npy',\n",
       " 'models/voting_classifier.dump_928.npy',\n",
       " 'models/voting_classifier.dump_929.npy',\n",
       " 'models/voting_classifier.dump_930.npy',\n",
       " 'models/voting_classifier.dump_931.npy',\n",
       " 'models/voting_classifier.dump_932.npy',\n",
       " 'models/voting_classifier.dump_933.npy',\n",
       " 'models/voting_classifier.dump_934.npy',\n",
       " 'models/voting_classifier.dump_935.npy',\n",
       " 'models/voting_classifier.dump_936.npy',\n",
       " 'models/voting_classifier.dump_937.npy',\n",
       " 'models/voting_classifier.dump_938.npy',\n",
       " 'models/voting_classifier.dump_939.npy',\n",
       " 'models/voting_classifier.dump_940.npy',\n",
       " 'models/voting_classifier.dump_941.npy',\n",
       " 'models/voting_classifier.dump_942.npy',\n",
       " 'models/voting_classifier.dump_943.npy',\n",
       " 'models/voting_classifier.dump_944.npy',\n",
       " 'models/voting_classifier.dump_945.npy',\n",
       " 'models/voting_classifier.dump_946.npy',\n",
       " 'models/voting_classifier.dump_947.npy',\n",
       " 'models/voting_classifier.dump_948.npy',\n",
       " 'models/voting_classifier.dump_949.npy',\n",
       " 'models/voting_classifier.dump_950.npy',\n",
       " 'models/voting_classifier.dump_951.npy',\n",
       " 'models/voting_classifier.dump_952.npy',\n",
       " 'models/voting_classifier.dump_953.npy',\n",
       " 'models/voting_classifier.dump_954.npy',\n",
       " 'models/voting_classifier.dump_955.npy',\n",
       " 'models/voting_classifier.dump_956.npy',\n",
       " 'models/voting_classifier.dump_957.npy',\n",
       " 'models/voting_classifier.dump_958.npy',\n",
       " 'models/voting_classifier.dump_959.npy',\n",
       " 'models/voting_classifier.dump_960.npy',\n",
       " 'models/voting_classifier.dump_961.npy',\n",
       " 'models/voting_classifier.dump_962.npy',\n",
       " 'models/voting_classifier.dump_963.npy',\n",
       " 'models/voting_classifier.dump_964.npy',\n",
       " 'models/voting_classifier.dump_965.npy',\n",
       " 'models/voting_classifier.dump_966.npy',\n",
       " 'models/voting_classifier.dump_967.npy',\n",
       " 'models/voting_classifier.dump_968.npy',\n",
       " 'models/voting_classifier.dump_969.npy',\n",
       " 'models/voting_classifier.dump_970.npy',\n",
       " 'models/voting_classifier.dump_971.npy',\n",
       " 'models/voting_classifier.dump_972.npy',\n",
       " 'models/voting_classifier.dump_973.npy',\n",
       " 'models/voting_classifier.dump_974.npy',\n",
       " 'models/voting_classifier.dump_975.npy',\n",
       " 'models/voting_classifier.dump_976.npy',\n",
       " 'models/voting_classifier.dump_977.npy',\n",
       " 'models/voting_classifier.dump_978.npy',\n",
       " 'models/voting_classifier.dump_979.npy',\n",
       " 'models/voting_classifier.dump_980.npy',\n",
       " 'models/voting_classifier.dump_981.npy',\n",
       " 'models/voting_classifier.dump_982.npy',\n",
       " 'models/voting_classifier.dump_983.npy',\n",
       " 'models/voting_classifier.dump_984.npy',\n",
       " 'models/voting_classifier.dump_985.npy',\n",
       " 'models/voting_classifier.dump_986.npy',\n",
       " 'models/voting_classifier.dump_987.npy',\n",
       " 'models/voting_classifier.dump_988.npy',\n",
       " 'models/voting_classifier.dump_989.npy',\n",
       " 'models/voting_classifier.dump_990.npy',\n",
       " 'models/voting_classifier.dump_991.npy',\n",
       " 'models/voting_classifier.dump_992.npy',\n",
       " 'models/voting_classifier.dump_993.npy',\n",
       " 'models/voting_classifier.dump_994.npy',\n",
       " 'models/voting_classifier.dump_995.npy',\n",
       " 'models/voting_classifier.dump_996.npy',\n",
       " 'models/voting_classifier.dump_997.npy',\n",
       " 'models/voting_classifier.dump_998.npy',\n",
       " 'models/voting_classifier.dump_999.npy',\n",
       " ...]"
      ]
     },
     "execution_count": 59,
     "metadata": {},
     "output_type": "execute_result"
    }
   ],
   "source": [
    "from sklearn.externals import joblib\n",
    "joblib.dump(vc, 'models/voting_classifier.dump')"
   ]
  },
  {
   "cell_type": "markdown",
   "metadata": {},
   "source": [
    "# Apply to competition data"
   ]
  },
  {
   "cell_type": "code",
   "execution_count": 28,
   "metadata": {
    "collapsed": false
   },
   "outputs": [
    {
     "data": {
      "text/html": [
       "<script>requirejs.config({paths: { 'plotly': ['https://cdn.plot.ly/plotly-latest.min']},});if(!window.Plotly) {{require(['plotly'],function(plotly) {window.Plotly=plotly;});}}</script>"
      ],
      "text/plain": [
       "<IPython.core.display.HTML object>"
      ]
     },
     "metadata": {},
     "output_type": "display_data"
    },
    {
     "data": {
      "text/html": [
       "<iframe id=\"igraph\" scrolling=\"no\" style=\"border:none;\" seamless=\"seamless\" src=\"https://plot.ly/~vlandeau/12.embed\" height=\"900px\" width=\"1000px\"></iframe>"
      ],
      "text/plain": [
       "<plotly.tools.PlotlyDisplay object>"
      ]
     },
     "execution_count": 28,
     "metadata": {},
     "output_type": "execute_result"
    }
   ],
   "source": [
    "from plotly.offline import download_plotlyjs, init_notebook_mode, plot, iplot\n",
    "\n",
    "init_notebook_mode(connected=True)\n",
    "\n",
    "import plotly.plotly as py\n",
    "\n",
    "fig = py.get_figure('https://plot.ly/~jackp/8715', raw=True)\n",
    "py.iplot(fig)\n"
   ]
  },
  {
   "cell_type": "code",
   "execution_count": 29,
   "metadata": {
    "collapsed": false
   },
   "outputs": [
    {
     "data": {
      "text/html": [
       "<div id=\"239231d7-2fd7-4705-8d8f-1c4f814357f5\" style=\"height: 525px; width: 100%;\" class=\"plotly-graph-div\"></div><script type=\"text/javascript\">require([\"plotly\"], function(Plotly) { window.PLOTLYENV=window.PLOTLYENV || {};window.PLOTLYENV.BASE_URL=\"https://plot.ly\";Plotly.newPlot(\"239231d7-2fd7-4705-8d8f-1c4f814357f5\", [{\"y\": [-1.3225253446985075, 0.8134359045741155, -0.32723825102079723, -0.810495943766137, -0.4386363560981748, 0.16264155423161086, 0.22815116345696532, 0.40494778183163754, -1.252580539668811, 2.853390744465158, -0.7136666102683042, 0.3035437719517925, -0.6939999182679694, -0.23357232155976682, -0.7860024422074993, 0.8144018488989527, 1.3591656440171744, 0.02575294883928296, -0.27843276861377797, -0.12223655176887628, -0.903276778077551, 0.8202246853231574, 1.6364261476833888, -1.6932699127168411, -0.1675367540420025, 0.11205270889689321, -1.0751436456522074, 0.6270947300569091, 0.01352179423909748, -1.3370628836127838, -1.5846868097114977, -0.055425320002153125, 0.1402915180566049, -1.7235240895983839, 0.3039018500257209, 0.49833315422191593, -0.8800397229074678, -0.1978562206198186, 0.6968729690532774, -1.216439315862525, 0.8179931293629216, 0.3664504529113342, -1.942724530662093, 0.561867384996415, -0.25748829159800635, 1.590744031267248, -0.5181593549109326, 0.07777763005205979, 1.2338972459652444, 0.09818071550144897, -0.49589655924469184, -1.8878654291719557, 0.03078799115208582, -0.7272649962787245, 1.4101559650851034, -0.31792617423777525, -0.33579135830007106, -2.443304593453286, -0.26671762424561857, -0.4624923655011453, -0.26626827731462716, -0.06239593891906161, 0.09442397549193116, 0.1262730842043854, -0.09674727206814815, -0.43339213605913746, 0.17541923126389541, 0.6710426457286588, -1.2174650403425384, 0.42532542365925213, -0.08669828683791377, 0.043637116248296644, 0.7904404153065451, 0.22413891824467047, -0.47395627687718567, -0.16110070702737064, 1.5184340992190157, -0.8719748575488965, -1.5752025024929808, -1.9591051157932793, 0.8801182912089103, 0.48270884238115447, -0.5881731978911555, -0.8528550190628371, 0.5457377921391932, -0.3390065010108098, -0.6444211416228135, 1.288752061030463, 0.32717676359044895, 0.17049751840513075, 1.0918907646368252, -0.9093811640467501, 0.3923703827084875, 0.3260922014266976, 0.20025046647072353, -0.5906182528540889, -0.39236590165256485, -1.5463254558068515, 0.853199003098282, -0.8224829997192376, 0.19697002987731602, 0.07340736261896538, -0.4512504061915314, -1.018728619721723, 1.0269651853771187, -0.5340802068993029, 1.2419018825167212, 4.43332624466836, 0.7260878775935492, 0.5567129330978488, -1.0561900374396784, 1.1378367615928469, 0.22975018964902852, -0.7389526636085377, -0.04904858357166251, -0.8438032201877751, -0.3888653548953, -1.3378184612530477, -0.5741696109879431, 0.12983852566997928, -1.0376372807780665, -0.11274159423027137, 0.10519024301982469, -0.2752084152709208, -1.057310082865593, 0.14956326429004263, 0.2326463061562549, 2.943002457660229, -0.8688499832403743, 1.5692553392787998, 0.8463287484663211, 0.4778039794425759, -0.4335716080588979, 0.6478061696786862, 0.1577403822090252, -0.6428858691366687, 0.7122845607515738, -0.2087107990330315, 0.8725810840074048, 1.9969960038953969, -1.1472749064101528, 0.7191680910638962, -0.2468222163439849, 0.9615163719186087, 1.4116033185075767, 0.4977267867559092, -1.400072989369084, -0.2093293049587941, 0.24946165367170786, 1.1539304183075068, -0.6176884686772245, 1.2183387619747534, 0.7135629412883685, 0.9999542734212178, -1.5745132082141813, 0.4050823125957441, -1.844497206602858, 0.6290441748705622, 1.302595596673198, -1.282643759462799, -0.22818720774006734, -0.4133269981081305, 0.6561472790028227, -0.09738685821519959, 0.06269819244996125, -0.34679685636441554, -0.5474530791980171, -0.801323212950065, 0.32119355911275793, -0.3233496213145002, 0.07568696331393875, 0.8351905216902561, -1.32953649145763, 0.3378923320521198, -0.10395156589001775, 0.1345552658144377, -1.1225235184434375, 0.28369216268522857, 0.6196674166602036, -0.9327290229745832, 0.23337676467359308, 0.8949875831756424, 0.27592791791527554, -0.6331701681946935, -0.07309500064837103, 1.9560614013654025, -2.44303606433902, 0.8239583819665394, 0.44373341332074456, -0.20316727748432045, -0.36305351551662346, -0.5889278703174927, 0.3864674417744366, 2.101229416516808, -0.4519235074498749, 0.8536946679222328, -0.3841898331607065, 1.6631764136809581, 1.412086267224799, 0.4343642790975645, -0.6342884808784865, -1.266870761816964, -0.6800235952352827, -0.10614368601686208, -0.12486066369908186, -0.4305260657527047, -1.3886512849517043, 0.25725111791805694, -0.5964329709669153, -1.5587789745187133, 0.41799420037230095, -0.04450006088549095, 0.5551552819220669, 1.1847292789344135, -0.9497213877991566, 1.4838854992525023, -0.7551751180542652, -0.4535919509363429, 0.8654442320050851, 0.1723499882057519, 0.21319642325444468, -0.10481529624950364, 0.3820152013749705, -0.16942599545729295, -0.8778503201589795, 1.4916150562503379, -1.8867899810141116, 1.2469003748758456, -1.3474148028382178, 0.4456118464980069, 0.40368492407875434, -2.3914303900777973, 0.630179382043392, -2.617429157489986, -1.0353377364505367, -0.4120545253346937, -0.18113977369932788, -0.01854535290405953, -0.022263606755086325, 1.5858030232742004, -0.8014389591274241, 0.19944371278689227, 1.0283258453509052, -0.863279514378754, 1.6632799173911819, -0.9258660813278176, -2.633911233436333, -0.3085867054279343, 0.541104943353758, 0.24329425983701808, -0.7938566742016369, 0.7883155579495744, 0.8422836474628869, -0.24139386554175712, -1.1033693439372667, 1.0286778358223458, 0.046770495100750445, -0.306888389788818, -0.895632969974061, -0.23621724264181196, -0.15203032637957, -0.1948021925162047, 0.7797674594926404, -1.8496110757238227, -1.0747182233368195, -1.5757395402331882, -0.4286827647461865, 0.2516160219385729, 1.1773956397861365, -1.2362839178113039, -1.148938907423116, -0.40532774972176017, -1.1340476672241124, 0.2147138648969485, 1.273580393423812, 1.5126874807241528, -1.1576951652938343, -0.13050470271768824, -0.1050364785076716, -0.28571615497974256, 0.870406851622972, 0.34209646339824945, -0.5708150750474316, -0.7510817441295569, 0.7732506266846366, 0.6042511539232863, -0.5143540218171299, -0.3507631273290591, -0.6532621080629918, 0.04006476838920398, 0.26131929778964597, 0.06896629239637801, 0.7149720395650209, -0.831252672962122, -0.48942659075089134, -0.21173306628091904, -0.7979140261863997, -0.4112687888218084, 1.5441132778769484, -1.1547439629250646, -0.30855076677890564, 0.9297360966700288, -1.4828084183729715, -0.7851163646611401, -0.3104996841042921, -0.29202074697445846, 0.07904793945578772, 1.287729094747511, -3.117031516562728, -1.4020256381236886, -0.9969649080698587, 0.04617278560993256, 0.689807148246846, 0.6950912501989209, -1.130567525828094, -0.33690532342422047, -0.2047955647381276, -2.3914053973820075, 1.1233186774365855, -2.521922257603738, -0.5951554146553404, 1.122809791114974, -0.8571872035089441, 0.001223442256404437, 0.014145801250635522, 0.0003090249106412321, -1.0122671007164834, -0.3173706644464039, -1.3086033014871445, 0.43622217679864717, 1.2257112259232752, -1.1731908196268324, -0.22554090142227787, -0.0012244469201600355, 2.325449931531523, 0.21838075901832474, -0.27003261841571347, -1.9967167051476404, 0.24336202299234908, -0.7335926736273726, -0.16533725703698737, 1.9303376082463646, -0.02239703458950451, 2.287535255207694, -0.4970434651843486, -0.394129664935452, 1.035949833921602, -0.1409489456228463, -2.200033638420639, -0.4290161782161205, -1.0252842276678027, -0.41800426768318, 0.918012698283954, -0.5811774783934628, -0.2579464770764063, 0.26140001163274545, -1.704714739415524, 0.93501941951441, -1.9461941670144014, 0.16962154443701102, -0.5269504334402662, 0.4794342612876274, -0.20391399230997015, -0.2896994349023096, -0.3065240515042383, 0.14615223498028296, 0.8679417523840613, 0.7832725848871238, 0.8920794388508414, 0.6196147641336456, 1.5963226344125732, 1.0965865090444211, 0.771149171763465, -1.3066014190836395, -0.7038817587081164, 1.345225942201999, -0.8053015763395595, -1.3862319775878067, -1.3862070400557556, 0.5117304153495787, 0.6808370437069386, -0.3766102638395652, 0.2197488179156304, 0.5423233733127623, 1.5129117927558018, -2.5589131648347276, 1.106262504351397, 0.4934596098416203, 1.791793612157829, 0.6967556807395331, 1.2534752995779153, 1.3382386709956946, -0.7816122837955197, -1.1238290429054796, -0.27314988770596366, -1.66583869835997, 0.49049792089661143, 0.43585978781235124, 0.2610739885994546, 0.2369897546438513, -0.32308926618449707, -1.2396256096777665, 0.5221669088528327, -1.2922521669686355, -0.5389081154608615, 1.592007668167029, 0.26884922002610895, -0.2571501041034761, -0.8493538387757817, 2.0625344970353705, 0.022505651861486963, 0.08881608329886917, 0.29547741948364514, -0.9665618731327961, -0.7914472688078859, -0.3499172223460755, 0.015240624901564696, -1.6649602907757395, -0.0856223102310388, 0.802316072401502, 0.6225589317559866, -0.9508146592012446, -0.14694469732641233, 1.4289093433693094, 0.7674142807953565, 0.3390629259770591, 0.27057341464830326, -1.3659308341667526, 0.780463685101086, 0.510811418863821, -0.27416807900900836, -0.14568061817870748, -0.35872475260982345, -2.5211249541266176, 0.5634983706036507, -0.5706038509645356, 0.1949203831043544, 1.4999449642985405, 0.4620994582343617, -0.6834494030788953, -0.8797218513054422, -0.29785627748335336, 0.30083954234870136, 0.6578500171663669, 0.7290213525156322, 0.5317940411614666, -0.028763167996387836, -1.2801723943539434, 1.4275822353341547, 1.3155427881020774, 0.5491378817710123, -0.014222051870915166, -0.02116459776938213, -1.2700715269308236, -0.5577586189872192, -0.3095916869394631, -0.2997159724471426, -0.5520621643581372, 1.0753669310782628, 1.1766319372330754, 0.31434760805625156, -0.11804475365457864, -1.7476184673114807, -1.6328786559202237, -0.22223243274230306, 0.5237946778317647, 0.03615463786827167, -0.6692763940958495, 0.4210125664339492, -0.34184374531024275, -0.7325171484375269, 0.41495125406632216, 0.2730219570905166, -1.0182558278480425, -1.8599075709546418, 0.9442770199316687, 0.05113206489895773, 0.5951135012946047, 0.056384197281074834, -1.0210418826273464, 0.15968741795497068, 0.701356203170349, 0.1415180785249154, 0.9890559482351329, -0.3469127034810276, 0.518874449196551, -2.0284952761917507, 0.06950501051678147, -0.19630052461858172, -0.1765281568569539, 0.9586198285885962, 1.968286397173655, 0.7799353183174936, -1.1979268787163597, 1.580784569597917, 0.09192033026682302, -0.07450248480877467, 0.6478207781513965, 0.31693438286273995, 2.2432374445320358, 1.7893885567072945, 1.2205760167564854, 0.5687039166766208, -0.5078302912214543, -0.2786985415665941, -1.0572799086725997, 0.9492360115812715, 0.4449409223989212, 0.927899162285162, 0.5828832780790845, -1.9640298136284684, 1.2059157472305078, 1.1198648350601543, -1.8716736241187744, 1.0870186095143939, -0.6032943870585836, 0.9591135676867013, -0.9408927262312735, -0.16355842484504066, -1.5825385885421137, -0.5314854083496564, -2.1378306446097417, -1.6376062141542882, -1.57170925079306, 0.23072093058208745, 0.2095926176392652, 0.43365844769918954, 1.5959520906586244, -0.24922770762611393, 0.4690856473518141, -1.1748086753099003, -0.2251058465668656, -0.3968424316993232, 1.8891464995890697, 1.4110323720355107, -0.963565327430121, -0.2500429232195853, -1.392340085530158, 0.10966193549304169, -0.9052056175896737, 0.5154679846174373, -1.8187389428463312, -2.055113421960768, -0.06092960627477378, 0.09478446134649751, 0.19610116233464672, -1.3016271937837014, 1.1789984070870552, -0.5143683506225405, 2.548466091260041, 0.09507403716530377, 0.30866263777719594, 0.983724838810315, -0.0777647550029888, -0.623894955642178, -1.3352941011287538, -2.192317691786154, -1.0227626539101589, 1.231092665916074, 0.4397380467732503, -0.9992764531858048, -0.05202733850810137, 0.6300469023157661, 1.7492035491868347, 0.11932305522194928, 0.6529300989158241, -2.1006456885899767, 0.09353491562844037, -0.15046667022987872, -0.7702015767777546, -0.9314284550750633, -0.5030660457008347, -2.0793870965699845, 2.762036296099205, -0.16899550060602345, 0.42295189831506524, 2.941795019472954, -1.3545076307809027, -1.3131692673873936, -0.3108694568134423, -1.5882936798049672, -0.5165997510196815, -0.15560258202177404, -0.05038354468367107, 1.1832345107228541, -1.4379383485026145, 0.8002417383554536, -1.2202284738274776, 0.5193789206003409, -0.4601792753654777, -0.5411944389587865, -0.12984348844977872, 0.7733862060778325, 0.5623850006197713, -0.46128637959133706, 1.170712505315226, 0.9463207696722409, 0.6283271520621031, 0.5158148971950538, 0.2995483178580238, 0.6867818647598525, -0.579879851553058, 0.3268122130278736, -1.6641897497231715, 1.7885003832911885, 1.4240498978577183, -0.33603166210861196, -0.33619401540419463, -0.36075085675142826, 1.9531716309439855, -1.2802832951889542, -0.25547947859334963, -0.9246926734152751, -0.031051161806109857, 0.02149631463604225, -0.033890883649409564, -1.2836196468262413, 1.9900762735521058, 0.17133649267714474, 0.40555810562404215, -0.333361688066509, 0.5526641485111962, -0.3603334798636505, 1.5436997614329455, 0.39871273736797636, -1.5295730125035925, 1.9334750569383723, 0.05724037845023696, 1.037298233888455, 1.472264214609995, -1.7698179022715077, -0.6757157713545382, 0.4002097043828418, 1.4447359032462355, -0.16895686264161086, -0.31584600596885826, -0.5338209565773423, 1.970378589752529, 2.168032047286517, -0.18279709656226806, -0.38904726337739187, -0.8366046498049209, 1.2186941545690422, -0.44981098371322153, -1.3108417468682934, -1.2668970372011839, 0.07093630059355381, -0.9756229993447346, -0.6468451803500467, 0.46487272181410416, 2.089095452810775, -0.7916120847094782, -0.7707373136119366, 0.18861054120224274, -0.6932858638278694, -0.8117365151823872, -1.3007969917143365, 1.3342553546021232, -0.5754842525385241, -0.7609600015270449, 0.7337126432293462, -0.16502747221718575, -0.1658004237993625, 0.5206368543736091, 0.43903715164915086, -0.8307087002423984, -0.45549396756809857, -0.24405865741839633, 0.01837605785226352, -0.6853173194894472, -0.2033976755339639, -0.16791330613420152, 1.3924483536749592, 0.4955140336599871, -1.6730297470887003, -0.6993669075938788, -0.17170257577847628, -0.7438077281839722, -1.820192776561115, 0.15387037871182346, -1.887992694560341, 0.8397026041181734, 0.4151642222093942, 0.49308610578243683, -0.6254837740401136, -0.7018986605099528, -0.4257875675492779, -0.5092532008483245, -0.6051383188268574, -1.8057537173095053, -0.5193346038500942, 1.8741658272534234, 1.5895139049689746, 0.8218867164810436, 0.6012245192676516, -0.9184824930721001, 1.5723337236878911, 0.8515610777888635, 1.1489527691446992, -0.2105602646985351, 0.06479709071201557, -0.9538608548089688, -1.1636205128374044, -0.7570305577601458, -0.829610639982973, -0.26464280855463007, 0.016410495761278017, -0.13791378304227597, -1.1779599994453782, 0.16359707386419767, -0.9713262322176756, 1.3995705986827132, 0.25144407012557163, -0.8384451498131034, 0.1105850349179161, -0.34861909203606906, 0.28281977279263304, -0.4821708165262871, 0.7700007917496056, 1.070322421038013, 0.8157988410337601, 0.9941625439094207, 0.9431505293022113, -0.7545068835042292, 0.3327674141938323, -2.105373290776578, 2.083717720453211, -0.961295580441578, 1.7661014407613096, -0.33543940795962934, -0.33450789540172776, 0.5955879621255771, -0.28393033295950604, -1.0036425895715293, 0.8861875618926608, 0.6743377230455896, -1.6310980163966888, -0.8462645108990491, 1.138996142170431, 0.06615167901557492, -0.485562443343912, -0.7833513475469699, -0.958601526583428, -1.1311869378854766, -1.2369856147860465, -0.2164518002995001, 0.6798058538855247, -0.5505408813730848, -0.31462896147862945, -2.520059638183208, 0.7601616127340955, -0.42899852690407, 0.2726588457623112, 1.5234020080664974, -1.3847734599940227, 0.39792995356698224, -0.022111688759941, -0.41210038841239716, 2.472210585227601, 0.44608343913744786, 0.027435497101201207, -1.5005320302822358, 1.341986065557344, -0.6709025366654591, -0.3454371667666006, -0.37283458232562994, -0.9348912672108552, -0.8020202096311525, 0.16117964855943293, -1.056775785438241, 0.20492378910160639, -1.6194980450534329, -0.027528446218805194, 0.37835123395649223, -0.24861587355113235, 0.06316978399923621, 0.4739068970963324, 0.18966531137460751, 1.0459441612547138, 1.0591846976385904, 0.5418220690044551, -0.5944169197264695, -1.0723418168298389, -0.5220588436384167, 1.9220386676737296, -0.512366082669665, 0.7447420704703525, 1.2350408492550988, 0.09512476665243018, -0.1496190957080018, -0.4393021723833348, 0.27605189317775053, 1.077261275343254, 0.13306627205776472, -0.6381367462338683, -1.1057363600130328, -2.403620143274921, 0.1706759238395253, -0.4368955745481748, -0.5367066119441839, 0.029566672100989507, 0.7393480359235096, 1.3829956539412482, 0.5973731055009256, -0.6421456166935472, -1.250399712481331, 0.19993358427560085, -0.5628011468455133, 0.5656608015852467, 0.2876889713121902, 1.9374829832954656, -1.0468265085032868, -0.38665657074405885, 1.1489979933403947, 1.38920633126084, 0.1580163462717602, 0.7028628570403856, -0.7863329594560847, -0.4583163187127802, -1.4022365613772212, -0.9934832204632337, 2.3044328945010704, -2.366089553608496, 0.058497593289639785, -2.8725084187584717, -0.23126015872730143, 0.6084845574421984, 0.08524462446220965, 0.5205331627398422, -0.488547896552519, 0.6278360700104936, 0.19835660943911043, 0.14089347921355924, -0.9681069147784495, 0.47055830179605496, 0.47223303207245554, 1.9814192700151663, 0.38963161067671703, -0.07831809475030689, 0.08467724920414542, 1.004895821000487, 1.0594090716869908, 0.7466950741126694, -0.10106229709821826, -2.200730622025083, -1.1505967021810384, 1.517890836274283, 0.6966425613508677, -0.379519835004085, -0.8839110339355803, -0.5269850527554292, -0.5579334417780032, -0.26120826878630055, 1.2832700481507948, 0.2892637361631174, -0.8815395192801574, -0.1366432741960507, -0.4214494536131079, -0.44767220361221444, -2.1590054257128557, -1.5520366130340646, -0.31632566825679437, 0.4630192885838894, -0.510797588113109, -0.6062477834548163, -0.7771600508299206, 0.47450426325448, -0.586652393436615, 0.0924836214818195, -0.40179315904136703, -1.1937438505380564, -0.5492732365658541, 0.6883216829330268, -1.0982107495168918, -2.1755976631053473, 0.04881581865244652, 0.7739254450202002, 0.012923695631640551, 2.0533767283756332, 1.6147829888395124, 0.6007431220525332, 0.692478537419951, -0.1427393549248048, 1.279366758042791, -1.131439675059274, -1.3363042624503416, 0.17892447296281816, -0.3323328181553927, -0.513855207704735, -0.7513331626681735, -2.7057371448935643, 1.916384018883636, -0.9698876319267388, -0.634772815473441, -0.41529921345285564, 0.774174862626299, -0.2885623732828063, 0.374212322464179, -0.05268376627438536, 0.6615205654637318, 1.1974456468962293, -0.8691529676975309, 0.2107283206380149, 1.0061880797317677, 1.4451911805314535, 0.9705565750856149, 0.12041892886469012, 1.2744721441007167, 0.7234230795884532, -0.22613170943115532, 1.1317232928583596, -0.532818473191878, 0.5870521311331802, -0.0202774116074217, -0.010519818963924073, 0.1903949298434645, -0.8176534000026155, 1.2378135190485557, -0.30944760763897905, 1.4712283202601555, -0.12400923786826872, -0.13547367717619072, 0.4715029374931877, 0.8716444880906735, 0.4417691001323029, -0.011441027298070965, -1.4339934231083853, 1.6759165444091004, -1.3284104877392506, -0.4556607860138323, -2.3502409827221014, -0.5338881974185642, 1.473080570636848, -1.5831319463499658, -0.14534816763038289, -0.7519983887453339, -1.0867907421094885, -1.1193889612343113, 0.21870551678401812, -0.08041260975633346, 0.3274716730149808, 0.7339315084951997, -0.4341510639113203, -1.3643930926968215, -0.7157566960330113, 0.7440091858773095, -1.0557870584001323, 0.23396223970184388, 0.5713205016127154, -0.8955680192636712, -0.34105706230843486, 0.963983929702567, -0.5179830586183395, -1.0545793754681545, 1.749355307953722, 0.9272292700914642, -0.576566188650577, -0.3117164888520348, -1.4934827858111002, -0.9212349409004698, 1.2326694331333734, 0.753252569839908, -1.0245331448323147, -2.3906880370902224, 0.8406841694950171, -0.12826030655146295, 0.6848534531500954, -0.7828856765800536, -1.1411723029963359, -0.8596908412515233, -0.2192000911753097, 1.9731297892221817, -0.49934139869534094, -0.579441297647318, -0.17323912961757978, -1.1139065890954507, 0.6928975152078022, 0.3779483883844309, -0.2259164924853054, -0.5351034053595813, 0.8127072210336304, 0.4252067403135953, -0.1486760417302896, -0.19659082843487416, 1.0539897836397696, -0.674505055159462, -0.5283554978589211, 0.6189112315714421, -1.252420242443228, 0.19499172364044134, -1.8064000831111258, 0.7659609746050839, 1.0759009535981037, 0.6377602146183569, 0.7987719489317902, -0.48492689783687926, 0.669353862097112, -0.42521132264074374, 1.1637955007212202, 0.15398238114143653, -0.14507440118994722, 2.419848137340825, 0.347757720317342, -1.2368358373412711, -2.527195230467543, -0.263908140880549, -1.4188165527303735, -2.725365784818435, 1.2502935235574018, 0.3927868937819654, -0.7577540003625958, 0.8030889766807425, 0.01188449441742483, -0.40072718744345565, 0.22804255093045261, 0.5126877076977914, 0.1839265945441118, 0.8594098201363998, 0.06169968630335618, 0.025834087395976413, 0.9757005364270265, 1.0815150470465387, 0.2348298675725958, 1.2874225695197588, -0.6697178589132087, 0.921877392504384, -1.1562353589616152, -0.42437585933479083, 0.5149245053128951, 0.23111997656766506, 2.065634047086313, -0.7125677996639542, -1.0786128388621485, -0.9313930198374506, -2.2870350581099497, 0.4084376758961458, -0.9313197157503348, -0.5603258724404916, 0.40303317378981574, -1.1417941630185957, 0.023983483337194994, 0.047172442087045574, 1.1729880751497117, 0.4492777755753727, -1.4928712532237558, 1.6394215401681511, 1.3773786256235754, 0.0689809554771973, 0.23304924411617037, -0.7917227381698704, -0.4077066370337015, 1.7266341555708695, -0.5049014404454921, -0.11541730550504926, -1.0360316528900224, 1.336201408542907, 0.32782316280522056, -0.7303543702949407, -2.324087132013258, 0.9528734227758604, -2.2459337855806987, 1.2627345031477895, 0.17281586931190823, -0.9458417999530849, 0.3736081566922151, -0.6055359208296702, -0.25870750767346806, -2.53735706258477, 1.687579862974605, -0.3630648442030325, 0.8526281093575888, -0.13860449998729468, 0.4817267078958953, 0.6025902104796794, 1.6623664846264772, 1.3323192379101025, 0.4578757138833714, -0.4113807744847357, -0.13610893681521025, 0.09710382328062321, -0.3964789272774258, 0.985014474171322, -1.7508249531637534, -0.10249535495230952, -0.717984278490924, 0.9980816249128242, -1.298597600360953, 0.13323284571495472, -0.4784977688403807, -1.3135829256129687, -0.914416321596996, -1.280318766148837, -0.5834401232678939, 0.5356252467623266, 1.606435990080482, 0.39699025468825794, 0.6089783355202587, 1.3188379542576576, 1.551392073343346, -1.4466059070652562, -0.9362889416450725, -1.5407245247431194, -1.6505087547899109, -0.6150507277686103, -1.1631206463024182, 0.052483819255454, -1.1860444421061438, -0.3799617885748305, 0.2592580570984381, -1.7559252350932466, 0.4637748679077491, 1.3597797305281278, 0.870621599747679, -0.2581074594502539, 0.3177930262775602, -1.8346718992474298, -0.3418799055341566, -1.5345465552531625, 0.6160051361525294, 0.9932779766955585, 0.1618371637379653, -2.4875970837916195, -0.7229604298063572, -0.03772937390925047, 0.6391521047901876, 0.4595289235003455, 1.5158457519882138, 0.8287623242372143, 1.692543085488736, -0.6330512611304525, -0.4856846704311301, -1.7949795990438455, -0.15676230843936323, 0.8966563193699308, 1.9362372444373004, -0.34076692945511355, -0.5891211873162159, 0.05112908661792003, -0.474826527058578, -0.4295045076514567, 0.0895419589051624, 1.1213442406635368, -1.0444583021833853, -0.6458206373318878, -2.0582207700935453, -0.40854714102816203, 0.5029735612118965, -0.868535865324742, 0.5467023388923916, 0.2553335650438106, 0.03686902489094935, -0.7995426921096788, -0.41318111139384855, 1.3199164232504852, 0.1059511477500604, -0.21049610073286326, 2.4196445593444333, 0.3726347082910613, 0.892012870552038, 0.8193386476172609, -0.2540611769381941, -0.2472017008600052, -0.10305264890068964, 0.31486083332674925, 0.5830370613198445, -1.8861455232776272, 1.1903244491799836, 1.2558387146427352, 0.34130453784304854, 1.1058341939114735, 0.5770514961529972, 0.7806386248755245, 0.1695221054279603, 0.8892328563865171, 0.5035417654918355, -1.6700365962711123, 0.06192628156374424, -0.003804434033730877, 2.049310358231254, 1.3205194729525076, 0.3067992601569386, -1.572664348540538, -0.4256547963370571, 0.5703622023658079, 0.8044486141838537, -0.9640534296729186, -0.40435758526011784, -0.12291733970124051, -1.0594765867938638, -0.08024326613481521, -1.4987413160384686, -0.48775410057468616, -0.42022333020896535, 0.4790037109052535, -0.3402560361585347, -1.1128684248354301, -0.9220179153427759, 0.6529214206450452, 0.5416739335350966, -2.4125014890112713, 0.1212581709084846, 0.07397454873928756, -0.12361822548955977, -0.8518506663154017, 0.2366223735082189, -0.17922517662530518, -0.4238053861319621, 0.47736172258725373, 0.23452173051496927, 0.26560844908736886, 1.4871161431575894, 1.3712248739986668, -1.111652558092051, 1.0901431779635276, 2.9725623497703193, -1.0580691755398792, -1.195282524361971, -1.2153845070843734, 0.6478216058976839, 1.5430888097966402, -1.6567318365716293, -0.23442745049984526, -0.18965274670396892, -0.569877008260234, 1.277908320972498, -0.8905170154497424, -0.335248284845153, 0.9379644026045255, -0.10423243334380196, -1.4233195344497938, 0.5237779503365629, -0.4810000337335728, -0.1467722644371263, -0.128769421031228, -0.23502015023049722, -1.258573922843404, -1.615759595466129, -0.855036111543627, -0.2509550978213622, 1.72572320825349, -1.8589001304623767, 2.2374439855302732, 2.688985839484882, 0.042773277374320656, 0.940551151291269, -0.8168452880943655, -0.5128511312796825, -0.18215894116547562, -0.34547371277041033, -1.9298871736982242, -0.7794794140373918, 0.4202932879135696, 1.1899628261653374, -1.8037982290904113, 0.5953561279152217, -0.1921861878970256, 1.6533136927128638, -2.2780061708726094, 0.755161759162481, -0.37048660693733865, -1.072134761799309, 0.12553482176111252, -1.3698018778248346, 0.019087718355160113, 0.34729678944421577, -0.6097140369551, 0.08760185442761814, 0.5584525559220326, 0.07063765183014799, -0.2045549778148433, -0.5058610484496583, -0.6532979634346782, -0.7320845178695073, -0.3562106277145867, 0.8154202886860559, -1.2542896442573195, -0.7296333851498417, 0.5411638107006457, -0.10788092567428684, -0.5726024862177702, -2.9250551591162735, -0.11175939184183159, 0.8592997566445209, -1.6874336096447626, 0.40103384313110946, 0.8943271920859465, -0.3504475028288963, -0.5593798771874577, 1.013050131994831, -0.058250396515570804, 0.8473113028204076, 1.8806162276661678, 1.8172507523580728, 0.6149823402014586, 0.17870737695418606, -0.6111811286120469, -0.35392236193004306, -0.14352072570161223, 0.22957516950582565, -1.3416135365336355, 0.5094116588064539, 0.9755525807215194, -0.45424474802339376, 2.8883463576561224, -1.6477666255542245, 0.656912707179114, 1.7920742364322084, -0.2509682639907141, 0.09047890183357374, -1.283650105065591, -0.39680167592756277, -0.5597191020960159, -0.891266577554234, -0.21807477437323858, -0.3815975135966612, -0.3276475371257036, -0.30763271498636086, -1.367003181747893, -0.1593350675716227, -1.2615036717957517, 0.29599278072969115, -1.747443548416521, 0.5100339159888065, 0.4058491907841234, -0.7095382406193473, -0.1412083037188332, 0.8981772842413025, 0.7530573574511228, -1.1165977619928213, 0.18481407734917596, -0.8284228591603333, 1.8760364411607737, 0.2703390529945295, 1.4316339349068625, 0.36492268639917375, 0.08515371312585107, -0.21559524142908734, -2.096009690006355, -0.029583772797007107, -0.06858343395608676, -0.5150261435025705, 0.17878342675809408, 0.35976328930429863, 0.7862421582452194, 0.1786866018334648, -1.7380217512319411, 0.014444527887583531, -1.0903732562102102, 1.5205096317101081, 0.2800989651978908, -0.33198028904624943, 1.2230570733517776, -0.8690812243247676, -0.4426191294823402, 1.772868839899862, -0.45657402605594544, 0.10806385015806097, 1.2876147960184112, 0.01981358111746603, 0.772237530763789, -1.194859148420461, 0.8616841672862336, 0.9568667568139632, -0.6181366758474538, -0.17675124857299526, 0.4449679377835392, -0.2595375742567096, 1.331743247851335, -0.6123013188506607, 1.377650083425097, -1.025894598020319, -2.7323175348883, -0.01875575747393414, 0.4717439360480427, 0.06689293229089485, -0.5028544318775127, 0.07072721067433133, -1.4405250866879562, -0.3874906532690835, 0.7121319577828268, -1.3000586973246488, -0.0630798358817357, 2.911725004392659, 0.6827163242901666, -0.7414096093404724, -0.448344006220691, -0.06585706786388945, -0.19556055814320147, -0.25472793006801514, -1.534053577255858, -0.21561368600936573, 0.1474424775472752, -0.7412324241669129, 1.3317177888053844, 1.4358249000954573, 0.7806983531001679, -1.2133662157294978, -1.174571798958425, 0.09109493630329124, -0.977222370925593, 0.2707722169679332, -0.971710259372587, 1.16426818453051, -0.10736067357634396, 0.6681593812188321, 0.4940211275543056, -0.02900653221709174, -1.458878029807599, 0.31873932705383196, -0.7701858874754355, 1.57989836153828, -0.07711795276005398, -0.059749087752984924, 0.4202958561597995, 0.19675583904586214, -0.8442554544969151, -1.1480590444010752, -0.47150709786076533, 0.267441855162477, -1.833830130273987, 1.1569590462219626, 1.0836975089782082, 1.4003078510019547, -0.5632243462528006, 0.7730683929815944, -0.13948666287544467, 0.7781833499416324, 0.7869751903905106, 1.4849637179076536, 1.1976508771863805, -0.484348137862329, -0.49330647538930084, 1.1304854173471293, 0.6976945909920074, -1.0661129447278628, 0.29158420392414564, 0.507880550723263, -1.072020054113535, -0.8417555721290978, -0.3500465213436332, 0.16834545501924317, 0.7195531623841026, 0.008562942938356185, -0.05817415552429355, -1.6298457213334518, 2.1583898219032824, 0.5875569150408911, -0.6243999724849479, 1.8304476967449292, -0.1350761546677974, -1.3182528038878583, -0.32084759472098767, 0.09767837059607062, -1.552808446818855, 0.3135561714349283, 1.0718661583333904, -1.9110174989879491, 0.10566913062161344, 0.6043392153822721, -0.05325451672958869, -2.1302972698418987, 0.12456138763246982, -0.14087879236462802, -1.2885477880460456, 1.324662443110858, -0.45043941810363775, -1.6740180523388013, 0.37202747763509175, 0.6749100740752826, -1.0653958792757874, 0.1605120093039945, -1.2670250323658419, 0.5100261798552524, -0.03709401627521098, -0.683116339958717, 0.3525010462086256, -0.3320412136690655, 0.5550975422885082, -0.2591252199830874, 0.4420628785454, 0.8041139083569157, -0.09906248246618098, -1.7880105695991562, -0.14437882443364553, 0.3560898091247022, -1.3005624804727034, 0.48771906901181455, 1.4537520526058252, -0.6584819392677521, -0.22035600898633428, -0.8841752994006958, 0.3460306324812332, -0.5107153962460502, -0.5975457218319266, 0.748527200534408, -1.6685116964617817, -1.2694855367470865, -0.7369676565647161, -0.06079420031463784, 0.667564620672619, 0.8818391649806558, 1.0634656099264148, -1.8050982198598073, 0.975351273796331, 3.2339436764594276, 0.20042966336621162, 2.4531711239207703, 0.5728633555518814, -0.7574622987892762, -0.6235100856451977, 1.997766979193124, 1.7150348833521034, -0.1525159867291641, 0.4461131294190759, -1.2468204640281328, 1.0995159558308691, -0.471448505667448, -0.6616914687451912, 0.6431827592180022, -0.23981170515007574, -0.118499226605716, -0.2592893288238116, -1.1607726598639327, 0.6664118412929567, 0.6029162146737392, -0.0005272990031528906, 0.73678751717745, 0.30393147799393816, -0.680372124434128, -1.1358330202275648, -1.4494763829743635, -0.5174440203041561, 0.036622661710713954, -0.7165366259167892, -2.1637791702162237, -0.1585965388604735, 0.06894419354308265, 1.0558214248799582, 1.2962522531599319, -0.6327758018894211, 0.09066375767716121, -0.7527179820805865, -1.3744758955134415, 0.7806801037350044, -1.1161216114306955, 0.16183997969158717, 1.1193729028647579, -0.7841489975705999, 0.4368544380303386, -0.33356605398704353, -0.8601972272928468, 0.7160758947034477, 0.6307170278717348, 1.9078667107346998, 0.7058228987253884, -0.9553977031131369, -2.5832379253589477, 1.3662791957079703, 0.4912160415589916, -0.2064922265869078, -2.252944135924999, 0.8177539840604698, 0.054818108654895746, 0.30110439570434516, 1.5787647729077372, -0.35134308862665176, -0.8442532507253782, 0.6819041001202127, 0.6563129417583652, -0.5109428801545607, 0.9050735010260188, -0.21729026151141653, 1.3654753976461798, 0.3038892280293008, 0.6548660207863793, 1.7601513792771242, -0.5214206502068154, 0.6459210735424753, 0.13469335961245174, 1.5385427432174594, 0.5056370990600755, -0.0869239055261349, 0.8998993867763121, 0.20083031995911133, 1.7003664185971124, 2.1123829833236374, 1.1190815967731942, 0.6714175051510203, 0.42976739279655435, 0.7770380638614186, 0.8648877236135091, -1.6754229749645841, -0.92520858219557, -1.0865870170657321, -2.159247675334974, 2.0727942575478546, -0.5247074981153017, -1.2347794757185673, -1.528216453836009, -0.28079907798729475, 0.3348242821743054, 0.023854438253253125, 0.021557752912299957, 3.188745922275546, -1.0984545295536443, 1.3079597867361088, -1.7821652418167735, -1.080954190046468, -0.22994679297698284, -1.8627120046626615, 1.4292164149616216, 0.9255843238289764, -1.414012754877127, 0.03315162314697604, 0.8317284059138222, 0.9250084031336961, -0.9768094228142882, -1.207631956551417, 0.794467816127199, -0.6812964991630449, -0.8810175370401795, -0.893355307452724, -0.11191858229382375, 0.3180374128528588, -1.538306543739577, -0.6299986701101211, 0.13413414425411957, -1.1004156830800282, 0.04635202451041531, -0.2748849047074368, -0.8542067490439755, 0.9005185590430864, -0.4968387346662336, 1.673992827893379, -2.6097592847307243, 0.16570616985080341, 0.4623996266310892, 1.121255723412328, -0.11977980236359527, 1.1577268697010998, -1.3208826037890673, 0.2146364677760513, -0.3230256740706091, 0.5185420035794688, 0.46954113020595833, -0.25720406166270754, -0.20544350043167117, 0.30235126853352273, -0.7348920268943622, -0.8384369264222129, 0.7669297276766799, 0.79516149319364, -0.9455859235935539, 0.4957335720704672, 0.6810791667634071, -0.546451313261451, -0.39283634112298094, -0.6709326230446072, -0.8570464764348145, -1.4453332825959704, 0.4779453417541377, -1.5020755763408433, -0.10520005990424347, -0.6842613098367255, -0.6601647957518837, 0.4646052334457084, -0.12048504402790883, 0.5877558702727409, 0.007453825987399267, -0.02308913018629287, -0.5416998406942981, -1.8558163084405626, -1.8125668443106857, 0.6271445909384821, 1.3331835386078832, 1.8610133824614112, -0.39858155840306997, 0.19845014678023093, -0.6616180120346272, 0.9172803339560861, -0.35336492412393616, -0.5799148517278703, 0.19864684355092188, -0.026990867106353355, -0.17116762000868352, 0.45648346318009936, -0.7402502969636973, -1.0153383772916336, 1.4056029865538997, 0.6767574024640011, -1.250707697357938, -0.08133698534754462, -1.0606897170717784, 1.286433434784026, -0.547947114435956, -0.45828400482564086, 0.32622885209326885, 0.4096713881021989, 2.2274081860760915, 1.705537344988825, 0.25577111335614666, 0.37799021075592115, -0.5656288845233396, 0.5021897563920049, -0.21695761181429613, 1.097645206586851, -0.24457236215513145, -2.016510177497944, 0.4137614860002191, 2.229053193115514, -0.21939574478491713, -1.6554580200431641, 0.6580338428392984, 0.4961845200711733, 0.13749538242751014, -1.58259797176355, -0.8307429653308489, -1.0290141058018647, -0.8096805849196513, 0.6107745489511807, -0.28784583674340813, -0.012518735109350696, 0.15072048260740448, 0.04223872765624622, 0.8771762350359655, 1.399239765069701, 2.6427691229412313, 1.3273300582616496, -0.5537080297762441, -0.15341995686439208, -1.7768402429650094, 1.5672937718516666, 0.7149835038925888, -1.0171447359032626, -0.3491713282268825, 0.04745077748398097, -1.5949176175567037, -0.7442986819714985, 0.018027376608614844, 1.5670031932312736, -0.0729395555966258, 0.8969515415204755, 0.7830252882145851, 0.15281947322175457, -0.3105345311464799, 0.3991324498145398, -0.3607435354295629, 0.0960353167778875, -0.7875559001942728, 0.0709459849214684, 0.32346671298090024, -0.18202333690920422, 0.30519451120624613, -1.1747962990614944, 0.0033695887307068286, -1.2968694618119874, -0.1810442603927965, -0.12101706998126481, -0.8340701861176056, -0.49649445870143405, -0.6333646590453518, -0.06542812641426987, -0.07857107359500855, -0.4500078886890423, 0.6673548765014722, 0.18515165366836717, 1.3576064367162728, -0.5451629573028948, 0.20511842852965492, 1.6230133240610314, -0.11572161934272408, -1.4568708263250523, -1.003823223815449, -0.6861251720881789, 0.3969097247072355, -0.3692368763176476, 0.9717188087755126, -1.1562775961852119, -0.2559171795498906, 1.211485489245522, 2.081883412474995, -2.4045461063729094, 0.1652197323321114, 0.7586255170418423, 1.442209491239, -0.05708907598812633, -0.02691191426722853, -1.076655900466645, -0.22797665238508918, 0.0705928323665665, -0.5687901086703411, 1.7187840479710952, 0.2762850124170524, 2.4548929702420317, 0.11245165918877388, 2.208316392605885, -0.8691694137475809, 0.13414064262086564, -0.9474223504944977, 0.43758294590004004, -0.2733606420470012, 1.232491396177657, -1.9135971683605695, -0.2938635507348501, -0.057206266135881645, 1.4699672267695605, -0.8363530413999882, 0.7725766927996349, -0.1806453759485348, 0.819114855412981, -0.19612048053868716, 0.6084291741224304, 1.6561360846266102, 0.38568341932984856, -0.2966030419453427, -1.09163645176285, 0.8470005275179054, -0.6732765309038323, -0.492158545007627, 1.7160593004886706, 0.7728837778721441, 0.7756565731244648, 0.8016643073611969, 0.17077442157656283, 0.5164952765164231, -0.34315704013937964, -0.516654561137347, -0.5064166467298692, -1.738801148045551, 0.44808348916771507, -1.3656832680501791, -2.0312233969008786, -0.3556686440654559, -1.6451754384900135, 0.40795671320101595, -0.15914682204572744, 1.5901718522117805, -0.8314004424661458, 1.6503736167970386, -0.40867180140918563, 0.3235360863652027, -0.7341078950236003, -1.681344943913897, -0.029998210515625498, -0.42752374477954247, 0.30415981656160734, -0.7408173308897046, -0.09439996004682098, 0.7932373904371325, -2.0004696467589755, -0.021626861002594745, 1.4385442721172197, 0.3413934257754914, 0.5294260128744717, 0.26525429818696933, 0.7744780146480028, -0.5664971536898683, -0.43887641235313407, -0.12643992147864788, 0.5537268541187761, -0.6455932406357732, 0.9896507680977618, -0.023653228947725362, 1.066777292362886, 0.406897809924814, -0.047373147009446365, -0.8766915499898048, 0.4055131575113689, -0.4176880368146161, 0.964827043070684, 1.3068390258657894, 0.6831008010524122, 0.8420350583962494, -0.8113587457641921, 0.7441485605322269, -1.044735378236428, 1.7445224562868944, 0.3337964139898292, 0.5139639385436531, -0.730603596099961, -0.3387453795438071, 2.332458339172474, -0.699712345108028, 0.7420288963096902, 0.6704564542422355, -0.3288632645908783, 1.2505940481958295, -1.3453679434017067, 0.06883352237324056, 0.8511603309555905, 0.27628847216468433, 0.15350388492646916, -0.11147416166275237, -0.08912399449816089, 0.7983788725256004, 0.9552824353060427, 0.4882016899905583, -0.8760853039959733, -0.6576642985558786, -0.840890793598638, -1.1580079662997242, 1.2186769467850207, -0.42464052545547015, -1.240534963808489, 2.610100424735041, -0.9220919509463814, -1.2226563076344885, 0.5235716106281463, 0.34733972093134824, -0.7926912254968543, -0.6980291441690741, -0.9483839526117754, -0.9580364009957031, 0.6341918458479844, 1.4039454322312954, -0.3527342509888937, -1.0492601836554245, -0.7955615217254778, 0.11983998098724191, 1.1174449780287345, 0.4363251390441324, 1.2686051343853533, -0.32414582108918033, -0.07082327297304587, 0.84284122201877, 1.1680243051194432, -0.2834818155616568, -0.30128344264051726, 1.1899572157593266, -0.4274628772131431, 0.5782002236799744, -1.1394090104993913, -0.09032335467971701, -1.0092912828618315, 2.0410967095081345, 0.6197860416809582, 0.5287103383992854, 2.0720944470179945, 1.9451481134471966, 1.629561585518349, -0.34009708264398003, 0.8723628747966881, -0.8075757415687764, -0.051713032799401246, 1.2576449220050272, 0.5696379952803959, -1.12077207617857, 0.5668396056633817, 0.5010997359116653, 0.056185942373298825, 0.26213914700186464, 1.103575122468207, 1.1764890043121947, 1.062943451910555, 0.6222122469346806, 0.5314282479260926, 1.1336008606656358, -0.6457212468127134, 0.10694882703656956, -1.8042009983624667, -0.26699501363262734, -1.0609158660265867, 0.7927721220150779, -0.09223373893665135, 0.35447959146070496, 1.066945193642284, 0.8506746076344974, 0.825798382397842, 0.6951814663711956, 0.1741533385226744, 0.6613670667627009, 0.6221378215683054, 0.7746488621306626, -0.6291052314354447, 1.5054291731909355, 1.203581675036933, -1.8826274179296405, 0.6483404693589553, -0.43608253986872486, -0.05606894212061942, -1.8286351195089543, 0.1675328853205884, 0.01062538199262616, -0.9308629863906319, -0.2472909404979031, 0.9790528864196736, 0.6840776934597769, -2.142594805800733, -0.9377209050668708, -0.6132568925760503, 0.10557796810944364, 1.182150196753045, 0.43069615565689523, -0.5531068024833803, 0.9441358789035023, 0.6604485955247422, -0.315139534373952, -0.9349642546985083, -0.10882389166665869, 0.8001269063723336], \"x\": [1.6619959798206678, -1.7842520877131876, -0.21864355183884343, 0.11222062826824006, -0.38015859965254806, 0.041501391674893584, -0.21255504742041645, 1.05953719108257, 0.5904646704725641, -0.403815834036584, 0.26146771179789097, 0.6621389768387839, 0.5508263720699249, 1.049061679995794, -0.3541306266634586, -1.3247038102905984, -0.4803699141650387, 0.5060993469724168, 1.1205324587471555, -1.1292364876957017, 0.3300682059403514, 0.593485599008892, 0.5191435633836918, -0.18038620303331618, 0.19868513436660276, 0.6749536215218529, -1.5475278931720053, 1.0935570709238778, -0.696197079387302, 0.5048334471507745, -0.1421820317200086, -0.6439164046227664, 2.6072743700933687, -0.5500401419045508, 0.5020990124680025, -0.11582865989890191, -1.7594843177222936, -0.5488331197254883, 1.4282754305978405, 0.044202798569941325, 0.6077201227456482, 1.9781372835570743, -1.4171937314859535, -1.2111400339386287, 0.07453389148062711, 0.5361134126618498, 0.06863050939618183, 1.067139615875628, 1.243605979605637, 0.060233337487322194, -0.019268377547001492, 0.4754532880661788, 0.11672391215537897, -1.111645870910935, 0.9539987973209014, -0.30164655536533413, -0.947695690296131, 0.7192000417728373, 0.10451747237288381, 2.1304525466703894, 2.0471998861947664, -0.12969226958279775, 0.028407115662440814, 0.3117483400415611, -1.0913524712898346, -0.5897460996200345, 0.3990500653857878, -0.5151059413081163, -1.1510121847481534, -1.2277980637742356, -2.275585187398421, -0.3320066277485932, -1.549445264743101, -0.6454124096402357, 0.44705235318835634, -0.3629582636993398, -0.45157637800212647, -0.5077066272463103, -0.20963743104839347, 0.2964858923239271, 0.5076424432084438, 1.8710630986987105, -1.495184123181205, -0.12330642258547246, 1.129327803250805, 0.9884521858734038, -1.614643731748032, 0.8107806330226294, -2.1392495168894357, 0.8606982997769603, 0.5696257363010561, 1.1569452109946388, -1.5654554174411695, -0.6472752939804312, 0.5835623399691564, 0.7511132775200956, -0.8010823708212447, -1.2745909224509278, 1.4111123908928496, 2.204809016530294, -0.7501554473565034, 1.141569349911916, 0.3928159305283738, 0.7186604656335024, -1.0109743936591096, -0.3852354106839083, 0.7469992175541958, -0.20251769651149934, -0.7525293909345665, -0.19357057210118653, 0.6696651904304276, 0.8146379918369403, 1.2527020791213803, -0.7506540720081112, -1.319373967050957, 1.5823183144214898, 1.4680306928099616, 0.151464833001514, 0.48957646644597647, -0.9338451908164623, -1.5971726342745338, 0.9649839525672975, -1.782679361966344, -0.5481344063074554, -0.8001076838821598, -0.6979268266241243, -0.24037999818810882, 0.5446119909099387, 0.1619091245198726, 0.5336248609724499, -0.5086169349361808, -0.25790936814501825, 0.36419617556966594, 1.0379973083487093, 0.9943919712163168, 0.27834700067182755, -2.144087967137408, 1.127947405188091, -0.46858243475826206, 0.6966330469609965, -0.3606662335630075, -1.2747930409665937, -0.7359884031327681, -1.112822431107595, 1.1621366527379515, 1.4925112808117753, -0.40984963551539644, -0.3240527818584113, 0.4421339861595462, 1.3541286086449624, 0.13146563706742392, -0.9024534155820221, -0.6586197629625645, 2.1659946349585493, 1.2940890715396876, 0.23171150692556564, -0.9944878043521805, 1.390405448489205, 1.0917868864591889, -1.2637921138145858, -0.1757921828566898, 0.5892892971655125, -1.1592755718305223, 0.4652556698647031, -1.8779705703683083, -0.7564801693885995, 0.07720254720567248, 0.16949926965165452, -0.31241969298863853, 1.656100001328153, -0.9615862530237372, -1.340479960840311, 1.1561633831026723, -1.7615658122292286, 0.673633297479576, -0.9090491116242267, 0.5766125711200644, 0.5299910233045959, -0.924226261717282, -1.1505929368219339, -0.2632449566924977, -2.361694411511885, 0.5654359795780936, 0.5936873610518065, -0.04680818034233222, 0.28049089354964624, -0.7512554983123493, 0.7114195853969126, -0.3887973440257178, -1.8067456404729583, 0.3804102015163801, 1.7967992976931917, -0.6078476230157961, 1.1624685339389718, -0.2604146167283464, 1.249959915549495, 0.620656157820972, 0.18628172767556636, 0.9734813114147602, -0.5652163223638279, -1.9331255137710406, -2.017532651336371, 2.6631463094364145, 1.0407827816248234, 0.5162483860261352, 0.44817442144089903, -1.2582529035104453, 0.18367576540858155, -1.5534526694228277, -0.9483891540017028, -0.07301299827292794, -0.38550428388293884, -1.0612710684448123, -1.2010956506779418, 0.46769111300124405, 0.6399114511279342, 1.530403966315341, -0.7832102059171, 0.35024043880099326, 0.8285538049740105, -1.6303635151823406, 1.626935039533822, 0.8157857424448939, 0.5428150063743891, 0.02287717390852353, -1.5930815128876947, -1.37007632246141, 0.4114527082459645, 1.2187797812840262, 1.4677047046866423, 0.7366230922904026, 0.6539031637861118, -1.327312857422969, -0.11659152422347664, 0.14122443074181246, -0.2653648375907119, -0.9214106096156577, -0.2698021268016827, -0.11035772246700465, 2.0387712068374024, 1.3379115641266495, 1.0998304297164154, 2.3743816171074994, 0.024226332865943473, 1.7880455364282912, 0.21407014789057946, -2.368628248138783, 0.9291367766164185, 0.10423843787803798, 1.6598246924820705, 0.09542848466841607, -0.0491090956000116, 1.8237614957817774, 0.4990343029553406, -0.08203449041598954, -0.036058259881691306, 0.7227466166208638, 0.4168498181172643, -0.5342831200117074, 0.2929816973438951, -1.4325977594735175, -0.9076353235470261, 0.7728502536451017, -0.49999187387277194, -0.742116689175765, -0.7667548722043387, -0.9834107329654949, -1.127317469018197, 1.1042840001248289, -0.9473011221540897, -0.36041043538799095, -0.5478092468526387, 0.6054236131653891, -0.12477693419435028, -0.5933166256367018, -1.6817996164635691, 0.004905494345197309, -1.272159926385372, 0.7678344209194227, 0.7023104634873417, -0.03657644817291903, -0.22860636983603352, -1.2133865141484923, -0.9380719359359243, -0.4971186098350526, 0.8121282442363692, -1.039082774418287, 0.0702981000025193, 2.227489307505158, 0.3919702245629016, -0.3094506912003395, 1.000164007289261, 0.9279097840919449, 0.40966692667910254, 2.2997083655329793, -2.434926756907154, -1.3832119448911477, -0.6459707309823102, -0.944035675847036, 0.8204411735903994, -0.6972786837574085, -2.0416763854254056, 0.3743180285815106, -0.8184098696046577, -0.5048040306053763, -0.365404255103953, 0.6620587211923941, -0.2094258780378259, -1.3671220046048325, -0.016820093047888028, -0.2871966987803987, -1.6302453141967972, 0.9272584725301346, 0.5132362782918742, 0.32711172742385836, -1.1277946252552278, -2.790218970203486, -0.9862180569003683, 0.2030969370897605, -0.15437994649415976, 0.6291669066049871, -0.10168876241377318, -0.11999170435126826, 0.4687855143666846, -0.2519379304943512, 0.9195792455121623, 0.04433431934311826, 0.06667957832313566, -1.1275769488399146, 0.03767345623156659, 0.018779391049794997, -1.4298310321552723, -2.301877609148655, 0.831294562655881, 0.7955458647599337, -0.22243464204119762, 1.0509380865212856, -0.48366646579793554, 0.29210499616796215, -1.03117145942559, 1.218022874681404, -0.7655827399634206, 0.08377977940705472, -1.3187277606720877, 0.13770636961569743, -0.2364714856546415, 0.05968016461695389, -1.4125901291393326, -2.2944797898509735, -1.7347718876881757, -0.9682021021673312, -0.8415889054443864, 0.9265410360244017, 1.3751677195920573, -2.4935474829542668, -0.5576676060787658, -0.4229019598855912, -0.7432278309045139, -1.1947159057310677, -1.3368517084083027, -0.6338562725268189, -0.868044970165024, -2.665305547238302, -1.3936302187498384, 0.6294569349101943, -1.5005112436364079, 1.4057965544959528, -0.7652072606605698, 1.3338978042806435, 0.2590492144212195, 3.54043035296799, 0.26913585351367836, 0.842335961449301, 1.2498750077465925, 0.39367748899975546, 1.233307248676884, 0.9080645995980721, 1.3618031259868024, 1.4463111965910378, 0.719322094846949, -1.0762294511288883, 1.3468674810714987, 0.5169496661887744, -0.873133073566279, 0.7555254390137404, 0.10987685093172248, 1.0308747260328905, -0.02324599537322967, -1.5093038045168556, -0.711873500153032, -0.8126230499133175, -0.3141032410131483, -1.1956984676011093, 0.027447543926948332, 0.8599669914092744, -1.091105478634409, -0.16719466088311746, -0.33164676275530086, 0.6205533955948844, -0.4268772943418939, -0.7404864682422242, 0.5024969725954185, 0.5985330056759285, 0.8218924931961247, -1.2331383031322112, 0.5586751793275996, -1.2647784638572588, 1.3958146237526108, 0.10528019069936374, -0.20856528074666475, -1.1465778016304908, 0.5194291561553889, -1.4085347423470918, -0.3063006712058159, 1.6465884774525634, 1.7623861257149254, -0.8338376038272269, -1.555456409888806, -0.35098270446968016, -0.2501950065496366, 1.8099373377505772, -1.9215170117110436, -2.439736676439205, 2.377002719302097, -0.17291100605355816, -0.04588221075829723, 0.8569569999954947, -0.2753695136692288, -0.223628260817443, -1.7235255933189315, 1.5949138850659732, 2.0179450623532036, 1.694857447117313, 0.10726584015542653, 0.016030461447876544, -0.37886365589137505, 0.5591461385034256, 0.6058863139472372, -1.307045930856223, -1.1309295628028344, 0.4510351423829586, 0.7570627471173206, -1.068603089293618, -1.6858448354370656, -1.6620889372480754, -1.599568782893839, 1.0710628434177267, 0.5309943481888203, 0.06864275318119478, -0.9438097060150128, 1.0546074836211334, 0.3532729194224767, -1.0068859284350282, 1.2546850241549634, 1.6778613199306098, -0.7750087640375091, 2.3556977792288025, 1.9641681382725584, -0.3233650890764561, -0.18534639986829166, 0.7338237166484899, -0.6986941991030043, -0.37927792637872326, 1.1286751837345, 0.14373988901255344, -0.0017571300477345095, -1.1119840722214194, 0.5034245650958541, -0.04324152321407014, 0.9705817928959389, -1.5409816114535357, 1.0769227046492924, 0.6643408907723349, -0.22135441110907159, -0.15345892965269503, 1.3818093644174612, 1.8908953966345847, 0.14041228603806147, -0.5432017523937588, 1.1970208617489986, -0.42082560150093307, 1.2858205696866691, 0.9839432808069423, -0.6045466572383064, 1.4635177488405027, 1.146021118553202, 1.199638991682875, -0.998458864926018, 0.009886515321308907, 0.6625771120781209, -0.3535162768514477, -0.3183707683455782, -0.28231259326461344, -1.3392639824401735, -1.3844867286217408, -0.15686517504079273, -0.08283851011782783, 0.6833682862926158, 0.9323426435247297, 0.4183110429884209, -0.13154874213211243, -0.6522184063806454, -0.573306302448908, -2.501189620262574, 1.156104571456173, 0.17060765690070784, -0.406203279395149, -0.2053494413360313, -0.7791244914607752, 0.48568043540429173, 1.161163786714664, 0.73821915432505, 0.5072753562061837, -0.7504143361323905, -1.6145653567830778, -0.6090417329871634, 0.8064741649489996, -1.3818086109568783, -0.657299588843639, 0.558212032090126, 1.8994908321489976, -0.2877760054732972, 0.5457876036282, 2.346088399814719, -0.053905610693201496, -0.6678819415567072, 1.714770959358683, 0.35564970410389096, 0.5941315488351328, 1.7347309893022391, -0.6440984346248202, 0.5970144538659311, 0.6562689045680047, 0.9113949579653255, 1.1940614178599416, -0.729882101004215, 0.617264190738495, 0.506244118021858, 1.2280186430511413, 0.37698679399683, -0.7624523159124457, -0.8209533596428413, 1.0350221176367695, -1.2015412367770242, 1.5077973278714831, 1.2781805755960425, 0.07019889671167343, -1.611472727381303, -0.6328983214662328, -0.23036305710227553, -1.372320822773969, -2.463382255898065, -2.3358835889607743, 0.4668240447592245, -1.1863170527450955, -1.3257502032772164, 1.6740524062744044, 0.7344509115190616, 1.433942534904529, 0.15818264905151566, 1.0682432784768245, 0.7287007649056454, 0.5807803824455751, 2.6992843603671592, -1.3189456483676887, -1.5651491009659237, 0.42279518994575266, -0.23281934136401392, 0.5666083055940329, 0.8996045793515929, -0.28338850550777817, -1.5833989465098561, 0.478189754859613, -0.11737883519712818, 0.7764170553190121, -0.18830043776530447, -0.8000276213414378, -0.14687107561004334, 0.29926384437959924, -0.5028793577052166, 1.0872921505762745, 0.45220592838516704, 1.2821158413498168, 1.0525902858720486, -0.36507940194227284, -0.9608447661488658, -0.3350441825095506, 1.4043188023475954, -0.8167361240627308, 0.2629321579098342, 0.15458147740059963, -0.7818290824492213, -0.7894914889285505, -1.601042862530922, 0.9013377605796303, -0.03975012921334713, -1.305110459615688, 1.19219754442935, 0.5604534088408952, 2.2368690471581503, -0.453597005007491, 0.5984079815819523, 2.2138482703031612, -0.6574179781049798, -0.6182070563323971, -1.7839849137547223, 2.192684431687383, 0.4262589119881039, -1.424091397895511, -0.061335134935746355, 0.17715291253225487, 0.6560177902414315, -0.15287518923925492, 0.2239188930336101, 0.9972997313862414, 0.5509287266815555, -0.6218239098042365, -0.36082483546085026, -0.2185615142582772, 1.844753295298398, 0.5351495300984819, 1.0665545069740514, 0.42121836398180057, -1.3293964878119389, 0.35259271961447386, -0.9244712353970351, -0.09569276662546224, 0.002462140028488468, 0.15596109441491746, -0.11694316172646867, -0.9002788842182529, -0.9955637578284613, -0.013419716018177963, 0.5525531285509269, 0.046816569044343975, -2.033233639191348, 0.3902918804629333, 0.6100550266568061, -0.891582702441229, -0.24908616520115795, -2.162589089276321, 0.7027108560087825, -1.20501319064194, 1.2411055856873237, -0.5909512492011343, 1.884327471539533, 1.3697771460479922, 0.6875589109030982, 0.11213653625056413, -0.1245366444479221, 0.7750536086763212, -1.3410291688327183, 0.1744001404960073, -0.06968425649679383, 0.8374544538294869, -0.35584109332611535, 0.3764595931442008, 0.7687138579858329, -1.0166448227685336, 0.41891956398761626, 0.08197076874415302, 1.3642711971234294, 0.8346941053905197, 0.707026788846317, -0.22002372523216432, 1.578219708727252, 0.11464370779717944, 1.365420068256023, 0.19352766695567628, -2.5790889246005313, -0.22678315801088186, -2.228835310028157, 0.05498622341706718, -1.4312314681788196, -0.5782915869907702, 0.2879957090449028, -0.882738691794572, 1.5584435782169292, -1.0609284272102928, -0.1333970033493831, -2.649729988576738, -0.5486168852957507, -0.6084718944381972, 0.11408512954447192, -0.182349965074441, -0.1754205209447057, -0.6280576366169784, 0.029234720890060722, 1.1668334640066313, -0.12698324253751342, 1.6465360442480823, 2.0020041025738813, 1.3029907891665076, -0.3602216716553793, 0.46910007978278545, -0.6944269795947093, -1.2858856772621465, -0.8564199832084611, -0.10375664447298978, -0.8827132839597811, 0.7073736405222322, -0.7028369159178687, -2.1208752616896374, 0.5348748863735807, -2.041342376789833, -0.28669469659635355, -0.9180795669767272, 1.436893034306791, 0.20009725801850423, -0.32578832281244985, -0.8432557062985175, 0.8833250391521346, -0.020003377386808772, -0.20657107910381067, -1.0832095623263105, 0.22281081198186126, -0.8608352770389714, -0.48184644045592445, -0.5802954664147736, -1.4073106099292938, -1.8890209862301075, 0.14423897705918137, 1.1573801274985467, 0.189235290995594, -2.168026039876332, 1.3500070179716581, -0.2471719546783451, -1.464248348223529, 2.113057343283409, 0.37938057480621623, -0.9859050191191077, -0.02521221411324288, 0.3082400697801904, -0.045176337967416436, 0.7492827144920547, 0.44834750189421363, 0.5938402221593807, 0.6929320487659935, -0.334741451683665, -1.57488635964739, 0.42896386530374647, 0.05788652749609496, -0.33903474657350374, -0.7784912077913846, -0.6439259310454213, -0.8841364601670931, 0.4977822693088607, 1.9778168546749502, -1.186961429811653, -1.092983597322084, 0.6662870616374041, -1.9709655387958338, -0.07517669865770799, -0.30653187894072464, 0.107894722032056, -0.3388723846484849, -0.3838191282669638, -0.3915402940893463, 0.5731888585250313, -0.060528381868739226, -0.0102254340987962, -0.7604602257335907, 1.4891133828524203, 2.359418358957097, 0.00984973573761307, -0.25825456531976765, -0.7859056449798104, -0.8189249163023012, -0.21358068884779616, 0.11347414181385221, -0.8756405133180933, -0.0023886224642185074, 1.051217534447877, 1.303005098152548, 0.3157385029493557, -0.13343986731877736, -0.048337122124634466, -1.7071768681725346, 0.0036525682134823023, 0.6340510403599539, -1.3696508146619788, -0.8212392080914448, -0.8708027632472715, 0.002523727060602233, -1.513953313822756, -1.8567461324392749, 1.031735456477949, -0.7655719636439084, -0.4493897006095146, 1.0090586778247197, 1.494997983580413, 0.14256157336660488, -0.33399678599813043, -1.784219108221825, -0.6953781628415433, 1.729818219193616, -0.9434500107553231, 0.32558302811059464, -0.26305715519177186, -0.5530770520329348, -0.4637035350125356, 2.1426317552820855, -1.01785037168668, -1.0929751841140039, 1.1705572219125393, -2.172048426533849, 0.8750699150638525, 0.5716073163613984, 0.04073754330839736, -0.3687977998797889, -0.061268505788921464, -1.4725881980823585, 0.4282115980060242, 0.32676752773124734, -0.2068412168117423, 1.5391818443946912, -1.3947125680804842, 1.0336155326600907, 1.0379394795485406, 0.14726759616092175, 0.2410874549782268, 0.35659546854663815, -0.4944414945799452, 0.3650071606705494, 0.2657227212702017, 1.4943339264602422, -0.7289150024523801, -0.4764075325183964, -1.922107068836393, 0.25268352639165487, 0.6036682030378325, 1.5796527263769162, 0.5812447511892305, -0.9392721444467422, 0.09220240285980971, -0.0332399661352849, -0.9177063850090251, 0.7563981581327696, 0.26183379309348936, 0.5694333440667909, -0.9605989083532753, -0.9088043061194111, -1.0817765834420077, -0.2997756451738491, -0.925534150651054, -0.13325475575075635, 2.051156233600591, -0.5269284430295988, -1.845283531262462, 0.46637610917308103, 1.3000452952681272, 0.7351029076791681, -1.8582031493902798, 0.5108002884450235, 1.2204303284995017, 1.0493153973196934, 1.5104907699490655, 0.9565829687748114, 0.658360888886809, -0.5279520824886788, -1.4597341268288284, 1.062673412080849, 1.2586906443648143, 1.9437517902395194, -0.3837643059285141, -0.6548453750381704, -1.3161528706264074, 0.9115390790594903, 0.777797503310833, -0.3620606042520972, -0.5097929667341669, 1.0241439496523739, 0.006341173938029905, -0.5135988537780373, 1.6994786176633008, -1.6457437511466946, -0.02906795615237959, -1.2796590640755383, -1.1696745391138124, -1.4611721003537252, 0.7407624758676228, -0.19131149641091025, -0.07501550705961994, 0.6416624045741102, 0.3902364665806306, 0.3897981158574041, 0.7525620587243251, 0.13979532402468944, -0.45721500008761, -0.0371942353644475, 1.5275192756305065, -0.386739014759613, 0.7386885086021724, 0.14932526272009544, 0.791901505792001, -0.7966160585155605, 0.13591138199729844, 0.25658867299049726, 0.29716322636795023, 1.9931547293694054, 0.9034865795988474, 0.0624060938696746, 1.0570429855433874, 0.7290721309097395, -0.25220577533806804, -0.4593095234958907, 1.959577350556394, -0.3563848303412306, -1.1969319185420368, 0.6727581205773575, 0.7535846878426504, -1.2011142867485716, -0.1222552581981795, -0.5109227217432856, 0.9765610005708222, -0.3142462773900856, 0.0821418723926762, -0.5303379530984729, 0.7891372005524769, -0.07904930630074655, -0.38470315996863763, -0.5791348634517889, 0.7571715092723893, -0.6393855837973416, -0.369163745724841, 0.635802502060609, -1.363812311658683, 0.3150339368509463, -0.856581048562458, 0.16069227311514603, -0.8017661051826546, -0.7217913579888917, -0.29498492908209606, -0.26341339383074086, 1.0483190349584466, -1.5112377811039042, -0.9970108150485937, -0.3933276787671144, 0.0007783260308986433, -0.09663008853519586, -1.8429943036172585, -1.2144783980191207, 0.34867688310237044, -1.5921023457350092, -2.020968401442701, -0.4218553564178165, 1.358609795112922, -0.681899360603527, 0.17328887742492663, -1.554700373653501, 0.3907494860023896, 0.7350238771028332, 1.2622881987482681, -0.3814252914739798, 0.4267963356246814, -0.06604632079908804, -0.12809822615982047, 0.34402004237242095, 0.48624804528681304, 0.8556958064854706, 1.4915891598592557, 0.27254646921568315, 0.2462218698471652, -0.2730506156977879, 0.2464272576520581, 0.07326068908128887, -1.2666651473675554, -1.3193413978578399, -0.3408688317375805, -0.9117939444156796, 0.5119849895642139, 2.6556854222868345, -0.45810215521143943, 0.679853462604671, -2.274136380605651, -1.3066850380411503, 0.9983527911341608, -1.5801767323029126, 0.731918229912992, -1.4110688762438288, 1.0240072486351055, -0.9956387469378278, -0.906396455788301, 0.9413328075347536, -0.4922281895198205, 0.45434035512347726, 1.7054786385160492, 0.49373075487009954, -1.6482653326182626, -0.40169343446136435, -1.3346341922628564, -1.1752421744073376, -1.7213935612912616, -0.14912040059222345, 1.6714882236977155, -0.9979718983690548, -0.923452177650008, 1.4033154595188444, 0.23915168298978953, 0.8124976632907063, 0.4501891565754036, -0.7010279474445135, -1.408400006543266, -0.42802070006024906, -1.1644777138839066, 0.7384448730806992, -1.4448536362578916, -0.11648775431423154, -2.4122482871474453, 0.46045040126639486, -1.2824585587979165, -0.30808640672228754, -1.892341432299075, -0.656633864420483, 1.6279331037072853, -1.0658292878874527, -0.26150166043617773, -0.7375288332237331, -1.3217770716976962, 0.638360320737644, 2.1622179021202084, 0.583903719343395, 0.07788472748931652, 0.22582574049123222, -0.3021047642044309, 1.5609935009548785, -0.726284062447683, -0.8780500904946168, 0.7519154996658942, -0.45369860818251717, -0.5895941489671886, 0.8896809209074479, 1.1953390791227734, 0.4434193749923234, -1.1550445419390025, -1.7581758013936002, 0.11728742398505622, 0.820220753365273, 1.5120869288339207, 0.6070659395641088, 1.2909752078094952, 0.19959781325304127, -0.711126017530633, 1.018070210861591, 0.49922426433017025, 1.1359184241241818, -0.503196318530159, 0.28928647447762557, 0.7194097092069696, 0.8829770372241258, -0.7127215883226788, -0.46005102167819556, 0.8116007449431437, 0.20736680373531563, -2.23742722323985, 1.5875207903418613, -1.2739246143299783, 0.25693643422557844, -0.5657488690726591, 1.799894819987811, -0.9855652988946368, 0.2624111923358976, -0.48479985104530104, -2.2970326193881223, -2.3877220461716093, 1.7304045577605782, 0.6438352800389067, 0.8096824653948916, 0.6363651628344494, 1.097901568930557, -0.6374878540198637, 0.48927220233333985, -0.1881704858510031, -0.26004656513910823, 1.4303025183595777, -0.42162808723614975, -1.1987803479106116, -1.1689917047376992, 0.04069933600451386, -0.11334480851073654, -0.7077620579702812, -0.031722163082157355, 0.10117717112398852, -1.651468883531051, -1.7139023009429428, -0.17047463204195162, -1.8741035964844577, 0.6580656616761386, -0.5733946393089373, -0.44476801677254907, 2.077913602160783, 0.5796354616991931, 1.1306248582393321, -1.0129082997503989, 0.7662946779936979, 0.4919761337281419, -0.16285478187983135, -0.3402173157491493, 2.0103328137897796, 0.16120032044033672, -0.05039146938697915, 1.2405332567088128, -0.7453051246903247, -0.3058452775133536, 0.6850970685097107, 2.649675957426773, -0.2862755404279674, 0.3505412988432158, 1.741498859099652, -0.9051832609296777, -0.6136400542767285, 1.021579387949396, 0.08037485234771151, 0.9466675743598895, 0.6345083603955427, 0.4574012606999753, -0.20818782749980425, -0.5002688472239321, -0.14788459392717618, 2.2069238648805523, 0.7169697318269607, -0.7254212373011664, -1.155267147449546, 0.025727496853182097, -0.04291468955718096, 1.4413477570062083, -0.4428802679096648, 1.2669019392150096, 1.126981003972193, 1.796535789533291, 0.9696591505359969, 0.29216607421459245, 0.6849155124242269, -0.590440281861594, 1.1200157316503414, -0.5308834979325967, -0.2618020526191651, -0.7839200545593943, -0.8169220562934343, -0.38793152609560483, 0.7816577038003194, -1.366275498881913, 0.40711572188340395, 0.259714828931272, -0.2469692202099365, 0.8699749130139005, -0.04424265494159012, -0.36737517229504624, -0.5456831084033862, -0.241367698031587, 1.1491437169344243, 1.458750846291129, 1.9821315952953396, 0.3108080113852891, -0.6634162940556705, 0.6124289262016049, 1.4306658203363463, 1.4336445739444084, 1.0244014656496607, -0.8355965326198792, 0.990713566514541, -0.1812940647082739, 0.7464295260074367, 1.7348248919689258, 0.7037789883550789, -0.08435937530202939, 0.6781271072589853, -0.20137085055440854, -1.1579335213042712, 1.1509358379555026, -0.5963826107187805, -0.11652159181018447, -0.28961553700706827, 0.9713513957585791, -0.08944208701004441, 0.2743971263787286, -0.10289069395662194, -1.3418868910182715, -0.39119044676026427, -0.17664518845738925, 0.07584557275124484, 0.2487164919540286, 1.216733433832089, -0.012747183969367528, -0.29770352218863255, 0.11685718271342149, 0.7286235509832147, -0.04096980769042085, 0.23364417305489174, -0.053697196440779534, 0.462500876895323, 2.061212316391797, 0.17125502837542866, -0.866832408648598, 2.1923420956326947, 0.7362813392047589, 2.0474086508457687, -1.9178618222690271, 1.3032931776383374, -0.22418705568823902, -0.3832995215833243, 0.4550720956206475, 1.8059970808529702, -0.30303946918172653, -0.140595491310553, 0.30900008934980366, -1.4782840404912665, -0.502086406956493, 0.15435184144853242, 1.187546105283973, 0.28717918293979355, 1.2199523440181117, 1.9112252573344068, -0.4526591948332958, 0.31899057573275436, 1.5585357696394724, 0.7940160283729772, -0.11332005759528016, 0.43935122242256974, 0.41302768679297996, 0.3350250466590066, 0.38844483643373234, -0.4388091266660746, -0.2523263955474005, -0.2862885840578769, -1.0213636749148647, -1.013895084093502, -0.1010097124453555, 1.1606190404721923, 0.6273008476778854, 1.4074270133752884, -0.47130914773787463, -1.3892394903720058, 0.41819222447558707, 0.29867239921976707, -0.05966259461280638, -0.5917227653677105, 0.4687633270394679, -1.5969230687631313, -0.07937433305772557, 1.1425099405160621, -0.9638848441190364, 0.19113517027117696, 0.5749368640291044, 1.8576070880989444, -1.5106648756340708, -0.714296890553359, 0.9088781759618976, -1.581583020008588, 1.4778186035996672, -0.78041085775323, 0.0681526939341173, 1.2853414129300604, 1.8664563883031766, 0.6489240833596105, -0.37707882505771234, -0.515099671247765, -1.2886079696406123, 1.2790623775794134, -0.15012394937117038, 1.1957005766140707, 1.2111519693685264, 0.8356667504090762, -1.4784445792754157, -0.8650976242428805, 0.4349302908251603, -1.92776041369493, -0.2641991261328393, -0.7431282381941188, 0.024417332286163367, -1.3455239395080774, -0.350697890703835, -0.1733261752198369, 0.5788786623341867, 0.804287427204804, -0.3562741567964871, 0.14306903454650363, 1.1804888957474666, -1.0405180264603702, -0.16378117044810458, 0.8467481837402712, -0.9734479315408574, -0.5593872212587416, -0.2181568936319482, -1.566607551531701, -0.8142789485533672, -0.3283113152059812, 1.0458565778240225, 0.9805138244427708, 1.2269867103651426, 0.8828643346290435, -0.3543768857424649, 0.7699158499275975, 0.3957195605389772, -1.1247009505022787, -1.7679584371401271, 1.9757927702618914, -0.4671100414142464, 0.31498303724824134, -0.6000648495383375, 0.03699710447829238, 0.8703684367686605, 0.3800320886403222, 0.5778739247826392, -0.986954196639681, -0.020166361370645064, 0.7554048173509765, -0.6176457250746642, 0.2102212791820485, -0.6051345329271426, 0.21448553926828093, 2.481275709482609, -0.4366793991972977, 1.147114788754235, 0.045622392474354, 0.3535173601177666, -0.9082035459574113, 0.49998585760223707, 0.6626601961469576, -0.7109812868619199, -0.08671109129715546, -0.7894945392229837, 0.42815750230968114, 0.9889587162323191, 1.9015085486376067, 1.2010028107937658, 0.5689732568692084, -1.381448853335009, 0.6612081331274487, -1.7690787167712734, 0.6621306252418869, -0.9404074247741542, 0.9472024563068954, -2.024231790270628, 0.9230046888421002, -0.436463953774747, 0.07851668773096855, 0.7060532882639268, -0.8282257059493963, 1.4795894957814564, -0.5722080577668269, -0.6860875719186498, 1.767150007996944, -0.6110054866308654, 1.0369893832662582, -0.4133772656650588, -0.4438741828319647, -0.43353413706557326, 0.9494805495727602, -2.2562091884692164, 2.2373483279944337, 1.6798362091555161, 0.6031096533849033, -0.5096217293325104, 1.9385402795572584, -1.3535122363679395, 0.4813426941641596, 0.19765123120322686, -1.0867687114714462, -0.7022135940368726, 1.348861907351017, 1.1331968440972142, -0.0655666577245151, 1.074202629808117, 0.11148585485006915, 0.6546544376037225, 1.0697049194503339, -1.289226441903308, -1.4230779275688348, 0.266675195588049, 3.5566721775673087, -1.15561134932843, -0.16944433542787368, 0.5743703391273697, -0.06447144748446981, 0.38105759763153985, -0.6709463803670478, 2.053527008197557, 0.08687039401090332, 1.051526637237123, 0.048689609999152665, -1.570059999214061, 0.12718340230041583, -0.4075216472988869, 0.5806662553753656, -0.2992329429364742, -0.44232294459989147, -0.6995583641081828, -0.02617620795890609, -0.6820335979751322, -1.4750006336196204, -0.98963210190467, -0.6371706179436378, 1.047437647573282, -1.0487593576144634, 0.12102866529770717, 0.2181474894104174, 1.285616620821269, -0.3786024607105351, 0.13094297969543087, -1.3324425585787072, -0.469840560033376, 1.194505603220701, -0.42752850640420803, 0.8719381941920348, 0.0859249564852902, -1.3117085799931836, -0.2592040085612157, -0.5620727080261101, -0.07089867088052679, 0.8389091145844774, 0.08880795452897391, -1.117906909654639, 0.45314973219005555, -1.2350758410214382, 0.2824401183907902, -0.4174801353816223, 2.0796537279190024, 1.3021596373601976, -1.3065407055885934, 0.043459923595735715, -0.5100747656096344, 1.863428051839598, -1.2254304187749434, 0.3985076923737899, -0.4026460974867357, 1.992491981816598, -2.0905560733653212, 0.34835777465304085, -0.5701766845560219, 0.061886687150279555, 0.959028607449925, 0.4507695205660171, 0.8862524058870923, 0.1924432802419196, 2.227735087174125, -0.6106764853165189, 2.210855725213829, 1.8756432066791, 0.042652327529168074, 0.9465447564889731, 0.3127464407354014, -1.1245885876475352, 0.1953481408583729, 0.8334600226117375, 2.48773715208489, -1.3254218705127159, 1.4408730898149593, 0.6106362519406123, -0.9789941532259826, -0.8790507404265133, 1.2322120513968664, -1.1100420585978878, -0.11879370445599204, -0.23298056375785536, 1.0166809595762947, -1.6728115665608527, -0.8128886506624731, -0.7886303582907684, -0.44722107535333394, 1.0717114690539205, 0.6280221778758255, 0.06138510186117944, -0.028605700840707855, -0.09845413793641912, 1.7485726504652641, 0.31279247842419494, 0.6014656703165789, 0.4428460358982576, 1.3594762847259592, 0.25799598854425027, -1.5755992570675317, -0.08903413329326791, 0.34371873332214475, -1.1973852741197366, -0.710037732218713, -1.5925692396956532, 0.9334454503247792, -0.4636371937781821, -0.0925599486469074, -0.8176155124575097, -0.593301011332022, -0.14010481507021072, 0.9735485809036816, 0.8033493322218067, -0.5003303711981333, 0.5057939386055219, 0.6723095794079368, -0.031253335072014415, 0.3574858656692215, -0.31578616736767495, 0.002792501369644066, -0.6770653621459319, 0.8499104112078996, 0.45644247624730644, 0.08480464323848944, -1.303149767892375, 0.32944038103554363, -1.3770083382572473, -1.0394328672276414, 0.09046246677071157, 1.4266467972662045, 0.039172299015027646, -0.17724281487377855, -1.6916192536868433, -0.5551378494367141, 0.4763761639918835, 0.04090297052522947, 0.5464336957012867, 0.30803987348068684, -0.4633427791961185, -1.7348248589366773, -1.4369175684084088, 1.6232412778266725, 0.11662532564556609, -1.2388598050099795, 0.5103824233739972, 0.23346780459159946, 0.9486869687955813, -0.7582667945554382, -0.7314072149094631, 0.20117621112883918, 0.4114508791612761, -0.7982812739426239, 1.1318098676723598, -0.11518763301131624, -1.0519211755821174, -0.11991677826648167, 2.3303615910688573, 0.3179787013314941, -1.4838275645734154, -1.905939103945282, 0.5263165182969614, -0.37173130551942546, -0.20797508442220808, -1.346616769074047, -0.39589637091881097, 1.4128747352289732, -0.21740181652069, -0.9919737113679193, -0.9403838248772581, 0.04520577652265076, -0.7126976053816715, 1.3321558451937552, -0.18923946052813626, -1.7537576960495016, -1.7365178072505105, -1.066838009018681, -0.5694515034563253, 0.3918690126625119, -0.11315507264588391, 0.648399077682249, -0.5448270619265003, 0.7487313381900644, 1.000742040605221, 0.2303083136844135, 0.9257237981637768, -0.11031976406665725, 0.16891028097883679, -2.003891947567718, -0.5921295753689706, -1.349100457257454, 0.589276536661406, -0.012677781285361522, 0.916258906259252, 0.5460182056334143, -0.8774787992892348, 0.05203333946117006, -0.15514812263182043, 0.47035181619912536, 0.8460583358587861, 0.29284404044704543, -0.12157083424535944, 1.7921629002558483, 0.3651829183260316, 0.5385868246964175, 0.27712326826031214, 0.028372978030359482, -0.5944288065154424, 1.6719078836999237, 1.767338238621266, -1.808042923214849, -0.8568376720703773, 1.4662103058336189, -0.1022355421649958, 2.465864102081005, 0.8421105520578883, -0.40517762987523215, 1.2687028881036588, -1.648910842364635, -0.9552194208058863, 1.1727944720381753, -0.4286380554864013, -0.36276830464313214, -0.41630137755154073, -0.8505779875920799, -0.9931042395698805, 0.2820993734561459, -2.214931952708867, 0.9891794055565658, -0.979738666839669, -1.0772794247888806, -0.8937547361869711, 0.8313107732936038, -1.1307491213834027, 0.14208229127979752, 0.26012815809892886, 0.36073285025888785, 0.6313213426993992, -0.036402045419411236, -0.5060148327972822, -0.8391724836063789, 0.08263300073174466, 0.5117980846572155, 0.2565423338441012, -0.5343415496953827, 0.00744800323173373, 1.3173974529934027, 0.8088152116868504, 0.5598036408360085, -1.139994191625181, -0.5084683328853022, 0.9044511681178261, 0.20705362938961838, -0.12578019989637376, -0.04181215742759758, 0.03644698381676574, -0.9776077122884912, -1.3905803301380262, -0.9572187081489174, 2.67005114958896, 2.2619562227420182, 1.6866003333500916, 0.005966176634915714, 0.016405881289477963, -1.290547230039844, -0.6528016003312525, -0.46720052808113643, 0.7674764495030979, 1.0539562087532668, -1.5734311988166596, 0.9856043689595454, -0.747041448171425, 1.2235784173019988, -0.5421519393514499, -1.3473521278346299, 0.20138662777625838, 0.2399323669290113, -0.04515205767820739, 1.4599127718467027, 0.8845038047188406, 0.032284430817570396, -1.7223127363501674, -1.9111307441591736, -0.4250107166779212, 2.279714198446063, 0.808501806813007, 1.5632171851178644, -1.2879721853120114, 0.40693864172910005, -1.7785312981942354, -0.06364158804585385, -0.5078595778309418, 1.7952897301646538, 0.20067471280573151, 0.6001498562812505, 0.17262841224986028, -0.7688523191749581, 0.8249662117233276, -0.46783209303686857, 0.31065327937953513, 0.31999833724946697, -0.36327327725246406, -0.8267186626487246, -0.07818384352091025, 0.5299780846826219, 0.4027447570858919, 1.133044136031659, -0.8138146444527439, -1.4360505142497586, 1.8519552158177095, -0.6869489787540438, 0.738200129922121, -1.3615583934761912, 0.5285355358226032, 0.0849557713659043, -1.4056207509341108, -0.49275361517903804, 0.9174747941736319, 1.0457405736378973, -1.7184198046082253, 2.1139138684719576, 0.23161979614578906, 0.90553041718443, 0.9070138080880978, 1.2190988110257373, -1.5161975581408502, -0.26608315248499154, 0.49767479468684467, -0.4614540539358612, -0.6535517323282483, -0.5315199367079032, 0.934692886946229, -0.10620612608056636, -1.2615626343478374, 2.2493243850916285, 2.927104895044813, 0.0598660086072874, 1.6069114488842378, 0.5213300532540559, -0.6012752479383937, 0.46418218457449156, 1.471100474915704, 0.07545874370020349, -0.6616365320181117, -0.285888628371346, 0.5699703065272, 0.7631692053965198, -0.8339061004810869, -0.007089579928594401, 1.0232442980853635, 0.10285729728330775, 1.7565018885048598, -0.21488667693359073, 0.428480084430786, 0.1261879648278224, 2.249063987373925, 2.5013462699807296, -1.666874130998045, 1.0823420917040676, 0.3034405265399074, 0.13507392229727552, 0.36745993440279306, 0.4049877540498424, 1.4985483873387975, 0.4281019036692588, -0.9716235062111926, 0.26957726542905885, 0.35272223595473345, -0.43533395902069777, 0.7193364459522594, -0.9260196910418257, 0.9356926812506839, -0.7582991585125447, -1.1329967500013347, 0.629989090174439, -0.9485306304018455, 0.5668011581984208, -2.3660910145814076, -0.7935283593537422, 0.9872456837845983, -0.6886733281824927, -0.8491171079003431, 1.3623741241391552, 0.04940179909879937, -0.497679864651293, -0.14582705510652952, -0.41259124423019017, 0.9666021443182322, -0.026950114293395975, -0.7876988421439377, 1.8909009567807806, 0.2314161625551277, -1.0088379505907725, -0.30726791962938, -0.4314471043751628, 1.520644636087192, 2.0820311393983086, 0.6840254993053256, 1.2174076811991585, 0.7774450963481966, -0.06869613393522056, 1.077133974199484, -0.4013930439304664, -0.5097837326395036, -0.23198161784001023, 0.14747652220099408, 0.6249118946387745, -1.0372715878180856, -0.5116158835225059, -2.6508662578212583, 0.3908307597608292, -0.8894820261751958, 0.6363204547315331, 0.7278694324398238, -0.894195814516176, 0.970108840699803, 0.336263439896271, -0.6774256575969063, -0.004617091285388626, -1.5087495195943392, -0.02158122322125809, 0.9716738271054743, -2.0248877396165086, 0.604196427211905, 1.4021628881524133, 0.39808748900136376, 1.6688801050157076, 1.129944277100834, 0.6201130400986087, -0.8876696349995326, -0.22797731862132795, -1.0400984823218362, 0.17689841191646544, 0.1369152019008107, -0.9769147343898925, 0.3581660107903293, 0.09634455680281313, 0.15826797080112026, 2.1930118383373007, 0.1102312664791034, -0.2257857125067309, 0.41939649573965837, 0.33316886125006684, 0.4996708047310515, -2.302178726593218, -1.1244738021903637, 0.24724092776907614, -0.4464844091782398, 0.9249327927905783, 1.524698227794929, 2.0983715286356057, -0.24535221540236618, 1.5359229914279422, -0.07454116382572709, -0.7334018997255672, -0.4150473295800342, 0.2401659280175554, -0.41953539585400623, 2.606360755926884, -0.39760993918648163, -0.7289270367921485, -1.7214826598432924, 0.11382207958856748, -1.556731430813871, 0.8439280730350722, -0.4863478678185217, 0.6805138621406596, 0.3213532983578603, 0.5050336431995298, -1.47842222404091, 0.6372031481952979, 0.13803182836751873, 0.6851904497952873, 0.4895173383078095, -0.37469139453266276, -0.3119404594078252, -0.6118356162969623, -0.4423573070919212, 1.0922884465954878, 0.12011944311406697, 0.08640989539988274, 0.5582308392955446, 0.03617404899846331, 0.4791026371429526, -0.41522371855657525, -0.3832178068834618, 0.4973714788881177, -1.2998772359094404, -2.1035194347861363, 0.19093231196216198, 0.44329861952792027, -0.5661762014064301, 0.7898584746854316, 1.5565903776026035, 1.7651263412368572, 0.7760942732759627, -1.0009551745039431, -0.2476306155526898, 1.232105214069373, -0.17569334493164476, 0.12897053554766102, 1.369364421953163, 1.0552477609890025, 0.4429246677217026, -0.5528187340537112, 0.7324500581977688, 0.01771346425277976, -1.34888268315759, -0.7074778376768872, 1.4084077035662517, 1.019508487861093, 0.7612840704886403, -0.10308494618646283, -0.9789052243352707, 0.4906769651550063, -1.4666365544853568, -0.3129978564196438, 0.4849102066748093, 0.5425201870037878, -1.7839497436056622, -0.05126488301542457, -0.17735836715886236, 0.37780959197960456, 0.9229050950531529, 1.6613296468347596, -1.0564278363863713, 0.7857939033075888, 0.9305344356755129, 1.3582669599468478, -1.4249419714705545, -0.5157199305263608, 0.589632781335842, -2.338147367106648, -0.7961064825893971, -0.33173655763446613, -0.7423694005960151, -0.9294581123102309, 1.1655727411328012, 2.121896668026554, -0.2320910798776331, 0.8510505422113342, 0.5601980839314108, 1.147314414904224, -0.09942634812332236, -1.5436877552435222, -1.191751967281718, -2.1502975512563003, -0.4879195008893344, 0.6121878899862329, -1.027290454062194, -1.4241915160527316, 1.2103000876289614, 0.0013631154476885145, 0.5866265349257229, -0.6086221231690213, -1.1582711916253043, -1.4722698269063357, -1.020193232927744, 0.1662701747168233, 1.0911847905807845, -2.136537753563726, 0.5481670478274548, 1.835886075554025, 0.012733816064901626, -1.1932647676639105, -0.637356758755405, 3.0370140375390284, 0.1434984694175001, 0.9907812076959761, -0.47809905147067205, 0.17798123729956572, -0.7776305949544472, -1.6270848977642463, 0.952045784068322, 0.9858487094851452, -0.2420435629193183, -2.2111419568141315, 0.23847777167298048, 0.2198314844693259, 0.09663220314589106, 1.6260684534356735, -0.49845876334669825, 0.042567693463895086, 0.3470465116858294, -0.14715833264969663, -0.9416247581594888, 0.012158999227176842, 1.7248417360660786, 0.674848047093445, 1.615889030355578, -0.7231148508491048, -0.6053556355379707, 0.7654363646776497, 1.0598284524630972, -0.48119738807612245, -1.3501683700592517, -0.18615170327558364, 2.008183384730888, 0.5440751533210668, 1.5430121698284125, 0.502435289012428, 1.3422584526517207, 0.3068185556553095, -0.8582017076369952, -0.7965767154645953, -0.605758191409162, -0.6745472466851898, 1.2036083980775194, 1.215086518687411, 0.9072945793567618, 1.5724580927006824, 0.493547791500597, -2.998675298959304, 0.005442616194799988, 0.9212613803126211, -1.5868713382692614, -1.2611657025314338, 0.9355113613641688, 0.10182675771149205, -1.4029371960318187, 0.4341721481339755, -0.008716464272718277, -0.7094854036767462, -1.0210577985373583, -0.8019029542497997, 0.7180182969187334, -0.4139076274883837, -0.16113453274849973, 1.0025438418922574], \"type\": \"histogram2dcontour\", \"contours\": {\"coloring\": \"heatmap\"}}, {\"marker\": {\"opacity\": 0.3, \"color\": \"white\", \"size\": 3}, \"y\": [-1.3225253446985075, 0.8134359045741155, -0.32723825102079723, -0.810495943766137, -0.4386363560981748, 0.16264155423161086, 0.22815116345696532, 0.40494778183163754, -1.252580539668811, 2.853390744465158, -0.7136666102683042, 0.3035437719517925, -0.6939999182679694, -0.23357232155976682, -0.7860024422074993, 0.8144018488989527, 1.3591656440171744, 0.02575294883928296, -0.27843276861377797, -0.12223655176887628, -0.903276778077551, 0.8202246853231574, 1.6364261476833888, -1.6932699127168411, -0.1675367540420025, 0.11205270889689321, -1.0751436456522074, 0.6270947300569091, 0.01352179423909748, -1.3370628836127838, -1.5846868097114977, -0.055425320002153125, 0.1402915180566049, -1.7235240895983839, 0.3039018500257209, 0.49833315422191593, -0.8800397229074678, -0.1978562206198186, 0.6968729690532774, -1.216439315862525, 0.8179931293629216, 0.3664504529113342, -1.942724530662093, 0.561867384996415, -0.25748829159800635, 1.590744031267248, -0.5181593549109326, 0.07777763005205979, 1.2338972459652444, 0.09818071550144897, -0.49589655924469184, -1.8878654291719557, 0.03078799115208582, -0.7272649962787245, 1.4101559650851034, -0.31792617423777525, -0.33579135830007106, -2.443304593453286, -0.26671762424561857, -0.4624923655011453, -0.26626827731462716, -0.06239593891906161, 0.09442397549193116, 0.1262730842043854, -0.09674727206814815, -0.43339213605913746, 0.17541923126389541, 0.6710426457286588, -1.2174650403425384, 0.42532542365925213, -0.08669828683791377, 0.043637116248296644, 0.7904404153065451, 0.22413891824467047, -0.47395627687718567, -0.16110070702737064, 1.5184340992190157, -0.8719748575488965, -1.5752025024929808, -1.9591051157932793, 0.8801182912089103, 0.48270884238115447, -0.5881731978911555, -0.8528550190628371, 0.5457377921391932, -0.3390065010108098, -0.6444211416228135, 1.288752061030463, 0.32717676359044895, 0.17049751840513075, 1.0918907646368252, -0.9093811640467501, 0.3923703827084875, 0.3260922014266976, 0.20025046647072353, -0.5906182528540889, -0.39236590165256485, -1.5463254558068515, 0.853199003098282, -0.8224829997192376, 0.19697002987731602, 0.07340736261896538, -0.4512504061915314, -1.018728619721723, 1.0269651853771187, -0.5340802068993029, 1.2419018825167212, 4.43332624466836, 0.7260878775935492, 0.5567129330978488, -1.0561900374396784, 1.1378367615928469, 0.22975018964902852, -0.7389526636085377, -0.04904858357166251, -0.8438032201877751, -0.3888653548953, -1.3378184612530477, -0.5741696109879431, 0.12983852566997928, -1.0376372807780665, -0.11274159423027137, 0.10519024301982469, -0.2752084152709208, -1.057310082865593, 0.14956326429004263, 0.2326463061562549, 2.943002457660229, -0.8688499832403743, 1.5692553392787998, 0.8463287484663211, 0.4778039794425759, -0.4335716080588979, 0.6478061696786862, 0.1577403822090252, -0.6428858691366687, 0.7122845607515738, -0.2087107990330315, 0.8725810840074048, 1.9969960038953969, -1.1472749064101528, 0.7191680910638962, -0.2468222163439849, 0.9615163719186087, 1.4116033185075767, 0.4977267867559092, -1.400072989369084, -0.2093293049587941, 0.24946165367170786, 1.1539304183075068, -0.6176884686772245, 1.2183387619747534, 0.7135629412883685, 0.9999542734212178, -1.5745132082141813, 0.4050823125957441, -1.844497206602858, 0.6290441748705622, 1.302595596673198, -1.282643759462799, -0.22818720774006734, -0.4133269981081305, 0.6561472790028227, -0.09738685821519959, 0.06269819244996125, -0.34679685636441554, -0.5474530791980171, -0.801323212950065, 0.32119355911275793, -0.3233496213145002, 0.07568696331393875, 0.8351905216902561, -1.32953649145763, 0.3378923320521198, -0.10395156589001775, 0.1345552658144377, -1.1225235184434375, 0.28369216268522857, 0.6196674166602036, -0.9327290229745832, 0.23337676467359308, 0.8949875831756424, 0.27592791791527554, -0.6331701681946935, -0.07309500064837103, 1.9560614013654025, -2.44303606433902, 0.8239583819665394, 0.44373341332074456, -0.20316727748432045, -0.36305351551662346, -0.5889278703174927, 0.3864674417744366, 2.101229416516808, -0.4519235074498749, 0.8536946679222328, -0.3841898331607065, 1.6631764136809581, 1.412086267224799, 0.4343642790975645, -0.6342884808784865, -1.266870761816964, -0.6800235952352827, -0.10614368601686208, -0.12486066369908186, -0.4305260657527047, -1.3886512849517043, 0.25725111791805694, -0.5964329709669153, -1.5587789745187133, 0.41799420037230095, -0.04450006088549095, 0.5551552819220669, 1.1847292789344135, -0.9497213877991566, 1.4838854992525023, -0.7551751180542652, -0.4535919509363429, 0.8654442320050851, 0.1723499882057519, 0.21319642325444468, -0.10481529624950364, 0.3820152013749705, -0.16942599545729295, -0.8778503201589795, 1.4916150562503379, -1.8867899810141116, 1.2469003748758456, -1.3474148028382178, 0.4456118464980069, 0.40368492407875434, -2.3914303900777973, 0.630179382043392, -2.617429157489986, -1.0353377364505367, -0.4120545253346937, -0.18113977369932788, -0.01854535290405953, -0.022263606755086325, 1.5858030232742004, -0.8014389591274241, 0.19944371278689227, 1.0283258453509052, -0.863279514378754, 1.6632799173911819, -0.9258660813278176, -2.633911233436333, -0.3085867054279343, 0.541104943353758, 0.24329425983701808, -0.7938566742016369, 0.7883155579495744, 0.8422836474628869, -0.24139386554175712, -1.1033693439372667, 1.0286778358223458, 0.046770495100750445, -0.306888389788818, -0.895632969974061, -0.23621724264181196, -0.15203032637957, -0.1948021925162047, 0.7797674594926404, -1.8496110757238227, -1.0747182233368195, -1.5757395402331882, -0.4286827647461865, 0.2516160219385729, 1.1773956397861365, -1.2362839178113039, -1.148938907423116, -0.40532774972176017, -1.1340476672241124, 0.2147138648969485, 1.273580393423812, 1.5126874807241528, -1.1576951652938343, -0.13050470271768824, -0.1050364785076716, -0.28571615497974256, 0.870406851622972, 0.34209646339824945, -0.5708150750474316, -0.7510817441295569, 0.7732506266846366, 0.6042511539232863, -0.5143540218171299, -0.3507631273290591, -0.6532621080629918, 0.04006476838920398, 0.26131929778964597, 0.06896629239637801, 0.7149720395650209, -0.831252672962122, -0.48942659075089134, -0.21173306628091904, -0.7979140261863997, -0.4112687888218084, 1.5441132778769484, -1.1547439629250646, -0.30855076677890564, 0.9297360966700288, -1.4828084183729715, -0.7851163646611401, -0.3104996841042921, -0.29202074697445846, 0.07904793945578772, 1.287729094747511, -3.117031516562728, -1.4020256381236886, -0.9969649080698587, 0.04617278560993256, 0.689807148246846, 0.6950912501989209, -1.130567525828094, -0.33690532342422047, -0.2047955647381276, -2.3914053973820075, 1.1233186774365855, -2.521922257603738, -0.5951554146553404, 1.122809791114974, -0.8571872035089441, 0.001223442256404437, 0.014145801250635522, 0.0003090249106412321, -1.0122671007164834, -0.3173706644464039, -1.3086033014871445, 0.43622217679864717, 1.2257112259232752, -1.1731908196268324, -0.22554090142227787, -0.0012244469201600355, 2.325449931531523, 0.21838075901832474, -0.27003261841571347, -1.9967167051476404, 0.24336202299234908, -0.7335926736273726, -0.16533725703698737, 1.9303376082463646, -0.02239703458950451, 2.287535255207694, -0.4970434651843486, -0.394129664935452, 1.035949833921602, -0.1409489456228463, -2.200033638420639, -0.4290161782161205, -1.0252842276678027, -0.41800426768318, 0.918012698283954, -0.5811774783934628, -0.2579464770764063, 0.26140001163274545, -1.704714739415524, 0.93501941951441, -1.9461941670144014, 0.16962154443701102, -0.5269504334402662, 0.4794342612876274, -0.20391399230997015, -0.2896994349023096, -0.3065240515042383, 0.14615223498028296, 0.8679417523840613, 0.7832725848871238, 0.8920794388508414, 0.6196147641336456, 1.5963226344125732, 1.0965865090444211, 0.771149171763465, -1.3066014190836395, -0.7038817587081164, 1.345225942201999, -0.8053015763395595, -1.3862319775878067, -1.3862070400557556, 0.5117304153495787, 0.6808370437069386, -0.3766102638395652, 0.2197488179156304, 0.5423233733127623, 1.5129117927558018, -2.5589131648347276, 1.106262504351397, 0.4934596098416203, 1.791793612157829, 0.6967556807395331, 1.2534752995779153, 1.3382386709956946, -0.7816122837955197, -1.1238290429054796, -0.27314988770596366, -1.66583869835997, 0.49049792089661143, 0.43585978781235124, 0.2610739885994546, 0.2369897546438513, -0.32308926618449707, -1.2396256096777665, 0.5221669088528327, -1.2922521669686355, -0.5389081154608615, 1.592007668167029, 0.26884922002610895, -0.2571501041034761, -0.8493538387757817, 2.0625344970353705, 0.022505651861486963, 0.08881608329886917, 0.29547741948364514, -0.9665618731327961, -0.7914472688078859, -0.3499172223460755, 0.015240624901564696, -1.6649602907757395, -0.0856223102310388, 0.802316072401502, 0.6225589317559866, -0.9508146592012446, -0.14694469732641233, 1.4289093433693094, 0.7674142807953565, 0.3390629259770591, 0.27057341464830326, -1.3659308341667526, 0.780463685101086, 0.510811418863821, -0.27416807900900836, -0.14568061817870748, -0.35872475260982345, -2.5211249541266176, 0.5634983706036507, -0.5706038509645356, 0.1949203831043544, 1.4999449642985405, 0.4620994582343617, -0.6834494030788953, -0.8797218513054422, -0.29785627748335336, 0.30083954234870136, 0.6578500171663669, 0.7290213525156322, 0.5317940411614666, -0.028763167996387836, -1.2801723943539434, 1.4275822353341547, 1.3155427881020774, 0.5491378817710123, -0.014222051870915166, -0.02116459776938213, -1.2700715269308236, -0.5577586189872192, -0.3095916869394631, -0.2997159724471426, -0.5520621643581372, 1.0753669310782628, 1.1766319372330754, 0.31434760805625156, -0.11804475365457864, -1.7476184673114807, -1.6328786559202237, -0.22223243274230306, 0.5237946778317647, 0.03615463786827167, -0.6692763940958495, 0.4210125664339492, -0.34184374531024275, -0.7325171484375269, 0.41495125406632216, 0.2730219570905166, -1.0182558278480425, -1.8599075709546418, 0.9442770199316687, 0.05113206489895773, 0.5951135012946047, 0.056384197281074834, -1.0210418826273464, 0.15968741795497068, 0.701356203170349, 0.1415180785249154, 0.9890559482351329, -0.3469127034810276, 0.518874449196551, -2.0284952761917507, 0.06950501051678147, -0.19630052461858172, -0.1765281568569539, 0.9586198285885962, 1.968286397173655, 0.7799353183174936, -1.1979268787163597, 1.580784569597917, 0.09192033026682302, -0.07450248480877467, 0.6478207781513965, 0.31693438286273995, 2.2432374445320358, 1.7893885567072945, 1.2205760167564854, 0.5687039166766208, -0.5078302912214543, -0.2786985415665941, -1.0572799086725997, 0.9492360115812715, 0.4449409223989212, 0.927899162285162, 0.5828832780790845, -1.9640298136284684, 1.2059157472305078, 1.1198648350601543, -1.8716736241187744, 1.0870186095143939, -0.6032943870585836, 0.9591135676867013, -0.9408927262312735, -0.16355842484504066, -1.5825385885421137, -0.5314854083496564, -2.1378306446097417, -1.6376062141542882, -1.57170925079306, 0.23072093058208745, 0.2095926176392652, 0.43365844769918954, 1.5959520906586244, -0.24922770762611393, 0.4690856473518141, -1.1748086753099003, -0.2251058465668656, -0.3968424316993232, 1.8891464995890697, 1.4110323720355107, -0.963565327430121, -0.2500429232195853, -1.392340085530158, 0.10966193549304169, -0.9052056175896737, 0.5154679846174373, -1.8187389428463312, -2.055113421960768, -0.06092960627477378, 0.09478446134649751, 0.19610116233464672, -1.3016271937837014, 1.1789984070870552, -0.5143683506225405, 2.548466091260041, 0.09507403716530377, 0.30866263777719594, 0.983724838810315, -0.0777647550029888, -0.623894955642178, -1.3352941011287538, -2.192317691786154, -1.0227626539101589, 1.231092665916074, 0.4397380467732503, -0.9992764531858048, -0.05202733850810137, 0.6300469023157661, 1.7492035491868347, 0.11932305522194928, 0.6529300989158241, -2.1006456885899767, 0.09353491562844037, -0.15046667022987872, -0.7702015767777546, -0.9314284550750633, -0.5030660457008347, -2.0793870965699845, 2.762036296099205, -0.16899550060602345, 0.42295189831506524, 2.941795019472954, -1.3545076307809027, -1.3131692673873936, -0.3108694568134423, -1.5882936798049672, -0.5165997510196815, -0.15560258202177404, -0.05038354468367107, 1.1832345107228541, -1.4379383485026145, 0.8002417383554536, -1.2202284738274776, 0.5193789206003409, -0.4601792753654777, -0.5411944389587865, -0.12984348844977872, 0.7733862060778325, 0.5623850006197713, -0.46128637959133706, 1.170712505315226, 0.9463207696722409, 0.6283271520621031, 0.5158148971950538, 0.2995483178580238, 0.6867818647598525, -0.579879851553058, 0.3268122130278736, -1.6641897497231715, 1.7885003832911885, 1.4240498978577183, -0.33603166210861196, -0.33619401540419463, -0.36075085675142826, 1.9531716309439855, -1.2802832951889542, -0.25547947859334963, -0.9246926734152751, -0.031051161806109857, 0.02149631463604225, -0.033890883649409564, -1.2836196468262413, 1.9900762735521058, 0.17133649267714474, 0.40555810562404215, -0.333361688066509, 0.5526641485111962, -0.3603334798636505, 1.5436997614329455, 0.39871273736797636, -1.5295730125035925, 1.9334750569383723, 0.05724037845023696, 1.037298233888455, 1.472264214609995, -1.7698179022715077, -0.6757157713545382, 0.4002097043828418, 1.4447359032462355, -0.16895686264161086, -0.31584600596885826, -0.5338209565773423, 1.970378589752529, 2.168032047286517, -0.18279709656226806, -0.38904726337739187, -0.8366046498049209, 1.2186941545690422, -0.44981098371322153, -1.3108417468682934, -1.2668970372011839, 0.07093630059355381, -0.9756229993447346, -0.6468451803500467, 0.46487272181410416, 2.089095452810775, -0.7916120847094782, -0.7707373136119366, 0.18861054120224274, -0.6932858638278694, -0.8117365151823872, -1.3007969917143365, 1.3342553546021232, -0.5754842525385241, -0.7609600015270449, 0.7337126432293462, -0.16502747221718575, -0.1658004237993625, 0.5206368543736091, 0.43903715164915086, -0.8307087002423984, -0.45549396756809857, -0.24405865741839633, 0.01837605785226352, -0.6853173194894472, -0.2033976755339639, -0.16791330613420152, 1.3924483536749592, 0.4955140336599871, -1.6730297470887003, -0.6993669075938788, -0.17170257577847628, -0.7438077281839722, -1.820192776561115, 0.15387037871182346, -1.887992694560341, 0.8397026041181734, 0.4151642222093942, 0.49308610578243683, -0.6254837740401136, -0.7018986605099528, -0.4257875675492779, -0.5092532008483245, -0.6051383188268574, -1.8057537173095053, -0.5193346038500942, 1.8741658272534234, 1.5895139049689746, 0.8218867164810436, 0.6012245192676516, -0.9184824930721001, 1.5723337236878911, 0.8515610777888635, 1.1489527691446992, -0.2105602646985351, 0.06479709071201557, -0.9538608548089688, -1.1636205128374044, -0.7570305577601458, -0.829610639982973, -0.26464280855463007, 0.016410495761278017, -0.13791378304227597, -1.1779599994453782, 0.16359707386419767, -0.9713262322176756, 1.3995705986827132, 0.25144407012557163, -0.8384451498131034, 0.1105850349179161, -0.34861909203606906, 0.28281977279263304, -0.4821708165262871, 0.7700007917496056, 1.070322421038013, 0.8157988410337601, 0.9941625439094207, 0.9431505293022113, -0.7545068835042292, 0.3327674141938323, -2.105373290776578, 2.083717720453211, -0.961295580441578, 1.7661014407613096, -0.33543940795962934, -0.33450789540172776, 0.5955879621255771, -0.28393033295950604, -1.0036425895715293, 0.8861875618926608, 0.6743377230455896, -1.6310980163966888, -0.8462645108990491, 1.138996142170431, 0.06615167901557492, -0.485562443343912, -0.7833513475469699, -0.958601526583428, -1.1311869378854766, -1.2369856147860465, -0.2164518002995001, 0.6798058538855247, -0.5505408813730848, -0.31462896147862945, -2.520059638183208, 0.7601616127340955, -0.42899852690407, 0.2726588457623112, 1.5234020080664974, -1.3847734599940227, 0.39792995356698224, -0.022111688759941, -0.41210038841239716, 2.472210585227601, 0.44608343913744786, 0.027435497101201207, -1.5005320302822358, 1.341986065557344, -0.6709025366654591, -0.3454371667666006, -0.37283458232562994, -0.9348912672108552, -0.8020202096311525, 0.16117964855943293, -1.056775785438241, 0.20492378910160639, -1.6194980450534329, -0.027528446218805194, 0.37835123395649223, -0.24861587355113235, 0.06316978399923621, 0.4739068970963324, 0.18966531137460751, 1.0459441612547138, 1.0591846976385904, 0.5418220690044551, -0.5944169197264695, -1.0723418168298389, -0.5220588436384167, 1.9220386676737296, -0.512366082669665, 0.7447420704703525, 1.2350408492550988, 0.09512476665243018, -0.1496190957080018, -0.4393021723833348, 0.27605189317775053, 1.077261275343254, 0.13306627205776472, -0.6381367462338683, -1.1057363600130328, -2.403620143274921, 0.1706759238395253, -0.4368955745481748, -0.5367066119441839, 0.029566672100989507, 0.7393480359235096, 1.3829956539412482, 0.5973731055009256, -0.6421456166935472, -1.250399712481331, 0.19993358427560085, -0.5628011468455133, 0.5656608015852467, 0.2876889713121902, 1.9374829832954656, -1.0468265085032868, -0.38665657074405885, 1.1489979933403947, 1.38920633126084, 0.1580163462717602, 0.7028628570403856, -0.7863329594560847, -0.4583163187127802, -1.4022365613772212, -0.9934832204632337, 2.3044328945010704, -2.366089553608496, 0.058497593289639785, -2.8725084187584717, -0.23126015872730143, 0.6084845574421984, 0.08524462446220965, 0.5205331627398422, -0.488547896552519, 0.6278360700104936, 0.19835660943911043, 0.14089347921355924, -0.9681069147784495, 0.47055830179605496, 0.47223303207245554, 1.9814192700151663, 0.38963161067671703, -0.07831809475030689, 0.08467724920414542, 1.004895821000487, 1.0594090716869908, 0.7466950741126694, -0.10106229709821826, -2.200730622025083, -1.1505967021810384, 1.517890836274283, 0.6966425613508677, -0.379519835004085, -0.8839110339355803, -0.5269850527554292, -0.5579334417780032, -0.26120826878630055, 1.2832700481507948, 0.2892637361631174, -0.8815395192801574, -0.1366432741960507, -0.4214494536131079, -0.44767220361221444, -2.1590054257128557, -1.5520366130340646, -0.31632566825679437, 0.4630192885838894, -0.510797588113109, -0.6062477834548163, -0.7771600508299206, 0.47450426325448, -0.586652393436615, 0.0924836214818195, -0.40179315904136703, -1.1937438505380564, -0.5492732365658541, 0.6883216829330268, -1.0982107495168918, -2.1755976631053473, 0.04881581865244652, 0.7739254450202002, 0.012923695631640551, 2.0533767283756332, 1.6147829888395124, 0.6007431220525332, 0.692478537419951, -0.1427393549248048, 1.279366758042791, -1.131439675059274, -1.3363042624503416, 0.17892447296281816, -0.3323328181553927, -0.513855207704735, -0.7513331626681735, -2.7057371448935643, 1.916384018883636, -0.9698876319267388, -0.634772815473441, -0.41529921345285564, 0.774174862626299, -0.2885623732828063, 0.374212322464179, -0.05268376627438536, 0.6615205654637318, 1.1974456468962293, -0.8691529676975309, 0.2107283206380149, 1.0061880797317677, 1.4451911805314535, 0.9705565750856149, 0.12041892886469012, 1.2744721441007167, 0.7234230795884532, -0.22613170943115532, 1.1317232928583596, -0.532818473191878, 0.5870521311331802, -0.0202774116074217, -0.010519818963924073, 0.1903949298434645, -0.8176534000026155, 1.2378135190485557, -0.30944760763897905, 1.4712283202601555, -0.12400923786826872, -0.13547367717619072, 0.4715029374931877, 0.8716444880906735, 0.4417691001323029, -0.011441027298070965, -1.4339934231083853, 1.6759165444091004, -1.3284104877392506, -0.4556607860138323, -2.3502409827221014, -0.5338881974185642, 1.473080570636848, -1.5831319463499658, -0.14534816763038289, -0.7519983887453339, -1.0867907421094885, -1.1193889612343113, 0.21870551678401812, -0.08041260975633346, 0.3274716730149808, 0.7339315084951997, -0.4341510639113203, -1.3643930926968215, -0.7157566960330113, 0.7440091858773095, -1.0557870584001323, 0.23396223970184388, 0.5713205016127154, -0.8955680192636712, -0.34105706230843486, 0.963983929702567, -0.5179830586183395, -1.0545793754681545, 1.749355307953722, 0.9272292700914642, -0.576566188650577, -0.3117164888520348, -1.4934827858111002, -0.9212349409004698, 1.2326694331333734, 0.753252569839908, -1.0245331448323147, -2.3906880370902224, 0.8406841694950171, -0.12826030655146295, 0.6848534531500954, -0.7828856765800536, -1.1411723029963359, -0.8596908412515233, -0.2192000911753097, 1.9731297892221817, -0.49934139869534094, -0.579441297647318, -0.17323912961757978, -1.1139065890954507, 0.6928975152078022, 0.3779483883844309, -0.2259164924853054, -0.5351034053595813, 0.8127072210336304, 0.4252067403135953, -0.1486760417302896, -0.19659082843487416, 1.0539897836397696, -0.674505055159462, -0.5283554978589211, 0.6189112315714421, -1.252420242443228, 0.19499172364044134, -1.8064000831111258, 0.7659609746050839, 1.0759009535981037, 0.6377602146183569, 0.7987719489317902, -0.48492689783687926, 0.669353862097112, -0.42521132264074374, 1.1637955007212202, 0.15398238114143653, -0.14507440118994722, 2.419848137340825, 0.347757720317342, -1.2368358373412711, -2.527195230467543, -0.263908140880549, -1.4188165527303735, -2.725365784818435, 1.2502935235574018, 0.3927868937819654, -0.7577540003625958, 0.8030889766807425, 0.01188449441742483, -0.40072718744345565, 0.22804255093045261, 0.5126877076977914, 0.1839265945441118, 0.8594098201363998, 0.06169968630335618, 0.025834087395976413, 0.9757005364270265, 1.0815150470465387, 0.2348298675725958, 1.2874225695197588, -0.6697178589132087, 0.921877392504384, -1.1562353589616152, -0.42437585933479083, 0.5149245053128951, 0.23111997656766506, 2.065634047086313, -0.7125677996639542, -1.0786128388621485, -0.9313930198374506, -2.2870350581099497, 0.4084376758961458, -0.9313197157503348, -0.5603258724404916, 0.40303317378981574, -1.1417941630185957, 0.023983483337194994, 0.047172442087045574, 1.1729880751497117, 0.4492777755753727, -1.4928712532237558, 1.6394215401681511, 1.3773786256235754, 0.0689809554771973, 0.23304924411617037, -0.7917227381698704, -0.4077066370337015, 1.7266341555708695, -0.5049014404454921, -0.11541730550504926, -1.0360316528900224, 1.336201408542907, 0.32782316280522056, -0.7303543702949407, -2.324087132013258, 0.9528734227758604, -2.2459337855806987, 1.2627345031477895, 0.17281586931190823, -0.9458417999530849, 0.3736081566922151, -0.6055359208296702, -0.25870750767346806, -2.53735706258477, 1.687579862974605, -0.3630648442030325, 0.8526281093575888, -0.13860449998729468, 0.4817267078958953, 0.6025902104796794, 1.6623664846264772, 1.3323192379101025, 0.4578757138833714, -0.4113807744847357, -0.13610893681521025, 0.09710382328062321, -0.3964789272774258, 0.985014474171322, -1.7508249531637534, -0.10249535495230952, -0.717984278490924, 0.9980816249128242, -1.298597600360953, 0.13323284571495472, -0.4784977688403807, -1.3135829256129687, -0.914416321596996, -1.280318766148837, -0.5834401232678939, 0.5356252467623266, 1.606435990080482, 0.39699025468825794, 0.6089783355202587, 1.3188379542576576, 1.551392073343346, -1.4466059070652562, -0.9362889416450725, -1.5407245247431194, -1.6505087547899109, -0.6150507277686103, -1.1631206463024182, 0.052483819255454, -1.1860444421061438, -0.3799617885748305, 0.2592580570984381, -1.7559252350932466, 0.4637748679077491, 1.3597797305281278, 0.870621599747679, -0.2581074594502539, 0.3177930262775602, -1.8346718992474298, -0.3418799055341566, -1.5345465552531625, 0.6160051361525294, 0.9932779766955585, 0.1618371637379653, -2.4875970837916195, -0.7229604298063572, -0.03772937390925047, 0.6391521047901876, 0.4595289235003455, 1.5158457519882138, 0.8287623242372143, 1.692543085488736, -0.6330512611304525, -0.4856846704311301, -1.7949795990438455, -0.15676230843936323, 0.8966563193699308, 1.9362372444373004, -0.34076692945511355, -0.5891211873162159, 0.05112908661792003, -0.474826527058578, -0.4295045076514567, 0.0895419589051624, 1.1213442406635368, -1.0444583021833853, -0.6458206373318878, -2.0582207700935453, -0.40854714102816203, 0.5029735612118965, -0.868535865324742, 0.5467023388923916, 0.2553335650438106, 0.03686902489094935, -0.7995426921096788, -0.41318111139384855, 1.3199164232504852, 0.1059511477500604, -0.21049610073286326, 2.4196445593444333, 0.3726347082910613, 0.892012870552038, 0.8193386476172609, -0.2540611769381941, -0.2472017008600052, -0.10305264890068964, 0.31486083332674925, 0.5830370613198445, -1.8861455232776272, 1.1903244491799836, 1.2558387146427352, 0.34130453784304854, 1.1058341939114735, 0.5770514961529972, 0.7806386248755245, 0.1695221054279603, 0.8892328563865171, 0.5035417654918355, -1.6700365962711123, 0.06192628156374424, -0.003804434033730877, 2.049310358231254, 1.3205194729525076, 0.3067992601569386, -1.572664348540538, -0.4256547963370571, 0.5703622023658079, 0.8044486141838537, -0.9640534296729186, -0.40435758526011784, -0.12291733970124051, -1.0594765867938638, -0.08024326613481521, -1.4987413160384686, -0.48775410057468616, -0.42022333020896535, 0.4790037109052535, -0.3402560361585347, -1.1128684248354301, -0.9220179153427759, 0.6529214206450452, 0.5416739335350966, -2.4125014890112713, 0.1212581709084846, 0.07397454873928756, -0.12361822548955977, -0.8518506663154017, 0.2366223735082189, -0.17922517662530518, -0.4238053861319621, 0.47736172258725373, 0.23452173051496927, 0.26560844908736886, 1.4871161431575894, 1.3712248739986668, -1.111652558092051, 1.0901431779635276, 2.9725623497703193, -1.0580691755398792, -1.195282524361971, -1.2153845070843734, 0.6478216058976839, 1.5430888097966402, -1.6567318365716293, -0.23442745049984526, -0.18965274670396892, -0.569877008260234, 1.277908320972498, -0.8905170154497424, -0.335248284845153, 0.9379644026045255, -0.10423243334380196, -1.4233195344497938, 0.5237779503365629, -0.4810000337335728, -0.1467722644371263, -0.128769421031228, -0.23502015023049722, -1.258573922843404, -1.615759595466129, -0.855036111543627, -0.2509550978213622, 1.72572320825349, -1.8589001304623767, 2.2374439855302732, 2.688985839484882, 0.042773277374320656, 0.940551151291269, -0.8168452880943655, -0.5128511312796825, -0.18215894116547562, -0.34547371277041033, -1.9298871736982242, -0.7794794140373918, 0.4202932879135696, 1.1899628261653374, -1.8037982290904113, 0.5953561279152217, -0.1921861878970256, 1.6533136927128638, -2.2780061708726094, 0.755161759162481, -0.37048660693733865, -1.072134761799309, 0.12553482176111252, -1.3698018778248346, 0.019087718355160113, 0.34729678944421577, -0.6097140369551, 0.08760185442761814, 0.5584525559220326, 0.07063765183014799, -0.2045549778148433, -0.5058610484496583, -0.6532979634346782, -0.7320845178695073, -0.3562106277145867, 0.8154202886860559, -1.2542896442573195, -0.7296333851498417, 0.5411638107006457, -0.10788092567428684, -0.5726024862177702, -2.9250551591162735, -0.11175939184183159, 0.8592997566445209, -1.6874336096447626, 0.40103384313110946, 0.8943271920859465, -0.3504475028288963, -0.5593798771874577, 1.013050131994831, -0.058250396515570804, 0.8473113028204076, 1.8806162276661678, 1.8172507523580728, 0.6149823402014586, 0.17870737695418606, -0.6111811286120469, -0.35392236193004306, -0.14352072570161223, 0.22957516950582565, -1.3416135365336355, 0.5094116588064539, 0.9755525807215194, -0.45424474802339376, 2.8883463576561224, -1.6477666255542245, 0.656912707179114, 1.7920742364322084, -0.2509682639907141, 0.09047890183357374, -1.283650105065591, -0.39680167592756277, -0.5597191020960159, -0.891266577554234, -0.21807477437323858, -0.3815975135966612, -0.3276475371257036, -0.30763271498636086, -1.367003181747893, -0.1593350675716227, -1.2615036717957517, 0.29599278072969115, -1.747443548416521, 0.5100339159888065, 0.4058491907841234, -0.7095382406193473, -0.1412083037188332, 0.8981772842413025, 0.7530573574511228, -1.1165977619928213, 0.18481407734917596, -0.8284228591603333, 1.8760364411607737, 0.2703390529945295, 1.4316339349068625, 0.36492268639917375, 0.08515371312585107, -0.21559524142908734, -2.096009690006355, -0.029583772797007107, -0.06858343395608676, -0.5150261435025705, 0.17878342675809408, 0.35976328930429863, 0.7862421582452194, 0.1786866018334648, -1.7380217512319411, 0.014444527887583531, -1.0903732562102102, 1.5205096317101081, 0.2800989651978908, -0.33198028904624943, 1.2230570733517776, -0.8690812243247676, -0.4426191294823402, 1.772868839899862, -0.45657402605594544, 0.10806385015806097, 1.2876147960184112, 0.01981358111746603, 0.772237530763789, -1.194859148420461, 0.8616841672862336, 0.9568667568139632, -0.6181366758474538, -0.17675124857299526, 0.4449679377835392, -0.2595375742567096, 1.331743247851335, -0.6123013188506607, 1.377650083425097, -1.025894598020319, -2.7323175348883, -0.01875575747393414, 0.4717439360480427, 0.06689293229089485, -0.5028544318775127, 0.07072721067433133, -1.4405250866879562, -0.3874906532690835, 0.7121319577828268, -1.3000586973246488, -0.0630798358817357, 2.911725004392659, 0.6827163242901666, -0.7414096093404724, -0.448344006220691, -0.06585706786388945, -0.19556055814320147, -0.25472793006801514, -1.534053577255858, -0.21561368600936573, 0.1474424775472752, -0.7412324241669129, 1.3317177888053844, 1.4358249000954573, 0.7806983531001679, -1.2133662157294978, -1.174571798958425, 0.09109493630329124, -0.977222370925593, 0.2707722169679332, -0.971710259372587, 1.16426818453051, -0.10736067357634396, 0.6681593812188321, 0.4940211275543056, -0.02900653221709174, -1.458878029807599, 0.31873932705383196, -0.7701858874754355, 1.57989836153828, -0.07711795276005398, -0.059749087752984924, 0.4202958561597995, 0.19675583904586214, -0.8442554544969151, -1.1480590444010752, -0.47150709786076533, 0.267441855162477, -1.833830130273987, 1.1569590462219626, 1.0836975089782082, 1.4003078510019547, -0.5632243462528006, 0.7730683929815944, -0.13948666287544467, 0.7781833499416324, 0.7869751903905106, 1.4849637179076536, 1.1976508771863805, -0.484348137862329, -0.49330647538930084, 1.1304854173471293, 0.6976945909920074, -1.0661129447278628, 0.29158420392414564, 0.507880550723263, -1.072020054113535, -0.8417555721290978, -0.3500465213436332, 0.16834545501924317, 0.7195531623841026, 0.008562942938356185, -0.05817415552429355, -1.6298457213334518, 2.1583898219032824, 0.5875569150408911, -0.6243999724849479, 1.8304476967449292, -0.1350761546677974, -1.3182528038878583, -0.32084759472098767, 0.09767837059607062, -1.552808446818855, 0.3135561714349283, 1.0718661583333904, -1.9110174989879491, 0.10566913062161344, 0.6043392153822721, -0.05325451672958869, -2.1302972698418987, 0.12456138763246982, -0.14087879236462802, -1.2885477880460456, 1.324662443110858, -0.45043941810363775, -1.6740180523388013, 0.37202747763509175, 0.6749100740752826, -1.0653958792757874, 0.1605120093039945, -1.2670250323658419, 0.5100261798552524, -0.03709401627521098, -0.683116339958717, 0.3525010462086256, -0.3320412136690655, 0.5550975422885082, -0.2591252199830874, 0.4420628785454, 0.8041139083569157, -0.09906248246618098, -1.7880105695991562, -0.14437882443364553, 0.3560898091247022, -1.3005624804727034, 0.48771906901181455, 1.4537520526058252, -0.6584819392677521, -0.22035600898633428, -0.8841752994006958, 0.3460306324812332, -0.5107153962460502, -0.5975457218319266, 0.748527200534408, -1.6685116964617817, -1.2694855367470865, -0.7369676565647161, -0.06079420031463784, 0.667564620672619, 0.8818391649806558, 1.0634656099264148, -1.8050982198598073, 0.975351273796331, 3.2339436764594276, 0.20042966336621162, 2.4531711239207703, 0.5728633555518814, -0.7574622987892762, -0.6235100856451977, 1.997766979193124, 1.7150348833521034, -0.1525159867291641, 0.4461131294190759, -1.2468204640281328, 1.0995159558308691, -0.471448505667448, -0.6616914687451912, 0.6431827592180022, -0.23981170515007574, -0.118499226605716, -0.2592893288238116, -1.1607726598639327, 0.6664118412929567, 0.6029162146737392, -0.0005272990031528906, 0.73678751717745, 0.30393147799393816, -0.680372124434128, -1.1358330202275648, -1.4494763829743635, -0.5174440203041561, 0.036622661710713954, -0.7165366259167892, -2.1637791702162237, -0.1585965388604735, 0.06894419354308265, 1.0558214248799582, 1.2962522531599319, -0.6327758018894211, 0.09066375767716121, -0.7527179820805865, -1.3744758955134415, 0.7806801037350044, -1.1161216114306955, 0.16183997969158717, 1.1193729028647579, -0.7841489975705999, 0.4368544380303386, -0.33356605398704353, -0.8601972272928468, 0.7160758947034477, 0.6307170278717348, 1.9078667107346998, 0.7058228987253884, -0.9553977031131369, -2.5832379253589477, 1.3662791957079703, 0.4912160415589916, -0.2064922265869078, -2.252944135924999, 0.8177539840604698, 0.054818108654895746, 0.30110439570434516, 1.5787647729077372, -0.35134308862665176, -0.8442532507253782, 0.6819041001202127, 0.6563129417583652, -0.5109428801545607, 0.9050735010260188, -0.21729026151141653, 1.3654753976461798, 0.3038892280293008, 0.6548660207863793, 1.7601513792771242, -0.5214206502068154, 0.6459210735424753, 0.13469335961245174, 1.5385427432174594, 0.5056370990600755, -0.0869239055261349, 0.8998993867763121, 0.20083031995911133, 1.7003664185971124, 2.1123829833236374, 1.1190815967731942, 0.6714175051510203, 0.42976739279655435, 0.7770380638614186, 0.8648877236135091, -1.6754229749645841, -0.92520858219557, -1.0865870170657321, -2.159247675334974, 2.0727942575478546, -0.5247074981153017, -1.2347794757185673, -1.528216453836009, -0.28079907798729475, 0.3348242821743054, 0.023854438253253125, 0.021557752912299957, 3.188745922275546, -1.0984545295536443, 1.3079597867361088, -1.7821652418167735, -1.080954190046468, -0.22994679297698284, -1.8627120046626615, 1.4292164149616216, 0.9255843238289764, -1.414012754877127, 0.03315162314697604, 0.8317284059138222, 0.9250084031336961, -0.9768094228142882, -1.207631956551417, 0.794467816127199, -0.6812964991630449, -0.8810175370401795, -0.893355307452724, -0.11191858229382375, 0.3180374128528588, -1.538306543739577, -0.6299986701101211, 0.13413414425411957, -1.1004156830800282, 0.04635202451041531, -0.2748849047074368, -0.8542067490439755, 0.9005185590430864, -0.4968387346662336, 1.673992827893379, -2.6097592847307243, 0.16570616985080341, 0.4623996266310892, 1.121255723412328, -0.11977980236359527, 1.1577268697010998, -1.3208826037890673, 0.2146364677760513, -0.3230256740706091, 0.5185420035794688, 0.46954113020595833, -0.25720406166270754, -0.20544350043167117, 0.30235126853352273, -0.7348920268943622, -0.8384369264222129, 0.7669297276766799, 0.79516149319364, -0.9455859235935539, 0.4957335720704672, 0.6810791667634071, -0.546451313261451, -0.39283634112298094, -0.6709326230446072, -0.8570464764348145, -1.4453332825959704, 0.4779453417541377, -1.5020755763408433, -0.10520005990424347, -0.6842613098367255, -0.6601647957518837, 0.4646052334457084, -0.12048504402790883, 0.5877558702727409, 0.007453825987399267, -0.02308913018629287, -0.5416998406942981, -1.8558163084405626, -1.8125668443106857, 0.6271445909384821, 1.3331835386078832, 1.8610133824614112, -0.39858155840306997, 0.19845014678023093, -0.6616180120346272, 0.9172803339560861, -0.35336492412393616, -0.5799148517278703, 0.19864684355092188, -0.026990867106353355, -0.17116762000868352, 0.45648346318009936, -0.7402502969636973, -1.0153383772916336, 1.4056029865538997, 0.6767574024640011, -1.250707697357938, -0.08133698534754462, -1.0606897170717784, 1.286433434784026, -0.547947114435956, -0.45828400482564086, 0.32622885209326885, 0.4096713881021989, 2.2274081860760915, 1.705537344988825, 0.25577111335614666, 0.37799021075592115, -0.5656288845233396, 0.5021897563920049, -0.21695761181429613, 1.097645206586851, -0.24457236215513145, -2.016510177497944, 0.4137614860002191, 2.229053193115514, -0.21939574478491713, -1.6554580200431641, 0.6580338428392984, 0.4961845200711733, 0.13749538242751014, -1.58259797176355, -0.8307429653308489, -1.0290141058018647, -0.8096805849196513, 0.6107745489511807, -0.28784583674340813, -0.012518735109350696, 0.15072048260740448, 0.04223872765624622, 0.8771762350359655, 1.399239765069701, 2.6427691229412313, 1.3273300582616496, -0.5537080297762441, -0.15341995686439208, -1.7768402429650094, 1.5672937718516666, 0.7149835038925888, -1.0171447359032626, -0.3491713282268825, 0.04745077748398097, -1.5949176175567037, -0.7442986819714985, 0.018027376608614844, 1.5670031932312736, -0.0729395555966258, 0.8969515415204755, 0.7830252882145851, 0.15281947322175457, -0.3105345311464799, 0.3991324498145398, -0.3607435354295629, 0.0960353167778875, -0.7875559001942728, 0.0709459849214684, 0.32346671298090024, -0.18202333690920422, 0.30519451120624613, -1.1747962990614944, 0.0033695887307068286, -1.2968694618119874, -0.1810442603927965, -0.12101706998126481, -0.8340701861176056, -0.49649445870143405, -0.6333646590453518, -0.06542812641426987, -0.07857107359500855, -0.4500078886890423, 0.6673548765014722, 0.18515165366836717, 1.3576064367162728, -0.5451629573028948, 0.20511842852965492, 1.6230133240610314, -0.11572161934272408, -1.4568708263250523, -1.003823223815449, -0.6861251720881789, 0.3969097247072355, -0.3692368763176476, 0.9717188087755126, -1.1562775961852119, -0.2559171795498906, 1.211485489245522, 2.081883412474995, -2.4045461063729094, 0.1652197323321114, 0.7586255170418423, 1.442209491239, -0.05708907598812633, -0.02691191426722853, -1.076655900466645, -0.22797665238508918, 0.0705928323665665, -0.5687901086703411, 1.7187840479710952, 0.2762850124170524, 2.4548929702420317, 0.11245165918877388, 2.208316392605885, -0.8691694137475809, 0.13414064262086564, -0.9474223504944977, 0.43758294590004004, -0.2733606420470012, 1.232491396177657, -1.9135971683605695, -0.2938635507348501, -0.057206266135881645, 1.4699672267695605, -0.8363530413999882, 0.7725766927996349, -0.1806453759485348, 0.819114855412981, -0.19612048053868716, 0.6084291741224304, 1.6561360846266102, 0.38568341932984856, -0.2966030419453427, -1.09163645176285, 0.8470005275179054, -0.6732765309038323, -0.492158545007627, 1.7160593004886706, 0.7728837778721441, 0.7756565731244648, 0.8016643073611969, 0.17077442157656283, 0.5164952765164231, -0.34315704013937964, -0.516654561137347, -0.5064166467298692, -1.738801148045551, 0.44808348916771507, -1.3656832680501791, -2.0312233969008786, -0.3556686440654559, -1.6451754384900135, 0.40795671320101595, -0.15914682204572744, 1.5901718522117805, -0.8314004424661458, 1.6503736167970386, -0.40867180140918563, 0.3235360863652027, -0.7341078950236003, -1.681344943913897, -0.029998210515625498, -0.42752374477954247, 0.30415981656160734, -0.7408173308897046, -0.09439996004682098, 0.7932373904371325, -2.0004696467589755, -0.021626861002594745, 1.4385442721172197, 0.3413934257754914, 0.5294260128744717, 0.26525429818696933, 0.7744780146480028, -0.5664971536898683, -0.43887641235313407, -0.12643992147864788, 0.5537268541187761, -0.6455932406357732, 0.9896507680977618, -0.023653228947725362, 1.066777292362886, 0.406897809924814, -0.047373147009446365, -0.8766915499898048, 0.4055131575113689, -0.4176880368146161, 0.964827043070684, 1.3068390258657894, 0.6831008010524122, 0.8420350583962494, -0.8113587457641921, 0.7441485605322269, -1.044735378236428, 1.7445224562868944, 0.3337964139898292, 0.5139639385436531, -0.730603596099961, -0.3387453795438071, 2.332458339172474, -0.699712345108028, 0.7420288963096902, 0.6704564542422355, -0.3288632645908783, 1.2505940481958295, -1.3453679434017067, 0.06883352237324056, 0.8511603309555905, 0.27628847216468433, 0.15350388492646916, -0.11147416166275237, -0.08912399449816089, 0.7983788725256004, 0.9552824353060427, 0.4882016899905583, -0.8760853039959733, -0.6576642985558786, -0.840890793598638, -1.1580079662997242, 1.2186769467850207, -0.42464052545547015, -1.240534963808489, 2.610100424735041, -0.9220919509463814, -1.2226563076344885, 0.5235716106281463, 0.34733972093134824, -0.7926912254968543, -0.6980291441690741, -0.9483839526117754, -0.9580364009957031, 0.6341918458479844, 1.4039454322312954, -0.3527342509888937, -1.0492601836554245, -0.7955615217254778, 0.11983998098724191, 1.1174449780287345, 0.4363251390441324, 1.2686051343853533, -0.32414582108918033, -0.07082327297304587, 0.84284122201877, 1.1680243051194432, -0.2834818155616568, -0.30128344264051726, 1.1899572157593266, -0.4274628772131431, 0.5782002236799744, -1.1394090104993913, -0.09032335467971701, -1.0092912828618315, 2.0410967095081345, 0.6197860416809582, 0.5287103383992854, 2.0720944470179945, 1.9451481134471966, 1.629561585518349, -0.34009708264398003, 0.8723628747966881, -0.8075757415687764, -0.051713032799401246, 1.2576449220050272, 0.5696379952803959, -1.12077207617857, 0.5668396056633817, 0.5010997359116653, 0.056185942373298825, 0.26213914700186464, 1.103575122468207, 1.1764890043121947, 1.062943451910555, 0.6222122469346806, 0.5314282479260926, 1.1336008606656358, -0.6457212468127134, 0.10694882703656956, -1.8042009983624667, -0.26699501363262734, -1.0609158660265867, 0.7927721220150779, -0.09223373893665135, 0.35447959146070496, 1.066945193642284, 0.8506746076344974, 0.825798382397842, 0.6951814663711956, 0.1741533385226744, 0.6613670667627009, 0.6221378215683054, 0.7746488621306626, -0.6291052314354447, 1.5054291731909355, 1.203581675036933, -1.8826274179296405, 0.6483404693589553, -0.43608253986872486, -0.05606894212061942, -1.8286351195089543, 0.1675328853205884, 0.01062538199262616, -0.9308629863906319, -0.2472909404979031, 0.9790528864196736, 0.6840776934597769, -2.142594805800733, -0.9377209050668708, -0.6132568925760503, 0.10557796810944364, 1.182150196753045, 0.43069615565689523, -0.5531068024833803, 0.9441358789035023, 0.6604485955247422, -0.315139534373952, -0.9349642546985083, -0.10882389166665869, 0.8001269063723336], \"type\": \"scatter\", \"mode\": \"markers\", \"x\": [1.6619959798206678, -1.7842520877131876, -0.21864355183884343, 0.11222062826824006, -0.38015859965254806, 0.041501391674893584, -0.21255504742041645, 1.05953719108257, 0.5904646704725641, -0.403815834036584, 0.26146771179789097, 0.6621389768387839, 0.5508263720699249, 1.049061679995794, -0.3541306266634586, -1.3247038102905984, -0.4803699141650387, 0.5060993469724168, 1.1205324587471555, -1.1292364876957017, 0.3300682059403514, 0.593485599008892, 0.5191435633836918, -0.18038620303331618, 0.19868513436660276, 0.6749536215218529, -1.5475278931720053, 1.0935570709238778, -0.696197079387302, 0.5048334471507745, -0.1421820317200086, -0.6439164046227664, 2.6072743700933687, -0.5500401419045508, 0.5020990124680025, -0.11582865989890191, -1.7594843177222936, -0.5488331197254883, 1.4282754305978405, 0.044202798569941325, 0.6077201227456482, 1.9781372835570743, -1.4171937314859535, -1.2111400339386287, 0.07453389148062711, 0.5361134126618498, 0.06863050939618183, 1.067139615875628, 1.243605979605637, 0.060233337487322194, -0.019268377547001492, 0.4754532880661788, 0.11672391215537897, -1.111645870910935, 0.9539987973209014, -0.30164655536533413, -0.947695690296131, 0.7192000417728373, 0.10451747237288381, 2.1304525466703894, 2.0471998861947664, -0.12969226958279775, 0.028407115662440814, 0.3117483400415611, -1.0913524712898346, -0.5897460996200345, 0.3990500653857878, -0.5151059413081163, -1.1510121847481534, -1.2277980637742356, -2.275585187398421, -0.3320066277485932, -1.549445264743101, -0.6454124096402357, 0.44705235318835634, -0.3629582636993398, -0.45157637800212647, -0.5077066272463103, -0.20963743104839347, 0.2964858923239271, 0.5076424432084438, 1.8710630986987105, -1.495184123181205, -0.12330642258547246, 1.129327803250805, 0.9884521858734038, -1.614643731748032, 0.8107806330226294, -2.1392495168894357, 0.8606982997769603, 0.5696257363010561, 1.1569452109946388, -1.5654554174411695, -0.6472752939804312, 0.5835623399691564, 0.7511132775200956, -0.8010823708212447, -1.2745909224509278, 1.4111123908928496, 2.204809016530294, -0.7501554473565034, 1.141569349911916, 0.3928159305283738, 0.7186604656335024, -1.0109743936591096, -0.3852354106839083, 0.7469992175541958, -0.20251769651149934, -0.7525293909345665, -0.19357057210118653, 0.6696651904304276, 0.8146379918369403, 1.2527020791213803, -0.7506540720081112, -1.319373967050957, 1.5823183144214898, 1.4680306928099616, 0.151464833001514, 0.48957646644597647, -0.9338451908164623, -1.5971726342745338, 0.9649839525672975, -1.782679361966344, -0.5481344063074554, -0.8001076838821598, -0.6979268266241243, -0.24037999818810882, 0.5446119909099387, 0.1619091245198726, 0.5336248609724499, -0.5086169349361808, -0.25790936814501825, 0.36419617556966594, 1.0379973083487093, 0.9943919712163168, 0.27834700067182755, -2.144087967137408, 1.127947405188091, -0.46858243475826206, 0.6966330469609965, -0.3606662335630075, -1.2747930409665937, -0.7359884031327681, -1.112822431107595, 1.1621366527379515, 1.4925112808117753, -0.40984963551539644, -0.3240527818584113, 0.4421339861595462, 1.3541286086449624, 0.13146563706742392, -0.9024534155820221, -0.6586197629625645, 2.1659946349585493, 1.2940890715396876, 0.23171150692556564, -0.9944878043521805, 1.390405448489205, 1.0917868864591889, -1.2637921138145858, -0.1757921828566898, 0.5892892971655125, -1.1592755718305223, 0.4652556698647031, -1.8779705703683083, -0.7564801693885995, 0.07720254720567248, 0.16949926965165452, -0.31241969298863853, 1.656100001328153, -0.9615862530237372, -1.340479960840311, 1.1561633831026723, -1.7615658122292286, 0.673633297479576, -0.9090491116242267, 0.5766125711200644, 0.5299910233045959, -0.924226261717282, -1.1505929368219339, -0.2632449566924977, -2.361694411511885, 0.5654359795780936, 0.5936873610518065, -0.04680818034233222, 0.28049089354964624, -0.7512554983123493, 0.7114195853969126, -0.3887973440257178, -1.8067456404729583, 0.3804102015163801, 1.7967992976931917, -0.6078476230157961, 1.1624685339389718, -0.2604146167283464, 1.249959915549495, 0.620656157820972, 0.18628172767556636, 0.9734813114147602, -0.5652163223638279, -1.9331255137710406, -2.017532651336371, 2.6631463094364145, 1.0407827816248234, 0.5162483860261352, 0.44817442144089903, -1.2582529035104453, 0.18367576540858155, -1.5534526694228277, -0.9483891540017028, -0.07301299827292794, -0.38550428388293884, -1.0612710684448123, -1.2010956506779418, 0.46769111300124405, 0.6399114511279342, 1.530403966315341, -0.7832102059171, 0.35024043880099326, 0.8285538049740105, -1.6303635151823406, 1.626935039533822, 0.8157857424448939, 0.5428150063743891, 0.02287717390852353, -1.5930815128876947, -1.37007632246141, 0.4114527082459645, 1.2187797812840262, 1.4677047046866423, 0.7366230922904026, 0.6539031637861118, -1.327312857422969, -0.11659152422347664, 0.14122443074181246, -0.2653648375907119, -0.9214106096156577, -0.2698021268016827, -0.11035772246700465, 2.0387712068374024, 1.3379115641266495, 1.0998304297164154, 2.3743816171074994, 0.024226332865943473, 1.7880455364282912, 0.21407014789057946, -2.368628248138783, 0.9291367766164185, 0.10423843787803798, 1.6598246924820705, 0.09542848466841607, -0.0491090956000116, 1.8237614957817774, 0.4990343029553406, -0.08203449041598954, -0.036058259881691306, 0.7227466166208638, 0.4168498181172643, -0.5342831200117074, 0.2929816973438951, -1.4325977594735175, -0.9076353235470261, 0.7728502536451017, -0.49999187387277194, -0.742116689175765, -0.7667548722043387, -0.9834107329654949, -1.127317469018197, 1.1042840001248289, -0.9473011221540897, -0.36041043538799095, -0.5478092468526387, 0.6054236131653891, -0.12477693419435028, -0.5933166256367018, -1.6817996164635691, 0.004905494345197309, -1.272159926385372, 0.7678344209194227, 0.7023104634873417, -0.03657644817291903, -0.22860636983603352, -1.2133865141484923, -0.9380719359359243, -0.4971186098350526, 0.8121282442363692, -1.039082774418287, 0.0702981000025193, 2.227489307505158, 0.3919702245629016, -0.3094506912003395, 1.000164007289261, 0.9279097840919449, 0.40966692667910254, 2.2997083655329793, -2.434926756907154, -1.3832119448911477, -0.6459707309823102, -0.944035675847036, 0.8204411735903994, -0.6972786837574085, -2.0416763854254056, 0.3743180285815106, -0.8184098696046577, -0.5048040306053763, -0.365404255103953, 0.6620587211923941, -0.2094258780378259, -1.3671220046048325, -0.016820093047888028, -0.2871966987803987, -1.6302453141967972, 0.9272584725301346, 0.5132362782918742, 0.32711172742385836, -1.1277946252552278, -2.790218970203486, -0.9862180569003683, 0.2030969370897605, -0.15437994649415976, 0.6291669066049871, -0.10168876241377318, -0.11999170435126826, 0.4687855143666846, -0.2519379304943512, 0.9195792455121623, 0.04433431934311826, 0.06667957832313566, -1.1275769488399146, 0.03767345623156659, 0.018779391049794997, -1.4298310321552723, -2.301877609148655, 0.831294562655881, 0.7955458647599337, -0.22243464204119762, 1.0509380865212856, -0.48366646579793554, 0.29210499616796215, -1.03117145942559, 1.218022874681404, -0.7655827399634206, 0.08377977940705472, -1.3187277606720877, 0.13770636961569743, -0.2364714856546415, 0.05968016461695389, -1.4125901291393326, -2.2944797898509735, -1.7347718876881757, -0.9682021021673312, -0.8415889054443864, 0.9265410360244017, 1.3751677195920573, -2.4935474829542668, -0.5576676060787658, -0.4229019598855912, -0.7432278309045139, -1.1947159057310677, -1.3368517084083027, -0.6338562725268189, -0.868044970165024, -2.665305547238302, -1.3936302187498384, 0.6294569349101943, -1.5005112436364079, 1.4057965544959528, -0.7652072606605698, 1.3338978042806435, 0.2590492144212195, 3.54043035296799, 0.26913585351367836, 0.842335961449301, 1.2498750077465925, 0.39367748899975546, 1.233307248676884, 0.9080645995980721, 1.3618031259868024, 1.4463111965910378, 0.719322094846949, -1.0762294511288883, 1.3468674810714987, 0.5169496661887744, -0.873133073566279, 0.7555254390137404, 0.10987685093172248, 1.0308747260328905, -0.02324599537322967, -1.5093038045168556, -0.711873500153032, -0.8126230499133175, -0.3141032410131483, -1.1956984676011093, 0.027447543926948332, 0.8599669914092744, -1.091105478634409, -0.16719466088311746, -0.33164676275530086, 0.6205533955948844, -0.4268772943418939, -0.7404864682422242, 0.5024969725954185, 0.5985330056759285, 0.8218924931961247, -1.2331383031322112, 0.5586751793275996, -1.2647784638572588, 1.3958146237526108, 0.10528019069936374, -0.20856528074666475, -1.1465778016304908, 0.5194291561553889, -1.4085347423470918, -0.3063006712058159, 1.6465884774525634, 1.7623861257149254, -0.8338376038272269, -1.555456409888806, -0.35098270446968016, -0.2501950065496366, 1.8099373377505772, -1.9215170117110436, -2.439736676439205, 2.377002719302097, -0.17291100605355816, -0.04588221075829723, 0.8569569999954947, -0.2753695136692288, -0.223628260817443, -1.7235255933189315, 1.5949138850659732, 2.0179450623532036, 1.694857447117313, 0.10726584015542653, 0.016030461447876544, -0.37886365589137505, 0.5591461385034256, 0.6058863139472372, -1.307045930856223, -1.1309295628028344, 0.4510351423829586, 0.7570627471173206, -1.068603089293618, -1.6858448354370656, -1.6620889372480754, -1.599568782893839, 1.0710628434177267, 0.5309943481888203, 0.06864275318119478, -0.9438097060150128, 1.0546074836211334, 0.3532729194224767, -1.0068859284350282, 1.2546850241549634, 1.6778613199306098, -0.7750087640375091, 2.3556977792288025, 1.9641681382725584, -0.3233650890764561, -0.18534639986829166, 0.7338237166484899, -0.6986941991030043, -0.37927792637872326, 1.1286751837345, 0.14373988901255344, -0.0017571300477345095, -1.1119840722214194, 0.5034245650958541, -0.04324152321407014, 0.9705817928959389, -1.5409816114535357, 1.0769227046492924, 0.6643408907723349, -0.22135441110907159, -0.15345892965269503, 1.3818093644174612, 1.8908953966345847, 0.14041228603806147, -0.5432017523937588, 1.1970208617489986, -0.42082560150093307, 1.2858205696866691, 0.9839432808069423, -0.6045466572383064, 1.4635177488405027, 1.146021118553202, 1.199638991682875, -0.998458864926018, 0.009886515321308907, 0.6625771120781209, -0.3535162768514477, -0.3183707683455782, -0.28231259326461344, -1.3392639824401735, -1.3844867286217408, -0.15686517504079273, -0.08283851011782783, 0.6833682862926158, 0.9323426435247297, 0.4183110429884209, -0.13154874213211243, -0.6522184063806454, -0.573306302448908, -2.501189620262574, 1.156104571456173, 0.17060765690070784, -0.406203279395149, -0.2053494413360313, -0.7791244914607752, 0.48568043540429173, 1.161163786714664, 0.73821915432505, 0.5072753562061837, -0.7504143361323905, -1.6145653567830778, -0.6090417329871634, 0.8064741649489996, -1.3818086109568783, -0.657299588843639, 0.558212032090126, 1.8994908321489976, -0.2877760054732972, 0.5457876036282, 2.346088399814719, -0.053905610693201496, -0.6678819415567072, 1.714770959358683, 0.35564970410389096, 0.5941315488351328, 1.7347309893022391, -0.6440984346248202, 0.5970144538659311, 0.6562689045680047, 0.9113949579653255, 1.1940614178599416, -0.729882101004215, 0.617264190738495, 0.506244118021858, 1.2280186430511413, 0.37698679399683, -0.7624523159124457, -0.8209533596428413, 1.0350221176367695, -1.2015412367770242, 1.5077973278714831, 1.2781805755960425, 0.07019889671167343, -1.611472727381303, -0.6328983214662328, -0.23036305710227553, -1.372320822773969, -2.463382255898065, -2.3358835889607743, 0.4668240447592245, -1.1863170527450955, -1.3257502032772164, 1.6740524062744044, 0.7344509115190616, 1.433942534904529, 0.15818264905151566, 1.0682432784768245, 0.7287007649056454, 0.5807803824455751, 2.6992843603671592, -1.3189456483676887, -1.5651491009659237, 0.42279518994575266, -0.23281934136401392, 0.5666083055940329, 0.8996045793515929, -0.28338850550777817, -1.5833989465098561, 0.478189754859613, -0.11737883519712818, 0.7764170553190121, -0.18830043776530447, -0.8000276213414378, -0.14687107561004334, 0.29926384437959924, -0.5028793577052166, 1.0872921505762745, 0.45220592838516704, 1.2821158413498168, 1.0525902858720486, -0.36507940194227284, -0.9608447661488658, -0.3350441825095506, 1.4043188023475954, -0.8167361240627308, 0.2629321579098342, 0.15458147740059963, -0.7818290824492213, -0.7894914889285505, -1.601042862530922, 0.9013377605796303, -0.03975012921334713, -1.305110459615688, 1.19219754442935, 0.5604534088408952, 2.2368690471581503, -0.453597005007491, 0.5984079815819523, 2.2138482703031612, -0.6574179781049798, -0.6182070563323971, -1.7839849137547223, 2.192684431687383, 0.4262589119881039, -1.424091397895511, -0.061335134935746355, 0.17715291253225487, 0.6560177902414315, -0.15287518923925492, 0.2239188930336101, 0.9972997313862414, 0.5509287266815555, -0.6218239098042365, -0.36082483546085026, -0.2185615142582772, 1.844753295298398, 0.5351495300984819, 1.0665545069740514, 0.42121836398180057, -1.3293964878119389, 0.35259271961447386, -0.9244712353970351, -0.09569276662546224, 0.002462140028488468, 0.15596109441491746, -0.11694316172646867, -0.9002788842182529, -0.9955637578284613, -0.013419716018177963, 0.5525531285509269, 0.046816569044343975, -2.033233639191348, 0.3902918804629333, 0.6100550266568061, -0.891582702441229, -0.24908616520115795, -2.162589089276321, 0.7027108560087825, -1.20501319064194, 1.2411055856873237, -0.5909512492011343, 1.884327471539533, 1.3697771460479922, 0.6875589109030982, 0.11213653625056413, -0.1245366444479221, 0.7750536086763212, -1.3410291688327183, 0.1744001404960073, -0.06968425649679383, 0.8374544538294869, -0.35584109332611535, 0.3764595931442008, 0.7687138579858329, -1.0166448227685336, 0.41891956398761626, 0.08197076874415302, 1.3642711971234294, 0.8346941053905197, 0.707026788846317, -0.22002372523216432, 1.578219708727252, 0.11464370779717944, 1.365420068256023, 0.19352766695567628, -2.5790889246005313, -0.22678315801088186, -2.228835310028157, 0.05498622341706718, -1.4312314681788196, -0.5782915869907702, 0.2879957090449028, -0.882738691794572, 1.5584435782169292, -1.0609284272102928, -0.1333970033493831, -2.649729988576738, -0.5486168852957507, -0.6084718944381972, 0.11408512954447192, -0.182349965074441, -0.1754205209447057, -0.6280576366169784, 0.029234720890060722, 1.1668334640066313, -0.12698324253751342, 1.6465360442480823, 2.0020041025738813, 1.3029907891665076, -0.3602216716553793, 0.46910007978278545, -0.6944269795947093, -1.2858856772621465, -0.8564199832084611, -0.10375664447298978, -0.8827132839597811, 0.7073736405222322, -0.7028369159178687, -2.1208752616896374, 0.5348748863735807, -2.041342376789833, -0.28669469659635355, -0.9180795669767272, 1.436893034306791, 0.20009725801850423, -0.32578832281244985, -0.8432557062985175, 0.8833250391521346, -0.020003377386808772, -0.20657107910381067, -1.0832095623263105, 0.22281081198186126, -0.8608352770389714, -0.48184644045592445, -0.5802954664147736, -1.4073106099292938, -1.8890209862301075, 0.14423897705918137, 1.1573801274985467, 0.189235290995594, -2.168026039876332, 1.3500070179716581, -0.2471719546783451, -1.464248348223529, 2.113057343283409, 0.37938057480621623, -0.9859050191191077, -0.02521221411324288, 0.3082400697801904, -0.045176337967416436, 0.7492827144920547, 0.44834750189421363, 0.5938402221593807, 0.6929320487659935, -0.334741451683665, -1.57488635964739, 0.42896386530374647, 0.05788652749609496, -0.33903474657350374, -0.7784912077913846, -0.6439259310454213, -0.8841364601670931, 0.4977822693088607, 1.9778168546749502, -1.186961429811653, -1.092983597322084, 0.6662870616374041, -1.9709655387958338, -0.07517669865770799, -0.30653187894072464, 0.107894722032056, -0.3388723846484849, -0.3838191282669638, -0.3915402940893463, 0.5731888585250313, -0.060528381868739226, -0.0102254340987962, -0.7604602257335907, 1.4891133828524203, 2.359418358957097, 0.00984973573761307, -0.25825456531976765, -0.7859056449798104, -0.8189249163023012, -0.21358068884779616, 0.11347414181385221, -0.8756405133180933, -0.0023886224642185074, 1.051217534447877, 1.303005098152548, 0.3157385029493557, -0.13343986731877736, -0.048337122124634466, -1.7071768681725346, 0.0036525682134823023, 0.6340510403599539, -1.3696508146619788, -0.8212392080914448, -0.8708027632472715, 0.002523727060602233, -1.513953313822756, -1.8567461324392749, 1.031735456477949, -0.7655719636439084, -0.4493897006095146, 1.0090586778247197, 1.494997983580413, 0.14256157336660488, -0.33399678599813043, -1.784219108221825, -0.6953781628415433, 1.729818219193616, -0.9434500107553231, 0.32558302811059464, -0.26305715519177186, -0.5530770520329348, -0.4637035350125356, 2.1426317552820855, -1.01785037168668, -1.0929751841140039, 1.1705572219125393, -2.172048426533849, 0.8750699150638525, 0.5716073163613984, 0.04073754330839736, -0.3687977998797889, -0.061268505788921464, -1.4725881980823585, 0.4282115980060242, 0.32676752773124734, -0.2068412168117423, 1.5391818443946912, -1.3947125680804842, 1.0336155326600907, 1.0379394795485406, 0.14726759616092175, 0.2410874549782268, 0.35659546854663815, -0.4944414945799452, 0.3650071606705494, 0.2657227212702017, 1.4943339264602422, -0.7289150024523801, -0.4764075325183964, -1.922107068836393, 0.25268352639165487, 0.6036682030378325, 1.5796527263769162, 0.5812447511892305, -0.9392721444467422, 0.09220240285980971, -0.0332399661352849, -0.9177063850090251, 0.7563981581327696, 0.26183379309348936, 0.5694333440667909, -0.9605989083532753, -0.9088043061194111, -1.0817765834420077, -0.2997756451738491, -0.925534150651054, -0.13325475575075635, 2.051156233600591, -0.5269284430295988, -1.845283531262462, 0.46637610917308103, 1.3000452952681272, 0.7351029076791681, -1.8582031493902798, 0.5108002884450235, 1.2204303284995017, 1.0493153973196934, 1.5104907699490655, 0.9565829687748114, 0.658360888886809, -0.5279520824886788, -1.4597341268288284, 1.062673412080849, 1.2586906443648143, 1.9437517902395194, -0.3837643059285141, -0.6548453750381704, -1.3161528706264074, 0.9115390790594903, 0.777797503310833, -0.3620606042520972, -0.5097929667341669, 1.0241439496523739, 0.006341173938029905, -0.5135988537780373, 1.6994786176633008, -1.6457437511466946, -0.02906795615237959, -1.2796590640755383, -1.1696745391138124, -1.4611721003537252, 0.7407624758676228, -0.19131149641091025, -0.07501550705961994, 0.6416624045741102, 0.3902364665806306, 0.3897981158574041, 0.7525620587243251, 0.13979532402468944, -0.45721500008761, -0.0371942353644475, 1.5275192756305065, -0.386739014759613, 0.7386885086021724, 0.14932526272009544, 0.791901505792001, -0.7966160585155605, 0.13591138199729844, 0.25658867299049726, 0.29716322636795023, 1.9931547293694054, 0.9034865795988474, 0.0624060938696746, 1.0570429855433874, 0.7290721309097395, -0.25220577533806804, -0.4593095234958907, 1.959577350556394, -0.3563848303412306, -1.1969319185420368, 0.6727581205773575, 0.7535846878426504, -1.2011142867485716, -0.1222552581981795, -0.5109227217432856, 0.9765610005708222, -0.3142462773900856, 0.0821418723926762, -0.5303379530984729, 0.7891372005524769, -0.07904930630074655, -0.38470315996863763, -0.5791348634517889, 0.7571715092723893, -0.6393855837973416, -0.369163745724841, 0.635802502060609, -1.363812311658683, 0.3150339368509463, -0.856581048562458, 0.16069227311514603, -0.8017661051826546, -0.7217913579888917, -0.29498492908209606, -0.26341339383074086, 1.0483190349584466, -1.5112377811039042, -0.9970108150485937, -0.3933276787671144, 0.0007783260308986433, -0.09663008853519586, -1.8429943036172585, -1.2144783980191207, 0.34867688310237044, -1.5921023457350092, -2.020968401442701, -0.4218553564178165, 1.358609795112922, -0.681899360603527, 0.17328887742492663, -1.554700373653501, 0.3907494860023896, 0.7350238771028332, 1.2622881987482681, -0.3814252914739798, 0.4267963356246814, -0.06604632079908804, -0.12809822615982047, 0.34402004237242095, 0.48624804528681304, 0.8556958064854706, 1.4915891598592557, 0.27254646921568315, 0.2462218698471652, -0.2730506156977879, 0.2464272576520581, 0.07326068908128887, -1.2666651473675554, -1.3193413978578399, -0.3408688317375805, -0.9117939444156796, 0.5119849895642139, 2.6556854222868345, -0.45810215521143943, 0.679853462604671, -2.274136380605651, -1.3066850380411503, 0.9983527911341608, -1.5801767323029126, 0.731918229912992, -1.4110688762438288, 1.0240072486351055, -0.9956387469378278, -0.906396455788301, 0.9413328075347536, -0.4922281895198205, 0.45434035512347726, 1.7054786385160492, 0.49373075487009954, -1.6482653326182626, -0.40169343446136435, -1.3346341922628564, -1.1752421744073376, -1.7213935612912616, -0.14912040059222345, 1.6714882236977155, -0.9979718983690548, -0.923452177650008, 1.4033154595188444, 0.23915168298978953, 0.8124976632907063, 0.4501891565754036, -0.7010279474445135, -1.408400006543266, -0.42802070006024906, -1.1644777138839066, 0.7384448730806992, -1.4448536362578916, -0.11648775431423154, -2.4122482871474453, 0.46045040126639486, -1.2824585587979165, -0.30808640672228754, -1.892341432299075, -0.656633864420483, 1.6279331037072853, -1.0658292878874527, -0.26150166043617773, -0.7375288332237331, -1.3217770716976962, 0.638360320737644, 2.1622179021202084, 0.583903719343395, 0.07788472748931652, 0.22582574049123222, -0.3021047642044309, 1.5609935009548785, -0.726284062447683, -0.8780500904946168, 0.7519154996658942, -0.45369860818251717, -0.5895941489671886, 0.8896809209074479, 1.1953390791227734, 0.4434193749923234, -1.1550445419390025, -1.7581758013936002, 0.11728742398505622, 0.820220753365273, 1.5120869288339207, 0.6070659395641088, 1.2909752078094952, 0.19959781325304127, -0.711126017530633, 1.018070210861591, 0.49922426433017025, 1.1359184241241818, -0.503196318530159, 0.28928647447762557, 0.7194097092069696, 0.8829770372241258, -0.7127215883226788, -0.46005102167819556, 0.8116007449431437, 0.20736680373531563, -2.23742722323985, 1.5875207903418613, -1.2739246143299783, 0.25693643422557844, -0.5657488690726591, 1.799894819987811, -0.9855652988946368, 0.2624111923358976, -0.48479985104530104, -2.2970326193881223, -2.3877220461716093, 1.7304045577605782, 0.6438352800389067, 0.8096824653948916, 0.6363651628344494, 1.097901568930557, -0.6374878540198637, 0.48927220233333985, -0.1881704858510031, -0.26004656513910823, 1.4303025183595777, -0.42162808723614975, -1.1987803479106116, -1.1689917047376992, 0.04069933600451386, -0.11334480851073654, -0.7077620579702812, -0.031722163082157355, 0.10117717112398852, -1.651468883531051, -1.7139023009429428, -0.17047463204195162, -1.8741035964844577, 0.6580656616761386, -0.5733946393089373, -0.44476801677254907, 2.077913602160783, 0.5796354616991931, 1.1306248582393321, -1.0129082997503989, 0.7662946779936979, 0.4919761337281419, -0.16285478187983135, -0.3402173157491493, 2.0103328137897796, 0.16120032044033672, -0.05039146938697915, 1.2405332567088128, -0.7453051246903247, -0.3058452775133536, 0.6850970685097107, 2.649675957426773, -0.2862755404279674, 0.3505412988432158, 1.741498859099652, -0.9051832609296777, -0.6136400542767285, 1.021579387949396, 0.08037485234771151, 0.9466675743598895, 0.6345083603955427, 0.4574012606999753, -0.20818782749980425, -0.5002688472239321, -0.14788459392717618, 2.2069238648805523, 0.7169697318269607, -0.7254212373011664, -1.155267147449546, 0.025727496853182097, -0.04291468955718096, 1.4413477570062083, -0.4428802679096648, 1.2669019392150096, 1.126981003972193, 1.796535789533291, 0.9696591505359969, 0.29216607421459245, 0.6849155124242269, -0.590440281861594, 1.1200157316503414, -0.5308834979325967, -0.2618020526191651, -0.7839200545593943, -0.8169220562934343, -0.38793152609560483, 0.7816577038003194, -1.366275498881913, 0.40711572188340395, 0.259714828931272, -0.2469692202099365, 0.8699749130139005, -0.04424265494159012, -0.36737517229504624, -0.5456831084033862, -0.241367698031587, 1.1491437169344243, 1.458750846291129, 1.9821315952953396, 0.3108080113852891, -0.6634162940556705, 0.6124289262016049, 1.4306658203363463, 1.4336445739444084, 1.0244014656496607, -0.8355965326198792, 0.990713566514541, -0.1812940647082739, 0.7464295260074367, 1.7348248919689258, 0.7037789883550789, -0.08435937530202939, 0.6781271072589853, -0.20137085055440854, -1.1579335213042712, 1.1509358379555026, -0.5963826107187805, -0.11652159181018447, -0.28961553700706827, 0.9713513957585791, -0.08944208701004441, 0.2743971263787286, -0.10289069395662194, -1.3418868910182715, -0.39119044676026427, -0.17664518845738925, 0.07584557275124484, 0.2487164919540286, 1.216733433832089, -0.012747183969367528, -0.29770352218863255, 0.11685718271342149, 0.7286235509832147, -0.04096980769042085, 0.23364417305489174, -0.053697196440779534, 0.462500876895323, 2.061212316391797, 0.17125502837542866, -0.866832408648598, 2.1923420956326947, 0.7362813392047589, 2.0474086508457687, -1.9178618222690271, 1.3032931776383374, -0.22418705568823902, -0.3832995215833243, 0.4550720956206475, 1.8059970808529702, -0.30303946918172653, -0.140595491310553, 0.30900008934980366, -1.4782840404912665, -0.502086406956493, 0.15435184144853242, 1.187546105283973, 0.28717918293979355, 1.2199523440181117, 1.9112252573344068, -0.4526591948332958, 0.31899057573275436, 1.5585357696394724, 0.7940160283729772, -0.11332005759528016, 0.43935122242256974, 0.41302768679297996, 0.3350250466590066, 0.38844483643373234, -0.4388091266660746, -0.2523263955474005, -0.2862885840578769, -1.0213636749148647, -1.013895084093502, -0.1010097124453555, 1.1606190404721923, 0.6273008476778854, 1.4074270133752884, -0.47130914773787463, -1.3892394903720058, 0.41819222447558707, 0.29867239921976707, -0.05966259461280638, -0.5917227653677105, 0.4687633270394679, -1.5969230687631313, -0.07937433305772557, 1.1425099405160621, -0.9638848441190364, 0.19113517027117696, 0.5749368640291044, 1.8576070880989444, -1.5106648756340708, -0.714296890553359, 0.9088781759618976, -1.581583020008588, 1.4778186035996672, -0.78041085775323, 0.0681526939341173, 1.2853414129300604, 1.8664563883031766, 0.6489240833596105, -0.37707882505771234, -0.515099671247765, -1.2886079696406123, 1.2790623775794134, -0.15012394937117038, 1.1957005766140707, 1.2111519693685264, 0.8356667504090762, -1.4784445792754157, -0.8650976242428805, 0.4349302908251603, -1.92776041369493, -0.2641991261328393, -0.7431282381941188, 0.024417332286163367, -1.3455239395080774, -0.350697890703835, -0.1733261752198369, 0.5788786623341867, 0.804287427204804, -0.3562741567964871, 0.14306903454650363, 1.1804888957474666, -1.0405180264603702, -0.16378117044810458, 0.8467481837402712, -0.9734479315408574, -0.5593872212587416, -0.2181568936319482, -1.566607551531701, -0.8142789485533672, -0.3283113152059812, 1.0458565778240225, 0.9805138244427708, 1.2269867103651426, 0.8828643346290435, -0.3543768857424649, 0.7699158499275975, 0.3957195605389772, -1.1247009505022787, -1.7679584371401271, 1.9757927702618914, -0.4671100414142464, 0.31498303724824134, -0.6000648495383375, 0.03699710447829238, 0.8703684367686605, 0.3800320886403222, 0.5778739247826392, -0.986954196639681, -0.020166361370645064, 0.7554048173509765, -0.6176457250746642, 0.2102212791820485, -0.6051345329271426, 0.21448553926828093, 2.481275709482609, -0.4366793991972977, 1.147114788754235, 0.045622392474354, 0.3535173601177666, -0.9082035459574113, 0.49998585760223707, 0.6626601961469576, -0.7109812868619199, -0.08671109129715546, -0.7894945392229837, 0.42815750230968114, 0.9889587162323191, 1.9015085486376067, 1.2010028107937658, 0.5689732568692084, -1.381448853335009, 0.6612081331274487, -1.7690787167712734, 0.6621306252418869, -0.9404074247741542, 0.9472024563068954, -2.024231790270628, 0.9230046888421002, -0.436463953774747, 0.07851668773096855, 0.7060532882639268, -0.8282257059493963, 1.4795894957814564, -0.5722080577668269, -0.6860875719186498, 1.767150007996944, -0.6110054866308654, 1.0369893832662582, -0.4133772656650588, -0.4438741828319647, -0.43353413706557326, 0.9494805495727602, -2.2562091884692164, 2.2373483279944337, 1.6798362091555161, 0.6031096533849033, -0.5096217293325104, 1.9385402795572584, -1.3535122363679395, 0.4813426941641596, 0.19765123120322686, -1.0867687114714462, -0.7022135940368726, 1.348861907351017, 1.1331968440972142, -0.0655666577245151, 1.074202629808117, 0.11148585485006915, 0.6546544376037225, 1.0697049194503339, -1.289226441903308, -1.4230779275688348, 0.266675195588049, 3.5566721775673087, -1.15561134932843, -0.16944433542787368, 0.5743703391273697, -0.06447144748446981, 0.38105759763153985, -0.6709463803670478, 2.053527008197557, 0.08687039401090332, 1.051526637237123, 0.048689609999152665, -1.570059999214061, 0.12718340230041583, -0.4075216472988869, 0.5806662553753656, -0.2992329429364742, -0.44232294459989147, -0.6995583641081828, -0.02617620795890609, -0.6820335979751322, -1.4750006336196204, -0.98963210190467, -0.6371706179436378, 1.047437647573282, -1.0487593576144634, 0.12102866529770717, 0.2181474894104174, 1.285616620821269, -0.3786024607105351, 0.13094297969543087, -1.3324425585787072, -0.469840560033376, 1.194505603220701, -0.42752850640420803, 0.8719381941920348, 0.0859249564852902, -1.3117085799931836, -0.2592040085612157, -0.5620727080261101, -0.07089867088052679, 0.8389091145844774, 0.08880795452897391, -1.117906909654639, 0.45314973219005555, -1.2350758410214382, 0.2824401183907902, -0.4174801353816223, 2.0796537279190024, 1.3021596373601976, -1.3065407055885934, 0.043459923595735715, -0.5100747656096344, 1.863428051839598, -1.2254304187749434, 0.3985076923737899, -0.4026460974867357, 1.992491981816598, -2.0905560733653212, 0.34835777465304085, -0.5701766845560219, 0.061886687150279555, 0.959028607449925, 0.4507695205660171, 0.8862524058870923, 0.1924432802419196, 2.227735087174125, -0.6106764853165189, 2.210855725213829, 1.8756432066791, 0.042652327529168074, 0.9465447564889731, 0.3127464407354014, -1.1245885876475352, 0.1953481408583729, 0.8334600226117375, 2.48773715208489, -1.3254218705127159, 1.4408730898149593, 0.6106362519406123, -0.9789941532259826, -0.8790507404265133, 1.2322120513968664, -1.1100420585978878, -0.11879370445599204, -0.23298056375785536, 1.0166809595762947, -1.6728115665608527, -0.8128886506624731, -0.7886303582907684, -0.44722107535333394, 1.0717114690539205, 0.6280221778758255, 0.06138510186117944, -0.028605700840707855, -0.09845413793641912, 1.7485726504652641, 0.31279247842419494, 0.6014656703165789, 0.4428460358982576, 1.3594762847259592, 0.25799598854425027, -1.5755992570675317, -0.08903413329326791, 0.34371873332214475, -1.1973852741197366, -0.710037732218713, -1.5925692396956532, 0.9334454503247792, -0.4636371937781821, -0.0925599486469074, -0.8176155124575097, -0.593301011332022, -0.14010481507021072, 0.9735485809036816, 0.8033493322218067, -0.5003303711981333, 0.5057939386055219, 0.6723095794079368, -0.031253335072014415, 0.3574858656692215, -0.31578616736767495, 0.002792501369644066, -0.6770653621459319, 0.8499104112078996, 0.45644247624730644, 0.08480464323848944, -1.303149767892375, 0.32944038103554363, -1.3770083382572473, -1.0394328672276414, 0.09046246677071157, 1.4266467972662045, 0.039172299015027646, -0.17724281487377855, -1.6916192536868433, -0.5551378494367141, 0.4763761639918835, 0.04090297052522947, 0.5464336957012867, 0.30803987348068684, -0.4633427791961185, -1.7348248589366773, -1.4369175684084088, 1.6232412778266725, 0.11662532564556609, -1.2388598050099795, 0.5103824233739972, 0.23346780459159946, 0.9486869687955813, -0.7582667945554382, -0.7314072149094631, 0.20117621112883918, 0.4114508791612761, -0.7982812739426239, 1.1318098676723598, -0.11518763301131624, -1.0519211755821174, -0.11991677826648167, 2.3303615910688573, 0.3179787013314941, -1.4838275645734154, -1.905939103945282, 0.5263165182969614, -0.37173130551942546, -0.20797508442220808, -1.346616769074047, -0.39589637091881097, 1.4128747352289732, -0.21740181652069, -0.9919737113679193, -0.9403838248772581, 0.04520577652265076, -0.7126976053816715, 1.3321558451937552, -0.18923946052813626, -1.7537576960495016, -1.7365178072505105, -1.066838009018681, -0.5694515034563253, 0.3918690126625119, -0.11315507264588391, 0.648399077682249, -0.5448270619265003, 0.7487313381900644, 1.000742040605221, 0.2303083136844135, 0.9257237981637768, -0.11031976406665725, 0.16891028097883679, -2.003891947567718, -0.5921295753689706, -1.349100457257454, 0.589276536661406, -0.012677781285361522, 0.916258906259252, 0.5460182056334143, -0.8774787992892348, 0.05203333946117006, -0.15514812263182043, 0.47035181619912536, 0.8460583358587861, 0.29284404044704543, -0.12157083424535944, 1.7921629002558483, 0.3651829183260316, 0.5385868246964175, 0.27712326826031214, 0.028372978030359482, -0.5944288065154424, 1.6719078836999237, 1.767338238621266, -1.808042923214849, -0.8568376720703773, 1.4662103058336189, -0.1022355421649958, 2.465864102081005, 0.8421105520578883, -0.40517762987523215, 1.2687028881036588, -1.648910842364635, -0.9552194208058863, 1.1727944720381753, -0.4286380554864013, -0.36276830464313214, -0.41630137755154073, -0.8505779875920799, -0.9931042395698805, 0.2820993734561459, -2.214931952708867, 0.9891794055565658, -0.979738666839669, -1.0772794247888806, -0.8937547361869711, 0.8313107732936038, -1.1307491213834027, 0.14208229127979752, 0.26012815809892886, 0.36073285025888785, 0.6313213426993992, -0.036402045419411236, -0.5060148327972822, -0.8391724836063789, 0.08263300073174466, 0.5117980846572155, 0.2565423338441012, -0.5343415496953827, 0.00744800323173373, 1.3173974529934027, 0.8088152116868504, 0.5598036408360085, -1.139994191625181, -0.5084683328853022, 0.9044511681178261, 0.20705362938961838, -0.12578019989637376, -0.04181215742759758, 0.03644698381676574, -0.9776077122884912, -1.3905803301380262, -0.9572187081489174, 2.67005114958896, 2.2619562227420182, 1.6866003333500916, 0.005966176634915714, 0.016405881289477963, -1.290547230039844, -0.6528016003312525, -0.46720052808113643, 0.7674764495030979, 1.0539562087532668, -1.5734311988166596, 0.9856043689595454, -0.747041448171425, 1.2235784173019988, -0.5421519393514499, -1.3473521278346299, 0.20138662777625838, 0.2399323669290113, -0.04515205767820739, 1.4599127718467027, 0.8845038047188406, 0.032284430817570396, -1.7223127363501674, -1.9111307441591736, -0.4250107166779212, 2.279714198446063, 0.808501806813007, 1.5632171851178644, -1.2879721853120114, 0.40693864172910005, -1.7785312981942354, -0.06364158804585385, -0.5078595778309418, 1.7952897301646538, 0.20067471280573151, 0.6001498562812505, 0.17262841224986028, -0.7688523191749581, 0.8249662117233276, -0.46783209303686857, 0.31065327937953513, 0.31999833724946697, -0.36327327725246406, -0.8267186626487246, -0.07818384352091025, 0.5299780846826219, 0.4027447570858919, 1.133044136031659, -0.8138146444527439, -1.4360505142497586, 1.8519552158177095, -0.6869489787540438, 0.738200129922121, -1.3615583934761912, 0.5285355358226032, 0.0849557713659043, -1.4056207509341108, -0.49275361517903804, 0.9174747941736319, 1.0457405736378973, -1.7184198046082253, 2.1139138684719576, 0.23161979614578906, 0.90553041718443, 0.9070138080880978, 1.2190988110257373, -1.5161975581408502, -0.26608315248499154, 0.49767479468684467, -0.4614540539358612, -0.6535517323282483, -0.5315199367079032, 0.934692886946229, -0.10620612608056636, -1.2615626343478374, 2.2493243850916285, 2.927104895044813, 0.0598660086072874, 1.6069114488842378, 0.5213300532540559, -0.6012752479383937, 0.46418218457449156, 1.471100474915704, 0.07545874370020349, -0.6616365320181117, -0.285888628371346, 0.5699703065272, 0.7631692053965198, -0.8339061004810869, -0.007089579928594401, 1.0232442980853635, 0.10285729728330775, 1.7565018885048598, -0.21488667693359073, 0.428480084430786, 0.1261879648278224, 2.249063987373925, 2.5013462699807296, -1.666874130998045, 1.0823420917040676, 0.3034405265399074, 0.13507392229727552, 0.36745993440279306, 0.4049877540498424, 1.4985483873387975, 0.4281019036692588, -0.9716235062111926, 0.26957726542905885, 0.35272223595473345, -0.43533395902069777, 0.7193364459522594, -0.9260196910418257, 0.9356926812506839, -0.7582991585125447, -1.1329967500013347, 0.629989090174439, -0.9485306304018455, 0.5668011581984208, -2.3660910145814076, -0.7935283593537422, 0.9872456837845983, -0.6886733281824927, -0.8491171079003431, 1.3623741241391552, 0.04940179909879937, -0.497679864651293, -0.14582705510652952, -0.41259124423019017, 0.9666021443182322, -0.026950114293395975, -0.7876988421439377, 1.8909009567807806, 0.2314161625551277, -1.0088379505907725, -0.30726791962938, -0.4314471043751628, 1.520644636087192, 2.0820311393983086, 0.6840254993053256, 1.2174076811991585, 0.7774450963481966, -0.06869613393522056, 1.077133974199484, -0.4013930439304664, -0.5097837326395036, -0.23198161784001023, 0.14747652220099408, 0.6249118946387745, -1.0372715878180856, -0.5116158835225059, -2.6508662578212583, 0.3908307597608292, -0.8894820261751958, 0.6363204547315331, 0.7278694324398238, -0.894195814516176, 0.970108840699803, 0.336263439896271, -0.6774256575969063, -0.004617091285388626, -1.5087495195943392, -0.02158122322125809, 0.9716738271054743, -2.0248877396165086, 0.604196427211905, 1.4021628881524133, 0.39808748900136376, 1.6688801050157076, 1.129944277100834, 0.6201130400986087, -0.8876696349995326, -0.22797731862132795, -1.0400984823218362, 0.17689841191646544, 0.1369152019008107, -0.9769147343898925, 0.3581660107903293, 0.09634455680281313, 0.15826797080112026, 2.1930118383373007, 0.1102312664791034, -0.2257857125067309, 0.41939649573965837, 0.33316886125006684, 0.4996708047310515, -2.302178726593218, -1.1244738021903637, 0.24724092776907614, -0.4464844091782398, 0.9249327927905783, 1.524698227794929, 2.0983715286356057, -0.24535221540236618, 1.5359229914279422, -0.07454116382572709, -0.7334018997255672, -0.4150473295800342, 0.2401659280175554, -0.41953539585400623, 2.606360755926884, -0.39760993918648163, -0.7289270367921485, -1.7214826598432924, 0.11382207958856748, -1.556731430813871, 0.8439280730350722, -0.4863478678185217, 0.6805138621406596, 0.3213532983578603, 0.5050336431995298, -1.47842222404091, 0.6372031481952979, 0.13803182836751873, 0.6851904497952873, 0.4895173383078095, -0.37469139453266276, -0.3119404594078252, -0.6118356162969623, -0.4423573070919212, 1.0922884465954878, 0.12011944311406697, 0.08640989539988274, 0.5582308392955446, 0.03617404899846331, 0.4791026371429526, -0.41522371855657525, -0.3832178068834618, 0.4973714788881177, -1.2998772359094404, -2.1035194347861363, 0.19093231196216198, 0.44329861952792027, -0.5661762014064301, 0.7898584746854316, 1.5565903776026035, 1.7651263412368572, 0.7760942732759627, -1.0009551745039431, -0.2476306155526898, 1.232105214069373, -0.17569334493164476, 0.12897053554766102, 1.369364421953163, 1.0552477609890025, 0.4429246677217026, -0.5528187340537112, 0.7324500581977688, 0.01771346425277976, -1.34888268315759, -0.7074778376768872, 1.4084077035662517, 1.019508487861093, 0.7612840704886403, -0.10308494618646283, -0.9789052243352707, 0.4906769651550063, -1.4666365544853568, -0.3129978564196438, 0.4849102066748093, 0.5425201870037878, -1.7839497436056622, -0.05126488301542457, -0.17735836715886236, 0.37780959197960456, 0.9229050950531529, 1.6613296468347596, -1.0564278363863713, 0.7857939033075888, 0.9305344356755129, 1.3582669599468478, -1.4249419714705545, -0.5157199305263608, 0.589632781335842, -2.338147367106648, -0.7961064825893971, -0.33173655763446613, -0.7423694005960151, -0.9294581123102309, 1.1655727411328012, 2.121896668026554, -0.2320910798776331, 0.8510505422113342, 0.5601980839314108, 1.147314414904224, -0.09942634812332236, -1.5436877552435222, -1.191751967281718, -2.1502975512563003, -0.4879195008893344, 0.6121878899862329, -1.027290454062194, -1.4241915160527316, 1.2103000876289614, 0.0013631154476885145, 0.5866265349257229, -0.6086221231690213, -1.1582711916253043, -1.4722698269063357, -1.020193232927744, 0.1662701747168233, 1.0911847905807845, -2.136537753563726, 0.5481670478274548, 1.835886075554025, 0.012733816064901626, -1.1932647676639105, -0.637356758755405, 3.0370140375390284, 0.1434984694175001, 0.9907812076959761, -0.47809905147067205, 0.17798123729956572, -0.7776305949544472, -1.6270848977642463, 0.952045784068322, 0.9858487094851452, -0.2420435629193183, -2.2111419568141315, 0.23847777167298048, 0.2198314844693259, 0.09663220314589106, 1.6260684534356735, -0.49845876334669825, 0.042567693463895086, 0.3470465116858294, -0.14715833264969663, -0.9416247581594888, 0.012158999227176842, 1.7248417360660786, 0.674848047093445, 1.615889030355578, -0.7231148508491048, -0.6053556355379707, 0.7654363646776497, 1.0598284524630972, -0.48119738807612245, -1.3501683700592517, -0.18615170327558364, 2.008183384730888, 0.5440751533210668, 1.5430121698284125, 0.502435289012428, 1.3422584526517207, 0.3068185556553095, -0.8582017076369952, -0.7965767154645953, -0.605758191409162, -0.6745472466851898, 1.2036083980775194, 1.215086518687411, 0.9072945793567618, 1.5724580927006824, 0.493547791500597, -2.998675298959304, 0.005442616194799988, 0.9212613803126211, -1.5868713382692614, -1.2611657025314338, 0.9355113613641688, 0.10182675771149205, -1.4029371960318187, 0.4341721481339755, -0.008716464272718277, -0.7094854036767462, -1.0210577985373583, -0.8019029542497997, 0.7180182969187334, -0.4139076274883837, -0.16113453274849973, 1.0025438418922574]}], {}, {\"linkText\": \"Export to plot.ly\", \"showLink\": false})});</script>"
      ],
      "text/plain": [
       "<IPython.core.display.HTML object>"
      ]
     },
     "metadata": {},
     "output_type": "display_data"
    }
   ],
   "source": [
    "\n",
    "from plotly.graph_objs import *\n",
    "import numpy as np\n",
    "\n",
    "x = np.random.randn(2000)\n",
    "y = np.random.randn(2000)\n",
    "iplot([Histogram2dContour(x=x, y=y, contours=Contours(coloring='heatmap')),\n",
    "       Scatter(x=x, y=y, mode='markers', marker=Marker(color='white', size=3, opacity=0.3))], show_link=False)"
   ]
  },
  {
   "cell_type": "code",
   "execution_count": null,
   "metadata": {
    "collapsed": true
   },
   "outputs": [],
   "source": []
  }
 ],
 "metadata": {
  "kernelspec": {
   "display_name": "Python 2",
   "language": "python",
   "name": "python2"
  },
  "language_info": {
   "codemirror_mode": {
    "name": "ipython",
    "version": 2
   },
   "file_extension": ".py",
   "mimetype": "text/x-python",
   "name": "python",
   "nbconvert_exporter": "python",
   "pygments_lexer": "ipython2",
   "version": "2.7.11"
  }
 },
 "nbformat": 4,
 "nbformat_minor": 1
}
